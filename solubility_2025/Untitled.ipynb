{
 "cells": [
  {
   "cell_type": "code",
   "execution_count": 4,
   "id": "9961e428-0817-47b5-b331-79284c2751b9",
   "metadata": {},
   "outputs": [],
   "source": [
    "tqdm.pandas()"
   ]
  },
  {
   "cell_type": "code",
   "execution_count": 1,
   "id": "8e79bd09-b158-4591-9a5e-f93bb7cffc95",
   "metadata": {},
   "outputs": [],
   "source": [
    "import pandas as pd\n",
    "from tqdm.auto import tqdm\n",
    "from rdkit import Chem\n",
    "from rdkit.Chem import rdFingerprintGenerator\n",
    "from rdkit import DataStructs\n",
    "import seaborn as sns\n",
    "from scipy.stats import iqr\n",
    "import useful_rdkit_utils as uru\n",
    "from xgboost import XGBRegressor\n",
    "import numpy as np\n",
    "from sklearn.metrics import r2_score\n",
    "from sklearn.metrics import mean_absolute_error\n",
    "import polaris as po"
   ]
  },
  {
   "cell_type": "code",
   "execution_count": 23,
   "id": "0bdc1ac6-8fc6-4239-bc0e-1f0779db6feb",
   "metadata": {},
   "outputs": [],
   "source": [
    "tqdm.pandas()"
   ]
  },
  {
   "cell_type": "code",
   "execution_count": 24,
   "id": "c2684ae3-5880-4c58-a196-c3c8d305eaa0",
   "metadata": {},
   "outputs": [],
   "source": [
    "def prepare_dataset(df,smiles_col):\n",
    "    df.rename(columns={smiles_col : \"SMILES\"}, inplace=True)\n",
    "    df['mol'] = df.SMILES.progress_apply(Chem.MolFromSmiles)\n",
    "    num_before = len(df)\n",
    "    df.dropna(subset=\"mol\",inplace=True)\n",
    "    num_after = len(df)\n",
    "    delta = num_before - num_after\n",
    "    if delta > 0:\n",
    "        print(f\"Removed {delta} bad records\")\n",
    "    fpgen = rdFingerprintGenerator.GetMorganGenerator()\n",
    "    df['morgan'] = df.mol.progress_apply(fpgen.GetFingerprint)\n",
    "    descgen = uru.RDKitDescriptors(skip_fragments=True)\n",
    "    df['desc'] = df.mol.progress_apply(descgen.calc_mol)"
   ]
  },
  {
   "cell_type": "code",
   "execution_count": 25,
   "id": "13eb6873-6849-4878-9b0d-379c99c2e49c",
   "metadata": {},
   "outputs": [],
   "source": [
    "def find_most_similar(df_test, df_train):\n",
    "    sim_list = []\n",
    "    for fp in tqdm(df_test.morgan):\n",
    "        sims = DataStructs.BulkTanimotoSimilarity(fp,df_train.morgan.values)\n",
    "        sim_list.append(max(sims))\n",
    "    df_test['most_similar'] = sim_list"
   ]
  },
  {
   "cell_type": "code",
   "execution_count": 26,
   "id": "6c7a9731-0f67-4325-a7d9-66e13372ef2d",
   "metadata": {},
   "outputs": [
    {
     "data": {
      "application/vnd.jupyter.widget-view+json": {
       "model_id": "d7fbc4ededb94eb88699b9bf91205014",
       "version_major": 2,
       "version_minor": 0
      },
      "text/plain": [
       "  0%|          | 0/17935 [00:00<?, ?it/s]"
      ]
     },
     "metadata": {},
     "output_type": "display_data"
    },
    {
     "name": "stderr",
     "output_type": "stream",
     "text": [
      "[19:36:56] WARNING: not removing hydrogen atom without neighbors\n",
      "[19:36:56] WARNING: not removing hydrogen atom without neighbors\n",
      "[19:36:56] WARNING: not removing hydrogen atom without neighbors\n",
      "[19:36:56] WARNING: not removing hydrogen atom without neighbors\n",
      "[19:36:56] WARNING: not removing hydrogen atom without neighbors\n",
      "[19:36:56] WARNING: not removing hydrogen atom without neighbors\n",
      "[19:36:56] WARNING: not removing hydrogen atom without neighbors\n",
      "[19:36:56] WARNING: not removing hydrogen atom without neighbors\n",
      "[19:36:56] WARNING: not removing hydrogen atom without neighbors\n",
      "[19:36:56] WARNING: not removing hydrogen atom without neighbors\n",
      "[19:36:56] WARNING: not removing hydrogen atom without neighbors\n",
      "[19:36:56] WARNING: not removing hydrogen atom without neighbors\n"
     ]
    },
    {
     "data": {
      "application/vnd.jupyter.widget-view+json": {
       "model_id": "4663434e759d4aa58c072baea092bc3a",
       "version_major": 2,
       "version_minor": 0
      },
      "text/plain": [
       "  0%|          | 0/17935 [00:00<?, ?it/s]"
      ]
     },
     "metadata": {},
     "output_type": "display_data"
    },
    {
     "data": {
      "application/vnd.jupyter.widget-view+json": {
       "model_id": "98f7b0c1a57b47ad8fd3aa30d8c91049",
       "version_major": 2,
       "version_minor": 0
      },
      "text/plain": [
       "  0%|          | 0/17935 [00:00<?, ?it/s]"
      ]
     },
     "metadata": {},
     "output_type": "display_data"
    }
   ],
   "source": [
    "prepare_dataset(df_train,\"SMILES\")"
   ]
  },
  {
   "cell_type": "code",
   "execution_count": 27,
   "id": "38273c29-7418-4ed0-abc1-f0a9ac9104c1",
   "metadata": {},
   "outputs": [
    {
     "data": {
      "text/html": [
       "<div>\n",
       "<style scoped>\n",
       "    .dataframe tbody tr th:only-of-type {\n",
       "        vertical-align: middle;\n",
       "    }\n",
       "\n",
       "    .dataframe tbody tr th {\n",
       "        vertical-align: top;\n",
       "    }\n",
       "\n",
       "    .dataframe thead th {\n",
       "        text-align: right;\n",
       "    }\n",
       "</style>\n",
       "<table border=\"1\" class=\"dataframe\">\n",
       "  <thead>\n",
       "    <tr style=\"text-align: right;\">\n",
       "      <th></th>\n",
       "      <th>Unnamed: 0</th>\n",
       "      <th>C_ID</th>\n",
       "      <th>Name</th>\n",
       "      <th>InChIKey</th>\n",
       "      <th>SMILES</th>\n",
       "      <th>CAS</th>\n",
       "      <th>LogS</th>\n",
       "      <th>smiles_canon</th>\n",
       "      <th>mol</th>\n",
       "      <th>morgan</th>\n",
       "      <th>desc</th>\n",
       "    </tr>\n",
       "  </thead>\n",
       "  <tbody>\n",
       "    <tr>\n",
       "      <th>0</th>\n",
       "      <td>0</td>\n",
       "      <td>A-51</td>\n",
       "      <td>NaN</td>\n",
       "      <td>BOCJQSFSGAZAPQ-UHFFFAOYSA-N</td>\n",
       "      <td>Clc1c2C(=O)c3c(C(=O)c2ccc1)cccc3</td>\n",
       "      <td>NaN</td>\n",
       "      <td>-5.540000</td>\n",
       "      <td>O=C1c2ccccc2C(=O)c2c(Cl)cccc21</td>\n",
       "      <td>&lt;rdkit.Chem.rdchem.Mol object at 0x16a3afe60&gt;</td>\n",
       "      <td>[0, 1, 0, 0, 0, 0, 0, 0, 0, 0, 0, 0, 0, 0, 0, ...</td>\n",
       "      <td>[2.35654008815082, 2.3004926509341947, -2.1724...</td>\n",
       "    </tr>\n",
       "    <tr>\n",
       "      <th>1</th>\n",
       "      <td>1</td>\n",
       "      <td>A-53</td>\n",
       "      <td>NaN</td>\n",
       "      <td>BRBKOPJOKNSWSG-UHFFFAOYSA-N</td>\n",
       "      <td>S(=O)(=O)(N=C(N)N)c1ccc(N)cc1</td>\n",
       "      <td>NaN</td>\n",
       "      <td>-1.984970</td>\n",
       "      <td>NC(N)=NS(=O)(=O)c1ccc(N)cc1</td>\n",
       "      <td>&lt;rdkit.Chem.rdchem.Mol object at 0x16a3afd80&gt;</td>\n",
       "      <td>[0, 0, 0, 0, 0, 0, 0, 0, 0, 0, 0, 0, 0, 0, 0, ...</td>\n",
       "      <td>[2.0192017449044513, 2.1137849687703674, -1.98...</td>\n",
       "    </tr>\n",
       "    <tr>\n",
       "      <th>2</th>\n",
       "      <td>2</td>\n",
       "      <td>A-55</td>\n",
       "      <td>NaN</td>\n",
       "      <td>BRPOVUNVTUCYNN-UHFFFAOYSA-N</td>\n",
       "      <td>Fc1c(N2C(CC)C(N)C2)cc2n(C3CC3)cc(C(=O)O)c(=O)c2c1</td>\n",
       "      <td>NaN</td>\n",
       "      <td>-3.912000</td>\n",
       "      <td>CCC1C(N)CN1c1cc2c(cc1F)c(=O)c(C(=O)O)cn2C1CC1</td>\n",
       "      <td>&lt;rdkit.Chem.rdchem.Mol object at 0x16a3afca0&gt;</td>\n",
       "      <td>[0, 0, 0, 0, 0, 0, 0, 0, 0, 0, 0, 0, 0, 0, 0, ...</td>\n",
       "      <td>[3.378392164942047, 2.3664860949800897, -2.475...</td>\n",
       "    </tr>\n",
       "    <tr>\n",
       "      <th>3</th>\n",
       "      <td>3</td>\n",
       "      <td>A-60</td>\n",
       "      <td>NaN</td>\n",
       "      <td>BWXSXZAIQQSFPW-UHFFFAOYSA-N</td>\n",
       "      <td>O=[N+]([O-])c1cc2C(=O)OC(CC)(CC)c2cc1</td>\n",
       "      <td>NaN</td>\n",
       "      <td>-3.656000</td>\n",
       "      <td>CCC1(CC)OC(=O)c2cc([N+](=O)[O-])ccc21</td>\n",
       "      <td>&lt;rdkit.Chem.rdchem.Mol object at 0x16a3afbc0&gt;</td>\n",
       "      <td>[0, 0, 0, 0, 0, 0, 0, 0, 0, 0, 0, 0, 0, 0, 0, ...</td>\n",
       "      <td>[2.624338410253384, 2.428994056263164, -2.2515...</td>\n",
       "    </tr>\n",
       "    <tr>\n",
       "      <th>4</th>\n",
       "      <td>4</td>\n",
       "      <td>A-68</td>\n",
       "      <td>NaN</td>\n",
       "      <td>CAQHPYSDQFDJAL-UHFFFAOYSA-N</td>\n",
       "      <td>O=C1C(=NO)c2c(cccc2)C=C1</td>\n",
       "      <td>NaN</td>\n",
       "      <td>-2.937000</td>\n",
       "      <td>O=C1C=Cc2ccccc2C1=NO</td>\n",
       "      <td>&lt;rdkit.Chem.rdchem.Mol object at 0x16a3afa70&gt;</td>\n",
       "      <td>[0, 0, 0, 0, 0, 0, 0, 0, 0, 0, 0, 0, 0, 0, 0, ...</td>\n",
       "      <td>[2.1770076732315258, 2.177481783031173, -2.086...</td>\n",
       "    </tr>\n",
       "    <tr>\n",
       "      <th>...</th>\n",
       "      <td>...</td>\n",
       "      <td>...</td>\n",
       "      <td>...</td>\n",
       "      <td>...</td>\n",
       "      <td>...</td>\n",
       "      <td>...</td>\n",
       "      <td>...</td>\n",
       "      <td>...</td>\n",
       "      <td>...</td>\n",
       "      <td>...</td>\n",
       "      <td>...</td>\n",
       "    </tr>\n",
       "    <tr>\n",
       "      <th>17932</th>\n",
       "      <td>19115</td>\n",
       "      <td>B-1403</td>\n",
       "      <td>ISO-OXAZOLE</td>\n",
       "      <td>CTAPFRYPJLPFDF-UHFFFAOYSA-N</td>\n",
       "      <td>C1=CON=C1</td>\n",
       "      <td>000288-14-2</td>\n",
       "      <td>0.383095</td>\n",
       "      <td>c1cnoc1</td>\n",
       "      <td>&lt;rdkit.Chem.rdchem.Mol object at 0x1756a2810&gt;</td>\n",
       "      <td>[0, 0, 0, 0, 0, 0, 0, 0, 0, 0, 0, 0, 0, 0, 0, ...</td>\n",
       "      <td>[1.760495029766198, 1.5989854941663038, -1.479...</td>\n",
       "    </tr>\n",
       "    <tr>\n",
       "      <th>17933</th>\n",
       "      <td>19116</td>\n",
       "      <td>D-4869</td>\n",
       "      <td>fuberidazole</td>\n",
       "      <td>UYJUZNLFJAWNEZ-UHFFFAOYSA-N</td>\n",
       "      <td>[nH]1c2ccccc2nc1c3occc3</td>\n",
       "      <td>003878-19-1</td>\n",
       "      <td>-3.414016</td>\n",
       "      <td>c1coc(-c2nc3ccccc3[nH]2)c1</td>\n",
       "      <td>&lt;rdkit.Chem.rdchem.Mol object at 0x1756a2880&gt;</td>\n",
       "      <td>[0, 0, 0, 0, 0, 0, 0, 0, 0, 0, 0, 0, 0, 0, 0, ...</td>\n",
       "      <td>[2.8620699835469217, 2.051849740842862, -1.853...</td>\n",
       "    </tr>\n",
       "    <tr>\n",
       "      <th>17934</th>\n",
       "      <td>19117</td>\n",
       "      <td>B-7032</td>\n",
       "      <td>1H-1.2.4-Triazole</td>\n",
       "      <td>NSPMIYGKQJPBQR-UHFFFAOYSA-N</td>\n",
       "      <td>C1=NC=NN1</td>\n",
       "      <td>000288-88-0</td>\n",
       "      <td>0.897170</td>\n",
       "      <td>c1nc[nH]n1</td>\n",
       "      <td>&lt;rdkit.Chem.rdchem.Mol object at 0x1756a28f0&gt;</td>\n",
       "      <td>[0, 0, 0, 0, 0, 0, 0, 0, 0, 0, 0, 0, 0, 0, 0, ...</td>\n",
       "      <td>[1.760495029766198, 1.5659533748683938, -1.457...</td>\n",
       "    </tr>\n",
       "    <tr>\n",
       "      <th>17935</th>\n",
       "      <td>19118</td>\n",
       "      <td>D-1643</td>\n",
       "      <td>purine</td>\n",
       "      <td>KDCGOANMDULRCW-UHFFFAOYSA-N</td>\n",
       "      <td>[NH]1C=NC2=C1C=NC=N2</td>\n",
       "      <td>000120-73-0</td>\n",
       "      <td>0.619695</td>\n",
       "      <td>c1ncc2[nH]cnc2n1</td>\n",
       "      <td>&lt;rdkit.Chem.rdchem.Mol object at 0x1756a2960&gt;</td>\n",
       "      <td>[0, 0, 0, 0, 0, 0, 0, 0, 0, 0, 0, 0, 0, 0, 0, ...</td>\n",
       "      <td>[2.3327430273186147, 1.9061363473416486, -1.79...</td>\n",
       "    </tr>\n",
       "    <tr>\n",
       "      <th>17936</th>\n",
       "      <td>19119</td>\n",
       "      <td>B-4508</td>\n",
       "      <td>1H-1.2.3-Triazolo[4.5-d]pyrimidine</td>\n",
       "      <td>GIIGHSIIKVOWKZ-UHFFFAOYSA-N</td>\n",
       "      <td>C1=NC=NC2=NNN=C21</td>\n",
       "      <td>000273-40-5</td>\n",
       "      <td>-0.231900</td>\n",
       "      <td>c1ncc2n[nH]nc2n1</td>\n",
       "      <td>&lt;rdkit.Chem.rdchem.Mol object at 0x1756a29d0&gt;</td>\n",
       "      <td>[0, 0, 0, 0, 0, 0, 0, 0, 0, 0, 0, 0, 0, 0, 0, ...</td>\n",
       "      <td>[2.3327430273186147, 1.929979929539406, -1.767...</td>\n",
       "    </tr>\n",
       "  </tbody>\n",
       "</table>\n",
       "<p>17935 rows × 11 columns</p>\n",
       "</div>"
      ],
      "text/plain": [
       "       Unnamed: 0    C_ID                                Name  \\\n",
       "0               0    A-51                                 NaN   \n",
       "1               1    A-53                                 NaN   \n",
       "2               2    A-55                                 NaN   \n",
       "3               3    A-60                                 NaN   \n",
       "4               4    A-68                                 NaN   \n",
       "...           ...     ...                                 ...   \n",
       "17932       19115  B-1403                         ISO-OXAZOLE   \n",
       "17933       19116  D-4869                        fuberidazole   \n",
       "17934       19117  B-7032                   1H-1.2.4-Triazole   \n",
       "17935       19118  D-1643                              purine   \n",
       "17936       19119  B-4508  1H-1.2.3-Triazolo[4.5-d]pyrimidine   \n",
       "\n",
       "                          InChIKey  \\\n",
       "0      BOCJQSFSGAZAPQ-UHFFFAOYSA-N   \n",
       "1      BRBKOPJOKNSWSG-UHFFFAOYSA-N   \n",
       "2      BRPOVUNVTUCYNN-UHFFFAOYSA-N   \n",
       "3      BWXSXZAIQQSFPW-UHFFFAOYSA-N   \n",
       "4      CAQHPYSDQFDJAL-UHFFFAOYSA-N   \n",
       "...                            ...   \n",
       "17932  CTAPFRYPJLPFDF-UHFFFAOYSA-N   \n",
       "17933  UYJUZNLFJAWNEZ-UHFFFAOYSA-N   \n",
       "17934  NSPMIYGKQJPBQR-UHFFFAOYSA-N   \n",
       "17935  KDCGOANMDULRCW-UHFFFAOYSA-N   \n",
       "17936  GIIGHSIIKVOWKZ-UHFFFAOYSA-N   \n",
       "\n",
       "                                                  SMILES          CAS  \\\n",
       "0                       Clc1c2C(=O)c3c(C(=O)c2ccc1)cccc3          NaN   \n",
       "1                          S(=O)(=O)(N=C(N)N)c1ccc(N)cc1          NaN   \n",
       "2      Fc1c(N2C(CC)C(N)C2)cc2n(C3CC3)cc(C(=O)O)c(=O)c2c1          NaN   \n",
       "3                  O=[N+]([O-])c1cc2C(=O)OC(CC)(CC)c2cc1          NaN   \n",
       "4                               O=C1C(=NO)c2c(cccc2)C=C1          NaN   \n",
       "...                                                  ...          ...   \n",
       "17932                                          C1=CON=C1  000288-14-2   \n",
       "17933                            [nH]1c2ccccc2nc1c3occc3  003878-19-1   \n",
       "17934                                          C1=NC=NN1  000288-88-0   \n",
       "17935                               [NH]1C=NC2=C1C=NC=N2  000120-73-0   \n",
       "17936                                  C1=NC=NC2=NNN=C21  000273-40-5   \n",
       "\n",
       "           LogS                                   smiles_canon  \\\n",
       "0     -5.540000                 O=C1c2ccccc2C(=O)c2c(Cl)cccc21   \n",
       "1     -1.984970                    NC(N)=NS(=O)(=O)c1ccc(N)cc1   \n",
       "2     -3.912000  CCC1C(N)CN1c1cc2c(cc1F)c(=O)c(C(=O)O)cn2C1CC1   \n",
       "3     -3.656000          CCC1(CC)OC(=O)c2cc([N+](=O)[O-])ccc21   \n",
       "4     -2.937000                           O=C1C=Cc2ccccc2C1=NO   \n",
       "...         ...                                            ...   \n",
       "17932  0.383095                                        c1cnoc1   \n",
       "17933 -3.414016                     c1coc(-c2nc3ccccc3[nH]2)c1   \n",
       "17934  0.897170                                     c1nc[nH]n1   \n",
       "17935  0.619695                               c1ncc2[nH]cnc2n1   \n",
       "17936 -0.231900                               c1ncc2n[nH]nc2n1   \n",
       "\n",
       "                                                 mol  \\\n",
       "0      <rdkit.Chem.rdchem.Mol object at 0x16a3afe60>   \n",
       "1      <rdkit.Chem.rdchem.Mol object at 0x16a3afd80>   \n",
       "2      <rdkit.Chem.rdchem.Mol object at 0x16a3afca0>   \n",
       "3      <rdkit.Chem.rdchem.Mol object at 0x16a3afbc0>   \n",
       "4      <rdkit.Chem.rdchem.Mol object at 0x16a3afa70>   \n",
       "...                                              ...   \n",
       "17932  <rdkit.Chem.rdchem.Mol object at 0x1756a2810>   \n",
       "17933  <rdkit.Chem.rdchem.Mol object at 0x1756a2880>   \n",
       "17934  <rdkit.Chem.rdchem.Mol object at 0x1756a28f0>   \n",
       "17935  <rdkit.Chem.rdchem.Mol object at 0x1756a2960>   \n",
       "17936  <rdkit.Chem.rdchem.Mol object at 0x1756a29d0>   \n",
       "\n",
       "                                                  morgan  \\\n",
       "0      [0, 1, 0, 0, 0, 0, 0, 0, 0, 0, 0, 0, 0, 0, 0, ...   \n",
       "1      [0, 0, 0, 0, 0, 0, 0, 0, 0, 0, 0, 0, 0, 0, 0, ...   \n",
       "2      [0, 0, 0, 0, 0, 0, 0, 0, 0, 0, 0, 0, 0, 0, 0, ...   \n",
       "3      [0, 0, 0, 0, 0, 0, 0, 0, 0, 0, 0, 0, 0, 0, 0, ...   \n",
       "4      [0, 0, 0, 0, 0, 0, 0, 0, 0, 0, 0, 0, 0, 0, 0, ...   \n",
       "...                                                  ...   \n",
       "17932  [0, 0, 0, 0, 0, 0, 0, 0, 0, 0, 0, 0, 0, 0, 0, ...   \n",
       "17933  [0, 0, 0, 0, 0, 0, 0, 0, 0, 0, 0, 0, 0, 0, 0, ...   \n",
       "17934  [0, 0, 0, 0, 0, 0, 0, 0, 0, 0, 0, 0, 0, 0, 0, ...   \n",
       "17935  [0, 0, 0, 0, 0, 0, 0, 0, 0, 0, 0, 0, 0, 0, 0, ...   \n",
       "17936  [0, 0, 0, 0, 0, 0, 0, 0, 0, 0, 0, 0, 0, 0, 0, ...   \n",
       "\n",
       "                                                    desc  \n",
       "0      [2.35654008815082, 2.3004926509341947, -2.1724...  \n",
       "1      [2.0192017449044513, 2.1137849687703674, -1.98...  \n",
       "2      [3.378392164942047, 2.3664860949800897, -2.475...  \n",
       "3      [2.624338410253384, 2.428994056263164, -2.2515...  \n",
       "4      [2.1770076732315258, 2.177481783031173, -2.086...  \n",
       "...                                                  ...  \n",
       "17932  [1.760495029766198, 1.5989854941663038, -1.479...  \n",
       "17933  [2.8620699835469217, 2.051849740842862, -1.853...  \n",
       "17934  [1.760495029766198, 1.5659533748683938, -1.457...  \n",
       "17935  [2.3327430273186147, 1.9061363473416486, -1.79...  \n",
       "17936  [2.3327430273186147, 1.929979929539406, -1.767...  \n",
       "\n",
       "[17935 rows x 11 columns]"
      ]
     },
     "execution_count": 27,
     "metadata": {},
     "output_type": "execute_result"
    }
   ],
   "source": [
    "df_train"
   ]
  },
  {
   "cell_type": "code",
   "execution_count": 14,
   "id": "c934a3a6-faad-4286-937c-fb25446d009c",
   "metadata": {},
   "outputs": [
    {
     "data": {
      "application/vnd.jupyter.widget-view+json": {
       "model_id": "157c0e0d4aa14db78ad2560155221e9a",
       "version_major": 2,
       "version_minor": 0
      },
      "text/plain": [
       "  0%|          | 0/17937 [00:00<?, ?it/s]"
      ]
     },
     "metadata": {},
     "output_type": "display_data"
    },
    {
     "name": "stderr",
     "output_type": "stream",
     "text": [
      "[19:32:47] WARNING: not removing hydrogen atom without neighbors\n",
      "[19:32:47] WARNING: not removing hydrogen atom without neighbors\n",
      "[19:32:47] WARNING: not removing hydrogen atom without neighbors\n",
      "[19:32:47] WARNING: not removing hydrogen atom without neighbors\n",
      "[19:32:47] WARNING: not removing hydrogen atom without neighbors\n",
      "[19:32:47] WARNING: not removing hydrogen atom without neighbors\n",
      "[19:32:47] WARNING: not removing hydrogen atom without neighbors\n",
      "[19:32:47] Explicit valence for atom # 5 N, 4, is greater than permitted\n",
      "[19:32:47] WARNING: not removing hydrogen atom without neighbors\n",
      "[19:32:47] Explicit valence for atom # 5 N, 4, is greater than permitted\n",
      "[19:32:47] WARNING: not removing hydrogen atom without neighbors\n",
      "[19:32:47] WARNING: not removing hydrogen atom without neighbors\n",
      "[19:32:47] WARNING: not removing hydrogen atom without neighbors\n",
      "[19:32:47] WARNING: not removing hydrogen atom without neighbors\n"
     ]
    },
    {
     "data": {
      "text/plain": [
       "(17937, 17937)"
      ]
     },
     "execution_count": 14,
     "metadata": {},
     "output_type": "execute_result"
    }
   ],
   "source": [
    "df_train = pd.read_csv(\"final_unique_train.csv\")\n",
    "df_train['mol'] = df_train.SMILES.progress_apply(Chem.MolFromSmiles)\n",
    "train_before = len(df_train)\n",
    "#df_train.dropna(subset=\"mol\",inplace=True)\n",
    "train_after = len(df_train)\n",
    "train_before, train_after"
   ]
  },
  {
   "cell_type": "code",
   "execution_count": 18,
   "id": "298bec2d-c086-4376-904d-c175bb4875e5",
   "metadata": {},
   "outputs": [
    {
     "data": {
      "application/vnd.jupyter.widget-view+json": {
       "model_id": "5f8844323c9f42128b22338d180960a0",
       "version_major": 2,
       "version_minor": 0
      },
      "text/plain": [
       "  0%|          | 0/1282 [00:00<?, ?it/s]"
      ]
     },
     "metadata": {},
     "output_type": "display_data"
    },
    {
     "data": {
      "text/plain": [
       "(1282, 1282)"
      ]
     },
     "execution_count": 18,
     "metadata": {},
     "output_type": "execute_result"
    }
   ],
   "source": [
    "df_test = pd.read_csv(\"final_unique_test.csv\")\n",
    "df_test['mol'] = df_test.SMILES.progress_apply(Chem.MolFromSmiles)\n",
    "test_before = len(df_test)\n",
    "df_test.dropna(subset=\"mol\",inplace=True)\n",
    "test_after = len(df_test)\n",
    "test_before, test_after"
   ]
  },
  {
   "cell_type": "code",
   "execution_count": 21,
   "id": "30e31b3b-8355-4b73-851c-a75e74ef0f42",
   "metadata": {},
   "outputs": [],
   "source": [
    "fpgen = rdFingerprintGenerator.GetMorganGenerator()"
   ]
  },
  {
   "cell_type": "code",
   "execution_count": 22,
   "id": "69942b08-30c4-48d2-b885-e53f8ecf181f",
   "metadata": {},
   "outputs": [
    {
     "data": {
      "application/vnd.jupyter.widget-view+json": {
       "model_id": "85b9cfb4af2140578b782a8a211b8771",
       "version_major": 2,
       "version_minor": 0
      },
      "text/plain": [
       "  0%|          | 0/17935 [00:00<?, ?it/s]"
      ]
     },
     "metadata": {},
     "output_type": "display_data"
    },
    {
     "data": {
      "application/vnd.jupyter.widget-view+json": {
       "model_id": "a14ac5a00b4a4b5299f0a37bc985c954",
       "version_major": 2,
       "version_minor": 0
      },
      "text/plain": [
       "  0%|          | 0/1282 [00:00<?, ?it/s]"
      ]
     },
     "metadata": {},
     "output_type": "display_data"
    }
   ],
   "source": [
    "df_train['morgan'] = df_train.mol.progress_apply(fpgen.GetFingerprint)\n",
    "df_test['morgan'] = df_test.mol.progress_apply(fpgen.GetFingerprint)"
   ]
  },
  {
   "cell_type": "code",
   "execution_count": 33,
   "id": "11ab360b-c993-4f0d-af2d-a218a82e6beb",
   "metadata": {},
   "outputs": [
    {
     "data": {
      "application/vnd.jupyter.widget-view+json": {
       "model_id": "0b722c22bd3540e28b638dad9c7dcc39",
       "version_major": 2,
       "version_minor": 0
      },
      "text/plain": [
       "  0%|          | 0/1282 [00:00<?, ?it/s]"
      ]
     },
     "metadata": {},
     "output_type": "display_data"
    }
   ],
   "source": [
    "sim_list = []\n",
    "for fp in tqdm(df_test.morgan):\n",
    "    sims = DataStructs.BulkTanimotoSimilarity(fp,df_train.morgan.values)\n",
    "    sim_list.append(max(sims))"
   ]
  },
  {
   "cell_type": "code",
   "execution_count": 68,
   "id": "4718993f-8149-45c1-a858-326b19b1fb53",
   "metadata": {},
   "outputs": [],
   "source": [
    "df_test['most_similar'] = sim_list"
   ]
  },
  {
   "cell_type": "code",
   "execution_count": 37,
   "id": "969b0f6a-bd21-49c2-b1ec-95f09f1aa9c3",
   "metadata": {},
   "outputs": [
    {
     "data": {
      "text/plain": [
       "<seaborn.axisgrid.FacetGrid at 0x3489acb50>"
      ]
     },
     "execution_count": 37,
     "metadata": {},
     "output_type": "execute_result"
    },
    {
     "data": {
      "image/png": "[encoded data removed]",
      "text/plain": [
       "<Figure size 500x500 with 1 Axes>"
      ]
     },
     "metadata": {},
     "output_type": "display_data"
    }
   ],
   "source": [
    "sns.displot(sim_list)"
   ]
  },
  {
   "cell_type": "code",
   "execution_count": 38,
   "id": "840aa772-2b37-479f-ae5b-2930ecd8a955",
   "metadata": {},
   "outputs": [],
   "source": [
    "df_train['split'] = 'train'\n",
    "df_test['split'] = 'test'"
   ]
  },
  {
   "cell_type": "code",
   "execution_count": 40,
   "id": "da058618-dfff-4d23-b372-2cfcfe571788",
   "metadata": {},
   "outputs": [
    {
     "data": {
      "text/plain": [
       "<Axes: xlabel='split', ylabel='LogS'>"
      ]
     },
     "execution_count": 40,
     "metadata": {},
     "output_type": "execute_result"
    },
    {
     "data": {
      "image/png": "[encoded data removed]",
      "text/plain": [
       "<Figure size 640x480 with 1 Axes>"
      ]
     },
     "metadata": {},
     "output_type": "display_data"
    }
   ],
   "source": [
    "sns.boxplot(x=\"split\",y=\"LogS\",data=pd.concat([df_train,df_test]))"
   ]
  },
  {
   "cell_type": "code",
   "execution_count": 46,
   "id": "b674e073-49f4-488c-8d01-ba29d8f93195",
   "metadata": {},
   "outputs": [
    {
     "data": {
      "text/plain": [
       "'train_iqr = 2.75 test_iqr = 2.59'"
      ]
     },
     "execution_count": 46,
     "metadata": {},
     "output_type": "execute_result"
    }
   ],
   "source": [
    "iqr_train = iqr(df_train.LogS)\n",
    "iqr_test = iqr(df_test.LogS)\n",
    "f\"train_iqr = {iqr_train:.2f} test_iqr = {iqr_test:.2f}\""
   ]
  },
  {
   "cell_type": "code",
   "execution_count": 48,
   "id": "ddd9274b-851a-4f05-b760-1f66129c76bd",
   "metadata": {},
   "outputs": [],
   "source": [
    "desc_calc = uru.RDKitDescriptors(skip_fragments=True)"
   ]
  },
  {
   "cell_type": "code",
   "execution_count": 49,
   "id": "5b05910f-b1e0-4d7d-bde0-371eb208caab",
   "metadata": {},
   "outputs": [
    {
     "data": {
      "application/vnd.jupyter.widget-view+json": {
       "model_id": "4ee73b78939546babf6b75be51d29ffd",
       "version_major": 2,
       "version_minor": 0
      },
      "text/plain": [
       "  0%|          | 0/17935 [00:00<?, ?it/s]"
      ]
     },
     "metadata": {},
     "output_type": "display_data"
    }
   ],
   "source": [
    "df_train['desc'] = df_train.mol.progress_apply(desc_calc.calc_mol)"
   ]
  },
  {
   "cell_type": "code",
   "execution_count": 50,
   "id": "cd9473b9-3841-4817-87db-5215e2e62b54",
   "metadata": {},
   "outputs": [
    {
     "data": {
      "application/vnd.jupyter.widget-view+json": {
       "model_id": "000d48fd12704bfb9829aff813a80229",
       "version_major": 2,
       "version_minor": 0
      },
      "text/plain": [
       "  0%|          | 0/1282 [00:00<?, ?it/s]"
      ]
     },
     "metadata": {},
     "output_type": "display_data"
    }
   ],
   "source": [
    "df_test['desc'] = df_test.mol.progress_apply(desc_calc.calc_mol)"
   ]
  },
  {
   "cell_type": "code",
   "execution_count": 63,
   "id": "3552ef05-f6d5-447e-a606-91d6f8ec50ca",
   "metadata": {},
   "outputs": [],
   "source": [
    "xgb = XGBRegressor(learning_rate =0.01,n_estimators=2000,max_depth=8,min_child_weight=4,gamma=0,subsample=0.7,\n",
    "                                           colsample_bytree=0.8,nthread=2,scale_pos_weight=1,seed=27)"
   ]
  },
  {
   "cell_type": "code",
   "execution_count": 64,
   "id": "7bda3ee5-ac11-450b-a687-cee4662df4ce",
   "metadata": {},
   "outputs": [
    {
     "data": {
      "text/html": [
       "<style>#sk-container-id-2 {\n",
       "  /* Definition of color scheme common for light and dark mode */\n",
       "  --sklearn-color-text: #000;\n",
       "  --sklearn-color-text-muted: #666;\n",
       "  --sklearn-color-line: gray;\n",
       "  /* Definition of color scheme for unfitted estimators */\n",
       "  --sklearn-color-unfitted-level-0: #fff5e6;\n",
       "  --sklearn-color-unfitted-level-1: #f6e4d2;\n",
       "  --sklearn-color-unfitted-level-2: #ffe0b3;\n",
       "  --sklearn-color-unfitted-level-3: chocolate;\n",
       "  /* Definition of color scheme for fitted estimators */\n",
       "  --sklearn-color-fitted-level-0: #f0f8ff;\n",
       "  --sklearn-color-fitted-level-1: #d4ebff;\n",
       "  --sklearn-color-fitted-level-2: #b3dbfd;\n",
       "  --sklearn-color-fitted-level-3: cornflowerblue;\n",
       "\n",
       "  /* Specific color for light theme */\n",
       "  --sklearn-color-text-on-default-background: var(--sg-text-color, var(--theme-code-foreground, var(--jp-content-font-color1, black)));\n",
       "  --sklearn-color-background: var(--sg-background-color, var(--theme-background, var(--jp-layout-color0, white)));\n",
       "  --sklearn-color-border-box: var(--sg-text-color, var(--theme-code-foreground, var(--jp-content-font-color1, black)));\n",
       "  --sklearn-color-icon: #696969;\n",
       "\n",
       "  @media (prefers-color-scheme: dark) {\n",
       "    /* Redefinition of color scheme for dark theme */\n",
       "    --sklearn-color-text-on-default-background: var(--sg-text-color, var(--theme-code-foreground, var(--jp-content-font-color1, white)));\n",
       "    --sklearn-color-background: var(--sg-background-color, var(--theme-background, var(--jp-layout-color0, #111)));\n",
       "    --sklearn-color-border-box: var(--sg-text-color, var(--theme-code-foreground, var(--jp-content-font-color1, white)));\n",
       "    --sklearn-color-icon: #878787;\n",
       "  }\n",
       "}\n",
       "\n",
       "#sk-container-id-2 {\n",
       "  color: var(--sklearn-color-text);\n",
       "}\n",
       "\n",
       "#sk-container-id-2 pre {\n",
       "  padding: 0;\n",
       "}\n",
       "\n",
       "#sk-container-id-2 input.sk-hidden--visually {\n",
       "  border: 0;\n",
       "  clip: rect(1px 1px 1px 1px);\n",
       "  clip: rect(1px, 1px, 1px, 1px);\n",
       "  height: 1px;\n",
       "  margin: -1px;\n",
       "  overflow: hidden;\n",
       "  padding: 0;\n",
       "  position: absolute;\n",
       "  width: 1px;\n",
       "}\n",
       "\n",
       "#sk-container-id-2 div.sk-dashed-wrapped {\n",
       "  border: 1px dashed var(--sklearn-color-line);\n",
       "  margin: 0 0.4em 0.5em 0.4em;\n",
       "  box-sizing: border-box;\n",
       "  padding-bottom: 0.4em;\n",
       "  background-color: var(--sklearn-color-background);\n",
       "}\n",
       "\n",
       "#sk-container-id-2 div.sk-container {\n",
       "  /* jupyter's `normalize.less` sets `[hidden] { display: none; }`\n",
       "     but bootstrap.min.css set `[hidden] { display: none !important; }`\n",
       "     so we also need the `!important` here to be able to override the\n",
       "     default hidden behavior on the sphinx rendered scikit-learn.org.\n",
       "     See: https://github.com/scikit-learn/scikit-learn/issues/21755 */\n",
       "  display: inline-block !important;\n",
       "  position: relative;\n",
       "}\n",
       "\n",
       "#sk-container-id-2 div.sk-text-repr-fallback {\n",
       "  display: none;\n",
       "}\n",
       "\n",
       "div.sk-parallel-item,\n",
       "div.sk-serial,\n",
       "div.sk-item {\n",
       "  /* draw centered vertical line to link estimators */\n",
       "  background-image: linear-gradient(var(--sklearn-color-text-on-default-background), var(--sklearn-color-text-on-default-background));\n",
       "  background-size: 2px 100%;\n",
       "  background-repeat: no-repeat;\n",
       "  background-position: center center;\n",
       "}\n",
       "\n",
       "/* Parallel-specific style estimator block */\n",
       "\n",
       "#sk-container-id-2 div.sk-parallel-item::after {\n",
       "  content: \"\";\n",
       "  width: 100%;\n",
       "  border-bottom: 2px solid var(--sklearn-color-text-on-default-background);\n",
       "  flex-grow: 1;\n",
       "}\n",
       "\n",
       "#sk-container-id-2 div.sk-parallel {\n",
       "  display: flex;\n",
       "  align-items: stretch;\n",
       "  justify-content: center;\n",
       "  background-color: var(--sklearn-color-background);\n",
       "  position: relative;\n",
       "}\n",
       "\n",
       "#sk-container-id-2 div.sk-parallel-item {\n",
       "  display: flex;\n",
       "  flex-direction: column;\n",
       "}\n",
       "\n",
       "#sk-container-id-2 div.sk-parallel-item:first-child::after {\n",
       "  align-self: flex-end;\n",
       "  width: 50%;\n",
       "}\n",
       "\n",
       "#sk-container-id-2 div.sk-parallel-item:last-child::after {\n",
       "  align-self: flex-start;\n",
       "  width: 50%;\n",
       "}\n",
       "\n",
       "#sk-container-id-2 div.sk-parallel-item:only-child::after {\n",
       "  width: 0;\n",
       "}\n",
       "\n",
       "/* Serial-specific style estimator block */\n",
       "\n",
       "#sk-container-id-2 div.sk-serial {\n",
       "  display: flex;\n",
       "  flex-direction: column;\n",
       "  align-items: center;\n",
       "  background-color: var(--sklearn-color-background);\n",
       "  padding-right: 1em;\n",
       "  padding-left: 1em;\n",
       "}\n",
       "\n",
       "\n",
       "/* Toggleable style: style used for estimator/Pipeline/ColumnTransformer box that is\n",
       "clickable and can be expanded/collapsed.\n",
       "- Pipeline and ColumnTransformer use this feature and define the default style\n",
       "- Estimators will overwrite some part of the style using the `sk-estimator` class\n",
       "*/\n",
       "\n",
       "/* Pipeline and ColumnTransformer style (default) */\n",
       "\n",
       "#sk-container-id-2 div.sk-toggleable {\n",
       "  /* Default theme specific background. It is overwritten whether we have a\n",
       "  specific estimator or a Pipeline/ColumnTransformer */\n",
       "  background-color: var(--sklearn-color-background);\n",
       "}\n",
       "\n",
       "/* Toggleable label */\n",
       "#sk-container-id-2 label.sk-toggleable__label {\n",
       "  cursor: pointer;\n",
       "  display: flex;\n",
       "  width: 100%;\n",
       "  margin-bottom: 0;\n",
       "  padding: 0.5em;\n",
       "  box-sizing: border-box;\n",
       "  text-align: center;\n",
       "  align-items: start;\n",
       "  justify-content: space-between;\n",
       "  gap: 0.5em;\n",
       "}\n",
       "\n",
       "#sk-container-id-2 label.sk-toggleable__label .caption {\n",
       "  font-size: 0.6rem;\n",
       "  font-weight: lighter;\n",
       "  color: var(--sklearn-color-text-muted);\n",
       "}\n",
       "\n",
       "#sk-container-id-2 label.sk-toggleable__label-arrow:before {\n",
       "  /* Arrow on the left of the label */\n",
       "  content: \"▸\";\n",
       "  float: left;\n",
       "  margin-right: 0.25em;\n",
       "  color: var(--sklearn-color-icon);\n",
       "}\n",
       "\n",
       "#sk-container-id-2 label.sk-toggleable__label-arrow:hover:before {\n",
       "  color: var(--sklearn-color-text);\n",
       "}\n",
       "\n",
       "/* Toggleable content - dropdown */\n",
       "\n",
       "#sk-container-id-2 div.sk-toggleable__content {\n",
       "  max-height: 0;\n",
       "  max-width: 0;\n",
       "  overflow: hidden;\n",
       "  text-align: left;\n",
       "  /* unfitted */\n",
       "  background-color: var(--sklearn-color-unfitted-level-0);\n",
       "}\n",
       "\n",
       "#sk-container-id-2 div.sk-toggleable__content.fitted {\n",
       "  /* fitted */\n",
       "  background-color: var(--sklearn-color-fitted-level-0);\n",
       "}\n",
       "\n",
       "#sk-container-id-2 div.sk-toggleable__content pre {\n",
       "  margin: 0.2em;\n",
       "  border-radius: 0.25em;\n",
       "  color: var(--sklearn-color-text);\n",
       "  /* unfitted */\n",
       "  background-color: var(--sklearn-color-unfitted-level-0);\n",
       "}\n",
       "\n",
       "#sk-container-id-2 div.sk-toggleable__content.fitted pre {\n",
       "  /* unfitted */\n",
       "  background-color: var(--sklearn-color-fitted-level-0);\n",
       "}\n",
       "\n",
       "#sk-container-id-2 input.sk-toggleable__control:checked~div.sk-toggleable__content {\n",
       "  /* Expand drop-down */\n",
       "  max-height: 200px;\n",
       "  max-width: 100%;\n",
       "  overflow: auto;\n",
       "}\n",
       "\n",
       "#sk-container-id-2 input.sk-toggleable__control:checked~label.sk-toggleable__label-arrow:before {\n",
       "  content: \"▾\";\n",
       "}\n",
       "\n",
       "/* Pipeline/ColumnTransformer-specific style */\n",
       "\n",
       "#sk-container-id-2 div.sk-label input.sk-toggleable__control:checked~label.sk-toggleable__label {\n",
       "  color: var(--sklearn-color-text);\n",
       "  background-color: var(--sklearn-color-unfitted-level-2);\n",
       "}\n",
       "\n",
       "#sk-container-id-2 div.sk-label.fitted input.sk-toggleable__control:checked~label.sk-toggleable__label {\n",
       "  background-color: var(--sklearn-color-fitted-level-2);\n",
       "}\n",
       "\n",
       "/* Estimator-specific style */\n",
       "\n",
       "/* Colorize estimator box */\n",
       "#sk-container-id-2 div.sk-estimator input.sk-toggleable__control:checked~label.sk-toggleable__label {\n",
       "  /* unfitted */\n",
       "  background-color: var(--sklearn-color-unfitted-level-2);\n",
       "}\n",
       "\n",
       "#sk-container-id-2 div.sk-estimator.fitted input.sk-toggleable__control:checked~label.sk-toggleable__label {\n",
       "  /* fitted */\n",
       "  background-color: var(--sklearn-color-fitted-level-2);\n",
       "}\n",
       "\n",
       "#sk-container-id-2 div.sk-label label.sk-toggleable__label,\n",
       "#sk-container-id-2 div.sk-label label {\n",
       "  /* The background is the default theme color */\n",
       "  color: var(--sklearn-color-text-on-default-background);\n",
       "}\n",
       "\n",
       "/* On hover, darken the color of the background */\n",
       "#sk-container-id-2 div.sk-label:hover label.sk-toggleable__label {\n",
       "  color: var(--sklearn-color-text);\n",
       "  background-color: var(--sklearn-color-unfitted-level-2);\n",
       "}\n",
       "\n",
       "/* Label box, darken color on hover, fitted */\n",
       "#sk-container-id-2 div.sk-label.fitted:hover label.sk-toggleable__label.fitted {\n",
       "  color: var(--sklearn-color-text);\n",
       "  background-color: var(--sklearn-color-fitted-level-2);\n",
       "}\n",
       "\n",
       "/* Estimator label */\n",
       "\n",
       "#sk-container-id-2 div.sk-label label {\n",
       "  font-family: monospace;\n",
       "  font-weight: bold;\n",
       "  display: inline-block;\n",
       "  line-height: 1.2em;\n",
       "}\n",
       "\n",
       "#sk-container-id-2 div.sk-label-container {\n",
       "  text-align: center;\n",
       "}\n",
       "\n",
       "/* Estimator-specific */\n",
       "#sk-container-id-2 div.sk-estimator {\n",
       "  font-family: monospace;\n",
       "  border: 1px dotted var(--sklearn-color-border-box);\n",
       "  border-radius: 0.25em;\n",
       "  box-sizing: border-box;\n",
       "  margin-bottom: 0.5em;\n",
       "  /* unfitted */\n",
       "  background-color: var(--sklearn-color-unfitted-level-0);\n",
       "}\n",
       "\n",
       "#sk-container-id-2 div.sk-estimator.fitted {\n",
       "  /* fitted */\n",
       "  background-color: var(--sklearn-color-fitted-level-0);\n",
       "}\n",
       "\n",
       "/* on hover */\n",
       "#sk-container-id-2 div.sk-estimator:hover {\n",
       "  /* unfitted */\n",
       "  background-color: var(--sklearn-color-unfitted-level-2);\n",
       "}\n",
       "\n",
       "#sk-container-id-2 div.sk-estimator.fitted:hover {\n",
       "  /* fitted */\n",
       "  background-color: var(--sklearn-color-fitted-level-2);\n",
       "}\n",
       "\n",
       "/* Specification for estimator info (e.g. \"i\" and \"?\") */\n",
       "\n",
       "/* Common style for \"i\" and \"?\" */\n",
       "\n",
       ".sk-estimator-doc-link,\n",
       "a:link.sk-estimator-doc-link,\n",
       "a:visited.sk-estimator-doc-link {\n",
       "  float: right;\n",
       "  font-size: smaller;\n",
       "  line-height: 1em;\n",
       "  font-family: monospace;\n",
       "  background-color: var(--sklearn-color-background);\n",
       "  border-radius: 1em;\n",
       "  height: 1em;\n",
       "  width: 1em;\n",
       "  text-decoration: none !important;\n",
       "  margin-left: 0.5em;\n",
       "  text-align: center;\n",
       "  /* unfitted */\n",
       "  border: var(--sklearn-color-unfitted-level-1) 1pt solid;\n",
       "  color: var(--sklearn-color-unfitted-level-1);\n",
       "}\n",
       "\n",
       ".sk-estimator-doc-link.fitted,\n",
       "a:link.sk-estimator-doc-link.fitted,\n",
       "a:visited.sk-estimator-doc-link.fitted {\n",
       "  /* fitted */\n",
       "  border: var(--sklearn-color-fitted-level-1) 1pt solid;\n",
       "  color: var(--sklearn-color-fitted-level-1);\n",
       "}\n",
       "\n",
       "/* On hover */\n",
       "div.sk-estimator:hover .sk-estimator-doc-link:hover,\n",
       ".sk-estimator-doc-link:hover,\n",
       "div.sk-label-container:hover .sk-estimator-doc-link:hover,\n",
       ".sk-estimator-doc-link:hover {\n",
       "  /* unfitted */\n",
       "  background-color: var(--sklearn-color-unfitted-level-3);\n",
       "  color: var(--sklearn-color-background);\n",
       "  text-decoration: none;\n",
       "}\n",
       "\n",
       "div.sk-estimator.fitted:hover .sk-estimator-doc-link.fitted:hover,\n",
       ".sk-estimator-doc-link.fitted:hover,\n",
       "div.sk-label-container:hover .sk-estimator-doc-link.fitted:hover,\n",
       ".sk-estimator-doc-link.fitted:hover {\n",
       "  /* fitted */\n",
       "  background-color: var(--sklearn-color-fitted-level-3);\n",
       "  color: var(--sklearn-color-background);\n",
       "  text-decoration: none;\n",
       "}\n",
       "\n",
       "/* Span, style for the box shown on hovering the info icon */\n",
       ".sk-estimator-doc-link span {\n",
       "  display: none;\n",
       "  z-index: 9999;\n",
       "  position: relative;\n",
       "  font-weight: normal;\n",
       "  right: .2ex;\n",
       "  padding: .5ex;\n",
       "  margin: .5ex;\n",
       "  width: min-content;\n",
       "  min-width: 20ex;\n",
       "  max-width: 50ex;\n",
       "  color: var(--sklearn-color-text);\n",
       "  box-shadow: 2pt 2pt 4pt #999;\n",
       "  /* unfitted */\n",
       "  background: var(--sklearn-color-unfitted-level-0);\n",
       "  border: .5pt solid var(--sklearn-color-unfitted-level-3);\n",
       "}\n",
       "\n",
       ".sk-estimator-doc-link.fitted span {\n",
       "  /* fitted */\n",
       "  background: var(--sklearn-color-fitted-level-0);\n",
       "  border: var(--sklearn-color-fitted-level-3);\n",
       "}\n",
       "\n",
       ".sk-estimator-doc-link:hover span {\n",
       "  display: block;\n",
       "}\n",
       "\n",
       "/* \"?\"-specific style due to the `<a>` HTML tag */\n",
       "\n",
       "#sk-container-id-2 a.estimator_doc_link {\n",
       "  float: right;\n",
       "  font-size: 1rem;\n",
       "  line-height: 1em;\n",
       "  font-family: monospace;\n",
       "  background-color: var(--sklearn-color-background);\n",
       "  border-radius: 1rem;\n",
       "  height: 1rem;\n",
       "  width: 1rem;\n",
       "  text-decoration: none;\n",
       "  /* unfitted */\n",
       "  color: var(--sklearn-color-unfitted-level-1);\n",
       "  border: var(--sklearn-color-unfitted-level-1) 1pt solid;\n",
       "}\n",
       "\n",
       "#sk-container-id-2 a.estimator_doc_link.fitted {\n",
       "  /* fitted */\n",
       "  border: var(--sklearn-color-fitted-level-1) 1pt solid;\n",
       "  color: var(--sklearn-color-fitted-level-1);\n",
       "}\n",
       "\n",
       "/* On hover */\n",
       "#sk-container-id-2 a.estimator_doc_link:hover {\n",
       "  /* unfitted */\n",
       "  background-color: var(--sklearn-color-unfitted-level-3);\n",
       "  color: var(--sklearn-color-background);\n",
       "  text-decoration: none;\n",
       "}\n",
       "\n",
       "#sk-container-id-2 a.estimator_doc_link.fitted:hover {\n",
       "  /* fitted */\n",
       "  background-color: var(--sklearn-color-fitted-level-3);\n",
       "}\n",
       "</style><div id=\"sk-container-id-2\" class=\"sk-top-container\"><div class=\"sk-text-repr-fallback\"><pre>XGBRegressor(base_score=None, booster=None, callbacks=None,\n",
       "             colsample_bylevel=None, colsample_bynode=None,\n",
       "             colsample_bytree=0.8, device=None, early_stopping_rounds=None,\n",
       "             enable_categorical=False, eval_metric=None, feature_types=None,\n",
       "             feature_weights=None, gamma=0, grow_policy=None,\n",
       "             importance_type=None, interaction_constraints=None,\n",
       "             learning_rate=0.01, max_bin=None, max_cat_threshold=None,\n",
       "             max_cat_to_onehot=None, max_delta_step=None, max_depth=8,\n",
       "             max_leaves=None, min_child_weight=4, missing=nan,\n",
       "             monotone_constraints=None, multi_strategy=None, n_estimators=2000,\n",
       "             n_jobs=None, nthread=2, ...)</pre><b>In a Jupyter environment, please rerun this cell to show the HTML representation or trust the notebook. <br />On GitHub, the HTML representation is unable to render, please try loading this page with nbviewer.org.</b></div><div class=\"sk-container\" hidden><div class=\"sk-item\"><div class=\"sk-estimator fitted sk-toggleable\"><input class=\"sk-toggleable__control sk-hidden--visually\" id=\"sk-estimator-id-2\" type=\"checkbox\" checked><label for=\"sk-estimator-id-2\" class=\"sk-toggleable__label fitted sk-toggleable__label-arrow\"><div><div>XGBRegressor</div></div><div><a class=\"sk-estimator-doc-link fitted\" rel=\"noreferrer\" target=\"_blank\" href=\"https://xgboost.readthedocs.io/en/release_3.0.0/python/python_api.html#xgboost.XGBRegressor\">?<span>Documentation for XGBRegressor</span></a><span class=\"sk-estimator-doc-link fitted\">i<span>Fitted</span></span></div></label><div class=\"sk-toggleable__content fitted\"><pre>XGBRegressor(base_score=None, booster=None, callbacks=None,\n",
       "             colsample_bylevel=None, colsample_bynode=None,\n",
       "             colsample_bytree=0.8, device=None, early_stopping_rounds=None,\n",
       "             enable_categorical=False, eval_metric=None, feature_types=None,\n",
       "             feature_weights=None, gamma=0, grow_policy=None,\n",
       "             importance_type=None, interaction_constraints=None,\n",
       "             learning_rate=0.01, max_bin=None, max_cat_threshold=None,\n",
       "             max_cat_to_onehot=None, max_delta_step=None, max_depth=8,\n",
       "             max_leaves=None, min_child_weight=4, missing=nan,\n",
       "             monotone_constraints=None, multi_strategy=None, n_estimators=2000,\n",
       "             n_jobs=None, nthread=2, ...)</pre></div> </div></div></div></div>"
      ],
      "text/plain": [
       "XGBRegressor(base_score=None, booster=None, callbacks=None,\n",
       "             colsample_bylevel=None, colsample_bynode=None,\n",
       "             colsample_bytree=0.8, device=None, early_stopping_rounds=None,\n",
       "             enable_categorical=False, eval_metric=None, feature_types=None,\n",
       "             feature_weights=None, gamma=0, grow_policy=None,\n",
       "             importance_type=None, interaction_constraints=None,\n",
       "             learning_rate=0.01, max_bin=None, max_cat_threshold=None,\n",
       "             max_cat_to_onehot=None, max_delta_step=None, max_depth=8,\n",
       "             max_leaves=None, min_child_weight=4, missing=nan,\n",
       "             monotone_constraints=None, multi_strategy=None, n_estimators=2000,\n",
       "             n_jobs=None, nthread=2, ...)"
      ]
     },
     "execution_count": 64,
     "metadata": {},
     "output_type": "execute_result"
    }
   ],
   "source": [
    "xgb.fit(np.stack(df_train.desc),df_train.LogS)"
   ]
  },
  {
   "cell_type": "code",
   "execution_count": 70,
   "id": "3b81f3c7-7b9c-48fa-b2b9-78150e59c6cf",
   "metadata": {},
   "outputs": [],
   "source": [
    "df_test['pred'] = xgb.predict(np.stack(df_test.desc))"
   ]
  },
  {
   "cell_type": "code",
   "execution_count": 72,
   "id": "88f7fc40-46fe-41ec-8937-ba2491672aeb",
   "metadata": {},
   "outputs": [
    {
     "data": {
      "text/plain": [
       "0.9237554580027643"
      ]
     },
     "execution_count": 72,
     "metadata": {},
     "output_type": "execute_result"
    }
   ],
   "source": [
    "r2_score(df_test.LogS,df_test.pred)"
   ]
  },
  {
   "cell_type": "code",
   "execution_count": 73,
   "id": "43f8d230-ec43-42f9-a4d3-0c2d8fc1f084",
   "metadata": {},
   "outputs": [
    {
     "data": {
      "text/plain": [
       "0.41477224137340546"
      ]
     },
     "execution_count": 73,
     "metadata": {},
     "output_type": "execute_result"
    }
   ],
   "source": [
    "mean_absolute_error(df_test.LogS,df_test.pred)"
   ]
  },
  {
   "cell_type": "code",
   "execution_count": 132,
   "id": "de8ced38-5908-4c52-b122-c742922d9f16",
   "metadata": {},
   "outputs": [
    {
     "data": {
      "text/plain": [
       "<Axes: xlabel='LogS', ylabel='pred'>"
      ]
     },
     "execution_count": 132,
     "metadata": {},
     "output_type": "execute_result"
    },
    {
     "data": {
      "image/png": "[encoded data removed]",
      "text/plain": [
       "<Figure size 640x480 with 1 Axes>"
      ]
     },
     "metadata": {},
     "output_type": "display_data"
    }
   ],
   "source": [
    "sns.regplot(x=\"LogS\",y=\"pred\",data=df_test,scatter_kws={\"s\": 5, \"alpha\" : 0.35})"
   ]
  },
  {
   "cell_type": "code",
   "execution_count": 105,
   "id": "2e85d96a-80fd-4b8d-8f3c-d22e3d91a2e6",
   "metadata": {},
   "outputs": [],
   "source": [
    "biogen_df = pd.read_csv(\"biogen_logS.csv\")"
   ]
  },
  {
   "cell_type": "code",
   "execution_count": 107,
   "id": "a1d80b79-d064-41cf-b7cb-dd15c5c1d8fd",
   "metadata": {},
   "outputs": [
    {
     "data": {
      "application/vnd.jupyter.widget-view+json": {
       "model_id": "a01f2ba8951c4c1eaa0303f67519f446",
       "version_major": 2,
       "version_minor": 0
      },
      "text/plain": [
       "  0%|          | 0/2173 [00:00<?, ?it/s]"
      ]
     },
     "metadata": {},
     "output_type": "display_data"
    },
    {
     "data": {
      "application/vnd.jupyter.widget-view+json": {
       "model_id": "31e45c7f39be4a91a3088e9efdfb5213",
       "version_major": 2,
       "version_minor": 0
      },
      "text/plain": [
       "  0%|          | 0/2173 [00:00<?, ?it/s]"
      ]
     },
     "metadata": {},
     "output_type": "display_data"
    }
   ],
   "source": [
    "biogen_df['mol'] = biogen_df.SMILES.apply(Chem.MolFromSmiles)\n",
    "biogen_df['morgan'] = biogen_df.mol.progress_apply(fpgen.GetFingerprint)\n",
    "biogen_df['desc'] = biogen_df.mol.progress_apply(desc_calc.calc_mol)"
   ]
  },
  {
   "cell_type": "code",
   "execution_count": 108,
   "id": "22456181-69ae-4362-8a47-67a0c16c648b",
   "metadata": {},
   "outputs": [
    {
     "data": {
      "application/vnd.jupyter.widget-view+json": {
       "model_id": "b2506777272e42ba9c1726bf33ac4610",
       "version_major": 2,
       "version_minor": 0
      },
      "text/plain": [
       "  0%|          | 0/2173 [00:00<?, ?it/s]"
      ]
     },
     "metadata": {},
     "output_type": "display_data"
    }
   ],
   "source": [
    "biogen_sim_list = []\n",
    "for fp in tqdm(biogen_df.morgan):\n",
    "    biogen_sims = DataStructs.BulkTanimotoSimilarity(fp,df_train.morgan.values)\n",
    "    biogen_sim_list.append(max(biogen_sims))"
   ]
  },
  {
   "cell_type": "code",
   "execution_count": 109,
   "id": "c3420407-7db6-4c24-a8b6-5c23780621a2",
   "metadata": {},
   "outputs": [],
   "source": [
    "biogen_df['most_similar'] = biogen_sim_list"
   ]
  },
  {
   "cell_type": "code",
   "execution_count": 110,
   "id": "653f1d59-ecd7-49a4-920c-9bc6ec0fd2ed",
   "metadata": {},
   "outputs": [],
   "source": [
    "biogen_df['split'] = 'biogen'"
   ]
  },
  {
   "cell_type": "code",
   "execution_count": 111,
   "id": "80d4c848-037c-452c-9cd6-719dd0e4ff21",
   "metadata": {},
   "outputs": [
    {
     "data": {
      "text/plain": [
       "<Axes: xlabel='split', ylabel='most_similar'>"
      ]
     },
     "execution_count": 111,
     "metadata": {},
     "output_type": "execute_result"
    },
    {
     "data": {
      "image/png": "[encoded data removed]",
      "text/plain": [
       "<Figure size 640x480 with 1 Axes>"
      ]
     },
     "metadata": {},
     "output_type": "display_data"
    }
   ],
   "source": [
    "sns.boxplot(x=\"split\",y=\"most_similar\",data=pd.concat([df_test,biogen_df]))"
   ]
  },
  {
   "cell_type": "code",
   "execution_count": 112,
   "id": "1af53b71-e350-4daf-a03e-a59b13fc6125",
   "metadata": {},
   "outputs": [
    {
     "data": {
      "text/plain": [
       "'test IQR = 2.59 Biogen IQR = 0.55'"
      ]
     },
     "execution_count": 112,
     "metadata": {},
     "output_type": "execute_result"
    }
   ],
   "source": [
    "iqr_test = iqr(df_test.LogS)\n",
    "iqr_biogen = iqr(biogen_df.LogS)\n",
    "f\"test IQR = {iqr_test:.2f} Biogen IQR = {iqr_biogen:.2f}\""
   ]
  },
  {
   "cell_type": "code",
   "execution_count": 115,
   "id": "9d032375-8893-48a5-9be1-a24531a1cb49",
   "metadata": {},
   "outputs": [],
   "source": [
    "biogen_df['pred'] = xgb.predict(np.stack(biogen_df.desc))"
   ]
  },
  {
   "cell_type": "code",
   "execution_count": 116,
   "id": "17a49ba6-3c65-4913-9f27-f718363e5ddc",
   "metadata": {},
   "outputs": [
    {
     "data": {
      "text/plain": [
       "-1.5882825088438604"
      ]
     },
     "execution_count": 116,
     "metadata": {},
     "output_type": "execute_result"
    }
   ],
   "source": [
    "r2_score(biogen_df.LogS,biogen_df.pred)"
   ]
  },
  {
   "cell_type": "code",
   "execution_count": 129,
   "id": "a283e327-5604-4fa4-9a44-ed84d7008cee",
   "metadata": {},
   "outputs": [
    {
     "data": {
      "text/plain": [
       "<Axes: xlabel='LogS', ylabel='pred'>"
      ]
     },
     "execution_count": 129,
     "metadata": {},
     "output_type": "execute_result"
    },
    {
     "data": {
      "image/png": "[encoded data removed]",
      "text/plain": [
       "<Figure size 640x480 with 1 Axes>"
      ]
     },
     "metadata": {},
     "output_type": "display_data"
    }
   ],
   "source": [
    "sns.regplot(x=\"LogS\",y=\"pred\",data=biogen_df,scatter_kws={\"s\": 5, \"alpha\" : 0.35})"
   ]
  },
  {
   "cell_type": "code",
   "execution_count": 130,
   "id": "58d7994a-bbc9-4b35-903a-6f0a94ad3b64",
   "metadata": {},
   "outputs": [
    {
     "data": {
      "text/plain": [
       "0.9217757453682749"
      ]
     },
     "execution_count": 130,
     "metadata": {},
     "output_type": "execute_result"
    }
   ],
   "source": [
    "mean_absolute_error(biogen_df.LogS,biogen_df.pred)"
   ]
  },
  {
   "cell_type": "code",
   "execution_count": 163,
   "id": "22c3bd6b-5d4d-49fb-acf6-710426a6667e",
   "metadata": {},
   "outputs": [
    {
     "data": {
      "text/html": [
       "<pre style=\"white-space:pre;overflow-x:auto;line-height:normal;font-family:Menlo,'DejaVu Sans Mono',consolas,'Courier New',monospace\"><span style=\"color: #7fbfbf; text-decoration-color: #7fbfbf\">[2025-08-19 17:16:06] </span><span style=\"color: #000080; text-decoration-color: #000080\">INFO    </span> The version of Polaris that was used to create the artifact          <a href=\"file:///opt/homebrew/Caskroom/miniforge/base/envs/rdkit_2025_03/lib/python3.11/site-packages/polaris/_artifact.py\" target=\"_blank\"><span style=\"color: #7f7f7f; text-decoration-color: #7f7f7f\">_artifact.py</span></a><span style=\"color: #7f7f7f; text-decoration-color: #7f7f7f\">:</span><a href=\"file:///opt/homebrew/Caskroom/miniforge/base/envs/rdkit_2025_03/lib/python3.11/site-packages/polaris/_artifact.py#92\" target=\"_blank\"><span style=\"color: #7f7f7f; text-decoration-color: #7f7f7f\">92</span></a>\n",
       "<span style=\"color: #7fbfbf; text-decoration-color: #7fbfbf\">                      </span>         <span style=\"font-weight: bold\">(</span><span style=\"color: #008080; text-decoration-color: #008080; font-weight: bold\">0.11</span>.<span style=\"color: #008080; text-decoration-color: #008080; font-weight: bold\">8.</span>dev4+g40e3b2b.d20250207<span style=\"font-weight: bold\">)</span> is different from the currently     <span style=\"color: #7f7f7f; text-decoration-color: #7f7f7f\">               </span>\n",
       "<span style=\"color: #7fbfbf; text-decoration-color: #7fbfbf\">                      </span>         installed version of Polaris <span style=\"font-weight: bold\">(</span><span style=\"color: #008080; text-decoration-color: #008080; font-weight: bold\">0.11</span>.<span style=\"color: #008080; text-decoration-color: #008080; font-weight: bold\">10</span><span style=\"font-weight: bold\">)</span>.                              <span style=\"color: #7f7f7f; text-decoration-color: #7f7f7f\">               </span>\n",
       "</pre>\n"
      ],
      "text/plain": [
       "\u001b[2;36m[2025-08-19 17:16:06]\u001b[0m\u001b[2;36m \u001b[0m\u001b[34mINFO    \u001b[0m The version of Polaris that was used to create the artifact          \u001b]8;id=329002;file:///opt/homebrew/Caskroom/miniforge/base/envs/rdkit_2025_03/lib/python3.11/site-packages/polaris/_artifact.py\u001b\\\u001b[2m_artifact.py\u001b[0m\u001b]8;;\u001b\\\u001b[2m:\u001b[0m\u001b]8;id=574268;file:///opt/homebrew/Caskroom/miniforge/base/envs/rdkit_2025_03/lib/python3.11/site-packages/polaris/_artifact.py#92\u001b\\\u001b[2m92\u001b[0m\u001b]8;;\u001b\\\n",
       "\u001b[2;36m                      \u001b[0m         \u001b[1m(\u001b[0m\u001b[1;36m0.11\u001b[0m.\u001b[1;36m8.\u001b[0mdev4+g40e3b2b.d20250207\u001b[1m)\u001b[0m is different from the currently     \u001b[2m               \u001b[0m\n",
       "\u001b[2;36m                      \u001b[0m         installed version of Polaris \u001b[1m(\u001b[0m\u001b[1;36m0.11\u001b[0m.\u001b[1;36m10\u001b[0m\u001b[1m)\u001b[0m.                              \u001b[2m               \u001b[0m\n"
      ]
     },
     "metadata": {},
     "output_type": "display_data"
    },
    {
     "data": {
      "text/html": [
       "<pre style=\"white-space:pre;overflow-x:auto;line-height:normal;font-family:Menlo,'DejaVu Sans Mono',consolas,'Courier New',monospace\"><span style=\"color: #7fbfbf; text-decoration-color: #7fbfbf\">                      </span><span style=\"color: #808000; text-decoration-color: #808000\">WARNING </span> You're loading data from a remote location. If the dataset is small     <a href=\"file:///opt/homebrew/Caskroom/miniforge/base/envs/rdkit_2025_03/lib/python3.11/site-packages/polaris/dataset/_base.py\" target=\"_blank\"><span style=\"color: #7f7f7f; text-decoration-color: #7f7f7f\">_base.py</span></a><span style=\"color: #7f7f7f; text-decoration-color: #7f7f7f\">:</span><a href=\"file:///opt/homebrew/Caskroom/miniforge/base/envs/rdkit_2025_03/lib/python3.11/site-packages/polaris/dataset/_base.py#181\" target=\"_blank\"><span style=\"color: #7f7f7f; text-decoration-color: #7f7f7f\">181</span></a>\n",
       "<span style=\"color: #7fbfbf; text-decoration-color: #7fbfbf\">                      </span>         enough, consider caching the dataset first using <span style=\"color: #800080; text-decoration-color: #800080; font-weight: bold\">DatasetV2.cache</span><span style=\"font-weight: bold\">()</span> for  <span style=\"color: #7f7f7f; text-decoration-color: #7f7f7f\">            </span>\n",
       "<span style=\"color: #7fbfbf; text-decoration-color: #7fbfbf\">                      </span>         more performant data access.                                            <span style=\"color: #7f7f7f; text-decoration-color: #7f7f7f\">            </span>\n",
       "</pre>\n"
      ],
      "text/plain": [
       "\u001b[2;36m                     \u001b[0m\u001b[2;36m \u001b[0m\u001b[33mWARNING \u001b[0m You're loading data from a remote location. If the dataset is small     \u001b]8;id=361921;file:///opt/homebrew/Caskroom/miniforge/base/envs/rdkit_2025_03/lib/python3.11/site-packages/polaris/dataset/_base.py\u001b\\\u001b[2m_base.py\u001b[0m\u001b]8;;\u001b\\\u001b[2m:\u001b[0m\u001b]8;id=863946;file:///opt/homebrew/Caskroom/miniforge/base/envs/rdkit_2025_03/lib/python3.11/site-packages/polaris/dataset/_base.py#181\u001b\\\u001b[2m181\u001b[0m\u001b]8;;\u001b\\\n",
       "\u001b[2;36m                      \u001b[0m         enough, consider caching the dataset first using \u001b[1;35mDatasetV2.cache\u001b[0m\u001b[1m(\u001b[0m\u001b[1m)\u001b[0m for  \u001b[2m            \u001b[0m\n",
       "\u001b[2;36m                      \u001b[0m         more performant data access.                                            \u001b[2m            \u001b[0m\n"
      ]
     },
     "metadata": {},
     "output_type": "display_data"
    },
    {
     "data": {
      "text/html": [
       "<pre style=\"white-space:pre;overflow-x:auto;line-height:normal;font-family:Menlo,'DejaVu Sans Mono',consolas,'Courier New',monospace\"><span style=\"color: #7fbfbf; text-decoration-color: #7fbfbf\">[17:16:07] </span><span style=\"color: #008000; text-decoration-color: #008000\"> Success: Fetching dataset</span>                                                                 <a href=\"file:///opt/homebrew/Caskroom/miniforge/base/envs/rdkit_2025_03/lib/python3.11/site-packages/polaris/utils/context.py\" target=\"_blank\"><span style=\"color: #7f7f7f; text-decoration-color: #7f7f7f\">context.py</span></a><span style=\"color: #7f7f7f; text-decoration-color: #7f7f7f\">:</span><a href=\"file:///opt/homebrew/Caskroom/miniforge/base/envs/rdkit_2025_03/lib/python3.11/site-packages/polaris/utils/context.py#53\" target=\"_blank\"><span style=\"color: #7f7f7f; text-decoration-color: #7f7f7f\">53</span></a>\n",
       "</pre>\n"
      ],
      "text/plain": [
       "\u001b[2;36m[17:16:07]\u001b[0m\u001b[2;36m \u001b[0m\u001b[32m Success: Fetching dataset\u001b[0m                                                                 \u001b]8;id=518641;file:///opt/homebrew/Caskroom/miniforge/base/envs/rdkit_2025_03/lib/python3.11/site-packages/polaris/utils/context.py\u001b\\\u001b[2mcontext.py\u001b[0m\u001b]8;;\u001b\\\u001b[2m:\u001b[0m\u001b]8;id=845721;file:///opt/homebrew/Caskroom/miniforge/base/envs/rdkit_2025_03/lib/python3.11/site-packages/polaris/utils/context.py#53\u001b\\\u001b[2m53\u001b[0m\u001b]8;;\u001b\\\n"
      ]
     },
     "metadata": {},
     "output_type": "display_data"
    },
    {
     "data": {
      "text/html": [
       "<pre style=\"white-space:pre;overflow-x:auto;line-height:normal;font-family:Menlo,'DejaVu Sans Mono',consolas,'Courier New',monospace\"></pre>\n"
      ],
      "text/plain": []
     },
     "metadata": {},
     "output_type": "display_data"
    }
   ],
   "source": [
    "antiviral_admet_ds = po.load_dataset(\"asap-discovery/antiviral-admet-2025-unblinded\")"
   ]
  },
  {
   "cell_type": "code",
   "execution_count": 164,
   "id": "52706eac-368c-4709-b373-37bac12e9bf0",
   "metadata": {},
   "outputs": [],
   "source": [
    "antiviral_admet_ds.load_to_memory()"
   ]
  },
  {
   "cell_type": "code",
   "execution_count": 167,
   "id": "3426d2ae-ce80-43d9-81cb-9c24253a4126",
   "metadata": {},
   "outputs": [],
   "source": [
    "antiviral_admet_df = pd.DataFrame(antiviral_admet_ds.zarr_data).dropna(subset=\"KSOL\")"
   ]
  },
  {
   "cell_type": "code",
   "execution_count": 168,
   "id": "8db9e6b8-7900-4fa1-946b-f27262b213bd",
   "metadata": {},
   "outputs": [],
   "source": [
    "antiviral_admet_df['LogS'] = np.log10(antiviral_admet_df.KSOL * 1e-6)"
   ]
  },
  {
   "cell_type": "code",
   "execution_count": 170,
   "id": "4fced835-89be-4edd-919d-1087d256a124",
   "metadata": {},
   "outputs": [],
   "source": [
    "antiviral_admet_df['split'] = 'antiviral'"
   ]
  },
  {
   "cell_type": "code",
   "execution_count": 171,
   "id": "9d253481-2438-4ad3-abba-5b3144d50aa7",
   "metadata": {},
   "outputs": [
    {
     "data": {
      "text/plain": [
       "<seaborn.axisgrid.FacetGrid at 0x33daf10d0>"
      ]
     },
     "execution_count": 171,
     "metadata": {},
     "output_type": "execute_result"
    },
    {
     "data": {
      "image/png": "[encoded data removed]",
      "text/plain": [
       "<Figure size 500x500 with 1 Axes>"
      ]
     },
     "metadata": {},
     "output_type": "display_data"
    }
   ],
   "source": [
    "sns.displot(antiviral_admet_df.LogS)"
   ]
  },
  {
   "cell_type": "code",
   "execution_count": 173,
   "id": "8a51deae-e1cd-4c2b-a295-4ca21e0667db",
   "metadata": {},
   "outputs": [
    {
     "data": {
      "text/plain": [
       "<Axes: xlabel='split', ylabel='LogS'>"
      ]
     },
     "execution_count": 173,
     "metadata": {},
     "output_type": "execute_result"
    },
    {
     "data": {
      "image/png": "[encoded data removed]",
      "text/plain": [
       "<Figure size 640x480 with 1 Axes>"
      ]
     },
     "metadata": {},
     "output_type": "display_data"
    }
   ],
   "source": [
    "sns.boxplot(x=\"split\",y=\"LogS\",data=pd.concat([df_test,biogen_df,antiviral_admet_df]))"
   ]
  },
  {
   "cell_type": "code",
   "execution_count": 180,
   "id": "a5b730b2-728c-488f-9e73-6047e211972e",
   "metadata": {},
   "outputs": [
    {
     "data": {
      "text/html": [
       "<div>\n",
       "<style scoped>\n",
       "    .dataframe tbody tr th:only-of-type {\n",
       "        vertical-align: middle;\n",
       "    }\n",
       "\n",
       "    .dataframe tbody tr th {\n",
       "        vertical-align: top;\n",
       "    }\n",
       "\n",
       "    .dataframe thead th {\n",
       "        text-align: right;\n",
       "    }\n",
       "</style>\n",
       "<table border=\"1\" class=\"dataframe\">\n",
       "  <thead>\n",
       "    <tr style=\"text-align: right;\">\n",
       "      <th></th>\n",
       "      <th>0</th>\n",
       "      <th>1</th>\n",
       "    </tr>\n",
       "  </thead>\n",
       "  <tbody>\n",
       "    <tr>\n",
       "      <th>0</th>\n",
       "      <td>test</td>\n",
       "      <td>2.59</td>\n",
       "    </tr>\n",
       "    <tr>\n",
       "      <th>1</th>\n",
       "      <td>biogen</td>\n",
       "      <td>0.55</td>\n",
       "    </tr>\n",
       "    <tr>\n",
       "      <th>2</th>\n",
       "      <td>antiviral</td>\n",
       "      <td>0.83</td>\n",
       "    </tr>\n",
       "  </tbody>\n",
       "</table>\n",
       "</div>"
      ],
      "text/plain": [
       "           0     1\n",
       "0       test  2.59\n",
       "1     biogen  0.55\n",
       "2  antiviral  0.83"
      ]
     },
     "execution_count": 180,
     "metadata": {},
     "output_type": "execute_result"
    }
   ],
   "source": [
    "pd.DataFrame([(x.split.values[0],iqr(x.LogS)) for x in [df_test, biogen_df, antiviral_admet_df]]).round(2)"
   ]
  },
  {
   "cell_type": "code",
   "execution_count": null,
   "id": "5e277153-10af-443a-b76a-92a087ebadc5",
   "metadata": {},
   "outputs": [],
   "source": [
    "import fastsolv\n"
   ]
  },
  {
   "cell_type": "code",
   "execution_count": null,
   "id": "135e4fed-7285-496c-ab3e-9301d7ef1679",
   "metadata": {},
   "outputs": [],
   "source": []
  },
  {
   "cell_type": "code",
   "execution_count": null,
   "id": "daba2ffc-d965-4e3c-ae48-1a1b06cb15eb",
   "metadata": {},
   "outputs": [],
   "source": []
  }
 ],
 "metadata": {
  "kernelspec": {
   "display_name": "Python 3 (ipykernel)",
   "language": "python",
   "name": "python3"
  },
  "language_info": {
   "codemirror_mode": {
    "name": "ipython",
    "version": 3
   },
   "file_extension": ".py",
   "mimetype": "text/x-python",
   "name": "python",
   "nbconvert_exporter": "python",
   "pygments_lexer": "ipython3",
   "version": "3.11.11"
  }
 },
 "nbformat": 4,
 "nbformat_minor": 5
}
