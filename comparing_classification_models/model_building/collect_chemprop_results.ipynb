{
 "cells": [
  {
   "cell_type": "code",
   "execution_count": null,
   "id": "cb31afeb",
   "metadata": {},
   "outputs": [],
   "source": [
    "import pandas as pd"
   ]
  },
  {
   "cell_type": "code",
   "execution_count": null,
   "id": "c9456116",
   "metadata": {},
   "outputs": [],
   "source": [
    "def fix_smiles(smi_in):\n",
    "    return smi_in.strip('[]').strip(\"'\")"
   ]
  },
  {
   "cell_type": "code",
   "execution_count": null,
   "id": "fa548c9d",
   "metadata": {},
   "outputs": [],
   "source": [
    "df_list = []\n",
    "for split in [\"random\",\"scaffold\"]:\n",
    "    for task in [\"st\",\"mt\"]:\n",
    "        for i in range(0,10):\n",
    "            dirname = f\"data/BSEP{i:03d}\"\n",
    "            if task == \"st\":\n",
    "                df_test = pd.read_csv(f\"{dirname}/{split}_test_{i:03d}.csv\")\n",
    "                df_pred = pd.read_csv(f\"{dirname}/{split}_result_ST/test_preds.csv\")\n",
    "            else:\n",
    "                df_test = pd.read_csv(f\"{dirname}/{split}_mt_test_{i:03d}.csv\")\n",
    "                df_pred = pd.read_csv(f\"{dirname}/{split}_result_MT/test_preds.csv\")\n",
    "            df_pred['SMILES'] = df_pred.smiles.apply(fix_smiles)\n",
    "            df_pred.drop('smiles',axis=1,inplace=True)\n",
    "            df_pred.rename(columns={\"BSEP\": \"BSEP_prob\"},inplace=True)\n",
    "            df_test.BSEP = df_test.BSEP.astype(int)\n",
    "            df_combo = pd.concat([df_test[[\"SMILES\",\"Name\",\"BSEP\"]],df_pred[[\"BSEP_prob\"]]],axis=1)\n",
    "            df_combo['BSEP_pred'] = [1 if p > 0.5 else 0 for p in df_combo.BSEP_prob]\n",
    "            df_combo['cv_cycle'] = i\n",
    "            df_combo['split'] = split\n",
    "            df_combo['method'] = f\"chemprop_{task}\"\n",
    "            df_combo = df_combo[[\"cv_cycle\",\"split\",\"method\",\"SMILES\",\"Name\",\"BSEP\",\"BSEP_prob\",\"BSEP_pred\"]]\n",
    "            df_list.append(df_combo)"
   ]
  },
  {
   "cell_type": "code",
   "execution_count": null,
   "id": "2e0e64bf",
   "metadata": {},
   "outputs": [],
   "source": [
    "df_out = pd.concat(df_list)\n",
    "df_out.to_csv(\"BSEP_classification_preds.csv\",index=False)"
   ]
  },
  {
   "cell_type": "code",
   "execution_count": null,
   "id": "8c162b18",
   "metadata": {},
   "outputs": [],
   "source": [
    "df_out"
   ]
  },
  {
   "cell_type": "code",
   "execution_count": null,
   "id": "ae410d95",
   "metadata": {},
   "outputs": [],
   "source": []
  }
 ],
 "metadata": {
  "kernelspec": {
   "display_name": "Python 3 (ipykernel)",
   "language": "python",
   "name": "python3"
  },
  "language_info": {
   "codemirror_mode": {
    "name": "ipython",
    "version": 3
   },
   "file_extension": ".py",
   "mimetype": "text/x-python",
   "name": "python",
   "nbconvert_exporter": "python",
   "pygments_lexer": "ipython3",
   "version": "3.8.16"
  }
 },
 "nbformat": 4,
 "nbformat_minor": 5
}
