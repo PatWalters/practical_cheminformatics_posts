{
 "cells": [
  {
   "cell_type": "markdown",
   "id": "09147230",
   "metadata": {},
   "source": [
    "A walkthrough of Friedman's test"
   ]
  },
  {
   "cell_type": "code",
   "execution_count": 27,
   "id": "cfdc08e5",
   "metadata": {},
   "outputs": [],
   "source": [
    "import pandas as pd\n",
    "import pingouin as pg\n",
    "import seaborn as sns\n",
    "from sklearn.metrics import roc_auc_score, average_precision_score, matthews_corrcoef\n",
    "import scikit_posthocs as sp\n",
    "import scipy.stats as stats"
   ]
  },
  {
   "cell_type": "code",
   "execution_count": 2,
   "id": "2f89f37d",
   "metadata": {},
   "outputs": [],
   "source": [
    "sns.set_context('notebook')\n",
    "sns.set_style('white')"
   ]
  },
  {
   "cell_type": "markdown",
   "id": "70d1d2ce",
   "metadata": {},
   "source": [
    "A function to calculate ROC AUC, PR AUC, and MCC"
   ]
  },
  {
   "cell_type": "code",
   "execution_count": 3,
   "id": "613e52ef",
   "metadata": {},
   "outputs": [],
   "source": [
    "def calc_classification_metrics(df_in, cycle_col, val_col, prob_col, pred_col):\n",
    "    \"\"\"\n",
    "    Calculate classification metrics (ROC AUC, PR AUC, MCC)\n",
    "    :param df_in: input dataframe must contain columns [method, split] as well the columns specified in the arguments\n",
    "    :param cycle_col: column indicating the cross-validation fold\n",
    "    :param val_col: column with the group truth value\n",
    "    :param prob_col: column with probability (e.g. from sklearn predict_proba)\n",
    "    :param pred_col: column with binary predictions (e.g. from sklearn predict)\n",
    "    :return: a dataframe with [cv_cycle, method, split, roc_auc, pr_auc, mcc]\n",
    "    \"\"\"\n",
    "    metric_list = []\n",
    "    for k, v in df_in.groupby([cycle_col, \"method\", \"split\"]):\n",
    "        cycle, method, split = k\n",
    "        roc_auc = roc_auc_score(v[val_col], v[prob_col])\n",
    "        pr_auc = average_precision_score(v[val_col], v[prob_col])\n",
    "        mcc = matthews_corrcoef(v[val_col], v[pred_col])\n",
    "        metric_list.append([cycle, method, split, roc_auc, pr_auc, mcc])\n",
    "    metric_df = pd.DataFrame(metric_list, columns=[\"cv_cycle\", \"method\", \"split\", \"roc_auc\", \"pr_auc\", \"mcc\"])\n",
    "    return metric_df"
   ]
  },
  {
   "cell_type": "markdown",
   "id": "3b9350d5",
   "metadata": {},
   "source": [
    "Read the data from https://doi.org/10.1021/acsomega.3c01583"
   ]
  },
  {
   "cell_type": "code",
   "execution_count": 4,
   "id": "0886dafc",
   "metadata": {},
   "outputs": [
    {
     "data": {
      "text/html": [
       "<div>\n",
       "<style scoped>\n",
       "    .dataframe tbody tr th:only-of-type {\n",
       "        vertical-align: middle;\n",
       "    }\n",
       "\n",
       "    .dataframe tbody tr th {\n",
       "        vertical-align: top;\n",
       "    }\n",
       "\n",
       "    .dataframe thead th {\n",
       "        text-align: right;\n",
       "    }\n",
       "</style>\n",
       "<table border=\"1\" class=\"dataframe\">\n",
       "  <thead>\n",
       "    <tr style=\"text-align: right;\">\n",
       "      <th></th>\n",
       "      <th>cv_cycle</th>\n",
       "      <th>split</th>\n",
       "      <th>method</th>\n",
       "      <th>SMILES</th>\n",
       "      <th>Name</th>\n",
       "      <th>BSEP</th>\n",
       "      <th>BSEP_prob</th>\n",
       "      <th>BSEP_pred</th>\n",
       "    </tr>\n",
       "  </thead>\n",
       "  <tbody>\n",
       "    <tr>\n",
       "      <th>0</th>\n",
       "      <td>0</td>\n",
       "      <td>random</td>\n",
       "      <td>CP_ST</td>\n",
       "      <td>OC[C@H]([C@@H](c1ccc([N+](=O)[O-])cc1)O)NC(C(C...</td>\n",
       "      <td>50772760</td>\n",
       "      <td>0</td>\n",
       "      <td>0.144192</td>\n",
       "      <td>0</td>\n",
       "    </tr>\n",
       "    <tr>\n",
       "      <th>1</th>\n",
       "      <td>0</td>\n",
       "      <td>random</td>\n",
       "      <td>CP_ST</td>\n",
       "      <td>CCN(c1c(C)cccc1)C(\\C=C\\C)=O</td>\n",
       "      <td>50754477</td>\n",
       "      <td>0</td>\n",
       "      <td>0.615919</td>\n",
       "      <td>1</td>\n",
       "    </tr>\n",
       "    <tr>\n",
       "      <th>2</th>\n",
       "      <td>0</td>\n",
       "      <td>random</td>\n",
       "      <td>CP_ST</td>\n",
       "      <td>CCCc1c2c(C(=O)C=C(C(=O)O)O2)cc(c(N(C(=O)C)C)cc...</td>\n",
       "      <td>50754445</td>\n",
       "      <td>0</td>\n",
       "      <td>0.034664</td>\n",
       "      <td>0</td>\n",
       "    </tr>\n",
       "    <tr>\n",
       "      <th>3</th>\n",
       "      <td>0</td>\n",
       "      <td>random</td>\n",
       "      <td>CP_ST</td>\n",
       "      <td>CC([C@@H](C(OCCOCn1c2c(C(=O)N=C(N)N2)nc1)=O)N)C</td>\n",
       "      <td>50776018</td>\n",
       "      <td>0</td>\n",
       "      <td>0.005112</td>\n",
       "      <td>0</td>\n",
       "    </tr>\n",
       "    <tr>\n",
       "      <th>4</th>\n",
       "      <td>0</td>\n",
       "      <td>random</td>\n",
       "      <td>CP_ST</td>\n",
       "      <td>CC(C1C(C)(C(=O)CC2C3C(=O)CC(CC(=O)CC4)C24C)C3C...</td>\n",
       "      <td>50753270</td>\n",
       "      <td>0</td>\n",
       "      <td>0.230876</td>\n",
       "      <td>0</td>\n",
       "    </tr>\n",
       "  </tbody>\n",
       "</table>\n",
       "</div>"
      ],
      "text/plain": [
       "   cv_cycle   split method                                             SMILES  \\\n",
       "0         0  random  CP_ST  OC[C@H]([C@@H](c1ccc([N+](=O)[O-])cc1)O)NC(C(C...   \n",
       "1         0  random  CP_ST                        CCN(c1c(C)cccc1)C(\\C=C\\C)=O   \n",
       "2         0  random  CP_ST  CCCc1c2c(C(=O)C=C(C(=O)O)O2)cc(c(N(C(=O)C)C)cc...   \n",
       "3         0  random  CP_ST    CC([C@@H](C(OCCOCn1c2c(C(=O)N=C(N)N2)nc1)=O)N)C   \n",
       "4         0  random  CP_ST  CC(C1C(C)(C(=O)CC2C3C(=O)CC(CC(=O)CC4)C24C)C3C...   \n",
       "\n",
       "       Name  BSEP  BSEP_prob  BSEP_pred  \n",
       "0  50772760     0   0.144192          0  \n",
       "1  50754477     0   0.615919          1  \n",
       "2  50754445     0   0.034664          0  \n",
       "3  50776018     0   0.005112          0  \n",
       "4  50753270     0   0.230876          0  "
      ]
     },
     "execution_count": 4,
     "metadata": {},
     "output_type": "execute_result"
    }
   ],
   "source": [
    "df_input = pd.read_csv(\"BSEP_classification_ChemProp_LightGBM.csv\")\n",
    "df_input.head()"
   ]
  },
  {
   "cell_type": "markdown",
   "id": "04d9d94d",
   "metadata": {},
   "source": [
    "Calculate the classification metrics"
   ]
  },
  {
   "cell_type": "code",
   "execution_count": 5,
   "id": "39c430d8",
   "metadata": {},
   "outputs": [],
   "source": [
    "df_metrics = calc_classification_metrics(df_input,\n",
    "                                         cycle_col=\"cv_cycle\",\n",
    "                                         val_col=\"BSEP\",\n",
    "                                         prob_col=\"BSEP_prob\",\n",
    "                                         pred_col=\"BSEP_pred\")"
   ]
  },
  {
   "cell_type": "code",
   "execution_count": 6,
   "id": "7e109b3e",
   "metadata": {},
   "outputs": [
    {
     "data": {
      "text/html": [
       "<div>\n",
       "<style scoped>\n",
       "    .dataframe tbody tr th:only-of-type {\n",
       "        vertical-align: middle;\n",
       "    }\n",
       "\n",
       "    .dataframe tbody tr th {\n",
       "        vertical-align: top;\n",
       "    }\n",
       "\n",
       "    .dataframe thead th {\n",
       "        text-align: right;\n",
       "    }\n",
       "</style>\n",
       "<table border=\"1\" class=\"dataframe\">\n",
       "  <thead>\n",
       "    <tr style=\"text-align: right;\">\n",
       "      <th></th>\n",
       "      <th>cv_cycle</th>\n",
       "      <th>method</th>\n",
       "      <th>split</th>\n",
       "      <th>roc_auc</th>\n",
       "      <th>pr_auc</th>\n",
       "      <th>mcc</th>\n",
       "    </tr>\n",
       "  </thead>\n",
       "  <tbody>\n",
       "    <tr>\n",
       "      <th>0</th>\n",
       "      <td>0</td>\n",
       "      <td>CP_MT</td>\n",
       "      <td>random</td>\n",
       "      <td>0.869231</td>\n",
       "      <td>0.589417</td>\n",
       "      <td>0.666312</td>\n",
       "    </tr>\n",
       "    <tr>\n",
       "      <th>1</th>\n",
       "      <td>0</td>\n",
       "      <td>CP_MT</td>\n",
       "      <td>scaffold</td>\n",
       "      <td>0.923529</td>\n",
       "      <td>0.536409</td>\n",
       "      <td>0.387724</td>\n",
       "    </tr>\n",
       "    <tr>\n",
       "      <th>2</th>\n",
       "      <td>0</td>\n",
       "      <td>CP_ST</td>\n",
       "      <td>random</td>\n",
       "      <td>0.868376</td>\n",
       "      <td>0.613064</td>\n",
       "      <td>0.508400</td>\n",
       "    </tr>\n",
       "    <tr>\n",
       "      <th>3</th>\n",
       "      <td>0</td>\n",
       "      <td>CP_ST</td>\n",
       "      <td>scaffold</td>\n",
       "      <td>0.933824</td>\n",
       "      <td>0.642328</td>\n",
       "      <td>0.589706</td>\n",
       "    </tr>\n",
       "    <tr>\n",
       "      <th>4</th>\n",
       "      <td>0</td>\n",
       "      <td>LGBM</td>\n",
       "      <td>random</td>\n",
       "      <td>0.852137</td>\n",
       "      <td>0.684058</td>\n",
       "      <td>0.551185</td>\n",
       "    </tr>\n",
       "  </tbody>\n",
       "</table>\n",
       "</div>"
      ],
      "text/plain": [
       "   cv_cycle method     split   roc_auc    pr_auc       mcc\n",
       "0         0  CP_MT    random  0.869231  0.589417  0.666312\n",
       "1         0  CP_MT  scaffold  0.923529  0.536409  0.387724\n",
       "2         0  CP_ST    random  0.868376  0.613064  0.508400\n",
       "3         0  CP_ST  scaffold  0.933824  0.642328  0.589706\n",
       "4         0   LGBM    random  0.852137  0.684058  0.551185"
      ]
     },
     "execution_count": 6,
     "metadata": {},
     "output_type": "execute_result"
    }
   ],
   "source": [
    "df_metrics.head()"
   ]
  },
  {
   "cell_type": "markdown",
   "id": "4d47d73d",
   "metadata": {},
   "source": [
    "Look at the random split"
   ]
  },
  {
   "cell_type": "code",
   "execution_count": 7,
   "id": "e61243d2",
   "metadata": {},
   "outputs": [
    {
     "data": {
      "text/html": [
       "<div>\n",
       "<style scoped>\n",
       "    .dataframe tbody tr th:only-of-type {\n",
       "        vertical-align: middle;\n",
       "    }\n",
       "\n",
       "    .dataframe tbody tr th {\n",
       "        vertical-align: top;\n",
       "    }\n",
       "\n",
       "    .dataframe thead th {\n",
       "        text-align: right;\n",
       "    }\n",
       "</style>\n",
       "<table border=\"1\" class=\"dataframe\">\n",
       "  <thead>\n",
       "    <tr style=\"text-align: right;\">\n",
       "      <th></th>\n",
       "      <th>cv_cycle</th>\n",
       "      <th>method</th>\n",
       "      <th>roc_auc</th>\n",
       "    </tr>\n",
       "  </thead>\n",
       "  <tbody>\n",
       "    <tr>\n",
       "      <th>0</th>\n",
       "      <td>0</td>\n",
       "      <td>CP_MT</td>\n",
       "      <td>0.87</td>\n",
       "    </tr>\n",
       "    <tr>\n",
       "      <th>2</th>\n",
       "      <td>0</td>\n",
       "      <td>CP_ST</td>\n",
       "      <td>0.87</td>\n",
       "    </tr>\n",
       "    <tr>\n",
       "      <th>4</th>\n",
       "      <td>0</td>\n",
       "      <td>LGBM</td>\n",
       "      <td>0.85</td>\n",
       "    </tr>\n",
       "    <tr>\n",
       "      <th>6</th>\n",
       "      <td>1</td>\n",
       "      <td>CP_MT</td>\n",
       "      <td>0.92</td>\n",
       "    </tr>\n",
       "    <tr>\n",
       "      <th>8</th>\n",
       "      <td>1</td>\n",
       "      <td>CP_ST</td>\n",
       "      <td>0.91</td>\n",
       "    </tr>\n",
       "  </tbody>\n",
       "</table>\n",
       "</div>"
      ],
      "text/plain": [
       "   cv_cycle method  roc_auc\n",
       "0         0  CP_MT     0.87\n",
       "2         0  CP_ST     0.87\n",
       "4         0   LGBM     0.85\n",
       "6         1  CP_MT     0.92\n",
       "8         1  CP_ST     0.91"
      ]
     },
     "execution_count": 7,
     "metadata": {},
     "output_type": "execute_result"
    }
   ],
   "source": [
    "split_type = \"random\"\n",
    "df_auc_long = df_metrics.query(\"split == @split_type\")[[\"cv_cycle\",\"method\",\"roc_auc\"]]\n",
    "df_auc_long.head().round(2)"
   ]
  },
  {
   "cell_type": "markdown",
   "id": "84060fe8",
   "metadata": {},
   "source": [
    "Plot a barplot, **don't do this**"
   ]
  },
  {
   "cell_type": "code",
   "execution_count": 8,
   "id": "4e465728",
   "metadata": {},
   "outputs": [
    {
     "data": {
      "text/plain": [
       "(0.0, 1.0)"
      ]
     },
     "execution_count": 8,
     "metadata": {},
     "output_type": "execute_result"
    },
    {
     "data": {
      "image/png": "[encoded data removed]",
      "text/plain": [
       "<Figure size 640x480 with 1 Axes>"
      ]
     },
     "metadata": {},
     "output_type": "display_data"
    }
   ],
   "source": [
    "ax = sns.barplot(x=\"method\",y=\"roc_auc\",data=df_auc_long,errorbar=None)\n",
    "ax.set_xlabel(\"Method\")\n",
    "ax.set_ylabel(\"ROC AUC\")\n",
    "ax.set_ylim(0,1)"
   ]
  },
  {
   "cell_type": "markdown",
   "id": "9c786f11",
   "metadata": {},
   "source": [
    "Plot the AUCs as boxplot"
   ]
  },
  {
   "cell_type": "code",
   "execution_count": 9,
   "id": "5a6b32f3",
   "metadata": {},
   "outputs": [
    {
     "data": {
      "text/plain": [
       "(0.0, 1.0)"
      ]
     },
     "execution_count": 9,
     "metadata": {},
     "output_type": "execute_result"
    },
    {
     "data": {
      "image/png": "[encoded data removed]",
      "text/plain": [
       "<Figure size 640x480 with 1 Axes>"
      ]
     },
     "metadata": {},
     "output_type": "display_data"
    }
   ],
   "source": [
    "ax = sns.boxplot(x=\"method\",y=\"roc_auc\",data=df_auc_long)\n",
    "ax.set_xlabel(\"Method\")\n",
    "ax.set_ylabel(\"ROC AUC\")\n",
    "ax.set_ylim(0,1)"
   ]
  },
  {
   "cell_type": "markdown",
   "id": "bb8da9a5",
   "metadata": {},
   "source": [
    "Pivot the data"
   ]
  },
  {
   "cell_type": "code",
   "execution_count": null,
   "id": "30fa892c",
   "metadata": {},
   "outputs": [],
   "source": [
    "df_auc = df_auc_long.pivot(index=\"cv_cycle\",columns=[\"method\"])\n",
    "df_auc.round(2).head()"
   ]
  },
  {
   "cell_type": "markdown",
   "id": "d7724ea8",
   "metadata": {},
   "source": [
    "Fix the column names"
   ]
  },
  {
   "cell_type": "code",
   "execution_count": null,
   "id": "ec4abfbe",
   "metadata": {},
   "outputs": [],
   "source": [
    "df_auc.columns = df_auc.columns.get_level_values(1)\n",
    "df_auc.round(2).head()"
   ]
  },
  {
   "cell_type": "markdown",
   "id": "e77afeca",
   "metadata": {},
   "source": [
    "Convert the data to ranks"
   ]
  },
  {
   "cell_type": "code",
   "execution_count": 16,
   "id": "4e8e1241",
   "metadata": {},
   "outputs": [
    {
     "data": {
      "text/html": [
       "<div>\n",
       "<style scoped>\n",
       "    .dataframe tbody tr th:only-of-type {\n",
       "        vertical-align: middle;\n",
       "    }\n",
       "\n",
       "    .dataframe tbody tr th {\n",
       "        vertical-align: top;\n",
       "    }\n",
       "\n",
       "    .dataframe thead th {\n",
       "        text-align: right;\n",
       "    }\n",
       "</style>\n",
       "<table border=\"1\" class=\"dataframe\">\n",
       "  <thead>\n",
       "    <tr style=\"text-align: right;\">\n",
       "      <th>method</th>\n",
       "      <th>CP_MT</th>\n",
       "      <th>CP_ST</th>\n",
       "      <th>LGBM</th>\n",
       "    </tr>\n",
       "    <tr>\n",
       "      <th>cv_cycle</th>\n",
       "      <th></th>\n",
       "      <th></th>\n",
       "      <th></th>\n",
       "    </tr>\n",
       "  </thead>\n",
       "  <tbody>\n",
       "    <tr>\n",
       "      <th>0</th>\n",
       "      <td>1</td>\n",
       "      <td>2</td>\n",
       "      <td>3</td>\n",
       "    </tr>\n",
       "    <tr>\n",
       "      <th>1</th>\n",
       "      <td>1</td>\n",
       "      <td>2</td>\n",
       "      <td>3</td>\n",
       "    </tr>\n",
       "    <tr>\n",
       "      <th>2</th>\n",
       "      <td>2</td>\n",
       "      <td>1</td>\n",
       "      <td>3</td>\n",
       "    </tr>\n",
       "    <tr>\n",
       "      <th>3</th>\n",
       "      <td>3</td>\n",
       "      <td>1</td>\n",
       "      <td>2</td>\n",
       "    </tr>\n",
       "    <tr>\n",
       "      <th>4</th>\n",
       "      <td>2</td>\n",
       "      <td>1</td>\n",
       "      <td>3</td>\n",
       "    </tr>\n",
       "    <tr>\n",
       "      <th>5</th>\n",
       "      <td>2</td>\n",
       "      <td>3</td>\n",
       "      <td>1</td>\n",
       "    </tr>\n",
       "    <tr>\n",
       "      <th>6</th>\n",
       "      <td>2</td>\n",
       "      <td>1</td>\n",
       "      <td>3</td>\n",
       "    </tr>\n",
       "    <tr>\n",
       "      <th>7</th>\n",
       "      <td>2</td>\n",
       "      <td>1</td>\n",
       "      <td>3</td>\n",
       "    </tr>\n",
       "    <tr>\n",
       "      <th>8</th>\n",
       "      <td>1</td>\n",
       "      <td>2</td>\n",
       "      <td>3</td>\n",
       "    </tr>\n",
       "    <tr>\n",
       "      <th>9</th>\n",
       "      <td>1</td>\n",
       "      <td>2</td>\n",
       "      <td>3</td>\n",
       "    </tr>\n",
       "  </tbody>\n",
       "</table>\n",
       "</div>"
      ],
      "text/plain": [
       "method    CP_MT  CP_ST  LGBM\n",
       "cv_cycle                    \n",
       "0             1      2     3\n",
       "1             1      2     3\n",
       "2             2      1     3\n",
       "3             3      1     2\n",
       "4             2      1     3\n",
       "5             2      3     1\n",
       "6             2      1     3\n",
       "7             2      1     3\n",
       "8             1      2     3\n",
       "9             1      2     3"
      ]
     },
     "execution_count": 16,
     "metadata": {},
     "output_type": "execute_result"
    }
   ],
   "source": [
    "rank_df = df_auc.rank(axis=1, ascending=False).astype(int)\n",
    "rank_df"
   ]
  },
  {
   "cell_type": "markdown",
   "id": "b478e1b1",
   "metadata": {},
   "source": [
    "Define a function to map colors onto the dataframe"
   ]
  },
  {
   "cell_type": "code",
   "execution_count": 13,
   "id": "bc82cfcb",
   "metadata": {},
   "outputs": [],
   "source": [
    "def color_vals(val):\n",
    "    cmap = {1:\"background-color:green;color:white\",\n",
    "            2:\"background-color:yellow;color:black\",\n",
    "            3:\"background-color:red;color:white\"}\n",
    "    return cmap.get(val)"
   ]
  },
  {
   "cell_type": "markdown",
   "id": "65230902",
   "metadata": {},
   "source": [
    "Plot the dataframe with colors"
   ]
  },
  {
   "cell_type": "code",
   "execution_count": 14,
   "id": "9dc09f0a",
   "metadata": {},
   "outputs": [
    {
     "data": {
      "text/html": [
       "<style type=\"text/css\">\n",
       "#T_c9a7b_row0_col0, #T_c9a7b_row1_col0, #T_c9a7b_row2_col1, #T_c9a7b_row3_col1, #T_c9a7b_row4_col1, #T_c9a7b_row5_col2, #T_c9a7b_row6_col1, #T_c9a7b_row7_col1, #T_c9a7b_row8_col0, #T_c9a7b_row9_col0 {\n",
       "  background-color: green;\n",
       "  color: white;\n",
       "}\n",
       "#T_c9a7b_row0_col1, #T_c9a7b_row1_col1, #T_c9a7b_row2_col0, #T_c9a7b_row3_col2, #T_c9a7b_row4_col0, #T_c9a7b_row5_col0, #T_c9a7b_row6_col0, #T_c9a7b_row7_col0, #T_c9a7b_row8_col1, #T_c9a7b_row9_col1 {\n",
       "  background-color: yellow;\n",
       "  color: black;\n",
       "}\n",
       "#T_c9a7b_row0_col2, #T_c9a7b_row1_col2, #T_c9a7b_row2_col2, #T_c9a7b_row3_col0, #T_c9a7b_row4_col2, #T_c9a7b_row5_col1, #T_c9a7b_row6_col2, #T_c9a7b_row7_col2, #T_c9a7b_row8_col2, #T_c9a7b_row9_col2 {\n",
       "  background-color: red;\n",
       "  color: white;\n",
       "}\n",
       "</style>\n",
       "<table id=\"T_c9a7b\">\n",
       "  <thead>\n",
       "    <tr>\n",
       "      <th class=\"index_name level0\" >method</th>\n",
       "      <th id=\"T_c9a7b_level0_col0\" class=\"col_heading level0 col0\" >CP_MT</th>\n",
       "      <th id=\"T_c9a7b_level0_col1\" class=\"col_heading level0 col1\" >CP_ST</th>\n",
       "      <th id=\"T_c9a7b_level0_col2\" class=\"col_heading level0 col2\" >LGBM</th>\n",
       "    </tr>\n",
       "    <tr>\n",
       "      <th class=\"index_name level0\" >cv_cycle</th>\n",
       "      <th class=\"blank col0\" >&nbsp;</th>\n",
       "      <th class=\"blank col1\" >&nbsp;</th>\n",
       "      <th class=\"blank col2\" >&nbsp;</th>\n",
       "    </tr>\n",
       "  </thead>\n",
       "  <tbody>\n",
       "    <tr>\n",
       "      <th id=\"T_c9a7b_level0_row0\" class=\"row_heading level0 row0\" >0</th>\n",
       "      <td id=\"T_c9a7b_row0_col0\" class=\"data row0 col0\" >1</td>\n",
       "      <td id=\"T_c9a7b_row0_col1\" class=\"data row0 col1\" >2</td>\n",
       "      <td id=\"T_c9a7b_row0_col2\" class=\"data row0 col2\" >3</td>\n",
       "    </tr>\n",
       "    <tr>\n",
       "      <th id=\"T_c9a7b_level0_row1\" class=\"row_heading level0 row1\" >1</th>\n",
       "      <td id=\"T_c9a7b_row1_col0\" class=\"data row1 col0\" >1</td>\n",
       "      <td id=\"T_c9a7b_row1_col1\" class=\"data row1 col1\" >2</td>\n",
       "      <td id=\"T_c9a7b_row1_col2\" class=\"data row1 col2\" >3</td>\n",
       "    </tr>\n",
       "    <tr>\n",
       "      <th id=\"T_c9a7b_level0_row2\" class=\"row_heading level0 row2\" >2</th>\n",
       "      <td id=\"T_c9a7b_row2_col0\" class=\"data row2 col0\" >2</td>\n",
       "      <td id=\"T_c9a7b_row2_col1\" class=\"data row2 col1\" >1</td>\n",
       "      <td id=\"T_c9a7b_row2_col2\" class=\"data row2 col2\" >3</td>\n",
       "    </tr>\n",
       "    <tr>\n",
       "      <th id=\"T_c9a7b_level0_row3\" class=\"row_heading level0 row3\" >3</th>\n",
       "      <td id=\"T_c9a7b_row3_col0\" class=\"data row3 col0\" >3</td>\n",
       "      <td id=\"T_c9a7b_row3_col1\" class=\"data row3 col1\" >1</td>\n",
       "      <td id=\"T_c9a7b_row3_col2\" class=\"data row3 col2\" >2</td>\n",
       "    </tr>\n",
       "    <tr>\n",
       "      <th id=\"T_c9a7b_level0_row4\" class=\"row_heading level0 row4\" >4</th>\n",
       "      <td id=\"T_c9a7b_row4_col0\" class=\"data row4 col0\" >2</td>\n",
       "      <td id=\"T_c9a7b_row4_col1\" class=\"data row4 col1\" >1</td>\n",
       "      <td id=\"T_c9a7b_row4_col2\" class=\"data row4 col2\" >3</td>\n",
       "    </tr>\n",
       "    <tr>\n",
       "      <th id=\"T_c9a7b_level0_row5\" class=\"row_heading level0 row5\" >5</th>\n",
       "      <td id=\"T_c9a7b_row5_col0\" class=\"data row5 col0\" >2</td>\n",
       "      <td id=\"T_c9a7b_row5_col1\" class=\"data row5 col1\" >3</td>\n",
       "      <td id=\"T_c9a7b_row5_col2\" class=\"data row5 col2\" >1</td>\n",
       "    </tr>\n",
       "    <tr>\n",
       "      <th id=\"T_c9a7b_level0_row6\" class=\"row_heading level0 row6\" >6</th>\n",
       "      <td id=\"T_c9a7b_row6_col0\" class=\"data row6 col0\" >2</td>\n",
       "      <td id=\"T_c9a7b_row6_col1\" class=\"data row6 col1\" >1</td>\n",
       "      <td id=\"T_c9a7b_row6_col2\" class=\"data row6 col2\" >3</td>\n",
       "    </tr>\n",
       "    <tr>\n",
       "      <th id=\"T_c9a7b_level0_row7\" class=\"row_heading level0 row7\" >7</th>\n",
       "      <td id=\"T_c9a7b_row7_col0\" class=\"data row7 col0\" >2</td>\n",
       "      <td id=\"T_c9a7b_row7_col1\" class=\"data row7 col1\" >1</td>\n",
       "      <td id=\"T_c9a7b_row7_col2\" class=\"data row7 col2\" >3</td>\n",
       "    </tr>\n",
       "    <tr>\n",
       "      <th id=\"T_c9a7b_level0_row8\" class=\"row_heading level0 row8\" >8</th>\n",
       "      <td id=\"T_c9a7b_row8_col0\" class=\"data row8 col0\" >1</td>\n",
       "      <td id=\"T_c9a7b_row8_col1\" class=\"data row8 col1\" >2</td>\n",
       "      <td id=\"T_c9a7b_row8_col2\" class=\"data row8 col2\" >3</td>\n",
       "    </tr>\n",
       "    <tr>\n",
       "      <th id=\"T_c9a7b_level0_row9\" class=\"row_heading level0 row9\" >9</th>\n",
       "      <td id=\"T_c9a7b_row9_col0\" class=\"data row9 col0\" >1</td>\n",
       "      <td id=\"T_c9a7b_row9_col1\" class=\"data row9 col1\" >2</td>\n",
       "      <td id=\"T_c9a7b_row9_col2\" class=\"data row9 col2\" >3</td>\n",
       "    </tr>\n",
       "  </tbody>\n",
       "</table>\n"
      ],
      "text/plain": [
       "<pandas.io.formats.style.Styler at 0x28cfdd970>"
      ]
     },
     "execution_count": 14,
     "metadata": {},
     "output_type": "execute_result"
    }
   ],
   "source": [
    "rank_df.style.applymap(color_vals)"
   ]
  },
  {
   "cell_type": "markdown",
   "id": "ed267336",
   "metadata": {},
   "source": [
    "Calculate the rank sums"
   ]
  },
  {
   "cell_type": "code",
   "execution_count": 18,
   "id": "95646d46",
   "metadata": {},
   "outputs": [
    {
     "data": {
      "text/html": [
       "<style type=\"text/css\">\n",
       "#T_0faf7_row0_col0, #T_0faf7_row1_col0, #T_0faf7_row2_col1, #T_0faf7_row3_col1, #T_0faf7_row4_col1, #T_0faf7_row5_col2, #T_0faf7_row6_col1, #T_0faf7_row7_col1, #T_0faf7_row8_col0, #T_0faf7_row9_col0 {\n",
       "  background-color: green;\n",
       "  color: white;\n",
       "}\n",
       "#T_0faf7_row0_col1, #T_0faf7_row1_col1, #T_0faf7_row2_col0, #T_0faf7_row3_col2, #T_0faf7_row4_col0, #T_0faf7_row5_col0, #T_0faf7_row6_col0, #T_0faf7_row7_col0, #T_0faf7_row8_col1, #T_0faf7_row9_col1 {\n",
       "  background-color: yellow;\n",
       "  color: black;\n",
       "}\n",
       "#T_0faf7_row0_col2, #T_0faf7_row1_col2, #T_0faf7_row2_col2, #T_0faf7_row3_col0, #T_0faf7_row4_col2, #T_0faf7_row5_col1, #T_0faf7_row6_col2, #T_0faf7_row7_col2, #T_0faf7_row8_col2, #T_0faf7_row9_col2 {\n",
       "  background-color: red;\n",
       "  color: white;\n",
       "}\n",
       "</style>\n",
       "<table id=\"T_0faf7\">\n",
       "  <thead>\n",
       "    <tr>\n",
       "      <th class=\"index_name level0\" >method</th>\n",
       "      <th id=\"T_0faf7_level0_col0\" class=\"col_heading level0 col0\" >CP_MT</th>\n",
       "      <th id=\"T_0faf7_level0_col1\" class=\"col_heading level0 col1\" >CP_ST</th>\n",
       "      <th id=\"T_0faf7_level0_col2\" class=\"col_heading level0 col2\" >LGBM</th>\n",
       "    </tr>\n",
       "    <tr>\n",
       "      <th class=\"index_name level0\" >cv_cycle</th>\n",
       "      <th class=\"blank col0\" >&nbsp;</th>\n",
       "      <th class=\"blank col1\" >&nbsp;</th>\n",
       "      <th class=\"blank col2\" >&nbsp;</th>\n",
       "    </tr>\n",
       "  </thead>\n",
       "  <tbody>\n",
       "    <tr>\n",
       "      <th id=\"T_0faf7_level0_row0\" class=\"row_heading level0 row0\" >0</th>\n",
       "      <td id=\"T_0faf7_row0_col0\" class=\"data row0 col0\" >1</td>\n",
       "      <td id=\"T_0faf7_row0_col1\" class=\"data row0 col1\" >2</td>\n",
       "      <td id=\"T_0faf7_row0_col2\" class=\"data row0 col2\" >3</td>\n",
       "    </tr>\n",
       "    <tr>\n",
       "      <th id=\"T_0faf7_level0_row1\" class=\"row_heading level0 row1\" >1</th>\n",
       "      <td id=\"T_0faf7_row1_col0\" class=\"data row1 col0\" >1</td>\n",
       "      <td id=\"T_0faf7_row1_col1\" class=\"data row1 col1\" >2</td>\n",
       "      <td id=\"T_0faf7_row1_col2\" class=\"data row1 col2\" >3</td>\n",
       "    </tr>\n",
       "    <tr>\n",
       "      <th id=\"T_0faf7_level0_row2\" class=\"row_heading level0 row2\" >2</th>\n",
       "      <td id=\"T_0faf7_row2_col0\" class=\"data row2 col0\" >2</td>\n",
       "      <td id=\"T_0faf7_row2_col1\" class=\"data row2 col1\" >1</td>\n",
       "      <td id=\"T_0faf7_row2_col2\" class=\"data row2 col2\" >3</td>\n",
       "    </tr>\n",
       "    <tr>\n",
       "      <th id=\"T_0faf7_level0_row3\" class=\"row_heading level0 row3\" >3</th>\n",
       "      <td id=\"T_0faf7_row3_col0\" class=\"data row3 col0\" >3</td>\n",
       "      <td id=\"T_0faf7_row3_col1\" class=\"data row3 col1\" >1</td>\n",
       "      <td id=\"T_0faf7_row3_col2\" class=\"data row3 col2\" >2</td>\n",
       "    </tr>\n",
       "    <tr>\n",
       "      <th id=\"T_0faf7_level0_row4\" class=\"row_heading level0 row4\" >4</th>\n",
       "      <td id=\"T_0faf7_row4_col0\" class=\"data row4 col0\" >2</td>\n",
       "      <td id=\"T_0faf7_row4_col1\" class=\"data row4 col1\" >1</td>\n",
       "      <td id=\"T_0faf7_row4_col2\" class=\"data row4 col2\" >3</td>\n",
       "    </tr>\n",
       "    <tr>\n",
       "      <th id=\"T_0faf7_level0_row5\" class=\"row_heading level0 row5\" >5</th>\n",
       "      <td id=\"T_0faf7_row5_col0\" class=\"data row5 col0\" >2</td>\n",
       "      <td id=\"T_0faf7_row5_col1\" class=\"data row5 col1\" >3</td>\n",
       "      <td id=\"T_0faf7_row5_col2\" class=\"data row5 col2\" >1</td>\n",
       "    </tr>\n",
       "    <tr>\n",
       "      <th id=\"T_0faf7_level0_row6\" class=\"row_heading level0 row6\" >6</th>\n",
       "      <td id=\"T_0faf7_row6_col0\" class=\"data row6 col0\" >2</td>\n",
       "      <td id=\"T_0faf7_row6_col1\" class=\"data row6 col1\" >1</td>\n",
       "      <td id=\"T_0faf7_row6_col2\" class=\"data row6 col2\" >3</td>\n",
       "    </tr>\n",
       "    <tr>\n",
       "      <th id=\"T_0faf7_level0_row7\" class=\"row_heading level0 row7\" >7</th>\n",
       "      <td id=\"T_0faf7_row7_col0\" class=\"data row7 col0\" >2</td>\n",
       "      <td id=\"T_0faf7_row7_col1\" class=\"data row7 col1\" >1</td>\n",
       "      <td id=\"T_0faf7_row7_col2\" class=\"data row7 col2\" >3</td>\n",
       "    </tr>\n",
       "    <tr>\n",
       "      <th id=\"T_0faf7_level0_row8\" class=\"row_heading level0 row8\" >8</th>\n",
       "      <td id=\"T_0faf7_row8_col0\" class=\"data row8 col0\" >1</td>\n",
       "      <td id=\"T_0faf7_row8_col1\" class=\"data row8 col1\" >2</td>\n",
       "      <td id=\"T_0faf7_row8_col2\" class=\"data row8 col2\" >3</td>\n",
       "    </tr>\n",
       "    <tr>\n",
       "      <th id=\"T_0faf7_level0_row9\" class=\"row_heading level0 row9\" >9</th>\n",
       "      <td id=\"T_0faf7_row9_col0\" class=\"data row9 col0\" >1</td>\n",
       "      <td id=\"T_0faf7_row9_col1\" class=\"data row9 col1\" >2</td>\n",
       "      <td id=\"T_0faf7_row9_col2\" class=\"data row9 col2\" >3</td>\n",
       "    </tr>\n",
       "    <tr>\n",
       "      <th id=\"T_0faf7_level0_row10\" class=\"row_heading level0 row10\" >sum</th>\n",
       "      <td id=\"T_0faf7_row10_col0\" class=\"data row10 col0\" >17</td>\n",
       "      <td id=\"T_0faf7_row10_col1\" class=\"data row10 col1\" >16</td>\n",
       "      <td id=\"T_0faf7_row10_col2\" class=\"data row10 col2\" >27</td>\n",
       "    </tr>\n",
       "  </tbody>\n",
       "</table>\n"
      ],
      "text/plain": [
       "<pandas.io.formats.style.Styler at 0x28d29b850>"
      ]
     },
     "execution_count": 18,
     "metadata": {},
     "output_type": "execute_result"
    }
   ],
   "source": [
    "rank_df.loc['sum']= rank_df.sum()\n",
    "rank_df.style.applymap(color_vals)"
   ]
  },
  {
   "cell_type": "markdown",
   "id": "4b0b9d9a",
   "metadata": {},
   "source": [
    "Define terms for Friedman's test"
   ]
  },
  {
   "cell_type": "code",
   "execution_count": 20,
   "id": "3d226ea6",
   "metadata": {},
   "outputs": [
    {
     "data": {
      "text/plain": [
       "(10, 3, array([17, 16, 27]))"
      ]
     },
     "execution_count": 20,
     "metadata": {},
     "output_type": "execute_result"
    }
   ],
   "source": [
    "N = 10 # number of cv cycle\n",
    "k = 3 # number of methods\n",
    "R = rank_df.loc[\"sum\"].values # rank sums\n",
    "N,k,R"
   ]
  },
  {
   "cell_type": "markdown",
   "id": "fd01878c",
   "metadata": {},
   "source": [
    "$\\Large\\chi^2=\\frac{12}{N*k*(k+1)}*\\sum{R^2}-3*N*(k+1)$\n",
    "$\\Large\\chi^2=\\frac{12}{10*3*(3+1)}*(17^2+16^2+27^2)-3*10*(3+1)$  \n",
    "$\\Large\\chi^2=7.4$"
   ]
  },
  {
   "cell_type": "markdown",
   "id": "17a320cb",
   "metadata": {},
   "source": [
    "Set decimals for display"
   ]
  },
  {
   "cell_type": "code",
   "execution_count": 21,
   "id": "6d3e528d",
   "metadata": {},
   "outputs": [
    {
     "data": {
      "text/plain": [
       "'%.2f'"
      ]
     },
     "execution_count": 21,
     "metadata": {},
     "output_type": "execute_result"
    }
   ],
   "source": [
    "%precision 2"
   ]
  },
  {
   "cell_type": "markdown",
   "id": "335461ca",
   "metadata": {},
   "source": [
    "Calculate Friedman's $\\Large\\chi^2$"
   ]
  },
  {
   "cell_type": "code",
   "execution_count": 22,
   "id": "372cc677",
   "metadata": {},
   "outputs": [
    {
     "data": {
      "text/plain": [
       "7.40"
      ]
     },
     "execution_count": 22,
     "metadata": {},
     "output_type": "execute_result"
    }
   ],
   "source": [
    "chi_square_value = (12/(N*k*(k+1)))*sum(R**2)-(3*N*(k+1))\n",
    "chi_square_value"
   ]
  },
  {
   "cell_type": "markdown",
   "id": "527eeba7",
   "metadata": {},
   "source": [
    "Plot "
   ]
  },
  {
   "cell_type": "code",
   "execution_count": 32,
   "id": "eed0e208",
   "metadata": {},
   "outputs": [
    {
     "data": {
      "text/plain": [
       "Text(0, 0.5, 'p')"
      ]
     },
     "execution_count": 32,
     "metadata": {},
     "output_type": "execute_result"
    },
    {
     "data": {
      "image/png": "[encoded data removed]",
      "text/plain": [
       "<Figure size 640x480 with 1 Axes>"
      ]
     },
     "metadata": {},
     "output_type": "display_data"
    }
   ],
   "source": [
    "import numpy as np\n",
    "x = np.arange(0, 20, 0.001)\n",
    "ax = sns.lineplot(x=x,y=1-stats.chi2.cdf(x, df=2))\n",
    "ax.axvline(7.4,ls=\"--\")\n",
    "ax.set_xlabel(\"$\\chi^2$\")\n",
    "ax.set_ylabel(\"p\")"
   ]
  },
  {
   "cell_type": "markdown",
   "id": "05a7d66c",
   "metadata": {},
   "source": [
    "Convert $\\Large\\chi^2$ to a p-values"
   ]
  },
  {
   "cell_type": "code",
   "execution_count": 81,
   "id": "5cc6dc78",
   "metadata": {},
   "outputs": [
    {
     "data": {
      "text/plain": [
       "0.02"
      ]
     },
     "execution_count": 81,
     "metadata": {},
     "output_type": "execute_result"
    }
   ],
   "source": [
    "from scipy import stats\n",
    "degrees_of_freedom = k-1\n",
    "p_value = 1-stats.chi2.cdf(chi_square_value, degrees_of_freedom)\n",
    "p_value"
   ]
  },
  {
   "cell_type": "markdown",
   "id": "f951ea4b",
   "metadata": {},
   "source": [
    "Calculate Friedman's $\\Large\\chi^2$ with [pingouin](https://pingouin-stats.org/build/html/index.html)"
   ]
  },
  {
   "cell_type": "code",
   "execution_count": 82,
   "id": "ab19377a",
   "metadata": {},
   "outputs": [
    {
     "data": {
      "text/html": [
       "<div>\n",
       "<style scoped>\n",
       "    .dataframe tbody tr th:only-of-type {\n",
       "        vertical-align: middle;\n",
       "    }\n",
       "\n",
       "    .dataframe tbody tr th {\n",
       "        vertical-align: top;\n",
       "    }\n",
       "\n",
       "    .dataframe thead th {\n",
       "        text-align: right;\n",
       "    }\n",
       "</style>\n",
       "<table border=\"1\" class=\"dataframe\">\n",
       "  <thead>\n",
       "    <tr style=\"text-align: right;\">\n",
       "      <th></th>\n",
       "      <th>Source</th>\n",
       "      <th>W</th>\n",
       "      <th>ddof1</th>\n",
       "      <th>Q</th>\n",
       "      <th>p-unc</th>\n",
       "    </tr>\n",
       "  </thead>\n",
       "  <tbody>\n",
       "    <tr>\n",
       "      <th>Friedman</th>\n",
       "      <td>Within</td>\n",
       "      <td>0.37</td>\n",
       "      <td>2</td>\n",
       "      <td>7.4</td>\n",
       "      <td>0.024724</td>\n",
       "    </tr>\n",
       "  </tbody>\n",
       "</table>\n",
       "</div>"
      ],
      "text/plain": [
       "          Source     W  ddof1    Q     p-unc\n",
       "Friedman  Within  0.37      2  7.4  0.024724"
      ]
     },
     "execution_count": 82,
     "metadata": {},
     "output_type": "execute_result"
    }
   ],
   "source": [
    "import pingouin as pg\n",
    "pg.friedman(df_auc)"
   ]
  },
  {
   "cell_type": "markdown",
   "id": "484c1d7d",
   "metadata": {},
   "source": [
    "Calculate Friedman's $\\Large\\chi^2$ with [scipy](https://scipy.org/)"
   ]
  },
  {
   "cell_type": "code",
   "execution_count": 83,
   "id": "72ddf46b",
   "metadata": {},
   "outputs": [
    {
     "data": {
      "text/plain": [
       "FriedmanchisquareResult(statistic=7.400000000000006, pvalue=0.02472352647033933)"
      ]
     },
     "execution_count": 83,
     "metadata": {},
     "output_type": "execute_result"
    }
   ],
   "source": [
    "from scipy.stats import friedmanchisquare\n",
    "friedmanchisquare(*df_auc.to_numpy().T)"
   ]
  },
  {
   "cell_type": "markdown",
   "id": "9b11460f",
   "metadata": {},
   "source": [
    "Perform a post-hoc test with [scikit-posthocs](https://scikit-posthocs.readthedocs.io/en/latest/) using the Conover-Friedman test"
   ]
  },
  {
   "cell_type": "code",
   "execution_count": 84,
   "id": "591c58fe",
   "metadata": {},
   "outputs": [
    {
     "data": {
      "text/html": [
       "<div>\n",
       "<style scoped>\n",
       "    .dataframe tbody tr th:only-of-type {\n",
       "        vertical-align: middle;\n",
       "    }\n",
       "\n",
       "    .dataframe tbody tr th {\n",
       "        vertical-align: top;\n",
       "    }\n",
       "\n",
       "    .dataframe thead th {\n",
       "        text-align: right;\n",
       "    }\n",
       "</style>\n",
       "<table border=\"1\" class=\"dataframe\">\n",
       "  <thead>\n",
       "    <tr style=\"text-align: right;\">\n",
       "      <th></th>\n",
       "      <th>CP_MT</th>\n",
       "      <th>CP_ST</th>\n",
       "      <th>LGBM</th>\n",
       "    </tr>\n",
       "  </thead>\n",
       "  <tbody>\n",
       "    <tr>\n",
       "      <th>CP_MT</th>\n",
       "      <td>1.00</td>\n",
       "      <td>0.83</td>\n",
       "      <td>0.08</td>\n",
       "    </tr>\n",
       "    <tr>\n",
       "      <th>CP_ST</th>\n",
       "      <td>0.83</td>\n",
       "      <td>1.00</td>\n",
       "      <td>0.07</td>\n",
       "    </tr>\n",
       "    <tr>\n",
       "      <th>LGBM</th>\n",
       "      <td>0.08</td>\n",
       "      <td>0.07</td>\n",
       "      <td>1.00</td>\n",
       "    </tr>\n",
       "  </tbody>\n",
       "</table>\n",
       "</div>"
      ],
      "text/plain": [
       "       CP_MT  CP_ST  LGBM\n",
       "CP_MT   1.00   0.83  0.08\n",
       "CP_ST   0.83   1.00  0.07\n",
       "LGBM    0.08   0.07  1.00"
      ]
     },
     "execution_count": 84,
     "metadata": {},
     "output_type": "execute_result"
    }
   ],
   "source": [
    "pc = sp.posthoc_conover_friedman(df_auc_long, y_col=\"roc_auc\", \n",
    "                                 group_col=\"method\", block_col=\"cv_cycle\",\n",
    "                                 p_adjust=\"holm\", melted=True)\n",
    "pc.round(2)"
   ]
  },
  {
   "cell_type": "markdown",
   "id": "0a65aaac",
   "metadata": {},
   "source": [
    "Plot a sign plot"
   ]
  },
  {
   "cell_type": "code",
   "execution_count": 85,
   "id": "5ead7466",
   "metadata": {},
   "outputs": [
    {
     "data": {
      "image/png": "[encoded data removed]",
      "text/plain": [
       "<Figure size 800x600 with 2 Axes>"
      ]
     },
     "metadata": {},
     "output_type": "display_data"
    }
   ],
   "source": [
    "heatmap_args = {'linewidths': 0.25, 'linecolor': '0.5', 'clip_on': True, 'square': True}\n",
    "sns.set(rc={'figure.figsize': (8, 6)}, font_scale=1.5)\n",
    "sp.sign_plot(pc, **heatmap_args);"
   ]
  },
  {
   "cell_type": "markdown",
   "id": "d1db533d",
   "metadata": {},
   "source": [
    "Perform a posthoc test with the Wilcoxon rank sum test"
   ]
  },
  {
   "cell_type": "code",
   "execution_count": 95,
   "id": "476131b8",
   "metadata": {},
   "outputs": [
    {
     "data": {
      "text/html": [
       "<div>\n",
       "<style scoped>\n",
       "    .dataframe tbody tr th:only-of-type {\n",
       "        vertical-align: middle;\n",
       "    }\n",
       "\n",
       "    .dataframe tbody tr th {\n",
       "        vertical-align: top;\n",
       "    }\n",
       "\n",
       "    .dataframe thead th {\n",
       "        text-align: right;\n",
       "    }\n",
       "</style>\n",
       "<table border=\"1\" class=\"dataframe\">\n",
       "  <thead>\n",
       "    <tr style=\"text-align: right;\">\n",
       "      <th></th>\n",
       "      <th>CP_MT</th>\n",
       "      <th>CP_ST</th>\n",
       "      <th>LGBM</th>\n",
       "    </tr>\n",
       "  </thead>\n",
       "  <tbody>\n",
       "    <tr>\n",
       "      <th>CP_MT</th>\n",
       "      <td>1.00</td>\n",
       "      <td>1.00</td>\n",
       "      <td>0.06</td>\n",
       "    </tr>\n",
       "    <tr>\n",
       "      <th>CP_ST</th>\n",
       "      <td>1.00</td>\n",
       "      <td>1.00</td>\n",
       "      <td>0.07</td>\n",
       "    </tr>\n",
       "    <tr>\n",
       "      <th>LGBM</th>\n",
       "      <td>0.06</td>\n",
       "      <td>0.07</td>\n",
       "      <td>1.00</td>\n",
       "    </tr>\n",
       "  </tbody>\n",
       "</table>\n",
       "</div>"
      ],
      "text/plain": [
       "       CP_MT  CP_ST  LGBM\n",
       "CP_MT   1.00   1.00  0.06\n",
       "CP_ST   1.00   1.00  0.07\n",
       "LGBM    0.06   0.07  1.00"
      ]
     },
     "execution_count": 95,
     "metadata": {},
     "output_type": "execute_result"
    }
   ],
   "source": [
    "pc = sp.posthoc_wilcoxon(df_auc_long, val_col=\"roc_auc\", \n",
    "                                 group_col=\"method\",\n",
    "                                 p_adjust=\"holm\")\n",
    "pc.round(2)"
   ]
  },
  {
   "cell_type": "code",
   "execution_count": 87,
   "id": "896b6d60",
   "metadata": {},
   "outputs": [
    {
     "data": {
      "image/png": "[encoded data removed]",
      "text/plain": [
       "<Figure size 800x600 with 2 Axes>"
      ]
     },
     "metadata": {},
     "output_type": "display_data"
    }
   ],
   "source": [
    "heatmap_args = {'linewidths': 0.25, 'linecolor': '0.5', 'clip_on': True, 'square': True}\n",
    "sns.set(rc={'figure.figsize': (8, 6)}, font_scale=1.5)\n",
    "sp.sign_plot(pc, **heatmap_args);"
   ]
  },
  {
   "cell_type": "code",
   "execution_count": null,
   "id": "71f18a1e",
   "metadata": {},
   "outputs": [],
   "source": []
  },
  {
   "cell_type": "code",
   "execution_count": null,
   "id": "95d04975",
   "metadata": {},
   "outputs": [],
   "source": []
  },
  {
   "cell_type": "code",
   "execution_count": null,
   "id": "b7df136f",
   "metadata": {},
   "outputs": [],
   "source": []
  }
 ],
 "metadata": {
  "kernelspec": {
   "display_name": "Python 3 (ipykernel)",
   "language": "python",
   "name": "python3"
  },
  "language_info": {
   "codemirror_mode": {
    "name": "ipython",
    "version": 3
   },
   "file_extension": ".py",
   "mimetype": "text/x-python",
   "name": "python",
   "nbconvert_exporter": "python",
   "pygments_lexer": "ipython3",
   "version": "3.8.16"
  }
 },
 "nbformat": 4,
 "nbformat_minor": 5
}
