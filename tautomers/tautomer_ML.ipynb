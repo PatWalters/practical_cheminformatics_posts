{
 "cells": [
  {
   "cell_type": "markdown",
   "id": "bf977dfd-2951-40d4-b1e9-55d12d928d6d",
   "metadata": {},
   "source": [
    "### Overview \n",
    "One factor rarely considered when generating machine learning (ML) predictions for small molecules in drug discovery is the influence of tautomers on the predictions. Tautomers have differing molecular connectivity and will generate different molecular representations. This is true regardless of whether an ML model is generated from molecular fingerprints, topological descriptors, or a message-passing neural network (MPNN). These different representations can generate different predicted values from an ML model. However, it should also be noted that ML predictions are also a function of the molecules used to train the ML model. Different train/test splits will produce different predictions for the same molecule. I was curious whether the influence of tautomers on an ML prediction was more significant than that of the training set.\n",
    "\n",
    "To investigate this, I compared the prediction variability over 10 train/test splits with the variability introduced by making predictions on dissimilar tautomers. I performed 10 train/test splits of the same dataset and collected the test set predictions. Since we performed a random split, the training and test set composition changed at each iteration. As such, the same molecule could potentially different predicted value at each iteration. Since we performed a 75/25 train/test split, each molecule was tested an average of 2.6 times during the 10 iterations.\n",
    "\n",
    "As a comparator, I generated the two most different tautomers for each molecule and generated a Morgan fingerprint for each. I then repeated the 10 train/test splits and calcuated the difference between the values predicted for each tautomer at each iteration. After these calculations, we will have two distributions.\n",
    "1. A collection of deltas over 10 train/test splits\n",
    "2. A collection of prediction deltas for tautomer pairs\n",
    "   \n",
    "Finally, I compared the prediction range (max-min) over 10 train/test splits with the average prediction difference between two tautomers over 10 iterations. By plotting these distributions, we can understand whether prediction changes due to tautomer differences are larger than changes due to training set composition.\n"
   ]
  },
  {
   "cell_type": "code",
   "execution_count": 37,
   "id": "6345649e-a284-4948-842b-f655d0447a88",
   "metadata": {},
   "outputs": [],
   "source": [
    "import pandas as pd\n",
    "import useful_rdkit_utils as uru\n",
    "from sklearn.model_selection import train_test_split\n",
    "from tqdm.auto import tqdm\n",
    "from lightgbm import LGBMRegressor\n",
    "import numpy as np\n",
    "import seaborn as sns\n",
    "from rdkit.Chem.MolStandardize import rdMolStandardize\n",
    "from rdkit import Chem, DataStructs\n",
    "from itertools import combinations\n",
    "from rdkit import rdBase\n",
    "import warnings\n",
    "from scipy.stats import ttest_ind"
   ]
  },
  {
   "cell_type": "markdown",
   "id": "77914f52-65b0-4f06-8515-32a9a2770451",
   "metadata": {},
   "source": [
    "### Support Functions\n",
    "A simple wrapper around the RDKit tautomer generation capability. "
   ]
  },
  {
   "cell_type": "code",
   "execution_count": 49,
   "id": "5e8e6d04-0add-424d-884f-a75c0d683090",
   "metadata": {},
   "outputs": [],
   "source": [
    "class TautomerGenerator:\n",
    "    def __init__(self):\n",
    "       self.enumerator = rdMolStandardize.TautomerEnumerator()\n",
    "\n",
    "    def get_canonical_tautomer_smiles(self, smi):\n",
    "        mol = Chem.MolFromSmiles(smi)\n",
    "        if mol:\n",
    "            can_taut_mol = self.enumerator.Canonicalize(mol)\n",
    "            return Chem.MolToSmiles(can_taut_mol)\n",
    "        return None\n",
    "\n",
    "    def get_tautomer_smiles(self, smi):\n",
    "        mol = Chem.MolFromSmiles(smi)\n",
    "        if mol:\n",
    "            tauts = self.enumerator.Enumerate(mol)\n",
    "            return [Chem.MolToSmiles(x) for x in tauts]\n",
    "        return None\n",
    "\n",
    "    def get_least_similar_tautomer_pair(self, smi):\n",
    "        smi_list = self.get_tautomer_smiles(smi)\n",
    "        fpgen = uru.Smi2Fp()\n",
    "        fp_list = [fpgen.get_fp(x) for x in smi_list]\n",
    "        min_sim = 1.0\n",
    "        min_smiles = [smi,smi]\n",
    "        for (fp_a,smi_a), (fp_b,smi_b) in combinations(zip(fp_list,smi_list),2):\n",
    "            sim_val = DataStructs.TanimotoSimilarity(fp_a,fp_b)\n",
    "            if sim_val < min_sim:\n",
    "                min_sim = sim_val\n",
    "                min_smiles = [smi_a,smi_b]\n",
    "        return [min_sim] + min_smiles + [len(smi_list)]\n",
    "\n",
    "    def pandas_canonical_tautomers(self, df, smiles_col=\"SMILES\"):\n",
    "        tautomer_data = df[smiles_col].progress_apply(self.get_canonical_tautomer_smiles).to_list()        \n",
    "        name_list = [\"canonical_tautomer_SMILES\"]\n",
    "        return pd.DataFrame(tautomer_data,columns=name_list) \n",
    "\n",
    "    def pandas_least_similar_tautomers(self, df, smiles_col=\"SMILES\"):\n",
    "        tautomer_data = df[smiles_col].progress_apply(self.get_least_similar_tautomer_pair).to_list()\n",
    "        name_list = [\"tautomer_sim\",\"taut_SMILES_1\",\"taut_SMILES_2\",\"num_tautomers\"]\n",
    "        return pd.DataFrame(tautomer_data,columns=name_list) "
   ]
  },
  {
   "cell_type": "markdown",
   "id": "3de6898e-eacf-4587-ac7c-bdb2c2482671",
   "metadata": {},
   "source": [
    "A simple function to train a machine learning models and store the results in the **test** dataframe. "
   ]
  },
  {
   "cell_type": "code",
   "execution_count": null,
   "id": "d1933aab-948a-4e7c-aa7c-a08556816da5",
   "metadata": {},
   "outputs": [],
   "source": [
    "def build_lgbm_model(train, test, descriptor_col, truth_col, result_col):\n",
    "    model = LGBMRegressor(verbose=-1)\n",
    "    with warnings.catch_warnings():\n",
    "        warnings.simplefilter(\"ignore\")\n",
    "        model.fit(np.stack(train[descriptor_col]), train[truth_col])\n",
    "        test[result_col] = model.predict(np.stack(test[descriptor_col]), truth_col)"
   ]
  },
  {
   "cell_type": "markdown",
   "id": "2b4bc656-97a3-4160-96a9-7b36626c2940",
   "metadata": {},
   "source": [
    "Enable progress bars in Pandas"
   ]
  },
  {
   "cell_type": "code",
   "execution_count": 3,
   "id": "9f7ac664-4310-45d4-b0b3-2277beb9d0d3",
   "metadata": {},
   "outputs": [],
   "source": [
    "tqdm.pandas()"
   ]
  },
  {
   "cell_type": "markdown",
   "id": "da88be15-25ca-4589-ba10-00a135c8e983",
   "metadata": {},
   "source": [
    "Read the input data"
   ]
  },
  {
   "cell_type": "code",
   "execution_count": 51,
   "id": "7066ef0c-489b-41b1-8a46-8756721f4dfe",
   "metadata": {},
   "outputs": [],
   "source": [
    "df = pd.read_csv(\"biogen_logS.csv\")"
   ]
  },
  {
   "cell_type": "markdown",
   "id": "25b45b1c-d6f6-4b26-96a1-9a638a2a9d39",
   "metadata": {},
   "source": [
    "### 1. Generate 10 Sets of Machine Learning Predictions\n",
    "In the next section we will compare the variation in predictions for the same molecule over diffent training and test set splits.  We will start with a dataset containing measured solubilities for 2,173 molecules.  This dataset was taken from a [2023 paper](https://pubs.acs.org/doi/abs/10.1021/acs.jcim.3c00160) by Cheng Fang and coworkers at Biogen. We will perform 10 train/test splits and collect the test set predictions for each split.  With this data in hand, we will calcuate the number of times each molecule was predicted as well as the difference (delta) between the maximum and minimum predicted value for each molecule. "
   ]
  },
  {
   "cell_type": "markdown",
   "id": "d5bc327b-2b0d-4f7c-acb2-4698c89a95d7",
   "metadata": {},
   "source": [
    "Generate Morgan fingerprints for each molecule"
   ]
  },
  {
   "cell_type": "code",
   "execution_count": 5,
   "id": "69055bf1-1866-4fad-8453-826e648c805b",
   "metadata": {},
   "outputs": [],
   "source": [
    "smi2fp = uru.Smi2Fp()\n",
    "df['fp'] = df.SMILES.apply(smi2fp.get_np_counts)"
   ]
  },
  {
   "cell_type": "markdown",
   "id": "ae047156-b7eb-48fd-874e-0368c2a76d2b",
   "metadata": {},
   "source": [
    "Perform 10 train/train test splits and collect the test set from 10 cycles. "
   ]
  },
  {
   "cell_type": "code",
   "execution_count": 6,
   "id": "3916ebf7-2e7b-4984-bea0-552abfa7fb87",
   "metadata": {},
   "outputs": [
    {
     "data": {
      "application/vnd.jupyter.widget-view+json": {
       "model_id": "e6dffa6a44a34571b54deba40e9bb94a",
       "version_major": 2,
       "version_minor": 0
      },
      "text/plain": [
       "  0%|          | 0/10 [00:00<?, ?it/s]"
      ]
     },
     "metadata": {},
     "output_type": "display_data"
    }
   ],
   "source": [
    "test_df_list = []\n",
    "for i in tqdm(range(0,10)):\n",
    "    train, test = train_test_split(df)\n",
    "    test = test.copy()\n",
    "    build_lgbm_model(train, test, \"fp\", \"logS\", \"pred\")\n",
    "    test_df_list.append(test)"
   ]
  },
  {
   "cell_type": "markdown",
   "id": "d8238652-b189-4ac8-8a78-e6df67d76a20",
   "metadata": {},
   "source": [
    "Combine the test sets into one dataframe. "
   ]
  },
  {
   "cell_type": "code",
   "execution_count": 7,
   "id": "028bf1b1-f58b-4e0a-aa2d-371238127433",
   "metadata": {},
   "outputs": [],
   "source": [
    "combo_df = pd.concat(test_df_list)"
   ]
  },
  {
   "cell_type": "markdown",
   "id": "c73bfdeb-e371-4d55-a83e-18423d66dfd1",
   "metadata": {},
   "source": [
    "Compute the maximum and minimum predicted value for each test set molecule. "
   ]
  },
  {
   "cell_type": "code",
   "execution_count": 8,
   "id": "d49fbeaa-dff7-4bb6-a917-99c94664a93c",
   "metadata": {},
   "outputs": [],
   "source": [
    "delta_list = []\n",
    "for k,v in combo_df.groupby(\"Internal ID\"):\n",
    "    if len(v) > 0:\n",
    "        delta = max(v.pred) - min(v.pred)\n",
    "        delta_list.append([k,len(v),delta])"
   ]
  },
  {
   "cell_type": "markdown",
   "id": "68a253ae-a93d-4d5e-bd82-1cdec81381df",
   "metadata": {},
   "source": [
    "Put the information collected above into a dataframe  \n",
    "**name** - the molecule name  \n",
    "**num** - the number of times the molecule was used in a test set  \n",
    "**deta** - the difference between the highest and lowest predicted values  "
   ]
  },
  {
   "cell_type": "code",
   "execution_count": 24,
   "id": "0478062e-b48c-4fef-afeb-2d46738c0a85",
   "metadata": {},
   "outputs": [],
   "source": [
    "single_delta_df = pd.DataFrame(delta_list,columns=[\"name\",\"num\",\"delta\"])\n",
    "single_delta_df['dataset'] = 'single'"
   ]
  },
  {
   "cell_type": "markdown",
   "id": "19261451-43ba-48e4-afb6-7fc600b5415f",
   "metadata": {},
   "source": [
    "Plot the number of times each molecule was used over 10 cycles. "
   ]
  },
  {
   "cell_type": "code",
   "execution_count": 53,
   "id": "0caf327c-b750-414f-82ec-ce26026e5cc7",
   "metadata": {},
   "outputs": [
    {
     "data": {
      "text/plain": [
       "2.6484907497565726"
      ]
     },
     "execution_count": 53,
     "metadata": {},
     "output_type": "execute_result"
    }
   ],
   "source": [
    "single_delta_df.num.mean()"
   ]
  },
  {
   "cell_type": "code",
   "execution_count": 87,
   "id": "f6dded54-c677-4a97-b26a-1e4c046a7420",
   "metadata": {},
   "outputs": [
    {
     "data": {
      "image/png": "[encoded data removed]",
      "text/plain": [
       "<Figure size 500x500 with 1 Axes>"
      ]
     },
     "metadata": {},
     "output_type": "display_data"
    }
   ],
   "source": [
    "ax = sns.displot(single_delta_df.num)\n",
    "ax.axes[0][0].set_xlabel(\"Number of Predictions\");"
   ]
  },
  {
   "cell_type": "markdown",
   "id": "77b459f2-03ae-4adb-b065-5a6e29758e0a",
   "metadata": {},
   "source": [
    "Plot the deltas "
   ]
  },
  {
   "cell_type": "code",
   "execution_count": 86,
   "id": "8b9573a6-1e06-437d-88cf-b078ab5a2e2b",
   "metadata": {},
   "outputs": [
    {
     "data": {
      "image/png": "[encoded data removed]",
      "text/plain": [
       "<Figure size 500x500 with 1 Axes>"
      ]
     },
     "metadata": {},
     "output_type": "display_data"
    }
   ],
   "source": [
    "ax = sns.displot(single_delta_df.delta)\n",
    "ax.axes[0][0].set_xlabel(\"Prediction $\\Delta$\");"
   ]
  },
  {
   "cell_type": "markdown",
   "id": "447dd71a-aebb-4a64-8f21-61dee40b2dac",
   "metadata": {},
   "source": [
    "### 2. Compare ML Model Predictions for Tautomers\n",
    "In this section, we will generate a pair of dissimilar tautomers for each molecule.  We will then generate fingerprints and ML model predictions for each of the tautomers.  We then record the difference (delta) between the predictions for the tautomers. \n"
   ]
  },
  {
   "cell_type": "markdown",
   "id": "49156f5c-7147-49dc-beae-0624950eb5ea",
   "metadata": {},
   "source": [
    "Instantiate a TautomerGenerator"
   ]
  },
  {
   "cell_type": "code",
   "execution_count": 12,
   "id": "b0b104d9-db22-4cc4-8795-ac87efd88c26",
   "metadata": {},
   "outputs": [],
   "source": [
    "tautomer_generator = TautomerGenerator()"
   ]
  },
  {
   "cell_type": "markdown",
   "id": "791c68c3-0813-430a-943d-ff6ad1f27705",
   "metadata": {},
   "source": [
    "Generate the least similar tautomer pair for each molecule"
   ]
  },
  {
   "cell_type": "code",
   "execution_count": 13,
   "id": "69d58318-5d04-458c-86e3-885f39e9d0a5",
   "metadata": {},
   "outputs": [
    {
     "data": {
      "application/vnd.jupyter.widget-view+json": {
       "model_id": "28a7eb2adb8c4ab687f2348ebbeb2f2b",
       "version_major": 2,
       "version_minor": 0
      },
      "text/plain": [
       "  0%|          | 0/2173 [00:00<?, ?it/s]"
      ]
     },
     "metadata": {},
     "output_type": "display_data"
    }
   ],
   "source": [
    "with rdBase.BlockLogs():\n",
    "    taut_df = tautomer_generator.pandas_least_similar_tautomers(df)"
   ]
  },
  {
   "cell_type": "markdown",
   "id": "af2802e9-ddb7-4415-937d-e69c8f1398c6",
   "metadata": {},
   "source": [
    "Generate fingerprints for the Tautomers "
   ]
  },
  {
   "cell_type": "code",
   "execution_count": 14,
   "id": "183c38da-bae4-4463-a8ee-9a3f6fe3c49d",
   "metadata": {},
   "outputs": [
    {
     "data": {
      "application/vnd.jupyter.widget-view+json": {
       "model_id": "f3458920f92a4c8895729971b3fe65d6",
       "version_major": 2,
       "version_minor": 0
      },
      "text/plain": [
       "  0%|          | 0/2173 [00:00<?, ?it/s]"
      ]
     },
     "metadata": {},
     "output_type": "display_data"
    },
    {
     "data": {
      "application/vnd.jupyter.widget-view+json": {
       "model_id": "ae02d48aa5974cfb9eb49ff9aa5cf147",
       "version_major": 2,
       "version_minor": 0
      },
      "text/plain": [
       "  0%|          | 0/2173 [00:00<?, ?it/s]"
      ]
     },
     "metadata": {},
     "output_type": "display_data"
    }
   ],
   "source": [
    "taut_df[\"taut_fp_1\"] = taut_df.taut_SMILES_1.progress_apply(smi2fp.get_np_counts)\n",
    "taut_df[\"taut_fp_2\"] = taut_df.taut_SMILES_2.progress_apply(smi2fp.get_np_counts)"
   ]
  },
  {
   "cell_type": "markdown",
   "id": "22853807-75a6-43f7-aed5-18cdc62f4168",
   "metadata": {},
   "source": [
    "Get model predictions for each of the tautomers and store the difference between the predictions in **taut_pred_delta**.  Repeat this 10 times. "
   ]
  },
  {
   "cell_type": "code",
   "execution_count": 68,
   "id": "46107793-5056-4777-887e-6f659f158583",
   "metadata": {},
   "outputs": [
    {
     "data": {
      "application/vnd.jupyter.widget-view+json": {
       "model_id": "3eb39d7c54a140a68dd60e847cac1878",
       "version_major": 2,
       "version_minor": 0
      },
      "text/plain": [
       "  0%|          | 0/10 [00:00<?, ?it/s]"
      ]
     },
     "metadata": {},
     "output_type": "display_data"
    }
   ],
   "source": [
    "taut_df_list = []\n",
    "for i in tqdm(range(0,10)):\n",
    "    taut_df[\"logS\"] = df.logS\n",
    "    taut_df[\"Internal ID\"] = df[\"Internal ID\"]\n",
    "    train, test = train_test_split(taut_df)\n",
    "    test = test.copy()\n",
    "    build_lgbm_model(train, test, \"taut_fp_1\", \"logS\", \"taut_pred_1\")\n",
    "    build_lgbm_model(train, test, \"taut_fp_2\", \"logS\", \"taut_pred_2\")\n",
    "    test[\"taut_pred_delta\"] = np.abs(test.taut_pred_1 - test.taut_pred_2)\n",
    "    taut_df_list.append(test)"
   ]
  },
  {
   "cell_type": "code",
   "execution_count": 64,
   "id": "05626de1-0442-4cc7-aad0-2fb814258a7f",
   "metadata": {},
   "outputs": [
    {
     "data": {
      "text/html": [
       "<div>\n",
       "<style scoped>\n",
       "    .dataframe tbody tr th:only-of-type {\n",
       "        vertical-align: middle;\n",
       "    }\n",
       "\n",
       "    .dataframe tbody tr th {\n",
       "        vertical-align: top;\n",
       "    }\n",
       "\n",
       "    .dataframe thead th {\n",
       "        text-align: right;\n",
       "    }\n",
       "</style>\n",
       "<table border=\"1\" class=\"dataframe\">\n",
       "  <thead>\n",
       "    <tr style=\"text-align: right;\">\n",
       "      <th></th>\n",
       "      <th>tautomer_sim</th>\n",
       "      <th>taut_SMILES_1</th>\n",
       "      <th>taut_SMILES_2</th>\n",
       "      <th>num_tautomers</th>\n",
       "      <th>taut_fp_1</th>\n",
       "      <th>taut_fp_2</th>\n",
       "      <th>logS</th>\n",
       "      <th>Internal ID</th>\n",
       "      <th>taut_pred_1</th>\n",
       "      <th>taut_pred_2</th>\n",
       "      <th>taut_pred_delta</th>\n",
       "    </tr>\n",
       "  </thead>\n",
       "  <tbody>\n",
       "    <tr>\n",
       "      <th>1555</th>\n",
       "      <td>0.392857</td>\n",
       "      <td>CN(C)C(=O)Cn1cc(C(=O)O)ccc1=O</td>\n",
       "      <td>CN(C)C(O)=Cn1cc(C(=O)O)ccc1=O</td>\n",
       "      <td>2</td>\n",
       "      <td>[0, 0, 0, 0, 0, 0, 0, 0, 0, 0, 0, 0, 0, 0, 0, ...</td>\n",
       "      <td>[0, 0, 0, 0, 0, 0, 0, 0, 0, 0, 0, 0, 0, 0, 0, ...</td>\n",
       "      <td>1.323252</td>\n",
       "      <td>Mol1634</td>\n",
       "      <td>1.950951</td>\n",
       "      <td>1.976309</td>\n",
       "      <td>0.025358</td>\n",
       "    </tr>\n",
       "    <tr>\n",
       "      <th>919</th>\n",
       "      <td>1.000000</td>\n",
       "      <td>NCc1cccnc1OCc1ccccc1</td>\n",
       "      <td>NCc1cccnc1OCc1ccccc1</td>\n",
       "      <td>1</td>\n",
       "      <td>[0, 0, 0, 0, 0, 0, 0, 0, 0, 0, 0, 0, 0, 0, 0, ...</td>\n",
       "      <td>[0, 0, 0, 0, 0, 0, 0, 0, 0, 0, 0, 0, 0, 0, 0, ...</td>\n",
       "      <td>1.406370</td>\n",
       "      <td>Mol998</td>\n",
       "      <td>1.482414</td>\n",
       "      <td>1.561304</td>\n",
       "      <td>0.078890</td>\n",
       "    </tr>\n",
       "    <tr>\n",
       "      <th>44</th>\n",
       "      <td>0.337209</td>\n",
       "      <td>O=C(c1ccncc1)N1CCN=C(O)C1c1ccccc1Cl</td>\n",
       "      <td>O=C(c1ccncc1)N1CCNC(O)=C1c1ccccc1Cl</td>\n",
       "      <td>3</td>\n",
       "      <td>[0, 1, 0, 0, 0, 0, 0, 0, 0, 0, 0, 0, 0, 0, 0, ...</td>\n",
       "      <td>[0, 1, 0, 0, 0, 0, 0, 0, 0, 1, 0, 0, 0, 0, 0, ...</td>\n",
       "      <td>1.645422</td>\n",
       "      <td>Mol61</td>\n",
       "      <td>1.550442</td>\n",
       "      <td>1.502149</td>\n",
       "      <td>0.048292</td>\n",
       "    </tr>\n",
       "  </tbody>\n",
       "</table>\n",
       "</div>"
      ],
      "text/plain": [
       "      tautomer_sim                        taut_SMILES_1  \\\n",
       "1555      0.392857        CN(C)C(=O)Cn1cc(C(=O)O)ccc1=O   \n",
       "919       1.000000                 NCc1cccnc1OCc1ccccc1   \n",
       "44        0.337209  O=C(c1ccncc1)N1CCN=C(O)C1c1ccccc1Cl   \n",
       "\n",
       "                            taut_SMILES_2  num_tautomers  \\\n",
       "1555        CN(C)C(O)=Cn1cc(C(=O)O)ccc1=O              2   \n",
       "919                  NCc1cccnc1OCc1ccccc1              1   \n",
       "44    O=C(c1ccncc1)N1CCNC(O)=C1c1ccccc1Cl              3   \n",
       "\n",
       "                                              taut_fp_1  \\\n",
       "1555  [0, 0, 0, 0, 0, 0, 0, 0, 0, 0, 0, 0, 0, 0, 0, ...   \n",
       "919   [0, 0, 0, 0, 0, 0, 0, 0, 0, 0, 0, 0, 0, 0, 0, ...   \n",
       "44    [0, 1, 0, 0, 0, 0, 0, 0, 0, 0, 0, 0, 0, 0, 0, ...   \n",
       "\n",
       "                                              taut_fp_2      logS Internal ID  \\\n",
       "1555  [0, 0, 0, 0, 0, 0, 0, 0, 0, 0, 0, 0, 0, 0, 0, ...  1.323252     Mol1634   \n",
       "919   [0, 0, 0, 0, 0, 0, 0, 0, 0, 0, 0, 0, 0, 0, 0, ...  1.406370      Mol998   \n",
       "44    [0, 1, 0, 0, 0, 0, 0, 0, 0, 1, 0, 0, 0, 0, 0, ...  1.645422       Mol61   \n",
       "\n",
       "      taut_pred_1  taut_pred_2  taut_pred_delta  \n",
       "1555     1.950951     1.976309         0.025358  \n",
       "919      1.482414     1.561304         0.078890  \n",
       "44       1.550442     1.502149         0.048292  "
      ]
     },
     "execution_count": 64,
     "metadata": {},
     "output_type": "execute_result"
    }
   ],
   "source": [
    "test.head(3)"
   ]
  },
  {
   "cell_type": "markdown",
   "id": "ab306c78-1d50-4ece-ab2f-8558c28f47c4",
   "metadata": {},
   "source": [
    "Concatenate the tautomer predictions into a single dataframe. "
   ]
  },
  {
   "cell_type": "code",
   "execution_count": 17,
   "id": "7e5be6c1-e1be-4d1c-a3ba-55629332ccb1",
   "metadata": {},
   "outputs": [],
   "source": [
    "taut_combo_df = pd.concat(taut_df_list)"
   ]
  },
  {
   "cell_type": "markdown",
   "id": "586716b3-3f44-44fe-8718-ca76cbe1d09e",
   "metadata": {},
   "source": [
    "Get the average tautomer prediction delta for each molecule. "
   ]
  },
  {
   "cell_type": "code",
   "execution_count": 54,
   "id": "c7fb05d7-f5e1-457a-813d-f24e83bc07a9",
   "metadata": {},
   "outputs": [],
   "source": [
    "result_list = []\n",
    "for k,v in taut_combo_df.groupby(\"Internal ID\"):\n",
    "    result_list.append([k,len(v),v.taut_pred_delta.mean()])"
   ]
  },
  {
   "cell_type": "code",
   "execution_count": 55,
   "id": "f24587e8-3717-4782-b5c1-ea98d5d16836",
   "metadata": {},
   "outputs": [],
   "source": [
    "tautomer_delta_df = pd.DataFrame(result_list,columns=[\"name\",\"num\",\"delta\"])\n",
    "tautomer_delta_df['dataset'] = 'tautomer'"
   ]
  },
  {
   "cell_type": "markdown",
   "id": "84bc78b0-c545-418f-9793-29a63afd462d",
   "metadata": {},
   "source": [
    "How many times was each molecule evaluated in the tautomer predictions. "
   ]
  },
  {
   "cell_type": "code",
   "execution_count": 66,
   "id": "535f96c1-1bde-4544-b494-480c699a8b90",
   "metadata": {},
   "outputs": [
    {
     "data": {
      "text/plain": [
       "2.6459143968871595"
      ]
     },
     "execution_count": 66,
     "metadata": {},
     "output_type": "execute_result"
    }
   ],
   "source": [
    "tautomer_delta_df.num.mean()"
   ]
  },
  {
   "cell_type": "code",
   "execution_count": 85,
   "id": "3043ba82-c7e5-4325-a838-9f67dfc8aa53",
   "metadata": {},
   "outputs": [
    {
     "data": {
      "image/png": "[encoded data removed]",
      "text/plain": [
       "<Figure size 500x500 with 1 Axes>"
      ]
     },
     "metadata": {},
     "output_type": "display_data"
    }
   ],
   "source": [
    "ax = sns.displot(tautomer_delta_df.num)\n",
    "ax.axes[0][0].set_xlabel(\"Number of Predictions\");"
   ]
  },
  {
   "cell_type": "markdown",
   "id": "0f9535e0-5cf7-4c2b-8437-1c53f60b1a91",
   "metadata": {},
   "source": [
    "Plot the distribution of tautomer deltas"
   ]
  },
  {
   "cell_type": "code",
   "execution_count": 82,
   "id": "19d3f955-759d-4adb-ba5d-067b97d0ac18",
   "metadata": {},
   "outputs": [
    {
     "data": {
      "image/png": "[encoded data removed]",
      "text/plain": [
       "<Figure size 500x500 with 1 Axes>"
      ]
     },
     "metadata": {},
     "output_type": "display_data"
    }
   ],
   "source": [
    "ax = sns.displot(tautomer_delta_df.delta)\n",
    "ax.axes[0][0].set_xlabel(\"Prediction $\\Delta$\");"
   ]
  },
  {
   "cell_type": "markdown",
   "id": "7d39c4c3-0a80-4db2-9f6c-b328026d081f",
   "metadata": {},
   "source": [
    "### 3. Compare Prediction Deltas for Single Molecule Predictions and Tautomer Pair Predictions"
   ]
  },
  {
   "cell_type": "markdown",
   "id": "c1da0862-27c0-4666-8f12-d2a073e85cc1",
   "metadata": {},
   "source": [
    "Concatenate the single predictions and tautomer predictions. "
   ]
  },
  {
   "cell_type": "code",
   "execution_count": 69,
   "id": "57e25e34-1b6f-40bd-975b-56dca7dafb47",
   "metadata": {},
   "outputs": [],
   "source": [
    "combo_delta_df = pd.concat([single_delta_df,tautomer_delta_df])"
   ]
  },
  {
   "cell_type": "markdown",
   "id": "820a98ed-d740-4426-b0e3-57c2fb04813d",
   "metadata": {},
   "source": [
    "Use a boxplot to compare delta distributions for single molecule predictions and tautomer deltas. "
   ]
  },
  {
   "cell_type": "code",
   "execution_count": 71,
   "id": "27643499-f1fa-4ea7-808a-ade726c1bd8e",
   "metadata": {},
   "outputs": [
    {
     "data": {
      "text/plain": [
       "Text(0, 0.5, 'Prediction $\\\\Delta$')"
      ]
     },
     "execution_count": 71,
     "metadata": {},
     "output_type": "execute_result"
    },
    {
     "data": {
      "image/png": "[encoded data removed]",
      "text/plain": [
       "<Figure size 640x480 with 1 Axes>"
      ]
     },
     "metadata": {},
     "output_type": "display_data"
    }
   ],
   "source": [
    "ax = sns.boxplot(x=\"dataset\",y=\"delta\",data=combo_delta_df,notch=True)\n",
    "ax.set_xlabel(\"Dataset\")\n",
    "ax.set_ylabel(\"Prediction $\\Delta$\")"
   ]
  },
  {
   "cell_type": "markdown",
   "id": "1c0e25cf-e006-4f30-96bb-7bb21d716bcb",
   "metadata": {},
   "source": [
    "This difference is not statistically signficant."
   ]
  },
  {
   "cell_type": "code",
   "execution_count": 60,
   "id": "08796034-f764-4f07-8807-a34ffb8f2d92",
   "metadata": {},
   "outputs": [
    {
     "data": {
      "text/plain": [
       "TtestResult(statistic=-0.8216664321287873, pvalue=0.41131445244181375, df=4108.0)"
      ]
     },
     "execution_count": 60,
     "metadata": {},
     "output_type": "execute_result"
    }
   ],
   "source": [
    "single_deltas = combo_delta_df.query(\"dataset == 'single'\").delta\n",
    "tautomer_deltas = combo_delta_df.query(\"dataset == 'tautomer'\").delta\n",
    "ttest_ind(single_deltas, tautomer_deltas)"
   ]
  },
  {
   "cell_type": "code",
   "execution_count": 61,
   "id": "59807d49-93d1-4866-9926-3c795ee1b28c",
   "metadata": {},
   "outputs": [
    {
     "data": {
      "text/plain": [
       "(0.19860660707184785, 0.20283822362665455)"
      ]
     },
     "execution_count": 61,
     "metadata": {},
     "output_type": "execute_result"
    }
   ],
   "source": [
    "single_deltas.mean(),tautomer_deltas.mean()"
   ]
  },
  {
   "cell_type": "code",
   "execution_count": null,
   "id": "48485ed5-f968-4d56-b603-b149dbd11a96",
   "metadata": {},
   "outputs": [],
   "source": []
  }
 ],
 "metadata": {
  "kernelspec": {
   "display_name": "Python 3 (ipykernel)",
   "language": "python",
   "name": "python3"
  },
  "language_info": {
   "codemirror_mode": {
    "name": "ipython",
    "version": 3
   },
   "file_extension": ".py",
   "mimetype": "text/x-python",
   "name": "python",
   "nbconvert_exporter": "python",
   "pygments_lexer": "ipython3",
   "version": "3.11.11"
  }
 },
 "nbformat": 4,
 "nbformat_minor": 5
}
