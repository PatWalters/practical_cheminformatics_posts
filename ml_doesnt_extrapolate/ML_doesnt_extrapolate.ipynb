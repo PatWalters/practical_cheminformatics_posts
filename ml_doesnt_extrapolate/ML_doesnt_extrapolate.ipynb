{
 "cells": [
  {
   "cell_type": "code",
   "execution_count": 1,
   "id": "80a4522c-8334-4ac2-bd0b-2b8bb297cbc6",
   "metadata": {},
   "outputs": [],
   "source": [
    "import pandas as pd\n",
    "from chemprop2_wrapper import run_chemprop\n",
    "from lgbm_wrapper import LGBMMorganCountWrapper\n",
    "import seaborn as sns\n",
    "from scipy.stats import pearsonr\n",
    "import useful_rdkit_utils as uru\n",
    "import numpy as np\n",
    "import matplotlib.pyplot as plt\n",
    "from sklearn.linear_model import LinearRegression"
   ]
  },
  {
   "cell_type": "markdown",
   "id": "3d0d5576-8754-49aa-9daf-7ceb0faa9a21",
   "metadata": {},
   "source": [
    "Read the training and test sets from csv files. "
   ]
  },
  {
   "cell_type": "code",
   "execution_count": 2,
   "id": "9bd13e7c-aac4-40ef-89b3-1669686274ce",
   "metadata": {},
   "outputs": [],
   "source": [
    "train = pd.read_csv(\"train_mw_lt_400.csv\")          #TRAIN\n",
    "test = pd.read_csv(\"test_mw_lt_400.csv\")            #TEST_LT_400\n",
    "test_500_800 = pd.read_csv(\"test_mw_gt_500.csv\")    #TEST_GT_500"
   ]
  },
  {
   "cell_type": "markdown",
   "id": "193a0f0b-64ce-4260-bbb6-96ce206ca9ed",
   "metadata": {},
   "source": [
    "Combine the training set and two test sets into one dataframe. "
   ]
  },
  {
   "cell_type": "code",
   "execution_count": 3,
   "id": "9d719ee8-6ed6-42f9-a122-a11f6a03922a",
   "metadata": {},
   "outputs": [
    {
     "data": {
      "text/plain": [
       "dataset\n",
       "TRAIN          750\n",
       "TEST_LT_400    250\n",
       "TEST_GT_500    250\n",
       "Name: count, dtype: int64"
      ]
     },
     "execution_count": 3,
     "metadata": {},
     "output_type": "execute_result"
    }
   ],
   "source": [
    "combo_df = pd.concat([train,test,test_500_800])\n",
    "combo_df.dataset.value_counts()"
   ]
  },
  {
   "cell_type": "markdown",
   "id": "e7118ca2-5a13-4194-adaa-88c0357d22b7",
   "metadata": {},
   "source": [
    "Draw a boxplot of the molecular weight distributions for the training and test sets. "
   ]
  },
  {
   "cell_type": "code",
   "execution_count": 4,
   "id": "2d698b57-66f8-4da2-b5d2-fdcfa50e74b5",
   "metadata": {},
   "outputs": [
    {
     "data": {
      "image/png": "[encoded data removed]",
      "text/plain": [
       "<Figure size 640x480 with 1 Axes>"
      ]
     },
     "metadata": {},
     "output_type": "display_data"
    }
   ],
   "source": [
    "ax = sns.boxplot(x=\"dataset\",y=\"mw\",data=combo_df)\n",
    "ax.set_xlabel(\"\")\n",
    "ax.set_ylabel(\"Molecular Weight\");"
   ]
  },
  {
   "cell_type": "markdown",
   "id": "7583bf14-f520-4b53-8592-da73a9b97ff1",
   "metadata": {},
   "source": [
    "Instantiate a Smi2Fp object from [useful_rdkit_utils](https://github.com/PatWalters/useful_rdkit_utils), this provides and easy way of generating fingerprints from SMILES. "
   ]
  },
  {
   "cell_type": "code",
   "execution_count": 5,
   "id": "59d78955-9889-4f80-a87d-39ac09a0402a",
   "metadata": {},
   "outputs": [],
   "source": [
    "smi2fp = uru.Smi2Fp()"
   ]
  },
  {
   "cell_type": "markdown",
   "id": "0b955ccd-6c55-46ca-931f-1b4405a9f3e1",
   "metadata": {},
   "source": [
    "Add fingerprints to the training and test sets. "
   ]
  },
  {
   "cell_type": "code",
   "execution_count": 6,
   "id": "c6060186-190a-441d-9842-93151d145046",
   "metadata": {},
   "outputs": [],
   "source": [
    "for df in [train, test, test_500_800]:\n",
    "    df['fp'] = df.SMILES.apply(smi2fp.get_np_counts)"
   ]
  },
  {
   "cell_type": "markdown",
   "id": "f619ddb2-eeb9-40e1-b673-3fa748963609",
   "metadata": {},
   "source": [
    "Build a linear regression model and use it predict the molecular weights of **TEST_LT_400**. "
   ]
  },
  {
   "cell_type": "code",
   "execution_count": 7,
   "id": "cb2c4281-b5a6-41ca-8ca5-1c28e56846e6",
   "metadata": {},
   "outputs": [],
   "source": [
    "lm = LinearRegression()\n",
    "lm.fit(np.stack(train.fp), train.mw)\n",
    "lm_pred_le_400 = lm.predict(np.stack(test.fp))"
   ]
  },
  {
   "cell_type": "code",
   "execution_count": 8,
   "id": "c0b56617-4ae5-4bb8-84de-400153744b42",
   "metadata": {},
   "outputs": [],
   "source": [
    "chemprop_pred_le_400 = run_chemprop(train, test, \"mw\")"
   ]
  },
  {
   "cell_type": "markdown",
   "id": "e9c49eba-cf4c-4806-bfda-a98dabc8a6d7",
   "metadata": {},
   "source": [
    "Build a model with LightGBM and use it predict the molecular weights of **TEST_LT_400**. "
   ]
  },
  {
   "cell_type": "code",
   "execution_count": 9,
   "id": "e8021f26-3c6a-4669-829d-4416873d8778",
   "metadata": {},
   "outputs": [],
   "source": [
    "lgbm_wrapper = LGBMMorganCountWrapper(\"mw\")\n",
    "lgbm_wrapper.fit(train)\n",
    "lgbm_pred_le_400 = lgbm_wrapper.predict(test)"
   ]
  },
  {
   "cell_type": "markdown",
   "id": "fb0520ce-960c-4251-a806-29d8bb2033d2",
   "metadata": {},
   "source": [
    "A quick function to draw scatterplots. "
   ]
  },
  {
   "cell_type": "code",
   "execution_count": 10,
   "id": "d8a9176f-aaea-49b4-8d97-1744de5a1462",
   "metadata": {},
   "outputs": [],
   "source": [
    "def draw_regression_scatterplot(truth, pred, ax, title):\n",
    "    r = pearsonr(truth,pred).statistic\n",
    "    ax = sns.regplot(x=truth,y=pred, ax=ax)\n",
    "    ax.text(150,800,f\"r={r:.2f}\")\n",
    "    ax.set_xlim(0,850)\n",
    "    ax.set_ylim(0,850)\n",
    "    ax.set_xlabel(\"True Molecular Weight\")\n",
    "    ax.set_ylabel(\"Predicted Molecular Weight\")\n",
    "    ax.set_title(title)"
   ]
  },
  {
   "cell_type": "markdown",
   "id": "3bc04896-6fae-428a-998e-dcfb8dfda8f3",
   "metadata": {},
   "source": [
    "Draw scatterplots of true MW vs predicted MW for the molecules with MW < 400. "
   ]
  },
  {
   "cell_type": "code",
   "execution_count": null,
   "id": "1a70df7a-e3b6-4b5f-a6c6-c39bef88d881",
   "metadata": {},
   "outputs": [],
   "source": [
    "figure, axes = plt.subplots(1,3,figsize=(10,5))\n",
    "draw_regression_scatterplot(test.mw,lm_pred_le_400,axes[0],\"Linear Regression\")\n",
    "draw_regression_scatterplot(test.mw,lgbm_pred_le_400,axes[1],\"LGBM\")\n",
    "draw_regression_scatterplot(test.mw,chemprop_pred_le_400,axes[2],\"ChemProp\")\n",
    "plt.tight_layout()"
   ]
  },
  {
   "cell_type": "markdown",
   "id": "c60e4f91-f924-4d01-ac97-28877c973986",
   "metadata": {},
   "source": [
    "Use ChemProp to to predict the MW of **TEST_GT_500**. "
   ]
  },
  {
   "cell_type": "code",
   "execution_count": null,
   "id": "b4c67c3a-5e54-48b0-9640-313a064eab8f",
   "metadata": {},
   "outputs": [],
   "source": [
    "chemprop_pred_500_800 = run_chemprop(train, test_500_800, \"mw\")"
   ]
  },
  {
   "cell_type": "markdown",
   "id": "a75684dc-5887-40cc-bab8-ba44e71fb609",
   "metadata": {},
   "source": [
    "Use linear regression to to predict the MW of **TEST_GT_500**. "
   ]
  },
  {
   "cell_type": "code",
   "execution_count": null,
   "id": "f0f13903-7c09-4343-bd65-3b9fd4e38d79",
   "metadata": {},
   "outputs": [],
   "source": [
    "lm_pred_500_800 = lm.predict(np.stack(test_500_800.fp))"
   ]
  },
  {
   "cell_type": "markdown",
   "id": "16f7483a-78c8-42c5-9864-d14a372a3138",
   "metadata": {},
   "source": [
    "Use LightGBM to predict the MW of **TEST_GT_500**. "
   ]
  },
  {
   "cell_type": "code",
   "execution_count": null,
   "id": "d1a0dc21-7730-4c70-ac81-4f71ac1811ef",
   "metadata": {},
   "outputs": [],
   "source": [
    "lgbm_wrapper = LGBMMorganCountWrapper(\"mw\")\n",
    "lgbm_wrapper.fit(train)\n",
    "lgbm_pred_500_800 = lgbm_wrapper.predict(test_500_800)"
   ]
  },
  {
   "cell_type": "markdown",
   "id": "a4c3b2eb-430d-4995-949b-fa766c9ca7e8",
   "metadata": {},
   "source": [
    "Plot the distributions of predicted molecular weights. "
   ]
  },
  {
   "cell_type": "code",
   "execution_count": null,
   "id": "02a849b5-b05f-4840-8cdb-44a57312c5ba",
   "metadata": {},
   "outputs": [],
   "source": [
    "figure, axes = plt.subplots(1,3,figsize=(10,5))\n",
    "ax = sns.histplot(lm_pred_500_800,ax=axes[0],color=\"lightblue\")\n",
    "ax.axvline(400,ls=\"--\",color=\"red\")\n",
    "ax.set_title(\"Linear Regression\")\n",
    "ax.set_xlim(0,800)\n",
    "ax = sns.histplot(lgbm_pred_500_800,ax=axes[1],color=\"lightblue\")\n",
    "ax.axvline(400,ls=\"--\",color=\"red\")\n",
    "ax.set_title(\"LGBM\")\n",
    "ax.set_xlim(0,800)\n",
    "ax = sns.histplot(chemprop_pred_500_800,ax=axes[2],color=\"lightblue\")\n",
    "ax.axvline(400,ls=\"--\",color=\"red\")\n",
    "ax.set_xlim(0,800)\n",
    "ax.set_title(\"ChemProp\");"
   ]
  },
  {
   "cell_type": "markdown",
   "id": "b09720e6-1b81-48fe-84f4-6c86edd5dd5e",
   "metadata": {},
   "source": [
    "Draw scatterplots of true MW vs predicted MW for **TEST_GT_500**."
   ]
  },
  {
   "cell_type": "code",
   "execution_count": null,
   "id": "8f3c552e-2113-41c9-924b-28554d11115c",
   "metadata": {},
   "outputs": [],
   "source": [
    "figure, axes = plt.subplots(1,3,figsize=(10,5))\n",
    "draw_regression_scatterplot(test_500_800.mw,lm_pred_500_800,axes[0],\"Linear Regression\")\n",
    "draw_regression_scatterplot(test_500_800.mw,lgbm_pred_500_800,axes[1],\"LGBM\")\n",
    "draw_regression_scatterplot(test_500_800.mw,chemprop_pred_500_800,axes[2],\"ChemProp\")\n",
    "plt.tight_layout()"
   ]
  },
  {
   "cell_type": "code",
   "execution_count": null,
   "id": "01e8ac53-62dc-41fd-b54a-a3b97e73cf28",
   "metadata": {},
   "outputs": [],
   "source": []
  }
 ],
 "metadata": {
  "kernelspec": {
   "display_name": "Python 3 (ipykernel)",
   "language": "python",
   "name": "python3"
  },
  "language_info": {
   "codemirror_mode": {
    "name": "ipython",
    "version": 3
   },
   "file_extension": ".py",
   "mimetype": "text/x-python",
   "name": "python",
   "nbconvert_exporter": "python",
   "pygments_lexer": "ipython3",
   "version": "3.11.11"
  }
 },
 "nbformat": 4,
 "nbformat_minor": 5
}
