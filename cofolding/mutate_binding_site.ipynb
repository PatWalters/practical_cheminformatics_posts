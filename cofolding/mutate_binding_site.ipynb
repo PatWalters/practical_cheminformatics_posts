{
 "cells": [
  {
   "cell_type": "code",
   "execution_count": 24,
   "id": "a5a7a887-0011-4673-a777-6189ea3a6a22",
   "metadata": {},
   "outputs": [],
   "source": [
    "import prody\n",
    "import pandas as pd\n",
    "from sequence_mutations import mutate_sequence, get_smiles_from_pdb_cid\n",
    "from rdkit import Chem"
   ]
  },
  {
   "cell_type": "code",
   "execution_count": 66,
   "id": "3f654513-7827-4b9f-ba46-e6a9675311a7",
   "metadata": {},
   "outputs": [
    {
     "name": "stderr",
     "output_type": "stream",
     "text": [
      "@> Connecting wwPDB FTP server RCSB PDB (USA).\n",
      "@> Downloading PDB files via FTP failed, trying HTTP.\n",
      "@> 2pio downloaded (2pio.pdb.gz)\n",
      "@> PDB download via HTTP completed (1 downloaded, 0 failed).\n",
      "@> 2212 atoms and 1 coordinate set(s) were parsed in 0.02s.\n"
     ]
    }
   ],
   "source": [
    "prot = prody.parsePDB(\"2pio\")"
   ]
  },
  {
   "cell_type": "code",
   "execution_count": 67,
   "id": "496fedc3-1b68-4a7d-a86e-f4f433475630",
   "metadata": {},
   "outputs": [
    {
     "data": {
      "text/plain": [
       "['A']"
      ]
     },
     "execution_count": 67,
     "metadata": {},
     "output_type": "execute_result"
    }
   ],
   "source": [
    "list(set(prot.getChids()))"
   ]
  },
  {
   "cell_type": "code",
   "execution_count": 68,
   "id": "952d6a39-dbcb-43b9-b243-4cfefb0ea11e",
   "metadata": {},
   "outputs": [
    {
     "data": {
      "text/plain": [
       "['SO4', 'DHT', '2MI']"
      ]
     },
     "execution_count": 68,
     "metadata": {},
     "output_type": "execute_result"
    }
   ],
   "source": [
    "list(set(prot.select(\"not protein and not water\").getResnames()))"
   ]
  },
  {
   "cell_type": "code",
   "execution_count": 73,
   "id": "041103b7-7907-4547-b18d-417f69f3aa1d",
   "metadata": {},
   "outputs": [],
   "source": [
    "ligand_resname = \"DHT\"\n",
    "asite_prot = prot.select(f\"protein and chid A within 3.5 of resname {ligand_resname}\")\n",
    "asite_chids = list(set(asite_prot.getChids()))\n",
    "asite_res = list(set(asite_prot.getResnums()))"
   ]
  },
  {
   "cell_type": "code",
   "execution_count": 74,
   "id": "3698d65b-11f2-4525-89ed-b64a0c8a0e22",
   "metadata": {},
   "outputs": [
    {
     "data": {
      "text/plain": [
       "(['A'], [704, 705, 877, 752])"
      ]
     },
     "execution_count": 74,
     "metadata": {},
     "output_type": "execute_result"
    }
   ],
   "source": [
    "asite_chids, asite_res"
   ]
  },
  {
   "cell_type": "code",
   "execution_count": 75,
   "id": "5ba0d574-60df-4fdd-ad4d-40ac001c8942",
   "metadata": {},
   "outputs": [
    {
     "data": {
      "text/plain": [
       "'C[C]12CC[CH]3[CH](CC[CH]4CC(=O)CC[C]34C)[CH]1CC[CH]2O'"
      ]
     },
     "execution_count": 75,
     "metadata": {},
     "output_type": "execute_result"
    }
   ],
   "source": [
    "ligand_smiles = get_smiles_from_pdb_cid(ligand_resname)\n",
    "ligand_smiles"
   ]
  },
  {
   "cell_type": "code",
   "execution_count": 76,
   "id": "afb7b2f2-18e5-4fd1-919d-67008e439b89",
   "metadata": {},
   "outputs": [
    {
     "data": {
      "image/png": "[encoded data removed]",
      "text/plain": [
       "<rdkit.Chem.rdchem.Mol at 0x30165dfc0>"
      ]
     },
     "execution_count": 76,
     "metadata": {},
     "output_type": "execute_result"
    }
   ],
   "source": [
    "Chem.MolFromSmiles(ligand_smiles)"
   ]
  },
  {
   "cell_type": "markdown",
   "id": "a11eaeaa-0d05-43ca-9b9c-80f6e4a92a91",
   "metadata": {},
   "source": [
    "Get the wild type sequence"
   ]
  },
  {
   "cell_type": "code",
   "execution_count": 77,
   "id": "b25feab8-1b07-4e38-bfee-221589ea2d8a",
   "metadata": {},
   "outputs": [
    {
     "data": {
      "text/plain": [
       "'PIFLNVLEAIEPGVVCAGHDNNQPDSFAALLSSLNELGERQLVHVVKWAKALPGFRNLHVDDQMAVIQYSWMGLMVFAMGWRSFTNVNSRMLYFAPDLVFNEYRMHKSRMYSQCVRMRHLSQEFGWLQITPQEFLCMKALLLFSIIPVDGLKNQKFFDELRMNYIKELDRIIACKRKNPTSCSRRFYQLTKLLDSVQPIARELHQFTFDLLIKSHMVSVDFPEMMAEIISVQVPKILSGKVKPIYFHT'"
      ]
     },
     "execution_count": 77,
     "metadata": {},
     "output_type": "execute_result"
    }
   ],
   "source": [
    "orig_seq = mutate_sequence(prot, asite_res)\n",
    "orig_seq"
   ]
  },
  {
   "cell_type": "markdown",
   "id": "1809b627-07e8-40c0-9a88-4010c6efc00a",
   "metadata": {},
   "source": [
    "Get the sequence with the active site residues mutated to **GLY**. "
   ]
  },
  {
   "cell_type": "code",
   "execution_count": 78,
   "id": "0fef8037-aba3-4921-9a0d-72f8b2aa6de8",
   "metadata": {},
   "outputs": [
    {
     "data": {
      "text/plain": [
       "'PIFLNVLEAIEPGVVCAGHDNNQPDSFAALLSSGGELGERQLVHVVKWAKALPGFRNLHVDDQMAVIQYSWMGLMVFAMGWGSFTNVNSRMLYFAPDLVFNEYRMHKSRMYSQCVRMRHLSQEFGWLQITPQEFLCMKALLLFSIIPVDGLKNQKFFDELRMNYIKELDRIIACKRKNPTSCSRRFYQLTKLLDSVQPIARELHQFGFDLLIKSHMVSVDFPEMMAEIISVQVPKILSGKVKPIYFHT'"
      ]
     },
     "execution_count": 78,
     "metadata": {},
     "output_type": "execute_result"
    }
   ],
   "source": [
    "gly_seq = mutate_sequence(prot, asite_res, 'G')\n",
    "gly_seq"
   ]
  },
  {
   "cell_type": "markdown",
   "id": "3cc54d04-b89e-442a-91da-6cd0d621dee0",
   "metadata": {},
   "source": [
    "Get the sequence with the active site residues mutated to **PHE**."
   ]
  },
  {
   "cell_type": "code",
   "execution_count": 79,
   "id": "ab42ab84-1248-4cc6-a3ae-9b7e4235f1c9",
   "metadata": {},
   "outputs": [
    {
     "data": {
      "text/plain": [
       "'PIFLNVLEAIEPGVVCAGHDNNQPDSFAALLSSFFELGERQLVHVVKWAKALPGFRNLHVDDQMAVIQYSWMGLMVFAMGWFSFTNVNSRMLYFAPDLVFNEYRMHKSRMYSQCVRMRHLSQEFGWLQITPQEFLCMKALLLFSIIPVDGLKNQKFFDELRMNYIKELDRIIACKRKNPTSCSRRFYQLTKLLDSVQPIARELHQFFFDLLIKSHMVSVDFPEMMAEIISVQVPKILSGKVKPIYFHT'"
      ]
     },
     "execution_count": 79,
     "metadata": {},
     "output_type": "execute_result"
    }
   ],
   "source": [
    "phe_seq = mutate_sequence(prot, asite_res, 'F')\n",
    "phe_seq"
   ]
  },
  {
   "cell_type": "markdown",
   "id": "1c6c3588-6672-45d4-a752-7587e87f345f",
   "metadata": {},
   "source": [
    "Get the sequence with Miyata replacements"
   ]
  },
  {
   "cell_type": "code",
   "execution_count": 80,
   "id": "99f59dd9-3ddf-4f91-810f-26e17f5d36a4",
   "metadata": {},
   "outputs": [
    {
     "data": {
      "text/plain": [
       "'PIFLNVLEAIEPGVVCAGHDNNQPDSFAALLSSDWELGERQLVHVVKWAKALPGFRNLHVDDQMAVIQYSWMGLMVFAMGWGSFTNVNSRMLYFAPDLVFNEYRMHKSRMYSQCVRMRHLSQEFGWLQITPQEFLCMKALLLFSIIPVDGLKNQKFFDELRMNYIKELDRIIACKRKNPTSCSRRFYQLTKLLDSVQPIARELHQFWFDLLIKSHMVSVDFPEMMAEIISVQVPKILSGKVKPIYFHT'"
      ]
     },
     "execution_count": 80,
     "metadata": {},
     "output_type": "execute_result"
    }
   ],
   "source": [
    "miy_seq = mutate_sequence(prot, asite_res, 'miyata')\n",
    "miy_seq"
   ]
  },
  {
   "cell_type": "code",
   "execution_count": 81,
   "id": "0e2d1a2b-a390-4a9d-b047-01aaf51207a9",
   "metadata": {},
   "outputs": [
    {
     "data": {
      "text/plain": [
       "[248, 248, 248, 248]"
      ]
     },
     "execution_count": 81,
     "metadata": {},
     "output_type": "execute_result"
    }
   ],
   "source": [
    "[len(x) for x in [orig_seq, gly_seq, phe_seq, miy_seq]]"
   ]
  },
  {
   "cell_type": "code",
   "execution_count": null,
   "id": "d2ce073c-d947-4718-9d80-761f7b469acf",
   "metadata": {},
   "outputs": [],
   "source": []
  }
 ],
 "metadata": {
  "kernelspec": {
   "display_name": "Python 3 (ipykernel)",
   "language": "python",
   "name": "python3"
  },
  "language_info": {
   "codemirror_mode": {
    "name": "ipython",
    "version": 3
   },
   "file_extension": ".py",
   "mimetype": "text/x-python",
   "name": "python",
   "nbconvert_exporter": "python",
   "pygments_lexer": "ipython3",
   "version": "3.11.11"
  }
 },
 "nbformat": 4,
 "nbformat_minor": 5
}
