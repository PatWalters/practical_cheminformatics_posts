{
 "cells": [
  {
   "cell_type": "code",
   "execution_count": 2,
   "id": "a5a7a887-0011-4673-a777-6189ea3a6a22",
   "metadata": {},
   "outputs": [],
   "source": [
    "import prody\n",
    "import pandas as pd"
   ]
  },
  {
   "cell_type": "code",
   "execution_count": 3,
   "id": "e5cbcac1-6499-4ebd-8257-17ac03e4e0ee",
   "metadata": {},
   "outputs": [],
   "source": [
    "def convert_amino_acid_abbr(three_letter_abbr: str) -> str:\n",
    "    \"\"\"\n",
    "    Converts a three-letter amino acid abbreviation to its one-character equivalent.\n",
    "\n",
    "    Args:\n",
    "        three_letter_abbr: A string representing the three-letter amino acid abbreviation\n",
    "                           (e.g., \"Ala\", \"Gly\", \"Lys\"). Case-insensitive.\n",
    "\n",
    "    Returns:\n",
    "        A string representing the one-character amino acid equivalent.\n",
    "        Returns \"Unknown\" if the abbreviation is not found in the mapping.\n",
    "\n",
    "    Examples:\n",
    "        >>> convert_amino_acid_abbr(\"Ala\")\n",
    "        'A'\n",
    "        >>> convert_amino_acid_abbr(\"gly\")\n",
    "        'G'\n",
    "        >>> convert_amino_acid_abbr(\"Lys\")\n",
    "        'K'\n",
    "        >>> convert_amino_acid_abbr(\"XYZ\")\n",
    "        'Unknown'\n",
    "    \"\"\"\n",
    "    # Create a dictionary mapping three-letter abbreviations to one-character codes\n",
    "    # All keys are stored in uppercase for case-insensitive lookup\n",
    "    amino_acid_map = {\n",
    "        \"ALA\": \"A\",  # Alanine\n",
    "        \"ARG\": \"R\",  # Arginine\n",
    "        \"ASN\": \"N\",  # Asparagine\n",
    "        \"ASP\": \"D\",  # Aspartic Acid\n",
    "        \"CYS\": \"C\",  # Cysteine\n",
    "        \"GLN\": \"Q\",  # Glutamine\n",
    "        \"GLU\": \"E\",  # Glutamic Acid\n",
    "        \"GLY\": \"G\",  # Glycine\n",
    "        \"HIS\": \"H\",  # Histidine\n",
    "        \"ILE\": \"I\",  # Isoleucine\n",
    "        \"LEU\": \"L\",  # Leucine\n",
    "        \"LYS\": \"K\",  # Lysine\n",
    "        \"MET\": \"M\",  # Methionine\n",
    "        \"PHE\": \"F\",  # Phenylalanine\n",
    "        \"PRO\": \"P\",  # Proline\n",
    "        \"SER\": \"S\",  # Serine\n",
    "        \"THR\": \"T\",  # Threonine\n",
    "        \"TRP\": \"W\",  # Tryptophan\n",
    "        \"TYR\": \"Y\",  # Tyrosine\n",
    "        \"VAL\": \"V\",  # Valine\n",
    "        # Common ambiguous or special codes\n",
    "        \"ASX\": \"B\",  # Asparagine or Aspartic Acid\n",
    "        \"GLX\": \"Z\",  # Glutamine or Glutamic Acid\n",
    "        \"XAA\": \"X\",  # Any amino acid\n",
    "        \"SEC\": \"U\",  # Selenocysteine\n",
    "        \"PYL\": \"O\",  # Pyrrolysine\n",
    "    }\n",
    "\n",
    "    # Convert the input abbreviation to uppercase to ensure case-insensitivity\n",
    "    upper_abbr = three_letter_abbr.upper()\n",
    "\n",
    "    # Look up the one-character code in the map, return \"Unknown\" if not found\n",
    "    return amino_acid_map.get(upper_abbr, \"Unknown\")\n",
    "\n",
    "def mutate_sequence(atm_grp, res_num_list, new_res=None):\n",
    "    prot = atm_grp.select(\"protein\")\n",
    "    df = pd.DataFrame({\"resnum\" : prot.getResnums(),\n",
    "                       \"resname\" : prot.getResnames()})\n",
    "    df['single'] = df.resname.apply(convert_amino_acid_abbr)\n",
    "    df.drop_duplicates(subset=\"resnum\",inplace=True)\n",
    "    if new_res is not None:\n",
    "        df.loc[[x in res_num_list for x in df.resnum],'single'] = new_res\n",
    "    return \"\".join(df.query(\"single != 'Unknown'\").drop_duplicates(subset=\"resnum\").single.values)"
   ]
  },
  {
   "cell_type": "code",
   "execution_count": 19,
   "id": "3f654513-7827-4b9f-ba46-e6a9675311a7",
   "metadata": {},
   "outputs": [],
   "source": [
    "prot = prody.parsePDB(\"8x61\")"
   ]
  },
  {
   "cell_type": "code",
   "execution_count": 20,
   "id": "041103b7-7907-4547-b18d-417f69f3aa1d",
   "metadata": {},
   "outputs": [],
   "source": [
    "asite_res = list(set(prot.select(\"protein and (chid A or chid B) within 3.5 of resname ATP\").getResnums()))"
   ]
  },
  {
   "cell_type": "code",
   "execution_count": 21,
   "id": "3698d65b-11f2-4525-89ed-b64a0c8a0e22",
   "metadata": {},
   "outputs": [
    {
     "data": {
      "text/plain": [
       "[195, 36, 37, 38, 39, 40, 41, 42, 11, 43, 136, 139, 141, 142, 15, 86]"
      ]
     },
     "execution_count": 21,
     "metadata": {},
     "output_type": "execute_result"
    }
   ],
   "source": [
    "asite_res"
   ]
  },
  {
   "cell_type": "markdown",
   "id": "a11eaeaa-0d05-43ca-9b9c-80f6e4a92a91",
   "metadata": {},
   "source": [
    "Get the wild type sequence"
   ]
  },
  {
   "cell_type": "code",
   "execution_count": 22,
   "id": "b25feab8-1b07-4e38-bfee-221589ea2d8a",
   "metadata": {},
   "outputs": [
    {
     "data": {
      "text/plain": [
       "'MIRFEHVSKAYLGGRQALQGVTFHMQPGEMAFLTGHSGAGKSTLLKLICGIERPSAGKIWFSGHDITRLKNREVPFLRRQIGMIFQDHHLLMDRTVYDNVAIPLIIAGASGDDIRRRVSAALDKVGLLDKAKNFPIQLSGGEQQRVGIARAVVNKPAVLLADQPTGNLDDALSEGILRLFEEFNRVGVTVLMATHDINLISRRSYRMLTLSDGHLHNEQVRYAFHGALQDLKSKPFATFLTVMVIAISLTLPSVCYMVYKNVNVGRVSAMIGVLMVAAVFLVIGNSVRLSIFARRDSINVQKLIGATDGFILRPFLYGGALLGFSGALLSLILSEILVLRLNGLSFDECLLLLLVCSMIGWVAAWLATVQHLRHFTPLIE'"
      ]
     },
     "execution_count": 22,
     "metadata": {},
     "output_type": "execute_result"
    }
   ],
   "source": [
    "mutate_sequence(prot, asite_res)"
   ]
  },
  {
   "cell_type": "markdown",
   "id": "1809b627-07e8-40c0-9a88-4010c6efc00a",
   "metadata": {},
   "source": [
    "Get the sequence with the active site residues mutated to **GLY**. "
   ]
  },
  {
   "cell_type": "code",
   "execution_count": 23,
   "id": "0fef8037-aba3-4921-9a0d-72f8b2aa6de8",
   "metadata": {},
   "outputs": [
    {
     "data": {
      "text/plain": [
       "'MIRFEHVSKAGLGGGQALQGVTFHMQPGEMAFLTGGGGGGGGGLLKLICGIERPSAGKIWFSGHDITRLKNREVPFLRRQIGMIFGDHHLLMDRTVYDNVAIPLIIAGASGDDIRRRVSAALDKVGLLDKAKNFPGQLGGGGQQRVGIARAVVNKPAVLLADQPTGNLDDALSEGILRLFEEFNRVGVTVLMATGDINLISRRSYRMLTLSDGHLHNEQVRYAFHGALQDLKSKPFATFLTVMVIAISLTLPSVCYMVYKNVNVGRVSAMIGVLMVAAVFLVIGNSVRLSIFARRDSINVQKLIGATDGFILRPFLYGGALLGFSGALLSLILSEILVLRLNGLSFDECLLLLLVCSMIGWVAAWLATVQHLRHFTPLIE'"
      ]
     },
     "execution_count": 23,
     "metadata": {},
     "output_type": "execute_result"
    }
   ],
   "source": [
    "mutate_sequence(prot, asite_res, 'G')"
   ]
  },
  {
   "cell_type": "markdown",
   "id": "3cc54d04-b89e-442a-91da-6cd0d621dee0",
   "metadata": {},
   "source": [
    "Get the sequence with the active site residues mutated to **PHE**."
   ]
  },
  {
   "cell_type": "code",
   "execution_count": 24,
   "id": "ab42ab84-1248-4cc6-a3ae-9b7e4235f1c9",
   "metadata": {},
   "outputs": [
    {
     "data": {
      "text/plain": [
       "'MIRFEHVSKAFLGGFQALQGVTFHMQPGEMAFLTGFFFFFFFFLLKLICGIERPSAGKIWFSGHDITRLKNREVPFLRRQIGMIFFDHHLLMDRTVYDNVAIPLIIAGASGDDIRRRVSAALDKVGLLDKAKNFPFQLFGFFQQRVGIARAVVNKPAVLLADQPTGNLDDALSEGILRLFEEFNRVGVTVLMATFDINLISRRSYRMLTLSDGHLHNEQVRYAFHGALQDLKSKPFATFLTVMVIAISLTLPSVCYMVYKNVNVGRVSAMIGVLMVAAVFLVIGNSVRLSIFARRDSINVQKLIGATDGFILRPFLYGGALLGFSGALLSLILSEILVLRLNGLSFDECLLLLLVCSMIGWVAAWLATVQHLRHFTPLIE'"
      ]
     },
     "execution_count": 24,
     "metadata": {},
     "output_type": "execute_result"
    }
   ],
   "source": [
    "mutate_sequence(prot, asite_res, 'F')"
   ]
  },
  {
   "cell_type": "markdown",
   "id": "58cae7c6-d5d8-48c4-aafd-3d3a850ebaf6",
   "metadata": {},
   "source": [
    "The SMILES for [ATP](https://www.rcsb.org/ligand/ATP) is `c1nc(c2c(n1)n(cn2)C3C(C(C(O3)COP(=O)(O)OP(=O)(O)OP(=O)(O)O)O)O)N ATP`"
   ]
  },
  {
   "cell_type": "code",
   "execution_count": 25,
   "id": "228e2b17-b43e-49de-8d9f-1afe520e5bd1",
   "metadata": {},
   "outputs": [
    {
     "name": "stdout",
     "output_type": "stream",
     "text": [
      "/Users/pwalters/DATA/BLOG/LILL\n"
     ]
    }
   ],
   "source": [
    "!pwd"
   ]
  },
  {
   "cell_type": "code",
   "execution_count": null,
   "id": "f1cdc32e-8134-49a1-a5e1-536b40686eff",
   "metadata": {},
   "outputs": [],
   "source": []
  }
 ],
 "metadata": {
  "kernelspec": {
   "display_name": "Python 3 (ipykernel)",
   "language": "python",
   "name": "python3"
  },
  "language_info": {
   "codemirror_mode": {
    "name": "ipython",
    "version": 3
   },
   "file_extension": ".py",
   "mimetype": "text/x-python",
   "name": "python",
   "nbconvert_exporter": "python",
   "pygments_lexer": "ipython3",
   "version": "3.11.11"
  }
 },
 "nbformat": 4,
 "nbformat_minor": 5
}
