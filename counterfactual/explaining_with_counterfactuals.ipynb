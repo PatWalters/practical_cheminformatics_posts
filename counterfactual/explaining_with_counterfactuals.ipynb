{
 "cells": [
  {
   "cell_type": "markdown",
   "id": "98970520",
   "metadata": {},
   "source": [
    "### Interpreting Machine Learning Models with Counterfactuals\n",
    "\n",
    "This notebook accompanies the Practical Cheminformatics blog post \"[Using Counterfactuals to Understand Machine Learning Models\"](https://practicalcheminformatics.blogspot.com/2023/05/using-counterfactuals-to-understand.html). \n",
    "\n",
    "To run this notebook you need to first download and gunzip the file replacements02_sc2.5.db.gz from [http://www.qsar4u.com/pages/crem.php](http://www.qsar4u.com/pages/crem.php)\n",
    "\n",
    "In this notebook we'll build a machine learning model then use counterfactuals to interpret the results of the model. We'll perform the following steps. \n",
    "1. Build a classification model to predict aqeous solubility\n",
    "2. Generate analogs of our target molecule with CrEM\n",
    "3. Calculate similarity and solubility for the analogs\n"
   ]
  },
  {
   "cell_type": "markdown",
   "id": "e0c8596b",
   "metadata": {},
   "source": [
    "### Installation\n",
    "<pre>\n",
    "pip install rdkit PyTDC useful_rdkit_utils tqdm scikit-learn numpy seaborn exmol pandas mols2grid crem\n",
    "</pre>"
   ]
  },
  {
   "cell_type": "markdown",
   "id": "43d04e72",
   "metadata": {},
   "source": [
    "Lots of imports"
   ]
  },
  {
   "cell_type": "code",
   "execution_count": 1,
   "id": "6291b050",
   "metadata": {},
   "outputs": [],
   "source": [
    "from rdkit import Chem, DataStructs\n",
    "from tdc.single_pred import ADME\n",
    "import useful_rdkit_utils as uru\n",
    "from tqdm.auto import tqdm\n",
    "from sklearn.ensemble import HistGradientBoostingRegressor, HistGradientBoostingClassifier\n",
    "from sklearn.model_selection import train_test_split\n",
    "import numpy as np\n",
    "import seaborn as sns\n",
    "from sklearn.metrics import r2_score, mean_squared_error, roc_auc_score, matthews_corrcoef\n",
    "import exmol\n",
    "import pandas as pd\n",
    "import mols2grid\n",
    "from crem.crem import mutate_mol\n",
    "import requests\n",
    "from rdkit.Chem import rdFMCS\n",
    "from rdkit.Chem import AllChem\n",
    "from rdkit.Chem.Draw import MolsToGridImage"
   ]
  },
  {
   "cell_type": "markdown",
   "id": "defc50ee",
   "metadata": {},
   "source": [
    "Make the structure images prettier. "
   ]
  },
  {
   "cell_type": "code",
   "execution_count": 2,
   "id": "28d79f84",
   "metadata": {},
   "outputs": [],
   "source": [
    "Chem.rdDepictor.SetPreferCoordGen(True) "
   ]
  },
  {
   "cell_type": "markdown",
   "id": "e9bc888b",
   "metadata": {},
   "source": [
    "### 1. Build a classification model to predict aqeous solubility"
   ]
  },
  {
   "cell_type": "markdown",
   "id": "a0994616",
   "metadata": {},
   "source": [
    "Enable Pandas progress_apply"
   ]
  },
  {
   "cell_type": "code",
   "execution_count": 3,
   "id": "8dace0cb-ac26-455b-9d0c-5989d5f687ce",
   "metadata": {},
   "outputs": [],
   "source": [
    "tqdm.pandas()"
   ]
  },
  {
   "cell_type": "markdown",
   "id": "b07749ce",
   "metadata": {},
   "source": [
    "Get solubility data from the [Therapeutic Data Commons](https://tdcommons.ai/)"
   ]
  },
  {
   "cell_type": "code",
   "execution_count": 4,
   "id": "72bedb81-484c-4f84-9efd-0de956bc4807",
   "metadata": {},
   "outputs": [
    {
     "name": "stderr",
     "output_type": "stream",
     "text": [
      "Found local copy...\n",
      "Loading...\n",
      "Done!\n"
     ]
    }
   ],
   "source": [
    "data = ADME(name = 'Solubility_AqSolDB')"
   ]
  },
  {
   "cell_type": "code",
   "execution_count": 5,
   "id": "d132da1d-a70a-4c16-a75a-2b64b1500a08",
   "metadata": {},
   "outputs": [],
   "source": [
    "df = data.get_data().copy()\n",
    "df.columns=['Name','SMILES','LogS']"
   ]
  },
  {
   "cell_type": "markdown",
   "id": "e76beec9",
   "metadata": {},
   "source": [
    "Add an RDKit molecule column to the data"
   ]
  },
  {
   "cell_type": "code",
   "execution_count": 6,
   "id": "f2601043-ba78-4358-9eb4-3ce7187de145",
   "metadata": {},
   "outputs": [
    {
     "data": {
      "application/vnd.jupyter.widget-view+json": {
       "model_id": "7302542c820544e585abe3c0a7f42204",
       "version_major": 2,
       "version_minor": 0
      },
      "text/plain": [
       "  0%|          | 0/9982 [00:00<?, ?it/s]"
      ]
     },
     "metadata": {},
     "output_type": "display_data"
    }
   ],
   "source": [
    "df['mol'] = df.SMILES.progress_apply(Chem.MolFromSmiles)"
   ]
  },
  {
   "cell_type": "markdown",
   "id": "00751d7a",
   "metadata": {},
   "source": [
    "Quickly strip salts.  A call to [RDMolStandardizer](https://www.rdkit.org/docs/source/rdkit.Chem.MolStandardize.rdMolStandardize.html) might be better here. "
   ]
  },
  {
   "cell_type": "code",
   "execution_count": 7,
   "id": "1d85eddf-94c5-424e-8df7-25d1c6421fd7",
   "metadata": {},
   "outputs": [
    {
     "data": {
      "application/vnd.jupyter.widget-view+json": {
       "model_id": "a92b81328ebd4c0f9af9af9e6389b8bf",
       "version_major": 2,
       "version_minor": 0
      },
      "text/plain": [
       "  0%|          | 0/9982 [00:00<?, ?it/s]"
      ]
     },
     "metadata": {},
     "output_type": "display_data"
    }
   ],
   "source": [
    "df['clean_mol'] = df.mol.progress_apply(uru.get_largest_fragment)"
   ]
  },
  {
   "cell_type": "markdown",
   "id": "7b21686d",
   "metadata": {},
   "source": [
    "Add a fingerprint to the dataframe.  Note that for this exercise, we'll be using two different fingerprints.  A **numpy_fp** will be used for ML models and a **morgan_fp** will be used for calculating similarity. "
   ]
  },
  {
   "cell_type": "code",
   "execution_count": 8,
   "id": "0d6f6b0b-e0c0-42ce-9a06-ba8a6f59fb10",
   "metadata": {},
   "outputs": [
    {
     "data": {
      "application/vnd.jupyter.widget-view+json": {
       "model_id": "0f363daac2ad4aecb3e1d9213680cb64",
       "version_major": 2,
       "version_minor": 0
      },
      "text/plain": [
       "  0%|          | 0/9982 [00:00<?, ?it/s]"
      ]
     },
     "metadata": {},
     "output_type": "display_data"
    }
   ],
   "source": [
    "df['numpy_fp'] = df.clean_mol.progress_apply(uru.mol2numpy_fp)"
   ]
  },
  {
   "cell_type": "markdown",
   "id": "6462a816",
   "metadata": {},
   "source": [
    "Split the data into training and test sets."
   ]
  },
  {
   "cell_type": "code",
   "execution_count": 9,
   "id": "82218c98-5405-45a4-a3b0-21981103d046",
   "metadata": {},
   "outputs": [],
   "source": [
    "train, test = train_test_split(df)"
   ]
  },
  {
   "cell_type": "markdown",
   "id": "b8503698",
   "metadata": {},
   "source": [
    "Create a regressor. "
   ]
  },
  {
   "cell_type": "code",
   "execution_count": 10,
   "id": "8a4f6bcf-ef67-4c59-9687-0f8c7a5d26e4",
   "metadata": {},
   "outputs": [],
   "source": [
    "hgbr = HistGradientBoostingRegressor()"
   ]
  },
  {
   "cell_type": "markdown",
   "id": "d28eb34d",
   "metadata": {},
   "source": [
    "Fit the model."
   ]
  },
  {
   "cell_type": "code",
   "execution_count": 11,
   "id": "91dd179d-1d95-43a3-af3a-3c4d838a85bb",
   "metadata": {},
   "outputs": [
    {
     "data": {
      "text/html": [
       "<style>#sk-container-id-1 {color: black;background-color: white;}#sk-container-id-1 pre{padding: 0;}#sk-container-id-1 div.sk-toggleable {background-color: white;}#sk-container-id-1 label.sk-toggleable__label {cursor: pointer;display: block;width: 100%;margin-bottom: 0;padding: 0.3em;box-sizing: border-box;text-align: center;}#sk-container-id-1 label.sk-toggleable__label-arrow:before {content: \"▸\";float: left;margin-right: 0.25em;color: #696969;}#sk-container-id-1 label.sk-toggleable__label-arrow:hover:before {color: black;}#sk-container-id-1 div.sk-estimator:hover label.sk-toggleable__label-arrow:before {color: black;}#sk-container-id-1 div.sk-toggleable__content {max-height: 0;max-width: 0;overflow: hidden;text-align: left;background-color: #f0f8ff;}#sk-container-id-1 div.sk-toggleable__content pre {margin: 0.2em;color: black;border-radius: 0.25em;background-color: #f0f8ff;}#sk-container-id-1 input.sk-toggleable__control:checked~div.sk-toggleable__content {max-height: 200px;max-width: 100%;overflow: auto;}#sk-container-id-1 input.sk-toggleable__control:checked~label.sk-toggleable__label-arrow:before {content: \"▾\";}#sk-container-id-1 div.sk-estimator input.sk-toggleable__control:checked~label.sk-toggleable__label {background-color: #d4ebff;}#sk-container-id-1 div.sk-label input.sk-toggleable__control:checked~label.sk-toggleable__label {background-color: #d4ebff;}#sk-container-id-1 input.sk-hidden--visually {border: 0;clip: rect(1px 1px 1px 1px);clip: rect(1px, 1px, 1px, 1px);height: 1px;margin: -1px;overflow: hidden;padding: 0;position: absolute;width: 1px;}#sk-container-id-1 div.sk-estimator {font-family: monospace;background-color: #f0f8ff;border: 1px dotted black;border-radius: 0.25em;box-sizing: border-box;margin-bottom: 0.5em;}#sk-container-id-1 div.sk-estimator:hover {background-color: #d4ebff;}#sk-container-id-1 div.sk-parallel-item::after {content: \"\";width: 100%;border-bottom: 1px solid gray;flex-grow: 1;}#sk-container-id-1 div.sk-label:hover label.sk-toggleable__label {background-color: #d4ebff;}#sk-container-id-1 div.sk-serial::before {content: \"\";position: absolute;border-left: 1px solid gray;box-sizing: border-box;top: 0;bottom: 0;left: 50%;z-index: 0;}#sk-container-id-1 div.sk-serial {display: flex;flex-direction: column;align-items: center;background-color: white;padding-right: 0.2em;padding-left: 0.2em;position: relative;}#sk-container-id-1 div.sk-item {position: relative;z-index: 1;}#sk-container-id-1 div.sk-parallel {display: flex;align-items: stretch;justify-content: center;background-color: white;position: relative;}#sk-container-id-1 div.sk-item::before, #sk-container-id-1 div.sk-parallel-item::before {content: \"\";position: absolute;border-left: 1px solid gray;box-sizing: border-box;top: 0;bottom: 0;left: 50%;z-index: -1;}#sk-container-id-1 div.sk-parallel-item {display: flex;flex-direction: column;z-index: 1;position: relative;background-color: white;}#sk-container-id-1 div.sk-parallel-item:first-child::after {align-self: flex-end;width: 50%;}#sk-container-id-1 div.sk-parallel-item:last-child::after {align-self: flex-start;width: 50%;}#sk-container-id-1 div.sk-parallel-item:only-child::after {width: 0;}#sk-container-id-1 div.sk-dashed-wrapped {border: 1px dashed gray;margin: 0 0.4em 0.5em 0.4em;box-sizing: border-box;padding-bottom: 0.4em;background-color: white;}#sk-container-id-1 div.sk-label label {font-family: monospace;font-weight: bold;display: inline-block;line-height: 1.2em;}#sk-container-id-1 div.sk-label-container {text-align: center;}#sk-container-id-1 div.sk-container {/* jupyter's `normalize.less` sets `[hidden] { display: none; }` but bootstrap.min.css set `[hidden] { display: none !important; }` so we also need the `!important` here to be able to override the default hidden behavior on the sphinx rendered scikit-learn.org. See: https://github.com/scikit-learn/scikit-learn/issues/21755 */display: inline-block !important;position: relative;}#sk-container-id-1 div.sk-text-repr-fallback {display: none;}</style><div id=\"sk-container-id-1\" class=\"sk-top-container\"><div class=\"sk-text-repr-fallback\"><pre>HistGradientBoostingRegressor()</pre><b>In a Jupyter environment, please rerun this cell to show the HTML representation or trust the notebook. <br />On GitHub, the HTML representation is unable to render, please try loading this page with nbviewer.org.</b></div><div class=\"sk-container\" hidden><div class=\"sk-item\"><div class=\"sk-estimator sk-toggleable\"><input class=\"sk-toggleable__control sk-hidden--visually\" id=\"sk-estimator-id-1\" type=\"checkbox\" checked><label for=\"sk-estimator-id-1\" class=\"sk-toggleable__label sk-toggleable__label-arrow\">HistGradientBoostingRegressor</label><div class=\"sk-toggleable__content\"><pre>HistGradientBoostingRegressor()</pre></div></div></div></div></div>"
      ],
      "text/plain": [
       "HistGradientBoostingRegressor()"
      ]
     },
     "execution_count": 11,
     "metadata": {},
     "output_type": "execute_result"
    }
   ],
   "source": [
    "hgbr.fit(np.stack(train.numpy_fp),train.LogS)"
   ]
  },
  {
   "cell_type": "markdown",
   "id": "d44d929d",
   "metadata": {},
   "source": [
    "Predict on the test set and put the the predicted and and experimental values into a dataframe. "
   ]
  },
  {
   "cell_type": "code",
   "execution_count": 12,
   "id": "dacbe31e-3675-43f2-acd4-0e7d1505fdd8",
   "metadata": {},
   "outputs": [],
   "source": [
    "pred = hgbr.predict(np.stack(test.numpy_fp))\n",
    "pred_df = pd.DataFrame({\"Experiment\" : test.LogS, \"Prediction\" : pred})"
   ]
  },
  {
   "cell_type": "markdown",
   "id": "2f64da2f",
   "metadata": {},
   "source": [
    "Make a quick plot. "
   ]
  },
  {
   "cell_type": "code",
   "execution_count": 13,
   "id": "cba696a3-9a77-455e-a186-da50a0d2a69b",
   "metadata": {},
   "outputs": [
    {
     "data": {
      "image/png": "[encoded data removed]",
      "text/plain": [
       "<Figure size 500x500 with 1 Axes>"
      ]
     },
     "metadata": {},
     "output_type": "display_data"
    }
   ],
   "source": [
    "sns.lmplot(x=\"Experiment\",y=\"Prediction\",data=pred_df);"
   ]
  },
  {
   "cell_type": "markdown",
   "id": "ea7cea18",
   "metadata": {},
   "source": [
    "Calcuate stats"
   ]
  },
  {
   "cell_type": "code",
   "execution_count": 14,
   "id": "702786fa-e61c-455a-8be7-4be340a2b87b",
   "metadata": {},
   "outputs": [
    {
     "data": {
      "text/plain": [
       "(0.36963135979247663, 1.41962810190742)"
      ]
     },
     "execution_count": 14,
     "metadata": {},
     "output_type": "execute_result"
    }
   ],
   "source": [
    "r2 = r2_score(pred,test.LogS)\n",
    "rmse = mean_squared_error(pred,test.LogS,squared=False)\n",
    "r2, rmse"
   ]
  },
  {
   "cell_type": "markdown",
   "id": "d1933282",
   "metadata": {},
   "source": [
    "Now we're going to create a classification model.  We'll use a 30 $\\mu$M cutoff to divide soluble molecules from insoluble. As a sanity check, make a distribution plot to make sure we did this correctly. "
   ]
  },
  {
   "cell_type": "code",
   "execution_count": 15,
   "id": "4b430758",
   "metadata": {},
   "outputs": [
    {
     "data": {
      "image/png": "[encoded data removed]",
      "text/plain": [
       "<Figure size 584.875x500 with 1 Axes>"
      ]
     },
     "metadata": {},
     "output_type": "display_data"
    }
   ],
   "source": [
    "cutoff = np.log10(30*1e-6)\n",
    "df['sol'] = df.LogS > cutoff\n",
    "sns.displot(x=\"LogS\",hue=\"sol\",data=df);"
   ]
  },
  {
   "cell_type": "markdown",
   "id": "5d2aed72",
   "metadata": {},
   "source": [
    "Create a classifier."
   ]
  },
  {
   "cell_type": "code",
   "execution_count": 16,
   "id": "9fb98ee7-423a-47fe-8988-3f92061d30ef",
   "metadata": {},
   "outputs": [],
   "source": [
    "hgbc = HistGradientBoostingClassifier()"
   ]
  },
  {
   "cell_type": "markdown",
   "id": "db7d83f1",
   "metadata": {},
   "source": [
    "Split training a test sets."
   ]
  },
  {
   "cell_type": "code",
   "execution_count": 17,
   "id": "a3d596d1-a986-4419-a638-6ce3dea3b346",
   "metadata": {},
   "outputs": [],
   "source": [
    "train, test = train_test_split(df)"
   ]
  },
  {
   "cell_type": "markdown",
   "id": "370b6968",
   "metadata": {},
   "source": [
    "Train the classification model."
   ]
  },
  {
   "cell_type": "code",
   "execution_count": 18,
   "id": "11023580-8036-48bb-b160-5eb65ef95066",
   "metadata": {},
   "outputs": [
    {
     "data": {
      "text/html": [
       "<style>#sk-container-id-2 {color: black;background-color: white;}#sk-container-id-2 pre{padding: 0;}#sk-container-id-2 div.sk-toggleable {background-color: white;}#sk-container-id-2 label.sk-toggleable__label {cursor: pointer;display: block;width: 100%;margin-bottom: 0;padding: 0.3em;box-sizing: border-box;text-align: center;}#sk-container-id-2 label.sk-toggleable__label-arrow:before {content: \"▸\";float: left;margin-right: 0.25em;color: #696969;}#sk-container-id-2 label.sk-toggleable__label-arrow:hover:before {color: black;}#sk-container-id-2 div.sk-estimator:hover label.sk-toggleable__label-arrow:before {color: black;}#sk-container-id-2 div.sk-toggleable__content {max-height: 0;max-width: 0;overflow: hidden;text-align: left;background-color: #f0f8ff;}#sk-container-id-2 div.sk-toggleable__content pre {margin: 0.2em;color: black;border-radius: 0.25em;background-color: #f0f8ff;}#sk-container-id-2 input.sk-toggleable__control:checked~div.sk-toggleable__content {max-height: 200px;max-width: 100%;overflow: auto;}#sk-container-id-2 input.sk-toggleable__control:checked~label.sk-toggleable__label-arrow:before {content: \"▾\";}#sk-container-id-2 div.sk-estimator input.sk-toggleable__control:checked~label.sk-toggleable__label {background-color: #d4ebff;}#sk-container-id-2 div.sk-label input.sk-toggleable__control:checked~label.sk-toggleable__label {background-color: #d4ebff;}#sk-container-id-2 input.sk-hidden--visually {border: 0;clip: rect(1px 1px 1px 1px);clip: rect(1px, 1px, 1px, 1px);height: 1px;margin: -1px;overflow: hidden;padding: 0;position: absolute;width: 1px;}#sk-container-id-2 div.sk-estimator {font-family: monospace;background-color: #f0f8ff;border: 1px dotted black;border-radius: 0.25em;box-sizing: border-box;margin-bottom: 0.5em;}#sk-container-id-2 div.sk-estimator:hover {background-color: #d4ebff;}#sk-container-id-2 div.sk-parallel-item::after {content: \"\";width: 100%;border-bottom: 1px solid gray;flex-grow: 1;}#sk-container-id-2 div.sk-label:hover label.sk-toggleable__label {background-color: #d4ebff;}#sk-container-id-2 div.sk-serial::before {content: \"\";position: absolute;border-left: 1px solid gray;box-sizing: border-box;top: 0;bottom: 0;left: 50%;z-index: 0;}#sk-container-id-2 div.sk-serial {display: flex;flex-direction: column;align-items: center;background-color: white;padding-right: 0.2em;padding-left: 0.2em;position: relative;}#sk-container-id-2 div.sk-item {position: relative;z-index: 1;}#sk-container-id-2 div.sk-parallel {display: flex;align-items: stretch;justify-content: center;background-color: white;position: relative;}#sk-container-id-2 div.sk-item::before, #sk-container-id-2 div.sk-parallel-item::before {content: \"\";position: absolute;border-left: 1px solid gray;box-sizing: border-box;top: 0;bottom: 0;left: 50%;z-index: -1;}#sk-container-id-2 div.sk-parallel-item {display: flex;flex-direction: column;z-index: 1;position: relative;background-color: white;}#sk-container-id-2 div.sk-parallel-item:first-child::after {align-self: flex-end;width: 50%;}#sk-container-id-2 div.sk-parallel-item:last-child::after {align-self: flex-start;width: 50%;}#sk-container-id-2 div.sk-parallel-item:only-child::after {width: 0;}#sk-container-id-2 div.sk-dashed-wrapped {border: 1px dashed gray;margin: 0 0.4em 0.5em 0.4em;box-sizing: border-box;padding-bottom: 0.4em;background-color: white;}#sk-container-id-2 div.sk-label label {font-family: monospace;font-weight: bold;display: inline-block;line-height: 1.2em;}#sk-container-id-2 div.sk-label-container {text-align: center;}#sk-container-id-2 div.sk-container {/* jupyter's `normalize.less` sets `[hidden] { display: none; }` but bootstrap.min.css set `[hidden] { display: none !important; }` so we also need the `!important` here to be able to override the default hidden behavior on the sphinx rendered scikit-learn.org. See: https://github.com/scikit-learn/scikit-learn/issues/21755 */display: inline-block !important;position: relative;}#sk-container-id-2 div.sk-text-repr-fallback {display: none;}</style><div id=\"sk-container-id-2\" class=\"sk-top-container\"><div class=\"sk-text-repr-fallback\"><pre>HistGradientBoostingClassifier()</pre><b>In a Jupyter environment, please rerun this cell to show the HTML representation or trust the notebook. <br />On GitHub, the HTML representation is unable to render, please try loading this page with nbviewer.org.</b></div><div class=\"sk-container\" hidden><div class=\"sk-item\"><div class=\"sk-estimator sk-toggleable\"><input class=\"sk-toggleable__control sk-hidden--visually\" id=\"sk-estimator-id-2\" type=\"checkbox\" checked><label for=\"sk-estimator-id-2\" class=\"sk-toggleable__label sk-toggleable__label-arrow\">HistGradientBoostingClassifier</label><div class=\"sk-toggleable__content\"><pre>HistGradientBoostingClassifier()</pre></div></div></div></div></div>"
      ],
      "text/plain": [
       "HistGradientBoostingClassifier()"
      ]
     },
     "execution_count": 18,
     "metadata": {},
     "output_type": "execute_result"
    }
   ],
   "source": [
    "hgbc.fit(np.stack(train.numpy_fp),train.sol)"
   ]
  },
  {
   "cell_type": "markdown",
   "id": "dd988161",
   "metadata": {},
   "source": [
    "Predict on the test sest. "
   ]
  },
  {
   "cell_type": "code",
   "execution_count": 19,
   "id": "5c33f02f-1686-4278-a925-64e0baaced0d",
   "metadata": {},
   "outputs": [],
   "source": [
    "cls_pred = hgbc.predict(np.stack(test.numpy_fp))"
   ]
  },
  {
   "cell_type": "markdown",
   "id": "95d17026",
   "metadata": {},
   "source": [
    "Get the classification stats."
   ]
  },
  {
   "cell_type": "code",
   "execution_count": 20,
   "id": "52632824-e21b-456c-a245-8dead521841a",
   "metadata": {},
   "outputs": [
    {
     "data": {
      "text/plain": [
       "'AUC = 0.78 MCC = 0.61'"
      ]
     },
     "execution_count": 20,
     "metadata": {},
     "output_type": "execute_result"
    }
   ],
   "source": [
    "f\"AUC = {roc_auc_score(test.sol,cls_pred):.2f} MCC = {matthews_corrcoef(test.sol,cls_pred):.2f}\""
   ]
  },
  {
   "cell_type": "markdown",
   "id": "7fee4765",
   "metadata": {},
   "source": [
    "### 2. Generate analogs of our target molecule with CrEM"
   ]
  },
  {
   "cell_type": "markdown",
   "id": "27a00305",
   "metadata": {},
   "source": [
    "As a test we'll use [Palbociclib](https://en.wikipedia.org/wiki/Palbociclib)"
   ]
  },
  {
   "cell_type": "code",
   "execution_count": 21,
   "id": "390d5b3d-11f9-493a-8ef8-d679d85b3bba",
   "metadata": {},
   "outputs": [
    {
     "data": {
      "image/png": "[encoded data removed]",
      "text/plain": [
       "<rdkit.Chem.rdchem.Mol at 0x2ab9974a0>"
      ]
     },
     "execution_count": 21,
     "metadata": {},
     "output_type": "execute_result"
    }
   ],
   "source": [
    "palbo_smi = \"CC(=O)C1=C(C)c2cnc(Nc3ccc(cn3)N4CCNCC4)nc2N(C5CCCC5)C1=O\"\n",
    "palbo_mol = Chem.MolFromSmiles(palbo_smi)\n",
    "palbo_mol"
   ]
  },
  {
   "cell_type": "markdown",
   "id": "72b3b83a",
   "metadata": {},
   "source": [
    "Generate a numpy fingerprint for Palbociclib."
   ]
  },
  {
   "cell_type": "code",
   "execution_count": 22,
   "id": "e637609f-3b63-423c-954d-74b025dc7eae",
   "metadata": {},
   "outputs": [],
   "source": [
    "palbo_numpy_fp = uru.mol2numpy_fp(palbo_mol)"
   ]
  },
  {
   "cell_type": "markdown",
   "id": "e4750606",
   "metadata": {},
   "source": [
    "Predict solbuility for the Palbociclib fingerprint. "
   ]
  },
  {
   "cell_type": "code",
   "execution_count": 23,
   "id": "5746aa1b-38dc-499e-aa05-29bc288396c6",
   "metadata": {},
   "outputs": [
    {
     "data": {
      "text/plain": [
       "array([False])"
      ]
     },
     "execution_count": 23,
     "metadata": {},
     "output_type": "execute_result"
    }
   ],
   "source": [
    "hgbc.predict([palbo_numpy_fp])"
   ]
  },
  {
   "cell_type": "markdown",
   "id": "a1171eaf",
   "metadata": {},
   "source": [
    "Generate a list of analogs for Palbociclib. "
   ]
  },
  {
   "cell_type": "code",
   "execution_count": 24,
   "id": "70b4fdd9",
   "metadata": {},
   "outputs": [
    {
     "name": "stdout",
     "output_type": "stream",
     "text": [
      "\u001b[34mdata\u001b[m\u001b[m                                  \u001b[35mreplacements02_sc2.5.db\u001b[m\u001b[m\r\n",
      "explaining_with_counterfactuals.ipynb\r\n"
     ]
    }
   ],
   "source": [
    "!ls"
   ]
  },
  {
   "cell_type": "code",
   "execution_count": 25,
   "id": "24a0a943-3938-4ce5-be4a-5c4d98506db1",
   "metadata": {},
   "outputs": [],
   "source": [
    "analog_smi_list = list(mutate_mol(palbo_mol, db_name='replacements02_sc2.5.db', max_size=10))"
   ]
  },
  {
   "cell_type": "markdown",
   "id": "c52fa3c2",
   "metadata": {},
   "source": [
    "Put the analogs in a dataframe. "
   ]
  },
  {
   "cell_type": "code",
   "execution_count": 26,
   "id": "7b4c65b4-eb35-419c-bcfd-b4604353cd6f",
   "metadata": {},
   "outputs": [
    {
     "data": {
      "text/plain": [
       "272"
      ]
     },
     "execution_count": 26,
     "metadata": {},
     "output_type": "execute_result"
    }
   ],
   "source": [
    "analog_df = pd.DataFrame({\"SMILES\" : analog_smi_list})\n",
    "len(analog_df)"
   ]
  },
  {
   "cell_type": "markdown",
   "id": "31506564",
   "metadata": {},
   "source": [
    "### 3. Calculate similarity and solubility for the analogs"
   ]
  },
  {
   "cell_type": "code",
   "execution_count": 27,
   "id": "04bee5ea-4d4e-4fd8-9813-23c2fec993f6",
   "metadata": {},
   "outputs": [
    {
     "data": {
      "application/vnd.jupyter.widget-view+json": {
       "model_id": "94a22ef9f2ab4127a653b0102244f1ef",
       "version_major": 2,
       "version_minor": 0
      },
      "text/plain": [
       "  0%|          | 0/272 [00:00<?, ?it/s]"
      ]
     },
     "metadata": {},
     "output_type": "display_data"
    },
    {
     "data": {
      "application/vnd.jupyter.widget-view+json": {
       "model_id": "5b4ad5b1993549318cf2258368f0ed80",
       "version_major": 2,
       "version_minor": 0
      },
      "text/plain": [
       "  0%|          | 0/272 [00:00<?, ?it/s]"
      ]
     },
     "metadata": {},
     "output_type": "display_data"
    },
    {
     "data": {
      "application/vnd.jupyter.widget-view+json": {
       "model_id": "b4e82353d41b4562bdfde95568ddd185",
       "version_major": 2,
       "version_minor": 0
      },
      "text/plain": [
       "  0%|          | 0/272 [00:00<?, ?it/s]"
      ]
     },
     "metadata": {},
     "output_type": "display_data"
    }
   ],
   "source": [
    "# add an RDKit molecule to the dataframe\n",
    "analog_df['mol'] = analog_df.SMILES.progress_apply(Chem.MolFromSmiles)\n",
    "# add a Morgan fingerprint for similarity calculations\n",
    "analog_df['morgan_fp'] = analog_df.mol.progress_apply(uru.mol2morgan_fp)\n",
    "# add a numpy fingerprint for ML predictions\n",
    "analog_df['numpy_fp'] = analog_df.mol.progress_apply(uru.mol2numpy_fp)"
   ]
  },
  {
   "cell_type": "markdown",
   "id": "de85be9b",
   "metadata": {},
   "source": [
    "Generate a Morgan fingerprint for Palbociclib"
   ]
  },
  {
   "cell_type": "code",
   "execution_count": 28,
   "id": "e8182ec6-dc3f-4b1c-97e5-188919a6cb17",
   "metadata": {},
   "outputs": [],
   "source": [
    "palbo_morgan_fp = uru.mol2morgan_fp(palbo_mol)"
   ]
  },
  {
   "cell_type": "markdown",
   "id": "e03652ce",
   "metadata": {},
   "source": [
    "Calculate the similarity of the analogs to Palbociclib"
   ]
  },
  {
   "cell_type": "code",
   "execution_count": 29,
   "id": "f27e86f7-a9cb-40a2-b8da-c2bf0c6846bc",
   "metadata": {},
   "outputs": [],
   "source": [
    "analog_df['sim'] = DataStructs.BulkTanimotoSimilarity(palbo_morgan_fp,analog_df.morgan_fp.values)"
   ]
  },
  {
   "cell_type": "markdown",
   "id": "4e65f8a4",
   "metadata": {},
   "source": [
    "Calculate solubility for the analogs of Palbociclib"
   ]
  },
  {
   "cell_type": "code",
   "execution_count": 30,
   "id": "50587b6f-6dbe-4e9d-af6e-60a813fec307",
   "metadata": {},
   "outputs": [],
   "source": [
    "analog_df['pred_sol'] = hgbc.predict(np.stack(analog_df.numpy_fp))"
   ]
  },
  {
   "cell_type": "markdown",
   "id": "78460565",
   "metadata": {},
   "source": [
    "Get a summary of the predicited solubilities"
   ]
  },
  {
   "cell_type": "code",
   "execution_count": 31,
   "id": "a66b35ed",
   "metadata": {},
   "outputs": [
    {
     "data": {
      "text/plain": [
       "False    197\n",
       "True      75\n",
       "Name: pred_sol, dtype: int64"
      ]
     },
     "execution_count": 31,
     "metadata": {},
     "output_type": "execute_result"
    }
   ],
   "source": [
    "analog_df.pred_sol.value_counts()"
   ]
  },
  {
   "cell_type": "markdown",
   "id": "0063b542",
   "metadata": {},
   "source": [
    "Plot predicited solubility as a function of similarity to Palbociclib."
   ]
  },
  {
   "cell_type": "code",
   "execution_count": 32,
   "id": "b8d3d8ef-3fcc-43a2-91c1-022feb5a4628",
   "metadata": {},
   "outputs": [
    {
     "data": {
      "image/png": "[encoded data removed]",
      "text/plain": [
       "<Figure size 584.875x500 with 1 Axes>"
      ]
     },
     "metadata": {},
     "output_type": "display_data"
    }
   ],
   "source": [
    "ax = sns.displot(x=\"sim\",data=analog_df, hue=\"pred_sol\")\n",
    "ax.set(xlabel=\"Tanimoto Similarity to Palbociclib\");"
   ]
  },
  {
   "cell_type": "markdown",
   "id": "812e1624",
   "metadata": {},
   "source": [
    "Take a look at the predicted solubilities of the analogs and their similarity to Palbociclib. "
   ]
  },
  {
   "cell_type": "code",
   "execution_count": 33,
   "id": "cacc8fd1",
   "metadata": {},
   "outputs": [
    {
     "data": {
      "application/vnd.jupyter.widget-view+json": {
       "model_id": "4bf4fdf3549044e4a73d9643da60f15f",
       "version_major": 2,
       "version_minor": 0
      },
      "text/plain": [
       "MolGridWidget()"
      ]
     },
     "metadata": {},
     "output_type": "display_data"
    },
    {
     "data": {
      "text/html": [
       "<iframe class=\"mols2grid-iframe\" frameborder=\"0\" width=\"100%\"\n",
       "\n",
       "height=\"200\"\n",
       "\n",
       "\n",
       "allow=\"clipboard-write\"\n",
       "\n",
       "\n",
       "sandbox=\"allow-scripts allow-same-origin allow-downloads allow-popups allow-modals\"\n",
       "\n",
       "srcdoc=\"&lt;html&gt;\n",
       "  &lt;meta charset=&quot;utf-8&quot;&gt;\n",
       "  &lt;head&gt;\n",
       "    &lt;style&gt;\n",
       "    #mols2grid.gridcontainer {\n",
       "    display: block;\n",
       "    padding-left: 1em;\n",
       "    max-width: 820px;\n",
       "    width: 820px;\n",
       "}\n",
       "#mols2grid .cell {\n",
       "    border: 1px solid #cccccc;\n",
       "    text-align: center;\n",
       "    vertical-align: top;\n",
       "    max-width: 160px;\n",
       "    width: 160px;\n",
       "    font-family: &#x27;DejaVu&#x27;, sans-serif;\n",
       "    font-size: 12pt;\n",
       "    padding: 0;\n",
       "    margin: 0px;\n",
       "    float: left;\n",
       "}\n",
       "#mols2grid .cell:hover {\n",
       "    background-color: #e7e7e7 !important;\n",
       "}\n",
       "#mols2grid .cell .data-img {\n",
       "    padding: 0;\n",
       "    margin: 0;\n",
       "}\n",
       "#mols2grid .cell img, #mols2grid .cell svg {\n",
       "    max-width: 100%;\n",
       "    height: auto;\n",
       "    padding: 0;\n",
       "}\n",
       "#mols2grid .data {\n",
       "    overflow: hidden;\n",
       "    white-space: nowrap;\n",
       "    text-overflow: ellipsis;\n",
       "    display: block;\n",
       "}\n",
       "#mols2grid .arrow-asc:after {\n",
       "    content: &#x27;↑&#x27;;\n",
       "    text-align: right;\n",
       "    float:right;\n",
       "}\n",
       "#mols2grid .arrow-desc:after {\n",
       "    content: &#x27;↓&#x27;;\n",
       "    text-align: right;\n",
       "    float:right;\n",
       "}\n",
       "    /* custom CSS */\n",
       "    \n",
       "    &lt;/style&gt;\n",
       "    &lt;script src=&quot;https://cdnjs.cloudflare.com/ajax/libs/list.js/2.3.1/list.min.js&quot;&gt;&lt;/script&gt;\n",
       "&lt;script src=&quot;https://code.jquery.com/jquery-3.6.0.min.js&quot; integrity=&quot;sha256-/xUj+3OJU5yExlq6GSYGSHk7tPXikynS7ogEvDej/m4=&quot; crossorigin=&quot;anonymous&quot;&gt;&lt;/script&gt;\n",
       "&lt;script&gt;\n",
       "    function fit_height(obj) {\n",
       "        obj.style.height = 0;\n",
       "        var height = obj.contentDocument.body.scrollHeight + 18 + &#x27;px&#x27;;\n",
       "        obj.style.height = height;\n",
       "    }\n",
       "&lt;/script&gt;\n",
       "&lt;link rel=&quot;stylesheet&quot; href=&quot;https://cdn.jsdelivr.net/npm/bootstrap@4.6.0/dist/css/bootstrap.min.css&quot; integrity=&quot;sha384-B0vP5xmATw1+K9KRQjQERJvTumQW0nPEzvF6L/Z6nronJ3oUOFUFpCjEUQouq2+l&quot; crossorigin=&quot;anonymous&quot;&gt;\n",
       "&lt;script src=&quot;https://cdn.jsdelivr.net/npm/bootstrap@4.6.0/dist/js/bootstrap.bundle.min.js&quot; integrity=&quot;sha384-Piv4xVNRyMGpqkS2by6br4gNJ7DXjqk09RmUpJ8jgGtD7zP9yug3goQfGII0yAns&quot; crossorigin=&quot;anonymous&quot;&gt;&lt;/script&gt;\n",
       "&lt;script src=&quot;https://unpkg.com/@rdkit/rdkit@2022.3.1/Code/MinimalLib/dist/RDKit_minimal.js&quot;&gt;&lt;/script&gt;\n",
       "    &lt;!-- custom header --&gt;\n",
       "    \n",
       "  &lt;/head&gt;\n",
       "  &lt;body&gt;\n",
       "    &lt;div id=&quot;mols2grid&quot; class=&quot;gridcontainer grid-default&quot;&gt;\n",
       "      &lt;div class=&quot;row mb-3&quot;&gt;\n",
       "        &lt;div class=&quot;list&quot;&gt;&lt;div class=&quot;cell&quot; data-mols2grid-id=&quot;0&quot;&gt;&lt;div class=&quot;data data-img&quot;&gt;&lt;/div&gt;&lt;div class=&quot;data data-pred_sol style-pred_sol&quot; style=&quot;&quot;&gt;&lt;/div&gt;&lt;div class=&quot;data data-sim&quot;&gt;&lt;/div&gt;&lt;div class=&quot;data data-SMILES&quot; style=&quot;display: none;&quot;&gt;&lt;/div&gt;&lt;/div&gt;&lt;/div&gt;\n",
       "      &lt;/div&gt;\n",
       "      &lt;div class=&quot;d-inline&quot;&gt;\n",
       "        &lt;ul class=&quot;pagination float-left&quot;&gt;&lt;/ul&gt;\n",
       "        &lt;div id=&quot;controls&quot; class=&quot;d-flex flex-row float-right&quot;&gt;\n",
       "          \n",
       "          &lt;div id=&quot;sort-dropdown&quot; class=&quot;dropdown pl-2&quot;&gt;\n",
       "            &lt;button class=&quot;btn btn-light dropdown-toggle&quot; type=&quot;button&quot; id=&quot;sortDropdown&quot; data-toggle=&quot;dropdown&quot; aria-haspopup=&quot;true&quot; aria-expanded=&quot;false&quot;&gt;\n",
       "              Sort by\n",
       "            &lt;/button&gt;\n",
       "            &lt;div class=&quot;dropdown-menu&quot; aria-labelledby=&quot;sortDropdownMenu&quot;&gt;\n",
       "              \n",
       "              \n",
       "              \n",
       "              \n",
       "              \n",
       "              &lt;button class=&quot;dropdown-item sort-btn arrow-asc active&quot; type=&quot;button&quot; data-name=&quot;mols2grid-id&quot;&gt;Index&lt;/button&gt;\n",
       "              \n",
       "              \n",
       "              \n",
       "              \n",
       "              \n",
       "              &lt;button class=&quot;dropdown-item sort-btn &quot; type=&quot;button&quot; data-name=&quot;data-pred_sol&quot;&gt;pred_sol&lt;/button&gt;\n",
       "              \n",
       "              \n",
       "              \n",
       "              \n",
       "              \n",
       "              &lt;button class=&quot;dropdown-item sort-btn &quot; type=&quot;button&quot; data-name=&quot;data-sim&quot;&gt;sim&lt;/button&gt;\n",
       "              \n",
       "              \n",
       "              \n",
       "            &lt;/div&gt;\n",
       "          &lt;/div&gt;\n",
       "          &lt;div class=&quot;input-group row pl-4&quot;&gt;\n",
       "            &lt;input type=&quot;text&quot; id=&quot;searchbar&quot; class=&quot;form-control&quot; placeholder=&quot;Search&quot; aria-label=&quot;Search&quot; aria-describedby=&quot;basic-addon1&quot;&gt;\n",
       "            &lt;div class=&quot;input-group-append&quot;&gt;\n",
       "              &lt;button id=&quot;searchBtn&quot; class=&quot;btn btn-light dropdown-toggle&quot; type=&quot;button&quot; data-toggle=&quot;dropdown&quot; aria-haspopup=&quot;true&quot; aria-expanded=&quot;false&quot;&gt;🔎&lt;/button&gt;\n",
       "              &lt;div class=&quot;dropdown-menu dropdown-menu-right&quot;&gt;\n",
       "                &lt;button id=&quot;txtSearch&quot; class=&quot;search-btn dropdown-item active&quot;&gt;Text&lt;/button&gt;\n",
       "                &lt;button id=&quot;smartsSearch&quot; class=&quot;search-btn dropdown-item&quot;&gt;SMARTS&lt;/button&gt;\n",
       "              &lt;/div&gt;\n",
       "            &lt;/div&gt;\n",
       "          &lt;/div&gt;\n",
       "        &lt;/div&gt;\n",
       "      &lt;/div&gt;\n",
       "    &lt;/div&gt;\n",
       "    &lt;script&gt;\n",
       "    // list.js\n",
       "var listObj = new List(&#x27;mols2grid&#x27;, {\n",
       "    valueNames: [{data: [&#x27;mols2grid-id&#x27;]}, &#x27;data-sim&#x27;, &#x27;data-pred_sol&#x27;, &#x27;data-SMILES&#x27;, &#x27;data-img&#x27;, { attr: &#x27;style&#x27;, name: &#x27;style-pred_sol&#x27; }],\n",
       "    item: &#x27;&lt;div class=&quot;cell&quot; data-mols2grid-id=&quot;0&quot;&gt;&lt;div class=&quot;data data-img&quot;&gt;&lt;/div&gt;&lt;div class=&quot;data data-pred_sol style-pred_sol&quot; style=&quot;&quot;&gt;&lt;/div&gt;&lt;div class=&quot;data data-sim&quot;&gt;&lt;/div&gt;&lt;div class=&quot;data data-SMILES&quot; style=&quot;display: none;&quot;&gt;&lt;/div&gt;&lt;/div&gt;&#x27;,\n",
       "    page: 15,\n",
       "    pagination: {\n",
       "        name: &quot;pagination&quot;,\n",
       "        item: &#x27;&lt;li class=&quot;page-item&quot;&gt;&lt;a class=&quot;page page-link&quot; href=&quot;#&quot; onclick=&quot;event.preventDefault()&quot;&gt;&lt;/a&gt;&lt;/li&gt;&#x27;,\n",
       "        innerWindow: 1,\n",
       "        outerWindow: 1,\n",
       "    },\n",
       "});\n",
       "listObj.remove(&quot;mols2grid-id&quot;, &quot;0&quot;);\n",
       "listObj.add([{&quot;data-pred_sol&quot;: false, &quot;data-sim&quot;: &quot;0.73&quot;, &quot;mols2grid-id&quot;: 0, &quot;data-SMILES&quot;: &quot;CC(=O)c1cc2cnc(Nc3ccc(N4CCNCC4)cn3)nc2n(C2CCCC2)c1=O&quot;, &quot;data-img&quot;: null, &quot;style-pred_sol&quot;: &quot;color: red&quot;}, {&quot;data-pred_sol&quot;: false, &quot;data-sim&quot;: &quot;0.85&quot;, &quot;mols2grid-id&quot;: 1, &quot;data-SMILES&quot;: &quot;CC(=O)c1c(O)c2cnc(Nc3ccc(N4CCNCC4)cn3)nc2n(C2CCCC2)c1=O&quot;, &quot;data-img&quot;: null, &quot;style-pred_sol&quot;: &quot;color: red&quot;}, {&quot;data-pred_sol&quot;: false, &quot;data-sim&quot;: &quot;0.84&quot;, &quot;mols2grid-id&quot;: 2, &quot;data-SMILES&quot;: &quot;CC(=O)c1c(C(=O)O)c2cnc(Nc3ccc(N4CCNCC4)cn3)nc2n(C2CCCC2)c1=O&quot;, &quot;data-img&quot;: null, &quot;style-pred_sol&quot;: &quot;color: red&quot;}, {&quot;data-pred_sol&quot;: false, &quot;data-sim&quot;: &quot;0.84&quot;, &quot;mols2grid-id&quot;: 3, &quot;data-SMILES&quot;: &quot;CCC(=O)c1c(C)c2cnc(Nc3ccc(N4CCNCC4)cn3)nc2n(C2CCCC2)c1=O&quot;, &quot;data-img&quot;: null, &quot;style-pred_sol&quot;: &quot;color: red&quot;}, {&quot;data-pred_sol&quot;: false, &quot;data-sim&quot;: &quot;0.83&quot;, &quot;mols2grid-id&quot;: 4, &quot;data-SMILES&quot;: &quot;CCCC(=O)c1c(C)c2cnc(Nc3ccc(N4CCNCC4)cn3)nc2n(C2CCCC2)c1=O&quot;, &quot;data-img&quot;: null, &quot;style-pred_sol&quot;: &quot;color: red&quot;}, {&quot;data-pred_sol&quot;: false, &quot;data-sim&quot;: &quot;0.82&quot;, &quot;mols2grid-id&quot;: 5, &quot;data-SMILES&quot;: &quot;CCOC(=O)c1c(C)c2cnc(Nc3ccc(N4CCNCC4)cn3)nc2n(C2CCCC2)c1=O&quot;, &quot;data-img&quot;: null, &quot;style-pred_sol&quot;: &quot;color: red&quot;}, {&quot;data-pred_sol&quot;: false, &quot;data-sim&quot;: &quot;0.83&quot;, &quot;mols2grid-id&quot;: 6, &quot;data-SMILES&quot;: &quot;Cc1c(C(=O)CCl)c(=O)n(C2CCCC2)c2nc(Nc3ccc(N4CCNCC4)cn3)ncc12&quot;, &quot;data-img&quot;: null, &quot;style-pred_sol&quot;: &quot;color: red&quot;}, {&quot;data-pred_sol&quot;: false, &quot;data-sim&quot;: &quot;0.85&quot;, &quot;mols2grid-id&quot;: 7, &quot;data-SMILES&quot;: &quot;COC(=O)c1c(C)c2cnc(Nc3ccc(N4CCNCC4)cn3)nc2n(C2CCCC2)c1=O&quot;, &quot;data-img&quot;: null, &quot;style-pred_sol&quot;: &quot;color: red&quot;}, {&quot;data-pred_sol&quot;: false, &quot;data-sim&quot;: &quot;0.76&quot;, &quot;mols2grid-id&quot;: 8, &quot;data-SMILES&quot;: &quot;Cc1c(C=O)c(=O)n(C2CCCC2)c2nc(Nc3ccc(N4CCNCC4)cn3)ncc12&quot;, &quot;data-img&quot;: null, &quot;style-pred_sol&quot;: &quot;color: red&quot;}, {&quot;data-pred_sol&quot;: true, &quot;data-sim&quot;: &quot;0.87&quot;, &quot;mols2grid-id&quot;: 9, &quot;data-SMILES&quot;: &quot;Cc1c(C(N)=O)c(=O)n(C2CCCC2)c2nc(Nc3ccc(N4CCNCC4)cn3)ncc12&quot;, &quot;data-img&quot;: null, &quot;style-pred_sol&quot;: &quot;color: green&quot;}, {&quot;data-pred_sol&quot;: false, &quot;data-sim&quot;: &quot;0.84&quot;, &quot;mols2grid-id&quot;: 10, &quot;data-SMILES&quot;: &quot;Cc1c(C(=O)NN)c(=O)n(C2CCCC2)c2nc(Nc3ccc(N4CCNCC4)cn3)ncc12&quot;, &quot;data-img&quot;: null, &quot;style-pred_sol&quot;: &quot;color: red&quot;}, {&quot;data-pred_sol&quot;: false, &quot;data-sim&quot;: &quot;0.89&quot;, &quot;mols2grid-id&quot;: 11, &quot;data-SMILES&quot;: &quot;Cc1c(C(=O)O)c(=O)n(C2CCCC2)c2nc(Nc3ccc(N4CCNCC4)cn3)ncc12&quot;, &quot;data-img&quot;: null, &quot;style-pred_sol&quot;: &quot;color: red&quot;}, {&quot;data-pred_sol&quot;: true, &quot;data-sim&quot;: &quot;0.63&quot;, &quot;mols2grid-id&quot;: 12, &quot;data-SMILES&quot;: &quot;CC(=O)c1c(C)c2cnc(Nc3ccc(Oc4ccccc4Br)cn3)nc2n(C2CCCC2)c1=O&quot;, &quot;data-img&quot;: null, &quot;style-pred_sol&quot;: &quot;color: green&quot;}, {&quot;data-pred_sol&quot;: false, &quot;data-sim&quot;: &quot;0.66&quot;, &quot;mols2grid-id&quot;: 13, &quot;data-SMILES&quot;: &quot;CC(=O)c1c(C)c2cnc(Nc3ccc(Oc4ccc(Br)cc4)cn3)nc2n(C2CCCC2)c1=O&quot;, &quot;data-img&quot;: null, &quot;style-pred_sol&quot;: &quot;color: red&quot;}, {&quot;data-pred_sol&quot;: false, &quot;data-sim&quot;: &quot;0.68&quot;, &quot;mols2grid-id&quot;: 14, &quot;data-SMILES&quot;: &quot;CC(=O)c1c(C)c2cnc(Nc3ccc(C4=CCNCC4)cn3)nc2n(C2CCCC2)c1=O&quot;, &quot;data-img&quot;: null, &quot;style-pred_sol&quot;: &quot;color: red&quot;}, {&quot;data-pred_sol&quot;: false, &quot;data-sim&quot;: &quot;0.65&quot;, &quot;mols2grid-id&quot;: 15, &quot;data-SMILES&quot;: &quot;CC(=O)c1c(C)c2cnc(Nc3ccc(-c4ccsc4)cn3)nc2n(C2CCCC2)c1=O&quot;, &quot;data-img&quot;: null, &quot;style-pred_sol&quot;: &quot;color: red&quot;}, {&quot;data-pred_sol&quot;: false, &quot;data-sim&quot;: &quot;0.68&quot;, &quot;mols2grid-id&quot;: 16, &quot;data-SMILES&quot;: &quot;CC(=O)c1c(C)c2cnc(Nc3ccc(-c4cc[nH]n4)cn3)nc2n(C2CCCC2)c1=O&quot;, &quot;data-img&quot;: null, &quot;style-pred_sol&quot;: &quot;color: red&quot;}, {&quot;data-pred_sol&quot;: false, &quot;data-sim&quot;: &quot;0.69&quot;, &quot;mols2grid-id&quot;: 17, &quot;data-SMILES&quot;: &quot;CC(=O)c1c(C)c2cnc(Nc3ccc(-c4ccccc4)cn3)nc2n(C2CCCC2)c1=O&quot;, &quot;data-img&quot;: null, &quot;style-pred_sol&quot;: &quot;color: red&quot;}, {&quot;data-pred_sol&quot;: false, &quot;data-sim&quot;: &quot;0.66&quot;, &quot;mols2grid-id&quot;: 18, &quot;data-SMILES&quot;: &quot;CC(=O)c1c(C)c2cnc(Nc3ccc(-c4ccccn4)cn3)nc2n(C2CCCC2)c1=O&quot;, &quot;data-img&quot;: null, &quot;style-pred_sol&quot;: &quot;color: red&quot;}, {&quot;data-pred_sol&quot;: false, &quot;data-sim&quot;: &quot;0.66&quot;, &quot;mols2grid-id&quot;: 19, &quot;data-SMILES&quot;: &quot;CC(=O)c1c(C)c2cnc(Nc3ccc(CCc4ccccc4)cn3)nc2n(C2CCCC2)c1=O&quot;, &quot;data-img&quot;: null, &quot;style-pred_sol&quot;: &quot;color: red&quot;}, {&quot;data-pred_sol&quot;: false, &quot;data-sim&quot;: &quot;0.64&quot;, &quot;mols2grid-id&quot;: 20, &quot;data-SMILES&quot;: &quot;CC(=O)c1c(C)c2cnc(Nc3ccc(NCc4ccccc4)cn3)nc2n(C2CCCC2)c1=O&quot;, &quot;data-img&quot;: null, &quot;style-pred_sol&quot;: &quot;color: red&quot;}, {&quot;data-pred_sol&quot;: false, &quot;data-sim&quot;: &quot;0.64&quot;, &quot;mols2grid-id&quot;: 21, &quot;data-SMILES&quot;: &quot;CC(=O)c1c(C)c2cnc(Nc3ccc(OCc4ccccc4)cn3)nc2n(C2CCCC2)c1=O&quot;, &quot;data-img&quot;: null, &quot;style-pred_sol&quot;: &quot;color: red&quot;}, {&quot;data-pred_sol&quot;: false, &quot;data-sim&quot;: &quot;0.63&quot;, &quot;mols2grid-id&quot;: 22, &quot;data-SMILES&quot;: &quot;CC(=O)c1c(C)c2cnc(Nc3ccc(SCc4ccccc4)cn3)nc2n(C2CCCC2)c1=O&quot;, &quot;data-img&quot;: null, &quot;style-pred_sol&quot;: &quot;color: red&quot;}, {&quot;data-pred_sol&quot;: false, &quot;data-sim&quot;: &quot;0.66&quot;, &quot;mols2grid-id&quot;: 23, &quot;data-SMILES&quot;: &quot;CC(=O)c1c(C)c2cnc(Nc3ccc(CNC4CCCC4)cn3)nc2n(C2CCCC2)c1=O&quot;, &quot;data-img&quot;: null, &quot;style-pred_sol&quot;: &quot;color: red&quot;}, {&quot;data-pred_sol&quot;: false, &quot;data-sim&quot;: &quot;0.64&quot;, &quot;mols2grid-id&quot;: 24, &quot;data-SMILES&quot;: &quot;CC(=O)c1c(C)c2cnc(Nc3ccc(CNc4ccccc4)cn3)nc2n(C2CCCC2)c1=O&quot;, &quot;data-img&quot;: null, &quot;style-pred_sol&quot;: &quot;color: red&quot;}, {&quot;data-pred_sol&quot;: false, &quot;data-sim&quot;: &quot;0.64&quot;, &quot;mols2grid-id&quot;: 25, &quot;data-SMILES&quot;: &quot;CC(=O)c1c(C)c2cnc(Nc3ccc(CN=C4CCCCC4)cn3)nc2n(C2CCCC2)c1=O&quot;, &quot;data-img&quot;: null, &quot;style-pred_sol&quot;: &quot;color: red&quot;}, {&quot;data-pred_sol&quot;: false, &quot;data-sim&quot;: &quot;0.65&quot;, &quot;mols2grid-id&quot;: 26, &quot;data-SMILES&quot;: &quot;CC(=O)c1c(C)c2cnc(Nc3ccc(CNC4CCCCC4)cn3)nc2n(C2CCCC2)c1=O&quot;, &quot;data-img&quot;: null, &quot;style-pred_sol&quot;: &quot;color: red&quot;}, {&quot;data-pred_sol&quot;: false, &quot;data-sim&quot;: &quot;0.67&quot;, &quot;mols2grid-id&quot;: 27, &quot;data-SMILES&quot;: &quot;CC(=O)c1c(C)c2cnc(Nc3ccc(Oc4ccccc4)cn3)nc2n(C2CCCC2)c1=O&quot;, &quot;data-img&quot;: null, &quot;style-pred_sol&quot;: &quot;color: red&quot;}, {&quot;data-pred_sol&quot;: false, &quot;data-sim&quot;: &quot;0.66&quot;, &quot;mols2grid-id&quot;: 28, &quot;data-SMILES&quot;: &quot;CC(=O)c1c(C)c2cnc(Nc3ccc(Sc4ccccc4)cn3)nc2n(C2CCCC2)c1=O&quot;, &quot;data-img&quot;: null, &quot;style-pred_sol&quot;: &quot;color: red&quot;}, {&quot;data-pred_sol&quot;: false, &quot;data-sim&quot;: &quot;0.60&quot;, &quot;mols2grid-id&quot;: 29, &quot;data-SMILES&quot;: &quot;CC(=O)c1c(C)c2cnc(Nc3ccc(CSc4ccccn4)cn3)nc2n(C2CCCC2)c1=O&quot;, &quot;data-img&quot;: null, &quot;style-pred_sol&quot;: &quot;color: red&quot;}, {&quot;data-pred_sol&quot;: false, &quot;data-sim&quot;: &quot;0.75&quot;, &quot;mols2grid-id&quot;: 30, &quot;data-SMILES&quot;: &quot;CC(=O)c1c(C)c2cnc(Nc3ccc(-n4cccc4)cn3)nc2n(C2CCCC2)c1=O&quot;, &quot;data-img&quot;: null, &quot;style-pred_sol&quot;: &quot;color: red&quot;}, {&quot;data-pred_sol&quot;: false, &quot;data-sim&quot;: &quot;0.86&quot;, &quot;mols2grid-id&quot;: 31, &quot;data-SMILES&quot;: &quot;CC(=O)c1c(C)c2cnc(Nc3ccc(N4CCCCC4)cn3)nc2n(C2CCCC2)c1=O&quot;, &quot;data-img&quot;: null, &quot;style-pred_sol&quot;: &quot;color: red&quot;}, {&quot;data-pred_sol&quot;: false, &quot;data-sim&quot;: &quot;0.66&quot;, &quot;mols2grid-id&quot;: 32, &quot;data-SMILES&quot;: &quot;CC(=O)c1c(C)c2cnc(Nc3ccc(OCCN4CCCC4)cn3)nc2n(C2CCCC2)c1=O&quot;, &quot;data-img&quot;: null, &quot;style-pred_sol&quot;: &quot;color: red&quot;}, {&quot;data-pred_sol&quot;: false, &quot;data-sim&quot;: &quot;0.82&quot;, &quot;mols2grid-id&quot;: 33, &quot;data-SMILES&quot;: &quot;CC(=O)c1c(C)c2cnc(Nc3ccc(N4CCOCC4)cn3)nc2n(C2CCCC2)c1=O&quot;, &quot;data-img&quot;: null, &quot;style-pred_sol&quot;: &quot;color: red&quot;}, {&quot;data-pred_sol&quot;: false, &quot;data-sim&quot;: &quot;0.71&quot;, &quot;mols2grid-id&quot;: 34, &quot;data-SMILES&quot;: &quot;CC(=O)c1c(C)c2cnc(Nc3ccc(-n4ccnc4)cn3)nc2n(C2CCCC2)c1=O&quot;, &quot;data-img&quot;: null, &quot;style-pred_sol&quot;: &quot;color: red&quot;}, {&quot;data-pred_sol&quot;: false, &quot;data-sim&quot;: &quot;0.71&quot;, &quot;mols2grid-id&quot;: 35, &quot;data-SMILES&quot;: &quot;CC(=O)c1c(C)c2cnc(Nc3ccc(-n4ccnn4)cn3)nc2n(C2CCCC2)c1=O&quot;, &quot;data-img&quot;: null, &quot;style-pred_sol&quot;: &quot;color: red&quot;}, {&quot;data-pred_sol&quot;: true, &quot;data-sim&quot;: &quot;0.62&quot;, &quot;mols2grid-id&quot;: 36, &quot;data-SMILES&quot;: &quot;CC(=O)c1c(C)c2cnc(Nc3ccc(Cn4ccnc4)cn3)nc2n(C2CCCC2)c1=O&quot;, &quot;data-img&quot;: null, &quot;style-pred_sol&quot;: &quot;color: green&quot;}, {&quot;data-pred_sol&quot;: false, &quot;data-sim&quot;: &quot;0.68&quot;, &quot;mols2grid-id&quot;: 37, &quot;data-SMILES&quot;: &quot;CC(=O)c1c(C)c2cnc(Nc3ccc(C4=NCCN4)cn3)nc2n(C2CCCC2)c1=O&quot;, &quot;data-img&quot;: null, &quot;style-pred_sol&quot;: &quot;color: red&quot;}, {&quot;data-pred_sol&quot;: false, &quot;data-sim&quot;: &quot;0.68&quot;, &quot;mols2grid-id&quot;: 38, &quot;data-SMILES&quot;: &quot;CC(=O)c1c(C)c2cnc(Nc3ccc(-c4ncccn4)cn3)nc2n(C2CCCC2)c1=O&quot;, &quot;data-img&quot;: null, &quot;style-pred_sol&quot;: &quot;color: red&quot;}, {&quot;data-pred_sol&quot;: true, &quot;data-sim&quot;: &quot;0.66&quot;, &quot;mols2grid-id&quot;: 39, &quot;data-SMILES&quot;: &quot;CC(=O)c1c(C)c2cnc(Nc3ccc(-c4cccnc4)cn3)nc2n(C2CCCC2)c1=O&quot;, &quot;data-img&quot;: null, &quot;style-pred_sol&quot;: &quot;color: green&quot;}, {&quot;data-pred_sol&quot;: false, &quot;data-sim&quot;: &quot;0.65&quot;, &quot;mols2grid-id&quot;: 40, &quot;data-SMILES&quot;: &quot;CC(=O)c1c(C)c2cnc(Nc3ccc(CC4=NCCN4)cn3)nc2n(C2CCCC2)c1=O&quot;, &quot;data-img&quot;: null, &quot;style-pred_sol&quot;: &quot;color: red&quot;}, {&quot;data-pred_sol&quot;: false, &quot;data-sim&quot;: &quot;0.64&quot;, &quot;mols2grid-id&quot;: 41, &quot;data-SMILES&quot;: &quot;CC(=O)c1c(C)c2cnc(Nc3ccc(Oc4cccnc4)cn3)nc2n(C2CCCC2)c1=O&quot;, &quot;data-img&quot;: null, &quot;style-pred_sol&quot;: &quot;color: red&quot;}, {&quot;data-pred_sol&quot;: true, &quot;data-sim&quot;: &quot;0.63&quot;, &quot;mols2grid-id&quot;: 42, &quot;data-SMILES&quot;: &quot;CC(=O)c1c(C)c2cnc(Nc3ccc(CSc4ncccn4)cn3)nc2n(C2CCCC2)c1=O&quot;, &quot;data-img&quot;: null, &quot;style-pred_sol&quot;: &quot;color: green&quot;}, {&quot;data-pred_sol&quot;: false, &quot;data-sim&quot;: &quot;0.64&quot;, &quot;mols2grid-id&quot;: 43, &quot;data-SMILES&quot;: &quot;CC(=O)c1c(C)c2cnc(Nc3ccc(-c4ccco4)cn3)nc2n(C2CCCC2)c1=O&quot;, &quot;data-img&quot;: null, &quot;style-pred_sol&quot;: &quot;color: red&quot;}, {&quot;data-pred_sol&quot;: false, &quot;data-sim&quot;: &quot;0.65&quot;, &quot;mols2grid-id&quot;: 44, &quot;data-SMILES&quot;: &quot;CC(=O)c1c(C)c2cnc(Nc3ccc(-c4cccs4)cn3)nc2n(C2CCCC2)c1=O&quot;, &quot;data-img&quot;: null, &quot;style-pred_sol&quot;: &quot;color: red&quot;}, {&quot;data-pred_sol&quot;: false, &quot;data-sim&quot;: &quot;0.66&quot;, &quot;mols2grid-id&quot;: 45, &quot;data-SMILES&quot;: &quot;CC(=O)c1c(C)c2cnc(Nc3ccc(C4SCCCS4)cn3)nc2n(C2CCCC2)c1=O&quot;, &quot;data-img&quot;: null, &quot;style-pred_sol&quot;: &quot;color: red&quot;}, {&quot;data-pred_sol&quot;: false, &quot;data-sim&quot;: &quot;0.60&quot;, &quot;mols2grid-id&quot;: 46, &quot;data-SMILES&quot;: &quot;CC(=O)c1c(C)c2cnc(Nc3ccc(CSC4=NCCS4)cn3)nc2n(C2CCCC2)c1=O&quot;, &quot;data-img&quot;: null, &quot;style-pred_sol&quot;: &quot;color: red&quot;}, {&quot;data-pred_sol&quot;: false, &quot;data-sim&quot;: &quot;0.68&quot;, &quot;mols2grid-id&quot;: 47, &quot;data-SMILES&quot;: &quot;CC(=O)c1c(C)c2cnc(Nc3ccc(-c4cncnc4)cn3)nc2n(C2CCCC2)c1=O&quot;, &quot;data-img&quot;: null, &quot;style-pred_sol&quot;: &quot;color: red&quot;}, {&quot;data-pred_sol&quot;: true, &quot;data-sim&quot;: &quot;0.64&quot;, &quot;mols2grid-id&quot;: 48, &quot;data-SMILES&quot;: &quot;CC(=O)c1c(C)c2cnc(Nc3ccc(Cc4cnc[nH]4)cn3)nc2n(C2CCCC2)c1=O&quot;, &quot;data-img&quot;: null, &quot;style-pred_sol&quot;: &quot;color: green&quot;}, {&quot;data-pred_sol&quot;: false, &quot;data-sim&quot;: &quot;0.71&quot;, &quot;mols2grid-id&quot;: 49, &quot;data-SMILES&quot;: &quot;CC(=O)c1c(C)c2cnc(Nc3ccc(-n4cncn4)cn3)nc2n(C2CCCC2)c1=O&quot;, &quot;data-img&quot;: null, &quot;style-pred_sol&quot;: &quot;color: red&quot;}, {&quot;data-pred_sol&quot;: false, &quot;data-sim&quot;: &quot;0.68&quot;, &quot;mols2grid-id&quot;: 50, &quot;data-SMILES&quot;: &quot;CC(=O)c1c(C)c2cnc(Nc3ccc(-c4cn[nH]c4)cn3)nc2n(C2CCCC2)c1=O&quot;, &quot;data-img&quot;: null, &quot;style-pred_sol&quot;: &quot;color: red&quot;}, {&quot;data-pred_sol&quot;: false, &quot;data-sim&quot;: &quot;0.68&quot;, &quot;mols2grid-id&quot;: 51, &quot;data-SMILES&quot;: &quot;CC(=O)c1c(C)c2cnc(Nc3ccc(-c4cn[nH]n4)cn3)nc2n(C2CCCC2)c1=O&quot;, &quot;data-img&quot;: null, &quot;style-pred_sol&quot;: &quot;color: red&quot;}, {&quot;data-pred_sol&quot;: true, &quot;data-sim&quot;: &quot;0.71&quot;, &quot;mols2grid-id&quot;: 52, &quot;data-SMILES&quot;: &quot;CC(=O)c1c(C)c2cnc(Nc3ccc(-n4cnnn4)cn3)nc2n(C2CCCC2)c1=O&quot;, &quot;data-img&quot;: null, &quot;style-pred_sol&quot;: &quot;color: green&quot;}, {&quot;data-pred_sol&quot;: false, &quot;data-sim&quot;: &quot;0.64&quot;, &quot;mols2grid-id&quot;: 53, &quot;data-SMILES&quot;: &quot;CC(=O)c1c(C)c2cnc(Nc3ccc(-c4ncno4)cn3)nc2n(C2CCCC2)c1=O&quot;, &quot;data-img&quot;: null, &quot;style-pred_sol&quot;: &quot;color: red&quot;}, {&quot;data-pred_sol&quot;: false, &quot;data-sim&quot;: &quot;0.66&quot;, &quot;mols2grid-id&quot;: 54, &quot;data-SMILES&quot;: &quot;CC(=O)c1c(C)c2cnc(Nc3ccc(C=Cc4ccccc4)cn3)nc2n(C2CCCC2)c1=O&quot;, &quot;data-img&quot;: null, &quot;style-pred_sol&quot;: &quot;color: red&quot;}, {&quot;data-pred_sol&quot;: false, &quot;data-sim&quot;: &quot;0.65&quot;, &quot;mols2grid-id&quot;: 55, &quot;data-SMILES&quot;: &quot;CC(=O)c1c(C)c2cnc(Nc3ccc(C=Cc4ccncc4)cn3)nc2n(C2CCCC2)c1=O&quot;, &quot;data-img&quot;: null, &quot;style-pred_sol&quot;: &quot;color: red&quot;}, {&quot;data-pred_sol&quot;: false, &quot;data-sim&quot;: &quot;0.65&quot;, &quot;mols2grid-id&quot;: 56, &quot;data-SMILES&quot;: &quot;CC(=O)c1c(C)c2cnc(Nc3ccc(C#Cc4ccsc4)cn3)nc2n(C2CCCC2)c1=O&quot;, &quot;data-img&quot;: null, &quot;style-pred_sol&quot;: &quot;color: red&quot;}, {&quot;data-pred_sol&quot;: true, &quot;data-sim&quot;: &quot;0.63&quot;, &quot;mols2grid-id&quot;: 57, &quot;data-SMILES&quot;: &quot;CC(=O)c1c(C)c2cnc(Nc3ccc(C=Cc4cnc[nH]4)cn3)nc2n(C2CCCC2)c1=O&quot;, &quot;data-img&quot;: null, &quot;style-pred_sol&quot;: &quot;color: green&quot;}, {&quot;data-pred_sol&quot;: false, &quot;data-sim&quot;: &quot;0.65&quot;, &quot;mols2grid-id&quot;: 58, &quot;data-SMILES&quot;: &quot;CC(=O)c1c(C)c2cnc(Nc3ccc(C=CC4=NCCN4)cn3)nc2n(C2CCCC2)c1=O&quot;, &quot;data-img&quot;: null, &quot;style-pred_sol&quot;: &quot;color: red&quot;}, {&quot;data-pred_sol&quot;: false, &quot;data-sim&quot;: &quot;0.67&quot;, &quot;mols2grid-id&quot;: 59, &quot;data-SMILES&quot;: &quot;CC(=O)c1c(C)c2cnc(Nc3ccc(-c4ccc(C)cn4)cn3)nc2n(C2CCCC2)c1=O&quot;, &quot;data-img&quot;: null, &quot;style-pred_sol&quot;: &quot;color: red&quot;}, {&quot;data-pred_sol&quot;: false, &quot;data-sim&quot;: &quot;0.66&quot;, &quot;mols2grid-id&quot;: 60, &quot;data-SMILES&quot;: &quot;CC(=O)c1c(C)c2cnc(Nc3ccc(-c4cccc(C)c4)cn3)nc2n(C2CCCC2)c1=O&quot;, &quot;data-img&quot;: null, &quot;style-pred_sol&quot;: &quot;color: red&quot;}, {&quot;data-pred_sol&quot;: false, &quot;data-sim&quot;: &quot;0.67&quot;, &quot;mols2grid-id&quot;: 61, &quot;data-SMILES&quot;: &quot;CC(=O)c1c(C)c2cnc(Nc3ccc(-c4cccc(C)n4)cn3)nc2n(C2CCCC2)c1=O&quot;, &quot;data-img&quot;: null, &quot;style-pred_sol&quot;: &quot;color: red&quot;}, {&quot;data-pred_sol&quot;: false, &quot;data-sim&quot;: &quot;0.63&quot;, &quot;mols2grid-id&quot;: 62, &quot;data-SMILES&quot;: &quot;CC(=O)c1c(C)c2cnc(Nc3ccc(C(O)c4ccc(C)o4)cn3)nc2n(C2CCCC2)c1=O&quot;, &quot;data-img&quot;: null, &quot;style-pred_sol&quot;: &quot;color: red&quot;}, {&quot;data-pred_sol&quot;: false, &quot;data-sim&quot;: &quot;0.67&quot;, &quot;mols2grid-id&quot;: 63, &quot;data-SMILES&quot;: &quot;CC(=O)c1c(C)c2cnc(Nc3ccc(-c4cc(C)ccn4)cn3)nc2n(C2CCCC2)c1=O&quot;, &quot;data-img&quot;: null, &quot;style-pred_sol&quot;: &quot;color: red&quot;}, {&quot;data-pred_sol&quot;: false, &quot;data-sim&quot;: &quot;0.65&quot;, &quot;mols2grid-id&quot;: 64, &quot;data-SMILES&quot;: &quot;CC(=O)c1c(C)c2cnc(Nc3ccc(-c4csc(C)n4)cn3)nc2n(C2CCCC2)c1=O&quot;, &quot;data-img&quot;: null, &quot;style-pred_sol&quot;: &quot;color: red&quot;}, {&quot;data-pred_sol&quot;: false, &quot;data-sim&quot;: &quot;0.61&quot;, &quot;mols2grid-id&quot;: 65, &quot;data-SMILES&quot;: &quot;CC(=O)c1c(C)c2cnc(Nc3ccc(C=C4N=C(C)OC4=O)cn3)nc2n(C2CCCC2)c1=O&quot;, &quot;data-img&quot;: null, &quot;style-pred_sol&quot;: &quot;color: red&quot;}, {&quot;data-pred_sol&quot;: true, &quot;data-sim&quot;: &quot;0.72&quot;, &quot;mols2grid-id&quot;: 66, &quot;data-SMILES&quot;: &quot;CC(=O)c1c(C)c2cnc(Nc3ccc(-n4ccnc4C)cn3)nc2n(C2CCCC2)c1=O&quot;, &quot;data-img&quot;: null, &quot;style-pred_sol&quot;: &quot;color: green&quot;}, {&quot;data-pred_sol&quot;: true, &quot;data-sim&quot;: &quot;0.63&quot;, &quot;mols2grid-id&quot;: 67, &quot;data-SMILES&quot;: &quot;CC(=O)c1c(C)c2cnc(Nc3ccc(Cn4ccnc4C)cn3)nc2n(C2CCCC2)c1=O&quot;, &quot;data-img&quot;: null, &quot;style-pred_sol&quot;: &quot;color: green&quot;}, {&quot;data-pred_sol&quot;: false, &quot;data-sim&quot;: &quot;0.64&quot;, &quot;mols2grid-id&quot;: 68, &quot;data-SMILES&quot;: &quot;CC(=O)c1c(C)c2cnc(Nc3ccc(C4=NC(=O)C(C)S4)cn3)nc2n(C2CCCC2)c1=O&quot;, &quot;data-img&quot;: null, &quot;style-pred_sol&quot;: &quot;color: red&quot;}, {&quot;data-pred_sol&quot;: false, &quot;data-sim&quot;: &quot;0.65&quot;, &quot;mols2grid-id&quot;: 69, &quot;data-SMILES&quot;: &quot;C=C(c1ccccc1)c1ccc(Nc2ncc3c(C)c(C(C)=O)c(=O)n(C4CCCC4)c3n2)nc1&quot;, &quot;data-img&quot;: null, &quot;style-pred_sol&quot;: &quot;color: red&quot;}, {&quot;data-pred_sol&quot;: false, &quot;data-sim&quot;: &quot;0.69&quot;, &quot;mols2grid-id&quot;: 70, &quot;data-SMILES&quot;: &quot;CC=C(C)c1ccc(Nc2ncc3c(C)c(C(C)=O)c(=O)n(C4CCCC4)c3n2)nc1&quot;, &quot;data-img&quot;: null, &quot;style-pred_sol&quot;: &quot;color: red&quot;}, {&quot;data-pred_sol&quot;: false, &quot;data-sim&quot;: &quot;0.70&quot;, &quot;mols2grid-id&quot;: 71, &quot;data-SMILES&quot;: &quot;CC(=O)c1c(C)c2cnc(Nc3ccc(C(C)(C)C)cn3)nc2n(C2CCCC2)c1=O&quot;, &quot;data-img&quot;: null, &quot;style-pred_sol&quot;: &quot;color: red&quot;}, {&quot;data-pred_sol&quot;: false, &quot;data-sim&quot;: &quot;0.63&quot;, &quot;mols2grid-id&quot;: 72, &quot;data-SMILES&quot;: &quot;CCCCC(=O)Nc1ccc(Nc2ncc3c(C)c(C(C)=O)c(=O)n(C4CCCC4)c3n2)nc1&quot;, &quot;data-img&quot;: null, &quot;style-pred_sol&quot;: &quot;color: red&quot;}, {&quot;data-pred_sol&quot;: true, &quot;data-sim&quot;: &quot;0.63&quot;, &quot;mols2grid-id&quot;: 73, &quot;data-SMILES&quot;: &quot;CCCCNCc1ccc(Nc2ncc3c(C)c(C(C)=O)c(=O)n(C4CCCC4)c3n2)nc1&quot;, &quot;data-img&quot;: null, &quot;style-pred_sol&quot;: &quot;color: green&quot;}, {&quot;data-pred_sol&quot;: false, &quot;data-sim&quot;: &quot;0.64&quot;, &quot;mols2grid-id&quot;: 74, &quot;data-SMILES&quot;: &quot;CC(=O)c1c(C)c2cnc(Nc3ccc(NC(=O)NC(C)(C)C)cn3)nc2n(C2CCCC2)c1=O&quot;, &quot;data-img&quot;: null, &quot;style-pred_sol&quot;: &quot;color: red&quot;}, {&quot;data-pred_sol&quot;: false, &quot;data-sim&quot;: &quot;0.63&quot;, &quot;mols2grid-id&quot;: 75, &quot;data-SMILES&quot;: &quot;CC(=O)c1c(C)c2cnc(Nc3ccc(C=[N+]([O-])C(C)(C)C)cn3)nc2n(C2CCCC2)c1=O&quot;, &quot;data-img&quot;: null, &quot;style-pred_sol&quot;: &quot;color: red&quot;}, {&quot;data-pred_sol&quot;: false, &quot;data-sim&quot;: &quot;0.62&quot;, &quot;mols2grid-id&quot;: 76, &quot;data-SMILES&quot;: &quot;CCCC(O)=CC(=O)c1ccc(Nc2ncc3c(C)c(C(C)=O)c(=O)n(C4CCCC4)c3n2)nc1&quot;, &quot;data-img&quot;: null, &quot;style-pred_sol&quot;: &quot;color: red&quot;}, {&quot;data-pred_sol&quot;: false, &quot;data-sim&quot;: &quot;0.62&quot;, &quot;mols2grid-id&quot;: 77, &quot;data-SMILES&quot;: &quot;CCCCOC(=O)c1ccc(Nc2ncc3c(C)c(C(C)=O)c(=O)n(C4CCCC4)c3n2)nc1&quot;, &quot;data-img&quot;: null, &quot;style-pred_sol&quot;: &quot;color: red&quot;}, {&quot;data-pred_sol&quot;: false, &quot;data-sim&quot;: &quot;0.64&quot;, &quot;mols2grid-id&quot;: 78, &quot;data-SMILES&quot;: &quot;CC(=O)c1c(C)c2cnc(Nc3ccc(NC(=O)OC(C)(C)C)cn3)nc2n(C2CCCC2)c1=O&quot;, &quot;data-img&quot;: null, &quot;style-pred_sol&quot;: &quot;color: red&quot;}, {&quot;data-pred_sol&quot;: false, &quot;data-sim&quot;: &quot;0.66&quot;, &quot;mols2grid-id&quot;: 79, &quot;data-SMILES&quot;: &quot;CC(=O)c1c(C)c2cnc(Nc3ccc(NC(=O)C(C)C)cn3)nc2n(C2CCCC2)c1=O&quot;, &quot;data-img&quot;: null, &quot;style-pred_sol&quot;: &quot;color: red&quot;}, {&quot;data-pred_sol&quot;: false, &quot;data-sim&quot;: &quot;0.67&quot;, &quot;mols2grid-id&quot;: 80, &quot;data-SMILES&quot;: &quot;CC(=O)c1c(C)c2cnc(Nc3ccc(SC(C)(C)C)cn3)nc2n(C2CCCC2)c1=O&quot;, &quot;data-img&quot;: null, &quot;style-pred_sol&quot;: &quot;color: red&quot;}, {&quot;data-pred_sol&quot;: false, &quot;data-sim&quot;: &quot;0.64&quot;, &quot;mols2grid-id&quot;: 81, &quot;data-SMILES&quot;: &quot;CCCCSc1ccc(Nc2ncc3c(C)c(C(C)=O)c(=O)n(C4CCCC4)c3n2)nc1&quot;, &quot;data-img&quot;: null, &quot;style-pred_sol&quot;: &quot;color: red&quot;}, {&quot;data-pred_sol&quot;: false, &quot;data-sim&quot;: &quot;0.64&quot;, &quot;mols2grid-id&quot;: 82, &quot;data-SMILES&quot;: &quot;CC(=O)c1c(C)c2cnc(Nc3ccc(NC(=O)C(C)Cl)cn3)nc2n(C2CCCC2)c1=O&quot;, &quot;data-img&quot;: null, &quot;style-pred_sol&quot;: &quot;color: red&quot;}, {&quot;data-pred_sol&quot;: false, &quot;data-sim&quot;: &quot;0.66&quot;, &quot;mols2grid-id&quot;: 83, &quot;data-SMILES&quot;: &quot;CC(=O)c1c(C)c2cnc(Nc3ccc(CNC(C)C)cn3)nc2n(C2CCCC2)c1=O&quot;, &quot;data-img&quot;: null, &quot;style-pred_sol&quot;: &quot;color: red&quot;}, {&quot;data-pred_sol&quot;: true, &quot;data-sim&quot;: &quot;0.64&quot;, &quot;mols2grid-id&quot;: 84, &quot;data-SMILES&quot;: &quot;CCCNCc1ccc(Nc2ncc3c(C)c(C(C)=O)c(=O)n(C4CCCC4)c3n2)nc1&quot;, &quot;data-img&quot;: null, &quot;style-pred_sol&quot;: &quot;color: green&quot;}, {&quot;data-pred_sol&quot;: false, &quot;data-sim&quot;: &quot;0.62&quot;, &quot;mols2grid-id&quot;: 85, &quot;data-SMILES&quot;: &quot;C=C(C#N)C(O)c1ccc(Nc2ncc3c(C)c(C(C)=O)c(=O)n(C4CCCC4)c3n2)nc1&quot;, &quot;data-img&quot;: null, &quot;style-pred_sol&quot;: &quot;color: red&quot;}, {&quot;data-pred_sol&quot;: true, &quot;data-sim&quot;: &quot;0.59&quot;, &quot;mols2grid-id&quot;: 86, &quot;data-SMILES&quot;: &quot;C=CCNC(=S)NCc1ccc(Nc2ncc3c(C)c(C(C)=O)c(=O)n(C4CCCC4)c3n2)nc1&quot;, &quot;data-img&quot;: null, &quot;style-pred_sol&quot;: &quot;color: green&quot;}, {&quot;data-pred_sol&quot;: true, &quot;data-sim&quot;: &quot;0.62&quot;, &quot;mols2grid-id&quot;: 87, &quot;data-SMILES&quot;: &quot;CC(=O)c1c(C)c2cnc(Nc3ccc(CNC(=S)NC(C)C)cn3)nc2n(C2CCCC2)c1=O&quot;, &quot;data-img&quot;: null, &quot;style-pred_sol&quot;: &quot;color: green&quot;}, {&quot;data-pred_sol&quot;: false, &quot;data-sim&quot;: &quot;0.65&quot;, &quot;mols2grid-id&quot;: 88, &quot;data-SMILES&quot;: &quot;CC(=O)c1c(C)c2cnc(Nc3ccc(C(=O)NNC(C)C)cn3)nc2n(C2CCCC2)c1=O&quot;, &quot;data-img&quot;: null, &quot;style-pred_sol&quot;: &quot;color: red&quot;}, {&quot;data-pred_sol&quot;: false, &quot;data-sim&quot;: &quot;0.62&quot;, &quot;mols2grid-id&quot;: 89, &quot;data-SMILES&quot;: &quot;CCC(=NO)C(C)=Cc1ccc(Nc2ncc3c(C)c(C(C)=O)c(=O)n(C4CCCC4)c3n2)nc1&quot;, &quot;data-img&quot;: null, &quot;style-pred_sol&quot;: &quot;color: red&quot;}, {&quot;data-pred_sol&quot;: false, &quot;data-sim&quot;: &quot;0.63&quot;, &quot;mols2grid-id&quot;: 90, &quot;data-SMILES&quot;: &quot;CCC(O)=CC(=O)c1ccc(Nc2ncc3c(C)c(C(C)=O)c(=O)n(C4CCCC4)c3n2)nc1&quot;, &quot;data-img&quot;: null, &quot;style-pred_sol&quot;: &quot;color: red&quot;}, {&quot;data-pred_sol&quot;: false, &quot;data-sim&quot;: &quot;0.63&quot;, &quot;mols2grid-id&quot;: 91, &quot;data-SMILES&quot;: &quot;C=CCOC(=O)c1ccc(Nc2ncc3c(C)c(C(C)=O)c(=O)n(C4CCCC4)c3n2)nc1&quot;, &quot;data-img&quot;: null, &quot;style-pred_sol&quot;: &quot;color: red&quot;}, {&quot;data-pred_sol&quot;: false, &quot;data-sim&quot;: &quot;0.64&quot;, &quot;mols2grid-id&quot;: 92, &quot;data-SMILES&quot;: &quot;CCCOC(=O)c1ccc(Nc2ncc3c(C)c(C(C)=O)c(=O)n(C4CCCC4)c3n2)nc1&quot;, &quot;data-img&quot;: null, &quot;style-pred_sol&quot;: &quot;color: red&quot;}, {&quot;data-pred_sol&quot;: false, &quot;data-sim&quot;: &quot;0.62&quot;, &quot;mols2grid-id&quot;: 93, &quot;data-SMILES&quot;: &quot;CC(=O)c1c(C)c2cnc(Nc3ccc(C#CC(=O)OC(C)C)cn3)nc2n(C2CCCC2)c1=O&quot;, &quot;data-img&quot;: null, &quot;style-pred_sol&quot;: &quot;color: red&quot;}, {&quot;data-pred_sol&quot;: false, &quot;data-sim&quot;: &quot;0.65&quot;, &quot;mols2grid-id&quot;: 94, &quot;data-SMILES&quot;: &quot;C=CC(=O)Nc1ccc(Nc2ncc3c(C)c(C(C)=O)c(=O)n(C4CCCC4)c3n2)nc1&quot;, &quot;data-img&quot;: null, &quot;style-pred_sol&quot;: &quot;color: red&quot;}, {&quot;data-pred_sol&quot;: false, &quot;data-sim&quot;: &quot;0.62&quot;, &quot;mols2grid-id&quot;: 95, &quot;data-SMILES&quot;: &quot;C=C(C(=O)OC)C(O)c1ccc(Nc2ncc3c(C)c(C(C)=O)c(=O)n(C4CCCC4)c3n2)nc1&quot;, &quot;data-img&quot;: null, &quot;style-pred_sol&quot;: &quot;color: red&quot;}, {&quot;data-pred_sol&quot;: false, &quot;data-sim&quot;: &quot;0.63&quot;, &quot;mols2grid-id&quot;: 96, &quot;data-SMILES&quot;: &quot;CC(=O)c1c(C)c2cnc(Nc3ccc(N=C(C)C(C#N)C#N)cn3)nc2n(C2CCCC2)c1=O&quot;, &quot;data-img&quot;: null, &quot;style-pred_sol&quot;: &quot;color: red&quot;}, {&quot;data-pred_sol&quot;: false, &quot;data-sim&quot;: &quot;0.64&quot;, &quot;mols2grid-id&quot;: 97, &quot;data-SMILES&quot;: &quot;CCn1cnc(-c2ccc(Nc3ncc4c(C)c(C(C)=O)c(=O)n(C5CCCC5)c4n3)nc2)c1&quot;, &quot;data-img&quot;: null, &quot;style-pred_sol&quot;: &quot;color: red&quot;}, {&quot;data-pred_sol&quot;: true, &quot;data-sim&quot;: &quot;0.66&quot;, &quot;mols2grid-id&quot;: 98, &quot;data-SMILES&quot;: &quot;CCNCc1ccc(Nc2ncc3c(C)c(C(C)=O)c(=O)n(C4CCCC4)c3n2)nc1&quot;, &quot;data-img&quot;: null, &quot;style-pred_sol&quot;: &quot;color: green&quot;}, {&quot;data-pred_sol&quot;: true, &quot;data-sim&quot;: &quot;0.65&quot;, &quot;mols2grid-id&quot;: 99, &quot;data-SMILES&quot;: &quot;CCN(CC)Cc1ccc(Nc2ncc3c(C)c(C(C)=O)c(=O)n(C4CCCC4)c3n2)nc1&quot;, &quot;data-img&quot;: null, &quot;style-pred_sol&quot;: &quot;color: green&quot;}, {&quot;data-pred_sol&quot;: false, &quot;data-sim&quot;: &quot;0.65&quot;, &quot;mols2grid-id&quot;: 100, &quot;data-SMILES&quot;: &quot;CCN(CC)C(=O)c1ccc(Nc2ncc3c(C)c(C(C)=O)c(=O)n(C4CCCC4)c3n2)nc1&quot;, &quot;data-img&quot;: null, &quot;style-pred_sol&quot;: &quot;color: red&quot;}, {&quot;data-pred_sol&quot;: false, &quot;data-sim&quot;: &quot;0.64&quot;, &quot;mols2grid-id&quot;: 101, &quot;data-SMILES&quot;: &quot;CCN(CC)C(=O)Oc1ccc(Nc2ncc3c(C)c(C(C)=O)c(=O)n(C4CCCC4)c3n2)nc1&quot;, &quot;data-img&quot;: null, &quot;style-pred_sol&quot;: &quot;color: red&quot;}, {&quot;data-pred_sol&quot;: true, &quot;data-sim&quot;: &quot;0.61&quot;, &quot;mols2grid-id&quot;: 102, &quot;data-SMILES&quot;: &quot;CCN(C)C(=N)Cc1ccc(Nc2ncc3c(C)c(C(C)=O)c(=O)n(C4CCCC4)c3n2)nc1&quot;, &quot;data-img&quot;: null, &quot;style-pred_sol&quot;: &quot;color: green&quot;}, {&quot;data-pred_sol&quot;: false, &quot;data-sim&quot;: &quot;0.64&quot;, &quot;mols2grid-id&quot;: 103, &quot;data-SMILES&quot;: &quot;CCN(CC)S(=O)(=O)c1ccc(Nc2ncc3c(C)c(C(C)=O)c(=O)n(C4CCCC4)c3n2)nc1&quot;, &quot;data-img&quot;: null, &quot;style-pred_sol&quot;: &quot;color: red&quot;}, {&quot;data-pred_sol&quot;: true, &quot;data-sim&quot;: &quot;0.64&quot;, &quot;mols2grid-id&quot;: 104, &quot;data-SMILES&quot;: &quot;CC(=O)c1c(C)c2cnc(Nc3ccc(OCC(C)N)cn3)nc2n(C2CCCC2)c1=O&quot;, &quot;data-img&quot;: null, &quot;style-pred_sol&quot;: &quot;color: green&quot;}, {&quot;data-pred_sol&quot;: true, &quot;data-sim&quot;: &quot;0.64&quot;, &quot;mols2grid-id&quot;: 105, &quot;data-SMILES&quot;: &quot;CC(=O)c1c(C)c2cnc(Nc3ccc(C(=O)NC(C)C(=O)O)cn3)nc2n(C2CCCC2)c1=O&quot;, &quot;data-img&quot;: null, &quot;style-pred_sol&quot;: &quot;color: green&quot;}, {&quot;data-pred_sol&quot;: false, &quot;data-sim&quot;: &quot;0.64&quot;, &quot;mols2grid-id&quot;: 106, &quot;data-SMILES&quot;: &quot;CC(=O)c1c(C)c2cnc(Nc3ccc(C(C)=Nn4cnnc4)cn3)nc2n(C2CCCC2)c1=O&quot;, &quot;data-img&quot;: null, &quot;style-pred_sol&quot;: &quot;color: red&quot;}, {&quot;data-pred_sol&quot;: true, &quot;data-sim&quot;: &quot;0.62&quot;, &quot;mols2grid-id&quot;: 107, &quot;data-SMILES&quot;: &quot;CC(=O)c1c(C)c2cnc(Nc3ccc(C(C)=NNC(N)=S)cn3)nc2n(C2CCCC2)c1=O&quot;, &quot;data-img&quot;: null, &quot;style-pred_sol&quot;: &quot;color: green&quot;}, {&quot;data-pred_sol&quot;: true, &quot;data-sim&quot;: &quot;0.66&quot;, &quot;mols2grid-id&quot;: 108, &quot;data-SMILES&quot;: &quot;CC(=O)c1c(C)c2cnc(Nc3ccc(C(=O)C=C(C)O)cn3)nc2n(C2CCCC2)c1=O&quot;, &quot;data-img&quot;: null, &quot;style-pred_sol&quot;: &quot;color: green&quot;}, {&quot;data-pred_sol&quot;: false, &quot;data-sim&quot;: &quot;0.67&quot;, &quot;mols2grid-id&quot;: 109, &quot;data-SMILES&quot;: &quot;CC(=O)c1c(C)c2cnc(Nc3ccc(C(O)C(C)O)cn3)nc2n(C2CCCC2)c1=O&quot;, &quot;data-img&quot;: null, &quot;style-pred_sol&quot;: &quot;color: red&quot;}, {&quot;data-pred_sol&quot;: false, &quot;data-sim&quot;: &quot;0.66&quot;, &quot;mols2grid-id&quot;: 110, &quot;data-SMILES&quot;: &quot;CCOC(=O)c1ccc(Nc2ncc3c(C)c(C(C)=O)c(=O)n(C4CCCC4)c3n2)nc1&quot;, &quot;data-img&quot;: null, &quot;style-pred_sol&quot;: &quot;color: red&quot;}, {&quot;data-pred_sol&quot;: false, &quot;data-sim&quot;: &quot;0.65&quot;, &quot;mols2grid-id&quot;: 111, &quot;data-SMILES&quot;: &quot;CCOC(=O)C=Cc1ccc(Nc2ncc3c(C)c(C(C)=O)c(=O)n(C4CCCC4)c3n2)nc1&quot;, &quot;data-img&quot;: null, &quot;style-pred_sol&quot;: &quot;color: red&quot;}, {&quot;data-pred_sol&quot;: false, &quot;data-sim&quot;: &quot;0.63&quot;, &quot;mols2grid-id&quot;: 112, &quot;data-SMILES&quot;: &quot;CCOC(=O)C#Cc1ccc(Nc2ncc3c(C)c(C(C)=O)c(=O)n(C4CCCC4)c3n2)nc1&quot;, &quot;data-img&quot;: null, &quot;style-pred_sol&quot;: &quot;color: red&quot;}, {&quot;data-pred_sol&quot;: false, &quot;data-sim&quot;: &quot;0.62&quot;, &quot;mols2grid-id&quot;: 113, &quot;data-SMILES&quot;: &quot;CCOC(=O)C=C(C)c1ccc(Nc2ncc3c(C)c(C(C)=O)c(=O)n(C4CCCC4)c3n2)nc1&quot;, &quot;data-img&quot;: null, &quot;style-pred_sol&quot;: &quot;color: red&quot;}, {&quot;data-pred_sol&quot;: true, &quot;data-sim&quot;: &quot;0.61&quot;, &quot;mols2grid-id&quot;: 114, &quot;data-SMILES&quot;: &quot;CCOC(=O)C=COc1ccc(Nc2ncc3c(C)c(C(C)=O)c(=O)n(C4CCCC4)c3n2)nc1&quot;, &quot;data-img&quot;: null, &quot;style-pred_sol&quot;: &quot;color: green&quot;}, {&quot;data-pred_sol&quot;: false, &quot;data-sim&quot;: &quot;0.64&quot;, &quot;mols2grid-id&quot;: 115, &quot;data-SMILES&quot;: &quot;CCOC(=O)CC(=O)c1ccc(Nc2ncc3c(C)c(C(C)=O)c(=O)n(C4CCCC4)c3n2)nc1&quot;, &quot;data-img&quot;: null, &quot;style-pred_sol&quot;: &quot;color: red&quot;}, {&quot;data-pred_sol&quot;: true, &quot;data-sim&quot;: &quot;0.64&quot;, &quot;mols2grid-id&quot;: 116, &quot;data-SMILES&quot;: &quot;CCOC(=O)Nc1ccc(Nc2ncc3c(C)c(C(C)=O)c(=O)n(C4CCCC4)c3n2)nc1&quot;, &quot;data-img&quot;: null, &quot;style-pred_sol&quot;: &quot;color: green&quot;}, {&quot;data-pred_sol&quot;: false, &quot;data-sim&quot;: &quot;0.60&quot;, &quot;mols2grid-id&quot;: 117, &quot;data-SMILES&quot;: &quot;CCOC(=O)NN=Cc1ccc(Nc2ncc3c(C)c(C(C)=O)c(=O)n(C4CCCC4)c3n2)nc1&quot;, &quot;data-img&quot;: null, &quot;style-pred_sol&quot;: &quot;color: red&quot;}, {&quot;data-pred_sol&quot;: false, &quot;data-sim&quot;: &quot;0.70&quot;, &quot;mols2grid-id&quot;: 118, &quot;data-SMILES&quot;: &quot;CC(=O)Nc1ccc(Nc2ncc3c(C)c(C(C)=O)c(=O)n(C4CCCC4)c3n2)nc1&quot;, &quot;data-img&quot;: null, &quot;style-pred_sol&quot;: &quot;color: red&quot;}, {&quot;data-pred_sol&quot;: true, &quot;data-sim&quot;: &quot;0.64&quot;, &quot;mols2grid-id&quot;: 119, &quot;data-SMILES&quot;: &quot;CC(=O)ONC(=N)c1ccc(Nc2ncc3c(C)c(C(C)=O)c(=O)n(C4CCCC4)c3n2)nc1&quot;, &quot;data-img&quot;: null, &quot;style-pred_sol&quot;: &quot;color: green&quot;}, {&quot;data-pred_sol&quot;: false, &quot;data-sim&quot;: &quot;0.62&quot;, &quot;mols2grid-id&quot;: 120, &quot;data-SMILES&quot;: &quot;CCSC(=N)Nc1ccc(Nc2ncc3c(C)c(C(C)=O)c(=O)n(C4CCCC4)c3n2)nc1&quot;, &quot;data-img&quot;: null, &quot;style-pred_sol&quot;: &quot;color: red&quot;}, {&quot;data-pred_sol&quot;: false, &quot;data-sim&quot;: &quot;0.68&quot;, &quot;mols2grid-id&quot;: 121, &quot;data-SMILES&quot;: &quot;CC(=O)c1c(C)c2cnc(Nc3ccc(-c4ccc(Cl)nc4)cn3)nc2n(C2CCCC2)c1=O&quot;, &quot;data-img&quot;: null, &quot;style-pred_sol&quot;: &quot;color: red&quot;}, {&quot;data-pred_sol&quot;: false, &quot;data-sim&quot;: &quot;0.63&quot;, &quot;mols2grid-id&quot;: 122, &quot;data-SMILES&quot;: &quot;CC(=O)c1c(C)c2cnc(Nc3ccc(Oc4ccccc4Cl)cn3)nc2n(C2CCCC2)c1=O&quot;, &quot;data-img&quot;: null, &quot;style-pred_sol&quot;: &quot;color: red&quot;}, {&quot;data-pred_sol&quot;: false, &quot;data-sim&quot;: &quot;0.62&quot;, &quot;mols2grid-id&quot;: 123, &quot;data-SMILES&quot;: &quot;CC(=O)c1c(C)c2cnc(Nc3ccc(Oc4cccc(Cl)c4)cn3)nc2n(C2CCCC2)c1=O&quot;, &quot;data-img&quot;: null, &quot;style-pred_sol&quot;: &quot;color: red&quot;}, {&quot;data-pred_sol&quot;: false, &quot;data-sim&quot;: &quot;0.66&quot;, &quot;mols2grid-id&quot;: 124, &quot;data-SMILES&quot;: &quot;CC(=O)c1c(C)c2cnc(Nc3ccc(Oc4ccc(Cl)cc4)cn3)nc2n(C2CCCC2)c1=O&quot;, &quot;data-img&quot;: null, &quot;style-pred_sol&quot;: &quot;color: red&quot;}, {&quot;data-pred_sol&quot;: false, &quot;data-sim&quot;: &quot;0.65&quot;, &quot;mols2grid-id&quot;: 125, &quot;data-SMILES&quot;: &quot;CC(=O)c1c(C)c2cnc(Nc3ccc(Sc4ccc(Cl)cc4)cn3)nc2n(C2CCCC2)c1=O&quot;, &quot;data-img&quot;: null, &quot;style-pred_sol&quot;: &quot;color: red&quot;}, {&quot;data-pred_sol&quot;: false, &quot;data-sim&quot;: &quot;0.60&quot;, &quot;mols2grid-id&quot;: 126, &quot;data-SMILES&quot;: &quot;CC(=O)c1c(C)c2cnc(Nc3ccc(N=c4ssnc4Cl)cn3)nc2n(C2CCCC2)c1=O&quot;, &quot;data-img&quot;: null, &quot;style-pred_sol&quot;: &quot;color: red&quot;}, {&quot;data-pred_sol&quot;: false, &quot;data-sim&quot;: &quot;0.64&quot;, &quot;mols2grid-id&quot;: 127, &quot;data-SMILES&quot;: &quot;CC(=O)c1c(C)c2cnc(Nc3ccc(SCCCCl)cn3)nc2n(C2CCCC2)c1=O&quot;, &quot;data-img&quot;: null, &quot;style-pred_sol&quot;: &quot;color: red&quot;}, {&quot;data-pred_sol&quot;: false, &quot;data-sim&quot;: &quot;0.69&quot;, &quot;mols2grid-id&quot;: 128, &quot;data-SMILES&quot;: &quot;CC(=O)c1c(C)c2cnc(Nc3ccc(C(Cl)(Cl)Cl)cn3)nc2n(C2CCCC2)c1=O&quot;, &quot;data-img&quot;: null, &quot;style-pred_sol&quot;: &quot;color: red&quot;}, {&quot;data-pred_sol&quot;: false, &quot;data-sim&quot;: &quot;0.64&quot;, &quot;mols2grid-id&quot;: 129, &quot;data-SMILES&quot;: &quot;CC(=O)c1c(C)c2cnc(Nc3ccc(NCC4CO4)cn3)nc2n(C2CCCC2)c1=O&quot;, &quot;data-img&quot;: null, &quot;style-pred_sol&quot;: &quot;color: red&quot;}, {&quot;data-pred_sol&quot;: false, &quot;data-sim&quot;: &quot;0.84&quot;, &quot;mols2grid-id&quot;: 130, &quot;data-SMILES&quot;: &quot;CC(=O)c1c(C)c2cnc(Nc3ccc(N4CCN(C)CC4)cn3)nc2n(C2CCCC2)c1=O&quot;, &quot;data-img&quot;: null, &quot;style-pred_sol&quot;: &quot;color: red&quot;}, {&quot;data-pred_sol&quot;: true, &quot;data-sim&quot;: &quot;0.60&quot;, &quot;mols2grid-id&quot;: 131, &quot;data-SMILES&quot;: &quot;CC(=O)c1c(C)c2cnc(Nc3ccc(CSc4nccn4C)cn3)nc2n(C2CCCC2)c1=O&quot;, &quot;data-img&quot;: null, &quot;style-pred_sol&quot;: &quot;color: green&quot;}, {&quot;data-pred_sol&quot;: false, &quot;data-sim&quot;: &quot;0.60&quot;, &quot;mols2grid-id&quot;: 132, &quot;data-SMILES&quot;: &quot;CC(=O)c1c(C)c2cnc(Nc3ccc(C=Nc4nccs4)cn3)nc2n(C2CCCC2)c1=O&quot;, &quot;data-img&quot;: null, &quot;style-pred_sol&quot;: &quot;color: red&quot;}, {&quot;data-pred_sol&quot;: true, &quot;data-sim&quot;: &quot;0.67&quot;, &quot;mols2grid-id&quot;: 133, &quot;data-SMILES&quot;: &quot;CC(=O)c1c(C)c2cnc(Nc3ccc(CN(C)C)cn3)nc2n(C2CCCC2)c1=O&quot;, &quot;data-img&quot;: null, &quot;style-pred_sol&quot;: &quot;color: green&quot;}, {&quot;data-pred_sol&quot;: false, &quot;data-sim&quot;: &quot;0.64&quot;, &quot;mols2grid-id&quot;: 134, &quot;data-SMILES&quot;: &quot;CNCC=Cc1ccc(Nc2ncc3c(C)c(C(C)=O)c(=O)n(C4CCCC4)c3n2)nc1&quot;, &quot;data-img&quot;: null, &quot;style-pred_sol&quot;: &quot;color: red&quot;}, {&quot;data-pred_sol&quot;: false, &quot;data-sim&quot;: &quot;0.67&quot;, &quot;mols2grid-id&quot;: 135, &quot;data-SMILES&quot;: &quot;CNCC#Cc1ccc(Nc2ncc3c(C)c(C(C)=O)c(=O)n(C4CCCC4)c3n2)nc1&quot;, &quot;data-img&quot;: null, &quot;style-pred_sol&quot;: &quot;color: red&quot;}, {&quot;data-pred_sol&quot;: false, &quot;data-sim&quot;: &quot;0.64&quot;, &quot;mols2grid-id&quot;: 136, &quot;data-SMILES&quot;: &quot;CC(=O)c1c(C)c2cnc(Nc3ccc(C=CCN(C)C)cn3)nc2n(C2CCCC2)c1=O&quot;, &quot;data-img&quot;: null, &quot;style-pred_sol&quot;: &quot;color: red&quot;}, {&quot;data-pred_sol&quot;: false, &quot;data-sim&quot;: &quot;0.65&quot;, &quot;mols2grid-id&quot;: 137, &quot;data-SMILES&quot;: &quot;CC(=O)c1c(C)c2cnc(Nc3ccc(C#CCN(C)C)cn3)nc2n(C2CCCC2)c1=O&quot;, &quot;data-img&quot;: null, &quot;style-pred_sol&quot;: &quot;color: red&quot;}, {&quot;data-pred_sol&quot;: false, &quot;data-sim&quot;: &quot;0.64&quot;, &quot;mols2grid-id&quot;: 138, &quot;data-SMILES&quot;: &quot;CNCCC#Cc1ccc(Nc2ncc3c(C)c(C(C)=O)c(=O)n(C4CCCC4)c3n2)nc1&quot;, &quot;data-img&quot;: null, &quot;style-pred_sol&quot;: &quot;color: red&quot;}, {&quot;data-pred_sol&quot;: false, &quot;data-sim&quot;: &quot;0.63&quot;, &quot;mols2grid-id&quot;: 139, &quot;data-SMILES&quot;: &quot;CC(=O)c1c(C)c2cnc(Nc3ccc(C#CCCN(C)C)cn3)nc2n(C2CCCC2)c1=O&quot;, &quot;data-img&quot;: null, &quot;style-pred_sol&quot;: &quot;color: red&quot;}, {&quot;data-pred_sol&quot;: true, &quot;data-sim&quot;: &quot;0.64&quot;, &quot;mols2grid-id&quot;: 140, &quot;data-SMILES&quot;: &quot;CC(=O)c1c(C)c2cnc(Nc3ccc(C(=O)C=CN(C)C)cn3)nc2n(C2CCCC2)c1=O&quot;, &quot;data-img&quot;: null, &quot;style-pred_sol&quot;: &quot;color: green&quot;}, {&quot;data-pred_sol&quot;: true, &quot;data-sim&quot;: &quot;0.64&quot;, &quot;mols2grid-id&quot;: 141, &quot;data-SMILES&quot;: &quot;CC(=O)c1c(C)c2cnc(Nc3ccc(OCCN(C)C)cn3)nc2n(C2CCCC2)c1=O&quot;, &quot;data-img&quot;: null, &quot;style-pred_sol&quot;: &quot;color: green&quot;}, {&quot;data-pred_sol&quot;: true, &quot;data-sim&quot;: &quot;0.64&quot;, &quot;mols2grid-id&quot;: 142, &quot;data-SMILES&quot;: &quot;CC(=O)c1c(C)c2cnc(Nc3ccc(CC(=N)N(C)C)cn3)nc2n(C2CCCC2)c1=O&quot;, &quot;data-img&quot;: null, &quot;style-pred_sol&quot;: &quot;color: green&quot;}, {&quot;data-pred_sol&quot;: true, &quot;data-sim&quot;: &quot;0.66&quot;, &quot;mols2grid-id&quot;: 143, &quot;data-SMILES&quot;: &quot;CC(=O)c1c(C)c2cnc(Nc3ccc(OC(=O)N(C)C)cn3)nc2n(C2CCCC2)c1=O&quot;, &quot;data-img&quot;: null, &quot;style-pred_sol&quot;: &quot;color: green&quot;}, {&quot;data-pred_sol&quot;: false, &quot;data-sim&quot;: &quot;0.60&quot;, &quot;mols2grid-id&quot;: 144, &quot;data-SMILES&quot;: &quot;CN=C(NC#N)Nc1ccc(Nc2ncc3c(C)c(C(C)=O)c(=O)n(C4CCCC4)c3n2)nc1&quot;, &quot;data-img&quot;: null, &quot;style-pred_sol&quot;: &quot;color: red&quot;}, {&quot;data-pred_sol&quot;: true, &quot;data-sim&quot;: &quot;0.66&quot;, &quot;mols2grid-id&quot;: 145, &quot;data-SMILES&quot;: &quot;CC(=O)c1c(C)c2cnc(Nc3ccc(C(=O)NN(C)C)cn3)nc2n(C2CCCC2)c1=O&quot;, &quot;data-img&quot;: null, &quot;style-pred_sol&quot;: &quot;color: green&quot;}, {&quot;data-pred_sol&quot;: false, &quot;data-sim&quot;: &quot;0.65&quot;, &quot;mols2grid-id&quot;: 146, &quot;data-SMILES&quot;: &quot;CC(=O)c1c(C)c2cnc(Nc3ccc(N=NN(C)C)cn3)nc2n(C2CCCC2)c1=O&quot;, &quot;data-img&quot;: null, &quot;style-pred_sol&quot;: &quot;color: red&quot;}, {&quot;data-pred_sol&quot;: false, &quot;data-sim&quot;: &quot;0.69&quot;, &quot;mols2grid-id&quot;: 147, &quot;data-SMILES&quot;: &quot;CNC(=O)c1ccc(Nc2ncc3c(C)c(C(C)=O)c(=O)n(C4CCCC4)c3n2)nc1&quot;, &quot;data-img&quot;: null, &quot;style-pred_sol&quot;: &quot;color: red&quot;}, {&quot;data-pred_sol&quot;: false, &quot;data-sim&quot;: &quot;0.64&quot;, &quot;mols2grid-id&quot;: 148, &quot;data-SMILES&quot;: &quot;CNC(=O)NNC(=O)c1ccc(Nc2ncc3c(C)c(C(C)=O)c(=O)n(C4CCCC4)c3n2)nc1&quot;, &quot;data-img&quot;: null, &quot;style-pred_sol&quot;: &quot;color: red&quot;}, {&quot;data-pred_sol&quot;: false, &quot;data-sim&quot;: &quot;0.64&quot;, &quot;mols2grid-id&quot;: 149, &quot;data-SMILES&quot;: &quot;CC(=O)c1c(C)c2cnc(Nc3ccc(C=Nn4cnnc4)cn3)nc2n(C2CCCC2)c1=O&quot;, &quot;data-img&quot;: null, &quot;style-pred_sol&quot;: &quot;color: red&quot;}, {&quot;data-pred_sol&quot;: false, &quot;data-sim&quot;: &quot;0.66&quot;, &quot;mols2grid-id&quot;: 150, &quot;data-SMILES&quot;: &quot;CC(=O)c1c(C)c2cnc(Nc3ccc(N(C)N=O)cn3)nc2n(C2CCCC2)c1=O&quot;, &quot;data-img&quot;: null, &quot;style-pred_sol&quot;: &quot;color: red&quot;}, {&quot;data-pred_sol&quot;: false, &quot;data-sim&quot;: &quot;0.67&quot;, &quot;mols2grid-id&quot;: 151, &quot;data-SMILES&quot;: &quot;CNS(=O)(=O)c1ccc(Nc2ncc3c(C)c(C(C)=O)c(=O)n(C4CCCC4)c3n2)nc1&quot;, &quot;data-img&quot;: null, &quot;style-pred_sol&quot;: &quot;color: red&quot;}, {&quot;data-pred_sol&quot;: false, &quot;data-sim&quot;: &quot;0.66&quot;, &quot;mols2grid-id&quot;: 152, &quot;data-SMILES&quot;: &quot;COc1ccc(-c2ccc(Nc3ncc4c(C)c(C(C)=O)c(=O)n(C5CCCC5)c4n3)nc2)cc1&quot;, &quot;data-img&quot;: null, &quot;style-pred_sol&quot;: &quot;color: red&quot;}, {&quot;data-pred_sol&quot;: false, &quot;data-sim&quot;: &quot;0.62&quot;, &quot;mols2grid-id&quot;: 153, &quot;data-SMILES&quot;: &quot;COc1cccc(-c2ccc(Nc3ncc4c(C)c(C(C)=O)c(=O)n(C5CCCC5)c4n3)nc2)c1&quot;, &quot;data-img&quot;: null, &quot;style-pred_sol&quot;: &quot;color: red&quot;}, {&quot;data-pred_sol&quot;: false, &quot;data-sim&quot;: &quot;0.64&quot;, &quot;mols2grid-id&quot;: 154, &quot;data-SMILES&quot;: &quot;COc1ccccc1-c1ccc(Nc2ncc3c(C)c(C(C)=O)c(=O)n(C4CCCC4)c3n2)nc1&quot;, &quot;data-img&quot;: null, &quot;style-pred_sol&quot;: &quot;color: red&quot;}, {&quot;data-pred_sol&quot;: false, &quot;data-sim&quot;: &quot;0.64&quot;, &quot;mols2grid-id&quot;: 155, &quot;data-SMILES&quot;: &quot;COCC(=O)Nc1ccc(Nc2ncc3c(C)c(C(C)=O)c(=O)n(C4CCCC4)c3n2)nc1&quot;, &quot;data-img&quot;: null, &quot;style-pred_sol&quot;: &quot;color: red&quot;}, {&quot;data-pred_sol&quot;: false, &quot;data-sim&quot;: &quot;0.69&quot;, &quot;mols2grid-id&quot;: 156, &quot;data-SMILES&quot;: &quot;COC(=O)c1ccc(Nc2ncc3c(C)c(C(C)=O)c(=O)n(C4CCCC4)c3n2)nc1&quot;, &quot;data-img&quot;: null, &quot;style-pred_sol&quot;: &quot;color: red&quot;}, {&quot;data-pred_sol&quot;: false, &quot;data-sim&quot;: &quot;0.64&quot;, &quot;mols2grid-id&quot;: 157, &quot;data-SMILES&quot;: &quot;COC(=O)C=CC(=O)c1ccc(Nc2ncc3c(C)c(C(C)=O)c(=O)n(C4CCCC4)c3n2)nc1&quot;, &quot;data-img&quot;: null, &quot;style-pred_sol&quot;: &quot;color: red&quot;}, {&quot;data-pred_sol&quot;: false, &quot;data-sim&quot;: &quot;0.64&quot;, &quot;mols2grid-id&quot;: 158, &quot;data-SMILES&quot;: &quot;COC(=O)CNC(=O)c1ccc(Nc2ncc3c(C)c(C(C)=O)c(=O)n(C4CCCC4)c3n2)nc1&quot;, &quot;data-img&quot;: null, &quot;style-pred_sol&quot;: &quot;color: red&quot;}, {&quot;data-pred_sol&quot;: false, &quot;data-sim&quot;: &quot;0.62&quot;, &quot;mols2grid-id&quot;: 159, &quot;data-SMILES&quot;: &quot;COC(=O)NN=Cc1ccc(Nc2ncc3c(C)c(C(C)=O)c(=O)n(C4CCCC4)c3n2)nc1&quot;, &quot;data-img&quot;: null, &quot;style-pred_sol&quot;: &quot;color: red&quot;}, {&quot;data-pred_sol&quot;: false, &quot;data-sim&quot;: &quot;0.65&quot;, &quot;mols2grid-id&quot;: 160, &quot;data-SMILES&quot;: &quot;CON=C(C)c1ccc(Nc2ncc3c(C)c(C(C)=O)c(=O)n(C4CCCC4)c3n2)nc1&quot;, &quot;data-img&quot;: null, &quot;style-pred_sol&quot;: &quot;color: red&quot;}, {&quot;data-pred_sol&quot;: false, &quot;data-sim&quot;: &quot;0.65&quot;, &quot;mols2grid-id&quot;: 161, &quot;data-SMILES&quot;: &quot;CSCC(=O)c1ccc(Nc2ncc3c(C)c(C(C)=O)c(=O)n(C4CCCC4)c3n2)nc1&quot;, &quot;data-img&quot;: null, &quot;style-pred_sol&quot;: &quot;color: red&quot;}, {&quot;data-pred_sol&quot;: false, &quot;data-sim&quot;: &quot;0.62&quot;, &quot;mols2grid-id&quot;: 162, &quot;data-SMILES&quot;: &quot;CSC(=S)NCc1ccc(Nc2ncc3c(C)c(C(C)=O)c(=O)n(C4CCCC4)c3n2)nc1&quot;, &quot;data-img&quot;: null, &quot;style-pred_sol&quot;: &quot;color: red&quot;}, {&quot;data-pred_sol&quot;: false, &quot;data-sim&quot;: &quot;0.62&quot;, &quot;mols2grid-id&quot;: 163, &quot;data-SMILES&quot;: &quot;CSC(=S)NNC(=O)c1ccc(Nc2ncc3c(C)c(C(C)=O)c(=O)n(C4CCCC4)c3n2)nc1&quot;, &quot;data-img&quot;: null, &quot;style-pred_sol&quot;: &quot;color: red&quot;}, {&quot;data-pred_sol&quot;: false, &quot;data-sim&quot;: &quot;0.64&quot;, &quot;mols2grid-id&quot;: 164, &quot;data-SMILES&quot;: &quot;CC(=O)c1c(C)c2cnc(Nc3ccc(C(O)=CS(C)=O)cn3)nc2n(C2CCCC2)c1=O&quot;, &quot;data-img&quot;: null, &quot;style-pred_sol&quot;: &quot;color: red&quot;}, {&quot;data-pred_sol&quot;: false, &quot;data-sim&quot;: &quot;0.64&quot;, &quot;mols2grid-id&quot;: 165, &quot;data-SMILES&quot;: &quot;CC(=O)c1c(C)c2cnc(Nc3ccc(-c4cccc(F)c4)cn3)nc2n(C2CCCC2)c1=O&quot;, &quot;data-img&quot;: null, &quot;style-pred_sol&quot;: &quot;color: red&quot;}, {&quot;data-pred_sol&quot;: false, &quot;data-sim&quot;: &quot;0.63&quot;, &quot;mols2grid-id&quot;: 166, &quot;data-SMILES&quot;: &quot;CC(=O)c1c(C)c2cnc(Nc3ccc(Oc4ccccc4F)cn3)nc2n(C2CCCC2)c1=O&quot;, &quot;data-img&quot;: null, &quot;style-pred_sol&quot;: &quot;color: red&quot;}, {&quot;data-pred_sol&quot;: false, &quot;data-sim&quot;: &quot;0.62&quot;, &quot;mols2grid-id&quot;: 167, &quot;data-SMILES&quot;: &quot;CC(=O)c1c(C)c2cnc(Nc3ccc(Oc4cccc(F)c4)cn3)nc2n(C2CCCC2)c1=O&quot;, &quot;data-img&quot;: null, &quot;style-pred_sol&quot;: &quot;color: red&quot;}, {&quot;data-pred_sol&quot;: false, &quot;data-sim&quot;: &quot;0.66&quot;, &quot;mols2grid-id&quot;: 168, &quot;data-SMILES&quot;: &quot;CC(=O)c1c(C)c2cnc(Nc3ccc(Oc4ccc(F)cc4)cn3)nc2n(C2CCCC2)c1=O&quot;, &quot;data-img&quot;: null, &quot;style-pred_sol&quot;: &quot;color: red&quot;}, {&quot;data-pred_sol&quot;: false, &quot;data-sim&quot;: &quot;0.69&quot;, &quot;mols2grid-id&quot;: 169, &quot;data-SMILES&quot;: &quot;CC(=O)c1c(C)c2cnc(Nc3ccc(C(F)(F)F)cn3)nc2n(C2CCCC2)c1=O&quot;, &quot;data-img&quot;: null, &quot;style-pred_sol&quot;: &quot;color: red&quot;}, {&quot;data-pred_sol&quot;: false, &quot;data-sim&quot;: &quot;0.68&quot;, &quot;mols2grid-id&quot;: 170, &quot;data-SMILES&quot;: &quot;CC(=O)c1c(C)c2cnc(Nc3ccc(C4N=NN=N4)cn3)nc2n(C2CCCC2)c1=O&quot;, &quot;data-img&quot;: null, &quot;style-pred_sol&quot;: &quot;color: red&quot;}, {&quot;data-pred_sol&quot;: false, &quot;data-sim&quot;: &quot;0.66&quot;, &quot;mols2grid-id&quot;: 171, &quot;data-SMILES&quot;: &quot;CC(=O)c1c(C)c2cnc(Nc3ccc(-c4nn[nH]n4)cn3)nc2n(C2CCCC2)c1=O&quot;, &quot;data-img&quot;: null, &quot;style-pred_sol&quot;: &quot;color: red&quot;}, {&quot;data-pred_sol&quot;: true, &quot;data-sim&quot;: &quot;0.65&quot;, &quot;mols2grid-id&quot;: 172, &quot;data-SMILES&quot;: &quot;CC(=O)c1c(C)c2cnc(Nc3ccc(-c4ccc(N)cn4)cn3)nc2n(C2CCCC2)c1=O&quot;, &quot;data-img&quot;: null, &quot;style-pred_sol&quot;: &quot;color: green&quot;}, {&quot;data-pred_sol&quot;: false, &quot;data-sim&quot;: &quot;0.64&quot;, &quot;mols2grid-id&quot;: 173, &quot;data-SMILES&quot;: &quot;CC(=O)c1c(C)c2cnc(Nc3ccc(-c4cccc(N)c4)cn3)nc2n(C2CCCC2)c1=O&quot;, &quot;data-img&quot;: null, &quot;style-pred_sol&quot;: &quot;color: red&quot;}, {&quot;data-pred_sol&quot;: true, &quot;data-sim&quot;: &quot;0.63&quot;, &quot;mols2grid-id&quot;: 174, &quot;data-SMILES&quot;: &quot;CC(=O)c1c(C)c2cnc(Nc3ccc(Oc4ccccc4N)cn3)nc2n(C2CCCC2)c1=O&quot;, &quot;data-img&quot;: null, &quot;style-pred_sol&quot;: &quot;color: green&quot;}, {&quot;data-pred_sol&quot;: true, &quot;data-sim&quot;: &quot;0.61&quot;, &quot;mols2grid-id&quot;: 175, &quot;data-SMILES&quot;: &quot;CC(=O)c1c(C)c2cnc(Nc3ccc(Cn4nccc4N)cn3)nc2n(C2CCCC2)c1=O&quot;, &quot;data-img&quot;: null, &quot;style-pred_sol&quot;: &quot;color: green&quot;}, {&quot;data-pred_sol&quot;: true, &quot;data-sim&quot;: &quot;0.64&quot;, &quot;mols2grid-id&quot;: 176, &quot;data-SMILES&quot;: &quot;CC(=O)c1c(C)c2cnc(Nc3ccc(-c4nnc(N)s4)cn3)nc2n(C2CCCC2)c1=O&quot;, &quot;data-img&quot;: null, &quot;style-pred_sol&quot;: &quot;color: green&quot;}, {&quot;data-pred_sol&quot;: true, &quot;data-sim&quot;: &quot;0.58&quot;, &quot;mols2grid-id&quot;: 177, &quot;data-SMILES&quot;: &quot;CC(=O)c1c(C)c2cnc(Nc3ccc(CSc4nnc(N)s4)cn3)nc2n(C2CCCC2)c1=O&quot;, &quot;data-img&quot;: null, &quot;style-pred_sol&quot;: &quot;color: green&quot;}, {&quot;data-pred_sol&quot;: true, &quot;data-sim&quot;: &quot;0.68&quot;, &quot;mols2grid-id&quot;: 178, &quot;data-SMILES&quot;: &quot;CC(=O)c1c(C)c2cnc(Nc3ccc(-n4c(N)nsc4=N)cn3)nc2n(C2CCCC2)c1=O&quot;, &quot;data-img&quot;: null, &quot;style-pred_sol&quot;: &quot;color: green&quot;}, {&quot;data-pred_sol&quot;: false, &quot;data-sim&quot;: &quot;0.68&quot;, &quot;mols2grid-id&quot;: 179, &quot;data-SMILES&quot;: &quot;CC(=O)c1c(C)c2cnc(Nc3ccc(-c4ccc(C#N)cc4)cn3)nc2n(C2CCCC2)c1=O&quot;, &quot;data-img&quot;: null, &quot;style-pred_sol&quot;: &quot;color: red&quot;}, {&quot;data-pred_sol&quot;: true, &quot;data-sim&quot;: &quot;0.64&quot;, &quot;mols2grid-id&quot;: 180, &quot;data-SMILES&quot;: &quot;CC(=O)c1c(C)c2cnc(Nc3ccc(C(N)c4ccccc4)cn3)nc2n(C2CCCC2)c1=O&quot;, &quot;data-img&quot;: null, &quot;style-pred_sol&quot;: &quot;color: green&quot;}, {&quot;data-pred_sol&quot;: false, &quot;data-sim&quot;: &quot;0.65&quot;, &quot;mols2grid-id&quot;: 181, &quot;data-SMILES&quot;: &quot;CC(=O)c1c(C)c2cnc(Nc3ccc(C#CC#N)cn3)nc2n(C2CCCC2)c1=O&quot;, &quot;data-img&quot;: null, &quot;style-pred_sol&quot;: &quot;color: red&quot;}, {&quot;data-pred_sol&quot;: true, &quot;data-sim&quot;: &quot;0.67&quot;, &quot;mols2grid-id&quot;: 182, &quot;data-SMILES&quot;: &quot;CC(=O)c1c(C)c2cnc(Nc3ccc(C#CCN)cn3)nc2n(C2CCCC2)c1=O&quot;, &quot;data-img&quot;: null, &quot;style-pred_sol&quot;: &quot;color: green&quot;}, {&quot;data-pred_sol&quot;: true, &quot;data-sim&quot;: &quot;0.61&quot;, &quot;mols2grid-id&quot;: 183, &quot;data-SMILES&quot;: &quot;CC(=O)c1c(C)c2cnc(Nc3ccc(C=C(C#N)C(N)=O)cn3)nc2n(C2CCCC2)c1=O&quot;, &quot;data-img&quot;: null, &quot;style-pred_sol&quot;: &quot;color: green&quot;}, {&quot;data-pred_sol&quot;: false, &quot;data-sim&quot;: &quot;0.64&quot;, &quot;mols2grid-id&quot;: 184, &quot;data-SMILES&quot;: &quot;CC(=O)c1c(C)c2cnc(Nc3ccc(C=C(C#N)C#N)cn3)nc2n(C2CCCC2)c1=O&quot;, &quot;data-img&quot;: null, &quot;style-pred_sol&quot;: &quot;color: red&quot;}, {&quot;data-pred_sol&quot;: false, &quot;data-sim&quot;: &quot;0.61&quot;, &quot;mols2grid-id&quot;: 185, &quot;data-SMILES&quot;: &quot;CC(=O)c1c(C)c2cnc(Nc3ccc(N=CC(C#N)C#N)cn3)nc2n(C2CCCC2)c1=O&quot;, &quot;data-img&quot;: null, &quot;style-pred_sol&quot;: &quot;color: red&quot;}, {&quot;data-pred_sol&quot;: false, &quot;data-sim&quot;: &quot;0.63&quot;, &quot;mols2grid-id&quot;: 186, &quot;data-SMILES&quot;: &quot;CC(=O)c1c(C)c2cnc(Nc3ccc(C(=N)C(C#N)C#N)cn3)nc2n(C2CCCC2)c1=O&quot;, &quot;data-img&quot;: null, &quot;style-pred_sol&quot;: &quot;color: red&quot;}, {&quot;data-pred_sol&quot;: false, &quot;data-sim&quot;: &quot;0.59&quot;, &quot;mols2grid-id&quot;: 187, &quot;data-SMILES&quot;: &quot;CC(=O)c1c(C)c2cnc(Nc3ccc(CNC(=N)C[N+](=O)[O-])cn3)nc2n(C2CCCC2)c1=O&quot;, &quot;data-img&quot;: null, &quot;style-pred_sol&quot;: &quot;color: red&quot;}, {&quot;data-pred_sol&quot;: true, &quot;data-sim&quot;: &quot;0.65&quot;, &quot;mols2grid-id&quot;: 188, &quot;data-SMILES&quot;: &quot;CC(=O)c1c(C)c2cnc(Nc3ccc(CC(=N)N)cn3)nc2n(C2CCCC2)c1=O&quot;, &quot;data-img&quot;: null, &quot;style-pred_sol&quot;: &quot;color: green&quot;}, {&quot;data-pred_sol&quot;: false, &quot;data-sim&quot;: &quot;0.62&quot;, &quot;mols2grid-id&quot;: 189, &quot;data-SMILES&quot;: &quot;CC(=O)c1c(C)c2cnc(Nc3ccc(NC(=N)NC#N)cn3)nc2n(C2CCCC2)c1=O&quot;, &quot;data-img&quot;: null, &quot;style-pred_sol&quot;: &quot;color: red&quot;}, {&quot;data-pred_sol&quot;: true, &quot;data-sim&quot;: &quot;0.68&quot;, &quot;mols2grid-id&quot;: 190, &quot;data-SMILES&quot;: &quot;CC(=O)c1c(C)c2cnc(Nc3ccc(NC(=N)N)cn3)nc2n(C2CCCC2)c1=O&quot;, &quot;data-img&quot;: null, &quot;style-pred_sol&quot;: &quot;color: green&quot;}, {&quot;data-pred_sol&quot;: true, &quot;data-sim&quot;: &quot;0.62&quot;, &quot;mols2grid-id&quot;: 191, &quot;data-SMILES&quot;: &quot;CC(=O)c1c(C)c2cnc(Nc3ccc(CSC(=N)NC(=N)N)cn3)nc2n(C2CCCC2)c1=O&quot;, &quot;data-img&quot;: null, &quot;style-pred_sol&quot;: &quot;color: green&quot;}, {&quot;data-pred_sol&quot;: true, &quot;data-sim&quot;: &quot;0.67&quot;, &quot;mols2grid-id&quot;: 192, &quot;data-SMILES&quot;: &quot;CC(=O)c1c(C)c2cnc(Nc3ccc(C(=O)NC(=N)N)cn3)nc2n(C2CCCC2)c1=O&quot;, &quot;data-img&quot;: null, &quot;style-pred_sol&quot;: &quot;color: green&quot;}, {&quot;data-pred_sol&quot;: false, &quot;data-sim&quot;: &quot;0.67&quot;, &quot;mols2grid-id&quot;: 193, &quot;data-SMILES&quot;: &quot;CC(=O)c1c(C)c2cnc(Nc3ccc(C(=N)NO)cn3)nc2n(C2CCCC2)c1=O&quot;, &quot;data-img&quot;: null, &quot;style-pred_sol&quot;: &quot;color: red&quot;}, {&quot;data-pred_sol&quot;: true, &quot;data-sim&quot;: &quot;0.68&quot;, &quot;mols2grid-id&quot;: 194, &quot;data-SMILES&quot;: &quot;CC(=O)c1c(C)c2cnc(Nc3ccc(C=CC(N)=O)cn3)nc2n(C2CCCC2)c1=O&quot;, &quot;data-img&quot;: null, &quot;style-pred_sol&quot;: &quot;color: green&quot;}, {&quot;data-pred_sol&quot;: true, &quot;data-sim&quot;: &quot;0.64&quot;, &quot;mols2grid-id&quot;: 195, &quot;data-SMILES&quot;: &quot;CC(=O)c1c(C)c2cnc(Nc3ccc(C(=O)CCC(N)=O)cn3)nc2n(C2CCCC2)c1=O&quot;, &quot;data-img&quot;: null, &quot;style-pred_sol&quot;: &quot;color: green&quot;}, {&quot;data-pred_sol&quot;: true, &quot;data-sim&quot;: &quot;0.65&quot;, &quot;mols2grid-id&quot;: 196, &quot;data-SMILES&quot;: &quot;CC(=O)c1c(C)c2cnc(Nc3ccc(CNC(N)=O)cn3)nc2n(C2CCCC2)c1=O&quot;, &quot;data-img&quot;: null, &quot;style-pred_sol&quot;: &quot;color: green&quot;}, {&quot;data-pred_sol&quot;: true, &quot;data-sim&quot;: &quot;0.64&quot;, &quot;mols2grid-id&quot;: 197, &quot;data-SMILES&quot;: &quot;CC(=O)c1c(C)c2cnc(Nc3ccc(CNC(N)=S)cn3)nc2n(C2CCCC2)c1=O&quot;, &quot;data-img&quot;: null, &quot;style-pred_sol&quot;: &quot;color: green&quot;}, {&quot;data-pred_sol&quot;: true, &quot;data-sim&quot;: &quot;0.61&quot;, &quot;mols2grid-id&quot;: 198, &quot;data-SMILES&quot;: &quot;CC(=O)c1c(C)c2cnc(Nc3ccc(C=NNC(N)=S)cn3)nc2n(C2CCCC2)c1=O&quot;, &quot;data-img&quot;: null, &quot;style-pred_sol&quot;: &quot;color: green&quot;}, {&quot;data-pred_sol&quot;: true, &quot;data-sim&quot;: &quot;0.63&quot;, &quot;mols2grid-id&quot;: 199, &quot;data-SMILES&quot;: &quot;CC(=O)c1c(C)c2cnc(Nc3ccc(-c4n[nH]c(=S)n4N)cn3)nc2n(C2CCCC2)c1=O&quot;, &quot;data-img&quot;: null, &quot;style-pred_sol&quot;: &quot;color: green&quot;}, {&quot;data-pred_sol&quot;: true, &quot;data-sim&quot;: &quot;0.68&quot;, &quot;mols2grid-id&quot;: 200, &quot;data-SMILES&quot;: &quot;CC(=O)c1c(C)c2cnc(Nc3ccc(C(=O)NN)cn3)nc2n(C2CCCC2)c1=O&quot;, &quot;data-img&quot;: null, &quot;style-pred_sol&quot;: &quot;color: green&quot;}, {&quot;data-pred_sol&quot;: true, &quot;data-sim&quot;: &quot;0.65&quot;, &quot;mols2grid-id&quot;: 201, &quot;data-SMILES&quot;: &quot;CC(=O)c1c(C)c2cnc(Nc3ccc(CC(=O)NN)cn3)nc2n(C2CCCC2)c1=O&quot;, &quot;data-img&quot;: null, &quot;style-pred_sol&quot;: &quot;color: green&quot;}, {&quot;data-pred_sol&quot;: true, &quot;data-sim&quot;: &quot;0.66&quot;, &quot;mols2grid-id&quot;: 202, &quot;data-SMILES&quot;: &quot;CC(=O)c1c(C)c2cnc(Nc3ccc(NC(=O)NN)cn3)nc2n(C2CCCC2)c1=O&quot;, &quot;data-img&quot;: null, &quot;style-pred_sol&quot;: &quot;color: green&quot;}, {&quot;data-pred_sol&quot;: true, &quot;data-sim&quot;: &quot;0.62&quot;, &quot;mols2grid-id&quot;: 203, &quot;data-SMILES&quot;: &quot;CC(=O)c1c(C)c2cnc(Nc3ccc(CNC(=S)NN)cn3)nc2n(C2CCCC2)c1=O&quot;, &quot;data-img&quot;: null, &quot;style-pred_sol&quot;: &quot;color: green&quot;}, {&quot;data-pred_sol&quot;: true, &quot;data-sim&quot;: &quot;0.68&quot;, &quot;mols2grid-id&quot;: 204, &quot;data-SMILES&quot;: &quot;CC(=O)c1c(C)c2cnc(Nc3ccc(S(N)(=O)=O)cn3)nc2n(C2CCCC2)c1=O&quot;, &quot;data-img&quot;: null, &quot;style-pred_sol&quot;: &quot;color: green&quot;}, {&quot;data-pred_sol&quot;: false, &quot;data-sim&quot;: &quot;0.64&quot;, &quot;mols2grid-id&quot;: 205, &quot;data-SMILES&quot;: &quot;CC(=O)c1c(C)c2cnc(Nc3ccc(C4=CC(=O)CCC4)cn3)nc2n(C2CCCC2)c1=O&quot;, &quot;data-img&quot;: null, &quot;style-pred_sol&quot;: &quot;color: red&quot;}, {&quot;data-pred_sol&quot;: false, &quot;data-sim&quot;: &quot;0.64&quot;, &quot;mols2grid-id&quot;: 206, &quot;data-SMILES&quot;: &quot;CC(=O)c1c(C)c2cnc(Nc3ccc(C4CCC(=O)O4)cn3)nc2n(C2CCCC2)c1=O&quot;, &quot;data-img&quot;: null, &quot;style-pred_sol&quot;: &quot;color: red&quot;}, {&quot;data-pred_sol&quot;: false, &quot;data-sim&quot;: &quot;0.64&quot;, &quot;mols2grid-id&quot;: 207, &quot;data-SMILES&quot;: &quot;CC(=O)c1c(C)c2cnc(Nc3ccc(C4CCC(O)O4)cn3)nc2n(C2CCCC2)c1=O&quot;, &quot;data-img&quot;: null, &quot;style-pred_sol&quot;: &quot;color: red&quot;}, {&quot;data-pred_sol&quot;: false, &quot;data-sim&quot;: &quot;0.64&quot;, &quot;mols2grid-id&quot;: 208, &quot;data-SMILES&quot;: &quot;CC(=O)c1c(C)c2cnc(Nc3ccc(-c4cccc(O)c4)cn3)nc2n(C2CCCC2)c1=O&quot;, &quot;data-img&quot;: null, &quot;style-pred_sol&quot;: &quot;color: red&quot;}, {&quot;data-pred_sol&quot;: false, &quot;data-sim&quot;: &quot;0.65&quot;, &quot;mols2grid-id&quot;: 209, &quot;data-SMILES&quot;: &quot;CC(=O)c1c(C)c2cnc(Nc3ccc(CN4C(=O)C=CC4=O)cn3)nc2n(C2CCCC2)c1=O&quot;, &quot;data-img&quot;: null, &quot;style-pred_sol&quot;: &quot;color: red&quot;}, {&quot;data-pred_sol&quot;: false, &quot;data-sim&quot;: &quot;0.69&quot;, &quot;mols2grid-id&quot;: 210, &quot;data-SMILES&quot;: &quot;CC(=O)c1c(C)c2cnc(Nc3ccc(N4C(=O)CSC4=S)cn3)nc2n(C2CCCC2)c1=O&quot;, &quot;data-img&quot;: null, &quot;style-pred_sol&quot;: &quot;color: red&quot;}, {&quot;data-pred_sol&quot;: true, &quot;data-sim&quot;: &quot;0.60&quot;, &quot;mols2grid-id&quot;: 211, &quot;data-SMILES&quot;: &quot;CC(=O)c1c(C)c2cnc(Nc3ccc(CN4C(=O)CSC4=S)cn3)nc2n(C2CCCC2)c1=O&quot;, &quot;data-img&quot;: null, &quot;style-pred_sol&quot;: &quot;color: green&quot;}, {&quot;data-pred_sol&quot;: false, &quot;data-sim&quot;: &quot;0.68&quot;, &quot;mols2grid-id&quot;: 212, &quot;data-SMILES&quot;: &quot;CC(=O)c1c(C)c2cnc(Nc3ccc(C4NC(=O)NC4=O)cn3)nc2n(C2CCCC2)c1=O&quot;, &quot;data-img&quot;: null, &quot;style-pred_sol&quot;: &quot;color: red&quot;}, {&quot;data-pred_sol&quot;: false, &quot;data-sim&quot;: &quot;0.65&quot;, &quot;mols2grid-id&quot;: 213, &quot;data-SMILES&quot;: &quot;CC(=O)c1c(C)c2cnc(Nc3ccc(C=C4NC(=O)NC4=O)cn3)nc2n(C2CCCC2)c1=O&quot;, &quot;data-img&quot;: null, &quot;style-pred_sol&quot;: &quot;color: red&quot;}, {&quot;data-pred_sol&quot;: false, &quot;data-sim&quot;: &quot;0.62&quot;, &quot;mols2grid-id&quot;: 214, &quot;data-SMILES&quot;: &quot;CC(=O)c1c(C)c2cnc(Nc3ccc(C=C4SC(=S)NC4=O)cn3)nc2n(C2CCCC2)c1=O&quot;, &quot;data-img&quot;: null, &quot;style-pred_sol&quot;: &quot;color: red&quot;}, {&quot;data-pred_sol&quot;: true, &quot;data-sim&quot;: &quot;0.65&quot;, &quot;mols2grid-id&quot;: 215, &quot;data-SMILES&quot;: &quot;CC(=O)c1c(C)c2cnc(Nc3ccc(C4C(=O)NOC4=O)cn3)nc2n(C2CCCC2)c1=O&quot;, &quot;data-img&quot;: null, &quot;style-pred_sol&quot;: &quot;color: green&quot;}, {&quot;data-pred_sol&quot;: false, &quot;data-sim&quot;: &quot;0.63&quot;, &quot;mols2grid-id&quot;: 216, &quot;data-SMILES&quot;: &quot;CC(=O)c1c(C)c2cnc(Nc3ccc(-c4nsc(=O)o4)cn3)nc2n(C2CCCC2)c1=O&quot;, &quot;data-img&quot;: null, &quot;style-pred_sol&quot;: &quot;color: red&quot;}, {&quot;data-pred_sol&quot;: false, &quot;data-sim&quot;: &quot;0.60&quot;, &quot;mols2grid-id&quot;: 217, &quot;data-SMILES&quot;: &quot;CC(=O)c1c(C)c2cnc(Nc3ccc(CC(=O)c4cccs4)cn3)nc2n(C2CCCC2)c1=O&quot;, &quot;data-img&quot;: null, &quot;style-pred_sol&quot;: &quot;color: red&quot;}, {&quot;data-pred_sol&quot;: false, &quot;data-sim&quot;: &quot;0.62&quot;, &quot;mols2grid-id&quot;: 218, &quot;data-SMILES&quot;: &quot;CC(=O)c1c(C)c2cnc(Nc3ccc(-c4ccc(C=O)o4)cn3)nc2n(C2CCCC2)c1=O&quot;, &quot;data-img&quot;: null, &quot;style-pred_sol&quot;: &quot;color: red&quot;}, {&quot;data-pred_sol&quot;: false, &quot;data-sim&quot;: &quot;0.67&quot;, &quot;mols2grid-id&quot;: 219, &quot;data-SMILES&quot;: &quot;CC(=O)c1c(C)c2cnc(Nc3ccc(C(=O)c4ccccc4)cn3)nc2n(C2CCCC2)c1=O&quot;, &quot;data-img&quot;: null, &quot;style-pred_sol&quot;: &quot;color: red&quot;}, {&quot;data-pred_sol&quot;: false, &quot;data-sim&quot;: &quot;0.65&quot;, &quot;mols2grid-id&quot;: 220, &quot;data-SMILES&quot;: &quot;CC(=O)c1c(C)c2cnc(Nc3ccc(C(O)c4ccccc4)cn3)nc2n(C2CCCC2)c1=O&quot;, &quot;data-img&quot;: null, &quot;style-pred_sol&quot;: &quot;color: red&quot;}, {&quot;data-pred_sol&quot;: false, &quot;data-sim&quot;: &quot;0.68&quot;, &quot;mols2grid-id&quot;: 221, &quot;data-SMILES&quot;: &quot;CC(=O)c1c(C)c2cnc(Nc3ccc(-n4cccc4C=O)cn3)nc2n(C2CCCC2)c1=O&quot;, &quot;data-img&quot;: null, &quot;style-pred_sol&quot;: &quot;color: red&quot;}, {&quot;data-pred_sol&quot;: true, &quot;data-sim&quot;: &quot;0.64&quot;, &quot;mols2grid-id&quot;: 222, &quot;data-SMILES&quot;: &quot;CC(=O)c1c(C)c2cnc(Nc3ccc(C(=O)c4cccnc4)cn3)nc2n(C2CCCC2)c1=O&quot;, &quot;data-img&quot;: null, &quot;style-pred_sol&quot;: &quot;color: green&quot;}, {&quot;data-pred_sol&quot;: false, &quot;data-sim&quot;: &quot;0.63&quot;, &quot;mols2grid-id&quot;: 223, &quot;data-SMILES&quot;: &quot;CC(=O)c1c(C)c2cnc(Nc3ccc(C(=O)c4cccs4)cn3)nc2n(C2CCCC2)c1=O&quot;, &quot;data-img&quot;: null, &quot;style-pred_sol&quot;: &quot;color: red&quot;}, {&quot;data-pred_sol&quot;: true, &quot;data-sim&quot;: &quot;0.61&quot;, &quot;mols2grid-id&quot;: 224, &quot;data-SMILES&quot;: &quot;CC(=O)c1c(C)c2cnc(Nc3ccc(C(O)c4cccs4)cn3)nc2n(C2CCCC2)c1=O&quot;, &quot;data-img&quot;: null, &quot;style-pred_sol&quot;: &quot;color: green&quot;}, {&quot;data-pred_sol&quot;: false, &quot;data-sim&quot;: &quot;0.67&quot;, &quot;mols2grid-id&quot;: 225, &quot;data-SMILES&quot;: &quot;CC(=O)c1c(C)c2cnc(Nc3ccc(C(=O)CBr)cn3)nc2n(C2CCCC2)c1=O&quot;, &quot;data-img&quot;: null, &quot;style-pred_sol&quot;: &quot;color: red&quot;}, {&quot;data-pred_sol&quot;: true, &quot;data-sim&quot;: &quot;0.66&quot;, &quot;mols2grid-id&quot;: 226, &quot;data-SMILES&quot;: &quot;CC(=O)c1c(C)c2cnc(Nc3ccc(C=CC=O)cn3)nc2n(C2CCCC2)c1=O&quot;, &quot;data-img&quot;: null, &quot;style-pred_sol&quot;: &quot;color: green&quot;}, {&quot;data-pred_sol&quot;: true, &quot;data-sim&quot;: &quot;0.66&quot;, &quot;mols2grid-id&quot;: 227, &quot;data-SMILES&quot;: &quot;CC(=O)c1c(C)c2cnc(Nc3ccc(CCCO)cn3)nc2n(C2CCCC2)c1=O&quot;, &quot;data-img&quot;: null, &quot;style-pred_sol&quot;: &quot;color: green&quot;}, {&quot;data-pred_sol&quot;: false, &quot;data-sim&quot;: &quot;0.69&quot;, &quot;mols2grid-id&quot;: 228, &quot;data-SMILES&quot;: &quot;CC(=O)c1c(C)c2cnc(Nc3ccc(C=CC(=O)NO)cn3)nc2n(C2CCCC2)c1=O&quot;, &quot;data-img&quot;: null, &quot;style-pred_sol&quot;: &quot;color: red&quot;}, {&quot;data-pred_sol&quot;: false, &quot;data-sim&quot;: &quot;0.64&quot;, &quot;mols2grid-id&quot;: 229, &quot;data-SMILES&quot;: &quot;CC(=O)c1c(C)c2cnc(Nc3ccc(OCCCCCCO)cn3)nc2n(C2CCCC2)c1=O&quot;, &quot;data-img&quot;: null, &quot;style-pred_sol&quot;: &quot;color: red&quot;}, {&quot;data-pred_sol&quot;: true, &quot;data-sim&quot;: &quot;0.64&quot;, &quot;mols2grid-id&quot;: 230, &quot;data-SMILES&quot;: &quot;CC(=O)c1c(C)c2cnc(Nc3ccc(C(=O)CCCO)cn3)nc2n(C2CCCC2)c1=O&quot;, &quot;data-img&quot;: null, &quot;style-pred_sol&quot;: &quot;color: green&quot;}, {&quot;data-pred_sol&quot;: true, &quot;data-sim&quot;: &quot;0.66&quot;, &quot;mols2grid-id&quot;: 231, &quot;data-SMILES&quot;: &quot;CC(=O)c1c(C)c2cnc(Nc3ccc(NC(=O)CCl)cn3)nc2n(C2CCCC2)c1=O&quot;, &quot;data-img&quot;: null, &quot;style-pred_sol&quot;: &quot;color: green&quot;}, {&quot;data-pred_sol&quot;: false, &quot;data-sim&quot;: &quot;0.65&quot;, &quot;mols2grid-id&quot;: 232, &quot;data-SMILES&quot;: &quot;CC(=O)c1c(C)c2cnc(Nc3ccc(NC(=O)CF)cn3)nc2n(C2CCCC2)c1=O&quot;, &quot;data-img&quot;: null, &quot;style-pred_sol&quot;: &quot;color: red&quot;}, {&quot;data-pred_sol&quot;: true, &quot;data-sim&quot;: &quot;0.60&quot;, &quot;mols2grid-id&quot;: 233, &quot;data-SMILES&quot;: &quot;CC(=O)c1c(C)c2cnc(Nc3ccc(C(=O)Cn4ccnc4)cn3)nc2n(C2CCCC2)c1=O&quot;, &quot;data-img&quot;: null, &quot;style-pred_sol&quot;: &quot;color: green&quot;}, {&quot;data-pred_sol&quot;: false, &quot;data-sim&quot;: &quot;0.64&quot;, &quot;mols2grid-id&quot;: 234, &quot;data-SMILES&quot;: &quot;CC(=O)c1c(C)c2cnc(Nc3ccc(NC(=O)C=NO)cn3)nc2n(C2CCCC2)c1=O&quot;, &quot;data-img&quot;: null, &quot;style-pred_sol&quot;: &quot;color: red&quot;}, {&quot;data-pred_sol&quot;: false, &quot;data-sim&quot;: &quot;0.61&quot;, &quot;mols2grid-id&quot;: 235, &quot;data-SMILES&quot;: &quot;CC(=O)c1c(C)c2cnc(Nc3ccc(CNC(=O)C=NO)cn3)nc2n(C2CCCC2)c1=O&quot;, &quot;data-img&quot;: null, &quot;style-pred_sol&quot;: &quot;color: red&quot;}, {&quot;data-pred_sol&quot;: false, &quot;data-sim&quot;: &quot;0.67&quot;, &quot;mols2grid-id&quot;: 236, &quot;data-SMILES&quot;: &quot;CC(=O)c1c(C)c2cnc(Nc3ccc(NC(=O)C4CCCC4)cn3)nc2n(C2CCCC2)c1=O&quot;, &quot;data-img&quot;: null, &quot;style-pred_sol&quot;: &quot;color: red&quot;}, {&quot;data-pred_sol&quot;: false, &quot;data-sim&quot;: &quot;0.61&quot;, &quot;mols2grid-id&quot;: 237, &quot;data-SMILES&quot;: &quot;CC(=O)c1c(C)c2cnc(Nc3ccc(NC(=O)c4ccco4)cn3)nc2n(C2CCCC2)c1=O&quot;, &quot;data-img&quot;: null, &quot;style-pred_sol&quot;: &quot;color: red&quot;}, {&quot;data-pred_sol&quot;: false, &quot;data-sim&quot;: &quot;0.61&quot;, &quot;mols2grid-id&quot;: 238, &quot;data-SMILES&quot;: &quot;CC(=O)c1c(C)c2cnc(Nc3ccc(NC(=O)c4cccs4)cn3)nc2n(C2CCCC2)c1=O&quot;, &quot;data-img&quot;: null, &quot;style-pred_sol&quot;: &quot;color: red&quot;}, {&quot;data-pred_sol&quot;: true, &quot;data-sim&quot;: &quot;0.63&quot;, &quot;mols2grid-id&quot;: 239, &quot;data-SMILES&quot;: &quot;CC(=O)c1c(C)c2cnc(Nc3ccc(NC(=O)c4ccn[nH]4)cn3)nc2n(C2CCCC2)c1=O&quot;, &quot;data-img&quot;: null, &quot;style-pred_sol&quot;: &quot;color: green&quot;}, {&quot;data-pred_sol&quot;: true, &quot;data-sim&quot;: &quot;0.64&quot;, &quot;mols2grid-id&quot;: 240, &quot;data-SMILES&quot;: &quot;CC(=O)c1c(C)c2cnc(Nc3ccc(NC(=O)C(Cl)=C(Cl)Cl)cn3)nc2n(C2CCCC2)c1=O&quot;, &quot;data-img&quot;: null, &quot;style-pred_sol&quot;: &quot;color: green&quot;}, {&quot;data-pred_sol&quot;: false, &quot;data-sim&quot;: &quot;0.65&quot;, &quot;mols2grid-id&quot;: 241, &quot;data-SMILES&quot;: &quot;CC(=O)c1c(C)c2cnc(Nc3ccc(NC(=O)C(Cl)Cl)cn3)nc2n(C2CCCC2)c1=O&quot;, &quot;data-img&quot;: null, &quot;style-pred_sol&quot;: &quot;color: red&quot;}, {&quot;data-pred_sol&quot;: false, &quot;data-sim&quot;: &quot;0.66&quot;, &quot;mols2grid-id&quot;: 242, &quot;data-SMILES&quot;: &quot;CC(=O)c1c(C)c2cnc(Nc3ccc(C(=O)N4CCOCC4)cn3)nc2n(C2CCCC2)c1=O&quot;, &quot;data-img&quot;: null, &quot;style-pred_sol&quot;: &quot;color: red&quot;}, {&quot;data-pred_sol&quot;: false, &quot;data-sim&quot;: &quot;0.66&quot;, &quot;mols2grid-id&quot;: 243, &quot;data-SMILES&quot;: &quot;CC(=O)c1c(C)c2cnc(Nc3ccc(C(=O)N4CCSCC4)cn3)nc2n(C2CCCC2)c1=O&quot;, &quot;data-img&quot;: null, &quot;style-pred_sol&quot;: &quot;color: red&quot;}, {&quot;data-pred_sol&quot;: false, &quot;data-sim&quot;: &quot;0.65&quot;, &quot;mols2grid-id&quot;: 244, &quot;data-SMILES&quot;: &quot;CC(=O)c1c(C)c2cnc(Nc3ccc(NC(=O)C(F)(F)F)cn3)nc2n(C2CCCC2)c1=O&quot;, &quot;data-img&quot;: null, &quot;style-pred_sol&quot;: &quot;color: red&quot;}, {&quot;data-pred_sol&quot;: false, &quot;data-sim&quot;: &quot;0.65&quot;, &quot;mols2grid-id&quot;: 245, &quot;data-SMILES&quot;: &quot;CC(=O)c1c(C)c2cnc(Nc3ccc(CNC(=O)C(Cl)(Cl)Cl)cn3)nc2n(C2CCCC2)c1=O&quot;, &quot;data-img&quot;: null, &quot;style-pred_sol&quot;: &quot;color: red&quot;}, {&quot;data-pred_sol&quot;: false, &quot;data-sim&quot;: &quot;0.63&quot;, &quot;mols2grid-id&quot;: 246, &quot;data-SMILES&quot;: &quot;CC(=O)c1c(C)c2cnc(Nc3ccc(C(=O)Nc4cn[nH]c4)cn3)nc2n(C2CCCC2)c1=O&quot;, &quot;data-img&quot;: null, &quot;style-pred_sol&quot;: &quot;color: red&quot;}, {&quot;data-pred_sol&quot;: true, &quot;data-sim&quot;: &quot;0.61&quot;, &quot;mols2grid-id&quot;: 247, &quot;data-SMILES&quot;: &quot;CC(=O)c1c(C)c2cnc(Nc3ccc(C(=O)Nc4nccs4)cn3)nc2n(C2CCCC2)c1=O&quot;, &quot;data-img&quot;: null, &quot;style-pred_sol&quot;: &quot;color: green&quot;}, {&quot;data-pred_sol&quot;: true, &quot;data-sim&quot;: &quot;0.62&quot;, &quot;mols2grid-id&quot;: 248, &quot;data-SMILES&quot;: &quot;CC(=O)c1c(C)c2cnc(Nc3ccc(NC(=O)NCCCl)cn3)nc2n(C2CCCC2)c1=O&quot;, &quot;data-img&quot;: null, &quot;style-pred_sol&quot;: &quot;color: green&quot;}, {&quot;data-pred_sol&quot;: true, &quot;data-sim&quot;: &quot;0.64&quot;, &quot;mols2grid-id&quot;: 249, &quot;data-SMILES&quot;: &quot;CC(=O)c1c(C)c2cnc(Nc3ccc(C(=O)NCCO)cn3)nc2n(C2CCCC2)c1=O&quot;, &quot;data-img&quot;: null, &quot;style-pred_sol&quot;: &quot;color: green&quot;}, {&quot;data-pred_sol&quot;: true, &quot;data-sim&quot;: &quot;0.66&quot;, &quot;mols2grid-id&quot;: 250, &quot;data-SMILES&quot;: &quot;CC(=O)c1c(C)c2cnc(Nc3ccc(C(=O)NCO)cn3)nc2n(C2CCCC2)c1=O&quot;, &quot;data-img&quot;: null, &quot;style-pred_sol&quot;: &quot;color: green&quot;}, {&quot;data-pred_sol&quot;: false, &quot;data-sim&quot;: &quot;0.69&quot;, &quot;mols2grid-id&quot;: 251, &quot;data-SMILES&quot;: &quot;CC(=O)c1c(C)c2cnc(Nc3ccc(C(=O)NO)cn3)nc2n(C2CCCC2)c1=O&quot;, &quot;data-img&quot;: null, &quot;style-pred_sol&quot;: &quot;color: red&quot;}, {&quot;data-pred_sol&quot;: false, &quot;data-sim&quot;: &quot;0.62&quot;, &quot;mols2grid-id&quot;: 252, &quot;data-SMILES&quot;: &quot;CC(=O)c1c(C)c2cnc(Nc3ccc(OC(=O)c4ccco4)cn3)nc2n(C2CCCC2)c1=O&quot;, &quot;data-img&quot;: null, &quot;style-pred_sol&quot;: &quot;color: red&quot;}, {&quot;data-pred_sol&quot;: false, &quot;data-sim&quot;: &quot;0.62&quot;, &quot;mols2grid-id&quot;: 253, &quot;data-SMILES&quot;: &quot;CC(=O)c1c(C)c2cnc(Nc3ccc(OC(=O)c4cccs4)cn3)nc2n(C2CCCC2)c1=O&quot;, &quot;data-img&quot;: null, &quot;style-pred_sol&quot;: &quot;color: red&quot;}, {&quot;data-pred_sol&quot;: false, &quot;data-sim&quot;: &quot;0.68&quot;, &quot;mols2grid-id&quot;: 254, &quot;data-SMILES&quot;: &quot;CC(=O)c1c(C)c2cnc(Nc3ccc(CC(=O)O)cn3)nc2n(C2CCCC2)c1=O&quot;, &quot;data-img&quot;: null, &quot;style-pred_sol&quot;: &quot;color: red&quot;}, {&quot;data-pred_sol&quot;: false, &quot;data-sim&quot;: &quot;0.60&quot;, &quot;mols2grid-id&quot;: 255, &quot;data-SMILES&quot;: &quot;CC(=O)c1c(C)c2cnc(Nc3ccc(C(=O)Oc4ccco4)cn3)nc2n(C2CCCC2)c1=O&quot;, &quot;data-img&quot;: null, &quot;style-pred_sol&quot;: &quot;color: red&quot;}, {&quot;data-pred_sol&quot;: false, &quot;data-sim&quot;: &quot;0.62&quot;, &quot;mols2grid-id&quot;: 256, &quot;data-SMILES&quot;: &quot;CC(=O)c1c(C)c2cnc(Nc3ccc(C4NC(C(=O)O)CS4)cn3)nc2n(C2CCCC2)c1=O&quot;, &quot;data-img&quot;: null, &quot;style-pred_sol&quot;: &quot;color: red&quot;}, {&quot;data-pred_sol&quot;: true, &quot;data-sim&quot;: &quot;0.68&quot;, &quot;mols2grid-id&quot;: 257, &quot;data-SMILES&quot;: &quot;CC(=O)c1c(C)c2cnc(Nc3ccc(C=CC(=O)O)cn3)nc2n(C2CCCC2)c1=O&quot;, &quot;data-img&quot;: null, &quot;style-pred_sol&quot;: &quot;color: green&quot;}, {&quot;data-pred_sol&quot;: false, &quot;data-sim&quot;: &quot;0.66&quot;, &quot;mols2grid-id&quot;: 258, &quot;data-SMILES&quot;: &quot;CC(=O)c1c(C)c2cnc(Nc3ccc(CCC(=O)O)cn3)nc2n(C2CCCC2)c1=O&quot;, &quot;data-img&quot;: null, &quot;style-pred_sol&quot;: &quot;color: red&quot;}, {&quot;data-pred_sol&quot;: false, &quot;data-sim&quot;: &quot;0.64&quot;, &quot;mols2grid-id&quot;: 259, &quot;data-SMILES&quot;: &quot;CC(=O)c1c(C)c2cnc(Nc3ccc(C=CCC(=O)O)cn3)nc2n(C2CCCC2)c1=O&quot;, &quot;data-img&quot;: null, &quot;style-pred_sol&quot;: &quot;color: red&quot;}, {&quot;data-pred_sol&quot;: false, &quot;data-sim&quot;: &quot;0.64&quot;, &quot;mols2grid-id&quot;: 260, &quot;data-SMILES&quot;: &quot;CC(=O)c1c(C)c2cnc(Nc3ccc(CCCC(=O)O)cn3)nc2n(C2CCCC2)c1=O&quot;, &quot;data-img&quot;: null, &quot;style-pred_sol&quot;: &quot;color: red&quot;}, {&quot;data-pred_sol&quot;: false, &quot;data-sim&quot;: &quot;0.65&quot;, &quot;mols2grid-id&quot;: 261, &quot;data-SMILES&quot;: &quot;CC(=O)c1c(C)c2cnc(Nc3ccc(C(=O)C=CC(=O)O)cn3)nc2n(C2CCCC2)c1=O&quot;, &quot;data-img&quot;: null, &quot;style-pred_sol&quot;: &quot;color: red&quot;}, {&quot;data-pred_sol&quot;: false, &quot;data-sim&quot;: &quot;0.65&quot;, &quot;mols2grid-id&quot;: 262, &quot;data-SMILES&quot;: &quot;CC(=O)c1c(C)c2cnc(Nc3ccc(C(=O)CCC(=O)O)cn3)nc2n(C2CCCC2)c1=O&quot;, &quot;data-img&quot;: null, &quot;style-pred_sol&quot;: &quot;color: red&quot;}, {&quot;data-pred_sol&quot;: true, &quot;data-sim&quot;: &quot;0.64&quot;, &quot;mols2grid-id&quot;: 263, &quot;data-SMILES&quot;: &quot;CC(=O)c1c(C)c2cnc(Nc3ccc(NC(=O)C=CC(=O)O)cn3)nc2n(C2CCCC2)c1=O&quot;, &quot;data-img&quot;: null, &quot;style-pred_sol&quot;: &quot;color: green&quot;}, {&quot;data-pred_sol&quot;: false, &quot;data-sim&quot;: &quot;0.65&quot;, &quot;mols2grid-id&quot;: 264, &quot;data-SMILES&quot;: &quot;CC(=O)c1c(C)c2cnc(Nc3ccc(C(=O)NCC(=O)O)cn3)nc2n(C2CCCC2)c1=O&quot;, &quot;data-img&quot;: null, &quot;style-pred_sol&quot;: &quot;color: red&quot;}, {&quot;data-pred_sol&quot;: false, &quot;data-sim&quot;: &quot;0.64&quot;, &quot;mols2grid-id&quot;: 265, &quot;data-SMILES&quot;: &quot;CC(=O)c1c(C)c2cnc(Nc3ccc(C(=O)C=C(O)C(=O)O)cn3)nc2n(C2CCCC2)c1=O&quot;, &quot;data-img&quot;: null, &quot;style-pred_sol&quot;: &quot;color: red&quot;}, {&quot;data-pred_sol&quot;: false, &quot;data-sim&quot;: &quot;0.61&quot;, &quot;mols2grid-id&quot;: 266, &quot;data-SMILES&quot;: &quot;CC(=O)c1c(C)c2cnc(Nc3ccc(Oc4ccc[n+]([O-])c4)cn3)nc2n(C2CCCC2)c1=O&quot;, &quot;data-img&quot;: null, &quot;style-pred_sol&quot;: &quot;color: red&quot;}, {&quot;data-pred_sol&quot;: true, &quot;data-sim&quot;: &quot;0.70&quot;, &quot;mols2grid-id&quot;: 267, &quot;data-SMILES&quot;: &quot;CC(=O)c1c(C)c2cnc(Nc3ccc(S(=O)(=O)N4CCCC4)cn3)nc2n(C2CCCC2)c1=O&quot;, &quot;data-img&quot;: null, &quot;style-pred_sol&quot;: &quot;color: green&quot;}, {&quot;data-pred_sol&quot;: true, &quot;data-sim&quot;: &quot;0.71&quot;, &quot;mols2grid-id&quot;: 268, &quot;data-SMILES&quot;: &quot;CC(=O)c1c(C)c2cnc(Nc3ccc(S(=O)(=O)O)cn3)nc2n(C2CCCC2)c1=O&quot;, &quot;data-img&quot;: null, &quot;style-pred_sol&quot;: &quot;color: green&quot;}, {&quot;data-pred_sol&quot;: true, &quot;data-sim&quot;: &quot;0.63&quot;, &quot;mols2grid-id&quot;: 269, &quot;data-SMILES&quot;: &quot;CC(=O)c1c(C)c2cnc(Nc3ccc(CN4CNC(=S)NC4)cn3)nc2n(C2CCCC2)c1=O&quot;, &quot;data-img&quot;: null, &quot;style-pred_sol&quot;: &quot;color: green&quot;}, {&quot;data-pred_sol&quot;: false, &quot;data-sim&quot;: &quot;0.65&quot;, &quot;mols2grid-id&quot;: 270, &quot;data-SMILES&quot;: &quot;CC(=O)c1c(C)c2cnc(Nc3ccc(-c4n[nH]c(=S)[nH]4)cn3)nc2n(C2CCCC2)c1=O&quot;, &quot;data-img&quot;: null, &quot;style-pred_sol&quot;: &quot;color: red&quot;}, {&quot;data-pred_sol&quot;: false, &quot;data-sim&quot;: &quot;0.63&quot;, &quot;mols2grid-id&quot;: 271, &quot;data-SMILES&quot;: &quot;CC(=O)c1c(C)c2cnc(Nc3ccc(-c4n[nH]c(=S)o4)cn3)nc2n(C2CCCC2)c1=O&quot;, &quot;data-img&quot;: null, &quot;style-pred_sol&quot;: &quot;color: red&quot;}]);\n",
       "// filter\n",
       "if (window.parent.mols2grid_lists === undefined) {\n",
       "    window.parent.mols2grid_lists = {};\n",
       "}\n",
       "window.parent.mols2grid_lists[&quot;default&quot;] = listObj;\n",
       "\n",
       "\n",
       "\n",
       "\n",
       "\n",
       "\n",
       "\n",
       "// sort\n",
       "var sort_field = &quot;mols2grid-id&quot;;\n",
       "var sort_order = &quot;asc&quot;;\n",
       "function mols2gridSortFunction(itemA, itemB, options) {\n",
       "    var x = itemA.values()[options.valueName];\n",
       "    var y = itemB.values()[options.valueName];\n",
       "    if (typeof x === &quot;number&quot;) {\n",
       "        if (isFinite(x - y)) {\n",
       "            return x - y; \n",
       "        } else {\n",
       "            return isFinite(x) ? -1 : 1;\n",
       "        }\n",
       "    } else {\n",
       "        x = x.toLowerCase();\n",
       "        y = y.toLowerCase();\n",
       "        return (x &lt; y) ? -1: (x &gt; y) ? 1: 0;\n",
       "    }\n",
       "}\n",
       "function checkboxSort(itemA, itemB, options) {\n",
       "    if (itemA.elm !== undefined) {\n",
       "        var checkedA = itemA.elm.firstChild.checked;\n",
       "        if (itemB.elm !== undefined) {\n",
       "            var checkedB = itemB.elm.firstChild.checked;\n",
       "            if (checkedA &amp;&amp; !checkedB) {\n",
       "                return -1;\n",
       "            } else if (!checkedA &amp;&amp; checkedB) {\n",
       "                return 1;\n",
       "            } else {\n",
       "                return 0;\n",
       "            }\n",
       "        } else {\n",
       "            return -1;\n",
       "        }\n",
       "    } else if (itemB.elm !== undefined) {\n",
       "        return 1;\n",
       "    } else {\n",
       "        return 0;\n",
       "    }\n",
       "}\n",
       "$(&#x27;#mols2grid button.sort-btn&#x27;).click(function(e) {\n",
       "    var _field = $(this).attr(&quot;data-name&quot;);\n",
       "    if (_field == sort_field) {\n",
       "        $(this).removeClass(&quot;arrow-&quot; + sort_order)\n",
       "        sort_order = (sort_order === &quot;desc&quot;) ? &quot;asc&quot; : &quot;desc&quot;;\n",
       "    } else {\n",
       "        $(&#x27;#mols2grid button.sort-btn.active&#x27;).removeClass(&quot;active arrow-&quot; + sort_order);\n",
       "        sort_order = &quot;asc&quot;;\n",
       "        sort_field = _field;\n",
       "        $(this).addClass(&quot;active&quot;);\n",
       "    }\n",
       "    $(this).addClass(&quot;arrow-&quot; + sort_order)\n",
       "    if (sort_field == &quot;checkbox&quot;) {\n",
       "        listObj.sort(&quot;mols2grid-id&quot;, {order: sort_order, sortFunction: checkboxSort});\n",
       "    } else {\n",
       "        listObj.sort(_field, {order: sort_order, sortFunction: mols2gridSortFunction});\n",
       "    }\n",
       "});\n",
       "\n",
       "\n",
       "\n",
       "\n",
       "\n",
       "\n",
       "\n",
       "\n",
       "\n",
       "\n",
       "// generate images for the currently displayed molecules\n",
       "var draw_opts = {&quot;width&quot;: 160, &quot;height&quot;: 120};\n",
       "var json_draw_opts = JSON.stringify(draw_opts);\n",
       "\n",
       "var smarts_matches = {};\n",
       "\n",
       "// Load RDKit\n",
       "window\n",
       ".initRDKitModule()\n",
       ".then(function(RDKit) {\n",
       "    console.log(&#x27;RDKit version: &#x27;, RDKit.version());\n",
       "    window.RDKit = RDKit;\n",
       "    window.RDKitModule = RDKit;\n",
       "\n",
       "    // search bar\n",
       "    function SmartsSearch(query, columns) {\n",
       "    var smiles_col = columns[0];\n",
       "    smarts_matches = {};\n",
       "    var query = $(&#x27;#mols2grid #searchbar&#x27;).val();\n",
       "    var qmol = RDKit.get_qmol(query);\n",
       "    if (qmol.is_valid()) {\n",
       "        listObj.items.forEach(function (item) {\n",
       "            var smiles = item.values()[smiles_col]\n",
       "            var mol = RDKit.get_mol(smiles, &#x27;{&quot;removeHs&quot;: false }&#x27;);\n",
       "            if (mol.is_valid()) {\n",
       "                var results = mol.get_substruct_matches(qmol);\n",
       "                if (results === &quot;\\{\\}&quot;) {\n",
       "                    item.found = false;\n",
       "                } else {\n",
       "                    item.found = true;\n",
       "                    \n",
       "                    results = JSON.parse(results);\n",
       "                    \n",
       "                    var highlights = {&quot;atoms&quot;: [], &quot;bonds&quot;: []};\n",
       "                    results.forEach(function (match) {\n",
       "                        highlights[&quot;atoms&quot;].push(...match.atoms)\n",
       "                        highlights[&quot;bonds&quot;].push(...match.bonds)\n",
       "                    });\n",
       "                    \n",
       "                    var index = item.values()[&quot;mols2grid-id&quot;];\n",
       "                    smarts_matches[index] = highlights;\n",
       "                    \n",
       "                }\n",
       "            } else {\n",
       "                item.found = false;\n",
       "            }\n",
       "            mol.delete();\n",
       "        });\n",
       "    }\n",
       "    qmol.delete();\n",
       "}\n",
       "var search_type = &quot;Text&quot;;\n",
       "// Temporary fix for regex characters being escaped by list.js\n",
       "// This extends String.replace to ignore the regex pattern used by list.js and returns\n",
       "// the string unmodified. Other calls should not be affected, unless they use the exact\n",
       "// same pattern and replacement value.\n",
       "// TODO: remove once the issue is fixed in list.js and released\n",
       "String.prototype.replace = (function(_super) {\n",
       "    return function() {\n",
       "        if (\n",
       "            (arguments[0].toString() === &#x27;/[-[\\\\]{}()*+?.,\\\\\\\\^$|#]/g&#x27;)\n",
       "            &amp;&amp; (arguments[1] === &#x27;\\\\$&amp;&#x27;)\n",
       "        ) {\n",
       "            if (this.length === 0) {\n",
       "                return &#x27;&#x27;\n",
       "            }\n",
       "            return this\n",
       "        }\n",
       "        return _super.apply(this, arguments);\n",
       "    };         \n",
       "})(String.prototype.replace);\n",
       "// Switch search type (Text or SMARTS)\n",
       "$(&#x27;#mols2grid .search-btn&#x27;).click(function() {\n",
       "    search_type = $(this).text();\n",
       "    $(&#x27;#mols2grid button.search-btn.active&#x27;).removeClass(&quot;active&quot;);\n",
       "    $(this).addClass(&quot;active&quot;);\n",
       "});\n",
       "// Searchbar update event handler\n",
       "$(&#x27;#mols2grid #searchbar&#x27;).on(&quot;keyup&quot;, function(e) {\n",
       "    var query = e.target.value;\n",
       "    if (search_type === &quot;Text&quot;) {\n",
       "        smarts_matches = {};\n",
       "        listObj.search(query, [&#x27;data-pred_sol&#x27;, &#x27;data-sim&#x27;]);\n",
       "    } else {\n",
       "        listObj.search(query, [&quot;data-SMILES&quot;], SmartsSearch);\n",
       "    }\n",
       "});\n",
       "\n",
       "    \n",
       "    // generate images for the currently displayed molecules\n",
       "RDKit.prefer_coordgen(true);\n",
       "function draw_mol(smiles, index, template_mol) {\n",
       "    var mol = RDKit.get_mol(smiles, &#x27;{&quot;removeHs&quot;: false }&#x27;);\n",
       "    var svg = &quot;&quot;;\n",
       "    if (mol.is_valid()) {\n",
       "        var highlights = smarts_matches[index];\n",
       "        if (highlights) {\n",
       "            var details = Object.assign({}, draw_opts, highlights);\n",
       "            details = JSON.stringify(details);\n",
       "            mol.generate_aligned_coords(template_mol, true);\n",
       "        } else {\n",
       "            var details = json_draw_opts;\n",
       "        }\n",
       "        svg = mol.get_svg_with_highlights(details);\n",
       "    }\n",
       "    mol.delete();\n",
       "    if (svg == &quot;&quot;) {\n",
       "        return &#x27;&lt;svg width=&quot;160&quot; height=&quot;120&quot; xmlns=&quot;http://www.w3.org/2000/svg&quot; version=&quot;1.1&quot; viewBox=&quot;0 0 160 120&quot;&gt;&lt;/svg&gt;&#x27;;\n",
       "    }\n",
       "    return svg;\n",
       "}\n",
       "listObj.on(&quot;updated&quot;, function (list) {\n",
       "    var query = $(&#x27;#mols2grid #searchbar&#x27;).val();\n",
       "    var template_mol;\n",
       "    if (query === &quot;&quot;) {\n",
       "        smarts_matches = {};\n",
       "        template_mol = null;\n",
       "    } else {\n",
       "        template_mol = RDKit.get_qmol(query);\n",
       "        template_mol.set_new_coords(true);\n",
       "    }\n",
       "    $(&#x27;#mols2grid .cell&#x27;).each(function() {\n",
       "        var $t = $(this);\n",
       "        var smiles = $t.children(&quot;.data-SMILES&quot;).first().text();\n",
       "        var index = parseInt(this.getAttribute(&quot;data-mols2grid-id&quot;));\n",
       "        var svg = draw_mol(smiles, index, template_mol);\n",
       "        $t.children(&quot;.data-img&quot;).html(svg);\n",
       "    });\n",
       "    if (template_mol) {\n",
       "        template_mol.delete();\n",
       "    }\n",
       "});\n",
       "    \n",
       "\n",
       "    // trigger update to activate tooltips, draw images, setup callbacks...\n",
       "    listObj.update();\n",
       "    // resize iframe to fit content\n",
       "    if (window.frameElement) {\n",
       "        fit_height(window.frameElement);\n",
       "    }\n",
       "});\n",
       "    &lt;/script&gt;\n",
       "  &lt;/body&gt;\n",
       "&lt;/html&gt;\">\n",
       "</iframe>"
      ],
      "text/plain": [
       "<IPython.core.display.HTML object>"
      ]
     },
     "execution_count": 33,
     "metadata": {},
     "output_type": "execute_result"
    }
   ],
   "source": [
    "mols2grid.display(analog_df,\n",
    "                 subset=[\"img\",\"pred_sol\",\"sim\"],selection=False,\n",
    "                 style={\"pred_sol\": lambda x: \"color: green\" if x else \"color: red\"},\n",
    "                 transform={\"sim\": lambda x: f\"{x:.2f}\"})"
   ]
  },
  {
   "cell_type": "markdown",
   "id": "5c0cf8f2",
   "metadata": {},
   "source": [
    "### 4. View counterfactual examples "
   ]
  },
  {
   "cell_type": "markdown",
   "id": "1759bc0e",
   "metadata": {},
   "source": [
    "Sort the data by similarity to Palbociclib and select only the molecules predicted to be soluble."
   ]
  },
  {
   "cell_type": "code",
   "execution_count": 34,
   "id": "26acfeb7",
   "metadata": {},
   "outputs": [],
   "source": [
    "counterfactual_df = analog_df.sort_values(\"sim\",ascending=False).query(\"pred_sol == True\").copy()"
   ]
  },
  {
   "cell_type": "code",
   "execution_count": 35,
   "id": "6098f5b5",
   "metadata": {},
   "outputs": [],
   "source": [
    "counterfactual_df[\"mol_idx\"] = range(0,len(counterfactual_df))"
   ]
  },
  {
   "cell_type": "code",
   "execution_count": 36,
   "id": "37e6832c-57be-4a6a-a4cf-233cd2442fff",
   "metadata": {},
   "outputs": [
    {
     "data": {
      "application/vnd.jupyter.widget-view+json": {
       "model_id": "bf9125bd429245ea8679aebbb7562dea",
       "version_major": 2,
       "version_minor": 0
      },
      "text/plain": [
       "MolGridWidget()"
      ]
     },
     "metadata": {},
     "output_type": "display_data"
    },
    {
     "data": {
      "text/html": [
       "<iframe class=\"mols2grid-iframe\" frameborder=\"0\" width=\"100%\"\n",
       "\n",
       "height=\"200\"\n",
       "\n",
       "\n",
       "allow=\"clipboard-write\"\n",
       "\n",
       "\n",
       "sandbox=\"allow-scripts allow-same-origin allow-downloads allow-popups allow-modals\"\n",
       "\n",
       "srcdoc=\"&lt;html&gt;\n",
       "  &lt;meta charset=&quot;utf-8&quot;&gt;\n",
       "  &lt;head&gt;\n",
       "    &lt;style&gt;\n",
       "    #mols2grid.gridcontainer {\n",
       "    display: block;\n",
       "    padding-left: 1em;\n",
       "    max-width: 820px;\n",
       "    width: 820px;\n",
       "}\n",
       "#mols2grid .cell {\n",
       "    border: 1px solid #cccccc;\n",
       "    text-align: center;\n",
       "    vertical-align: top;\n",
       "    max-width: 160px;\n",
       "    width: 160px;\n",
       "    font-family: &#x27;DejaVu&#x27;, sans-serif;\n",
       "    font-size: 12pt;\n",
       "    padding: 0;\n",
       "    margin: 0px;\n",
       "    float: left;\n",
       "}\n",
       "#mols2grid .cell:hover {\n",
       "    background-color: #e7e7e7 !important;\n",
       "}\n",
       "#mols2grid .cell .data-img {\n",
       "    padding: 0;\n",
       "    margin: 0;\n",
       "}\n",
       "#mols2grid .cell img, #mols2grid .cell svg {\n",
       "    max-width: 100%;\n",
       "    height: auto;\n",
       "    padding: 0;\n",
       "}\n",
       "#mols2grid .data {\n",
       "    overflow: hidden;\n",
       "    white-space: nowrap;\n",
       "    text-overflow: ellipsis;\n",
       "    display: block;\n",
       "}\n",
       "#mols2grid .arrow-asc:after {\n",
       "    content: &#x27;↑&#x27;;\n",
       "    text-align: right;\n",
       "    float:right;\n",
       "}\n",
       "#mols2grid .arrow-desc:after {\n",
       "    content: &#x27;↓&#x27;;\n",
       "    text-align: right;\n",
       "    float:right;\n",
       "}\n",
       "    /* custom CSS */\n",
       "    \n",
       "    &lt;/style&gt;\n",
       "    &lt;script src=&quot;https://cdnjs.cloudflare.com/ajax/libs/list.js/2.3.1/list.min.js&quot;&gt;&lt;/script&gt;\n",
       "&lt;script src=&quot;https://code.jquery.com/jquery-3.6.0.min.js&quot; integrity=&quot;sha256-/xUj+3OJU5yExlq6GSYGSHk7tPXikynS7ogEvDej/m4=&quot; crossorigin=&quot;anonymous&quot;&gt;&lt;/script&gt;\n",
       "&lt;script&gt;\n",
       "    function fit_height(obj) {\n",
       "        obj.style.height = 0;\n",
       "        var height = obj.contentDocument.body.scrollHeight + 18 + &#x27;px&#x27;;\n",
       "        obj.style.height = height;\n",
       "    }\n",
       "&lt;/script&gt;\n",
       "&lt;link rel=&quot;stylesheet&quot; href=&quot;https://cdn.jsdelivr.net/npm/bootstrap@4.6.0/dist/css/bootstrap.min.css&quot; integrity=&quot;sha384-B0vP5xmATw1+K9KRQjQERJvTumQW0nPEzvF6L/Z6nronJ3oUOFUFpCjEUQouq2+l&quot; crossorigin=&quot;anonymous&quot;&gt;\n",
       "&lt;script src=&quot;https://cdn.jsdelivr.net/npm/bootstrap@4.6.0/dist/js/bootstrap.bundle.min.js&quot; integrity=&quot;sha384-Piv4xVNRyMGpqkS2by6br4gNJ7DXjqk09RmUpJ8jgGtD7zP9yug3goQfGII0yAns&quot; crossorigin=&quot;anonymous&quot;&gt;&lt;/script&gt;\n",
       "&lt;script src=&quot;https://unpkg.com/@rdkit/rdkit@2022.3.1/Code/MinimalLib/dist/RDKit_minimal.js&quot;&gt;&lt;/script&gt;\n",
       "    &lt;!-- custom header --&gt;\n",
       "    \n",
       "  &lt;/head&gt;\n",
       "  &lt;body&gt;\n",
       "    &lt;div id=&quot;mols2grid&quot; class=&quot;gridcontainer grid-default&quot;&gt;\n",
       "      &lt;div class=&quot;row mb-3&quot;&gt;\n",
       "        &lt;div class=&quot;list&quot;&gt;&lt;div class=&quot;cell&quot; data-mols2grid-id=&quot;0&quot;&gt;&lt;div class=&quot;data data-img&quot;&gt;&lt;/div&gt;&lt;div class=&quot;data data-sim&quot;&gt;&lt;/div&gt;&lt;div class=&quot;data data-mol_idx&quot;&gt;&lt;/div&gt;&lt;div class=&quot;data data-SMILES&quot; style=&quot;display: none;&quot;&gt;&lt;/div&gt;&lt;/div&gt;&lt;/div&gt;\n",
       "      &lt;/div&gt;\n",
       "      &lt;div class=&quot;d-inline&quot;&gt;\n",
       "        &lt;ul class=&quot;pagination float-left&quot;&gt;&lt;/ul&gt;\n",
       "        &lt;div id=&quot;controls&quot; class=&quot;d-flex flex-row float-right&quot;&gt;\n",
       "          \n",
       "          &lt;div id=&quot;sort-dropdown&quot; class=&quot;dropdown pl-2&quot;&gt;\n",
       "            &lt;button class=&quot;btn btn-light dropdown-toggle&quot; type=&quot;button&quot; id=&quot;sortDropdown&quot; data-toggle=&quot;dropdown&quot; aria-haspopup=&quot;true&quot; aria-expanded=&quot;false&quot;&gt;\n",
       "              Sort by\n",
       "            &lt;/button&gt;\n",
       "            &lt;div class=&quot;dropdown-menu&quot; aria-labelledby=&quot;sortDropdownMenu&quot;&gt;\n",
       "              \n",
       "              \n",
       "              \n",
       "              \n",
       "              \n",
       "              &lt;button class=&quot;dropdown-item sort-btn arrow-asc active&quot; type=&quot;button&quot; data-name=&quot;mols2grid-id&quot;&gt;Index&lt;/button&gt;\n",
       "              \n",
       "              \n",
       "              \n",
       "              \n",
       "              \n",
       "              &lt;button class=&quot;dropdown-item sort-btn &quot; type=&quot;button&quot; data-name=&quot;data-sim&quot;&gt;sim&lt;/button&gt;\n",
       "              \n",
       "              \n",
       "              \n",
       "              \n",
       "              \n",
       "              &lt;button class=&quot;dropdown-item sort-btn &quot; type=&quot;button&quot; data-name=&quot;data-mol_idx&quot;&gt;mol_idx&lt;/button&gt;\n",
       "              \n",
       "              \n",
       "              \n",
       "            &lt;/div&gt;\n",
       "          &lt;/div&gt;\n",
       "          &lt;div class=&quot;input-group row pl-4&quot;&gt;\n",
       "            &lt;input type=&quot;text&quot; id=&quot;searchbar&quot; class=&quot;form-control&quot; placeholder=&quot;Search&quot; aria-label=&quot;Search&quot; aria-describedby=&quot;basic-addon1&quot;&gt;\n",
       "            &lt;div class=&quot;input-group-append&quot;&gt;\n",
       "              &lt;button id=&quot;searchBtn&quot; class=&quot;btn btn-light dropdown-toggle&quot; type=&quot;button&quot; data-toggle=&quot;dropdown&quot; aria-haspopup=&quot;true&quot; aria-expanded=&quot;false&quot;&gt;🔎&lt;/button&gt;\n",
       "              &lt;div class=&quot;dropdown-menu dropdown-menu-right&quot;&gt;\n",
       "                &lt;button id=&quot;txtSearch&quot; class=&quot;search-btn dropdown-item active&quot;&gt;Text&lt;/button&gt;\n",
       "                &lt;button id=&quot;smartsSearch&quot; class=&quot;search-btn dropdown-item&quot;&gt;SMARTS&lt;/button&gt;\n",
       "              &lt;/div&gt;\n",
       "            &lt;/div&gt;\n",
       "          &lt;/div&gt;\n",
       "        &lt;/div&gt;\n",
       "      &lt;/div&gt;\n",
       "    &lt;/div&gt;\n",
       "    &lt;script&gt;\n",
       "    // list.js\n",
       "var listObj = new List(&#x27;mols2grid&#x27;, {\n",
       "    valueNames: [{data: [&#x27;mols2grid-id&#x27;]}, &#x27;data-sim&#x27;, &#x27;data-mol_idx&#x27;, &#x27;data-SMILES&#x27;, &#x27;data-img&#x27;],\n",
       "    item: &#x27;&lt;div class=&quot;cell&quot; data-mols2grid-id=&quot;0&quot;&gt;&lt;div class=&quot;data data-img&quot;&gt;&lt;/div&gt;&lt;div class=&quot;data data-sim&quot;&gt;&lt;/div&gt;&lt;div class=&quot;data data-mol_idx&quot;&gt;&lt;/div&gt;&lt;div class=&quot;data data-SMILES&quot; style=&quot;display: none;&quot;&gt;&lt;/div&gt;&lt;/div&gt;&#x27;,\n",
       "    page: 15,\n",
       "    pagination: {\n",
       "        name: &quot;pagination&quot;,\n",
       "        item: &#x27;&lt;li class=&quot;page-item&quot;&gt;&lt;a class=&quot;page page-link&quot; href=&quot;#&quot; onclick=&quot;event.preventDefault()&quot;&gt;&lt;/a&gt;&lt;/li&gt;&#x27;,\n",
       "        innerWindow: 1,\n",
       "        outerWindow: 1,\n",
       "    },\n",
       "});\n",
       "listObj.remove(&quot;mols2grid-id&quot;, &quot;0&quot;);\n",
       "listObj.add([{&quot;data-mol_idx&quot;: 0, &quot;data-sim&quot;: &quot;0.87&quot;, &quot;mols2grid-id&quot;: 0, &quot;data-SMILES&quot;: &quot;Cc1c(C(N)=O)c(=O)n(C2CCCC2)c2nc(Nc3ccc(N4CCNCC4)cn3)ncc12&quot;, &quot;data-img&quot;: null}, {&quot;data-mol_idx&quot;: 1, &quot;data-sim&quot;: &quot;0.72&quot;, &quot;mols2grid-id&quot;: 1, &quot;data-SMILES&quot;: &quot;CC(=O)c1c(C)c2cnc(Nc3ccc(-n4ccnc4C)cn3)nc2n(C2CCCC2)c1=O&quot;, &quot;data-img&quot;: null}, {&quot;data-mol_idx&quot;: 2, &quot;data-sim&quot;: &quot;0.71&quot;, &quot;mols2grid-id&quot;: 2, &quot;data-SMILES&quot;: &quot;CC(=O)c1c(C)c2cnc(Nc3ccc(S(=O)(=O)O)cn3)nc2n(C2CCCC2)c1=O&quot;, &quot;data-img&quot;: null}, {&quot;data-mol_idx&quot;: 3, &quot;data-sim&quot;: &quot;0.71&quot;, &quot;mols2grid-id&quot;: 3, &quot;data-SMILES&quot;: &quot;CC(=O)c1c(C)c2cnc(Nc3ccc(-n4cnnn4)cn3)nc2n(C2CCCC2)c1=O&quot;, &quot;data-img&quot;: null}, {&quot;data-mol_idx&quot;: 4, &quot;data-sim&quot;: &quot;0.70&quot;, &quot;mols2grid-id&quot;: 4, &quot;data-SMILES&quot;: &quot;CC(=O)c1c(C)c2cnc(Nc3ccc(S(=O)(=O)N4CCCC4)cn3)nc2n(C2CCCC2)c1=O&quot;, &quot;data-img&quot;: null}, {&quot;data-mol_idx&quot;: 5, &quot;data-sim&quot;: &quot;0.68&quot;, &quot;mols2grid-id&quot;: 5, &quot;data-SMILES&quot;: &quot;CC(=O)c1c(C)c2cnc(Nc3ccc(NC(=N)N)cn3)nc2n(C2CCCC2)c1=O&quot;, &quot;data-img&quot;: null}, {&quot;data-mol_idx&quot;: 6, &quot;data-sim&quot;: &quot;0.68&quot;, &quot;mols2grid-id&quot;: 6, &quot;data-SMILES&quot;: &quot;CC(=O)c1c(C)c2cnc(Nc3ccc(C=CC(=O)O)cn3)nc2n(C2CCCC2)c1=O&quot;, &quot;data-img&quot;: null}, {&quot;data-mol_idx&quot;: 7, &quot;data-sim&quot;: &quot;0.68&quot;, &quot;mols2grid-id&quot;: 7, &quot;data-SMILES&quot;: &quot;CC(=O)c1c(C)c2cnc(Nc3ccc(S(N)(=O)=O)cn3)nc2n(C2CCCC2)c1=O&quot;, &quot;data-img&quot;: null}, {&quot;data-mol_idx&quot;: 8, &quot;data-sim&quot;: &quot;0.68&quot;, &quot;mols2grid-id&quot;: 8, &quot;data-SMILES&quot;: &quot;CC(=O)c1c(C)c2cnc(Nc3ccc(C(=O)NN)cn3)nc2n(C2CCCC2)c1=O&quot;, &quot;data-img&quot;: null}, {&quot;data-mol_idx&quot;: 9, &quot;data-sim&quot;: &quot;0.68&quot;, &quot;mols2grid-id&quot;: 9, &quot;data-SMILES&quot;: &quot;CC(=O)c1c(C)c2cnc(Nc3ccc(C=CC(N)=O)cn3)nc2n(C2CCCC2)c1=O&quot;, &quot;data-img&quot;: null}, {&quot;data-mol_idx&quot;: 10, &quot;data-sim&quot;: &quot;0.68&quot;, &quot;mols2grid-id&quot;: 10, &quot;data-SMILES&quot;: &quot;CC(=O)c1c(C)c2cnc(Nc3ccc(-n4c(N)nsc4=N)cn3)nc2n(C2CCCC2)c1=O&quot;, &quot;data-img&quot;: null}, {&quot;data-mol_idx&quot;: 11, &quot;data-sim&quot;: &quot;0.67&quot;, &quot;mols2grid-id&quot;: 11, &quot;data-SMILES&quot;: &quot;CC(=O)c1c(C)c2cnc(Nc3ccc(CN(C)C)cn3)nc2n(C2CCCC2)c1=O&quot;, &quot;data-img&quot;: null}, {&quot;data-mol_idx&quot;: 12, &quot;data-sim&quot;: &quot;0.67&quot;, &quot;mols2grid-id&quot;: 12, &quot;data-SMILES&quot;: &quot;CC(=O)c1c(C)c2cnc(Nc3ccc(C(=O)NC(=N)N)cn3)nc2n(C2CCCC2)c1=O&quot;, &quot;data-img&quot;: null}, {&quot;data-mol_idx&quot;: 13, &quot;data-sim&quot;: &quot;0.67&quot;, &quot;mols2grid-id&quot;: 13, &quot;data-SMILES&quot;: &quot;CC(=O)c1c(C)c2cnc(Nc3ccc(C#CCN)cn3)nc2n(C2CCCC2)c1=O&quot;, &quot;data-img&quot;: null}, {&quot;data-mol_idx&quot;: 14, &quot;data-sim&quot;: &quot;0.66&quot;, &quot;mols2grid-id&quot;: 14, &quot;data-SMILES&quot;: &quot;CC(=O)c1c(C)c2cnc(Nc3ccc(OC(=O)N(C)C)cn3)nc2n(C2CCCC2)c1=O&quot;, &quot;data-img&quot;: null}, {&quot;data-mol_idx&quot;: 15, &quot;data-sim&quot;: &quot;0.66&quot;, &quot;mols2grid-id&quot;: 15, &quot;data-SMILES&quot;: &quot;CC(=O)c1c(C)c2cnc(Nc3ccc(NC(=O)NN)cn3)nc2n(C2CCCC2)c1=O&quot;, &quot;data-img&quot;: null}, {&quot;data-mol_idx&quot;: 16, &quot;data-sim&quot;: &quot;0.66&quot;, &quot;mols2grid-id&quot;: 16, &quot;data-SMILES&quot;: &quot;CC(=O)c1c(C)c2cnc(Nc3ccc(NC(=O)CCl)cn3)nc2n(C2CCCC2)c1=O&quot;, &quot;data-img&quot;: null}, {&quot;data-mol_idx&quot;: 17, &quot;data-sim&quot;: &quot;0.66&quot;, &quot;mols2grid-id&quot;: 17, &quot;data-SMILES&quot;: &quot;CC(=O)c1c(C)c2cnc(Nc3ccc(CCCO)cn3)nc2n(C2CCCC2)c1=O&quot;, &quot;data-img&quot;: null}, {&quot;data-mol_idx&quot;: 18, &quot;data-sim&quot;: &quot;0.66&quot;, &quot;mols2grid-id&quot;: 18, &quot;data-SMILES&quot;: &quot;CC(=O)c1c(C)c2cnc(Nc3ccc(C=CC=O)cn3)nc2n(C2CCCC2)c1=O&quot;, &quot;data-img&quot;: null}, {&quot;data-mol_idx&quot;: 19, &quot;data-sim&quot;: &quot;0.66&quot;, &quot;mols2grid-id&quot;: 19, &quot;data-SMILES&quot;: &quot;CCNCc1ccc(Nc2ncc3c(C)c(C(C)=O)c(=O)n(C4CCCC4)c3n2)nc1&quot;, &quot;data-img&quot;: null}, {&quot;data-mol_idx&quot;: 20, &quot;data-sim&quot;: &quot;0.66&quot;, &quot;mols2grid-id&quot;: 20, &quot;data-SMILES&quot;: &quot;CC(=O)c1c(C)c2cnc(Nc3ccc(C(=O)NN(C)C)cn3)nc2n(C2CCCC2)c1=O&quot;, &quot;data-img&quot;: null}, {&quot;data-mol_idx&quot;: 21, &quot;data-sim&quot;: &quot;0.66&quot;, &quot;mols2grid-id&quot;: 21, &quot;data-SMILES&quot;: &quot;CC(=O)c1c(C)c2cnc(Nc3ccc(C(=O)C=C(C)O)cn3)nc2n(C2CCCC2)c1=O&quot;, &quot;data-img&quot;: null}, {&quot;data-mol_idx&quot;: 22, &quot;data-sim&quot;: &quot;0.66&quot;, &quot;mols2grid-id&quot;: 22, &quot;data-SMILES&quot;: &quot;CC(=O)c1c(C)c2cnc(Nc3ccc(-c4cccnc4)cn3)nc2n(C2CCCC2)c1=O&quot;, &quot;data-img&quot;: null}, {&quot;data-mol_idx&quot;: 23, &quot;data-sim&quot;: &quot;0.66&quot;, &quot;mols2grid-id&quot;: 23, &quot;data-SMILES&quot;: &quot;CC(=O)c1c(C)c2cnc(Nc3ccc(C(=O)NCO)cn3)nc2n(C2CCCC2)c1=O&quot;, &quot;data-img&quot;: null}, {&quot;data-mol_idx&quot;: 24, &quot;data-sim&quot;: &quot;0.65&quot;, &quot;mols2grid-id&quot;: 24, &quot;data-SMILES&quot;: &quot;CC(=O)c1c(C)c2cnc(Nc3ccc(CC(=O)NN)cn3)nc2n(C2CCCC2)c1=O&quot;, &quot;data-img&quot;: null}, {&quot;data-mol_idx&quot;: 25, &quot;data-sim&quot;: &quot;0.65&quot;, &quot;mols2grid-id&quot;: 25, &quot;data-SMILES&quot;: &quot;CC(=O)c1c(C)c2cnc(Nc3ccc(CC(=N)N)cn3)nc2n(C2CCCC2)c1=O&quot;, &quot;data-img&quot;: null}, {&quot;data-mol_idx&quot;: 26, &quot;data-sim&quot;: &quot;0.65&quot;, &quot;mols2grid-id&quot;: 26, &quot;data-SMILES&quot;: &quot;CC(=O)c1c(C)c2cnc(Nc3ccc(CNC(N)=O)cn3)nc2n(C2CCCC2)c1=O&quot;, &quot;data-img&quot;: null}, {&quot;data-mol_idx&quot;: 27, &quot;data-sim&quot;: &quot;0.65&quot;, &quot;mols2grid-id&quot;: 27, &quot;data-SMILES&quot;: &quot;CC(=O)c1c(C)c2cnc(Nc3ccc(-c4ccc(N)cn4)cn3)nc2n(C2CCCC2)c1=O&quot;, &quot;data-img&quot;: null}, {&quot;data-mol_idx&quot;: 28, &quot;data-sim&quot;: &quot;0.65&quot;, &quot;mols2grid-id&quot;: 28, &quot;data-SMILES&quot;: &quot;CCN(CC)Cc1ccc(Nc2ncc3c(C)c(C(C)=O)c(=O)n(C4CCCC4)c3n2)nc1&quot;, &quot;data-img&quot;: null}, {&quot;data-mol_idx&quot;: 29, &quot;data-sim&quot;: &quot;0.65&quot;, &quot;mols2grid-id&quot;: 29, &quot;data-SMILES&quot;: &quot;CC(=O)c1c(C)c2cnc(Nc3ccc(C4C(=O)NOC4=O)cn3)nc2n(C2CCCC2)c1=O&quot;, &quot;data-img&quot;: null}, {&quot;data-mol_idx&quot;: 30, &quot;data-sim&quot;: &quot;0.64&quot;, &quot;mols2grid-id&quot;: 30, &quot;data-SMILES&quot;: &quot;CC(=O)c1c(C)c2cnc(Nc3ccc(C(=O)NCCO)cn3)nc2n(C2CCCC2)c1=O&quot;, &quot;data-img&quot;: null}, {&quot;data-mol_idx&quot;: 31, &quot;data-sim&quot;: &quot;0.64&quot;, &quot;mols2grid-id&quot;: 31, &quot;data-SMILES&quot;: &quot;CC(=O)c1c(C)c2cnc(Nc3ccc(C(N)c4ccccc4)cn3)nc2n(C2CCCC2)c1=O&quot;, &quot;data-img&quot;: null}, {&quot;data-mol_idx&quot;: 32, &quot;data-sim&quot;: &quot;0.64&quot;, &quot;mols2grid-id&quot;: 32, &quot;data-SMILES&quot;: &quot;CCCNCc1ccc(Nc2ncc3c(C)c(C(C)=O)c(=O)n(C4CCCC4)c3n2)nc1&quot;, &quot;data-img&quot;: null}, {&quot;data-mol_idx&quot;: 33, &quot;data-sim&quot;: &quot;0.64&quot;, &quot;mols2grid-id&quot;: 33, &quot;data-SMILES&quot;: &quot;CC(=O)c1c(C)c2cnc(Nc3ccc(C(=O)CCCO)cn3)nc2n(C2CCCC2)c1=O&quot;, &quot;data-img&quot;: null}, {&quot;data-mol_idx&quot;: 34, &quot;data-sim&quot;: &quot;0.64&quot;, &quot;mols2grid-id&quot;: 34, &quot;data-SMILES&quot;: &quot;CC(=O)c1c(C)c2cnc(Nc3ccc(NC(=O)C(Cl)=C(Cl)Cl)cn3)nc2n(C2CCCC2)c1=O&quot;, &quot;data-img&quot;: null}, {&quot;data-mol_idx&quot;: 35, &quot;data-sim&quot;: &quot;0.64&quot;, &quot;mols2grid-id&quot;: 35, &quot;data-SMILES&quot;: &quot;CC(=O)c1c(C)c2cnc(Nc3ccc(C(=O)c4cccnc4)cn3)nc2n(C2CCCC2)c1=O&quot;, &quot;data-img&quot;: null}, {&quot;data-mol_idx&quot;: 36, &quot;data-sim&quot;: &quot;0.64&quot;, &quot;mols2grid-id&quot;: 36, &quot;data-SMILES&quot;: &quot;CC(=O)c1c(C)c2cnc(Nc3ccc(OCC(C)N)cn3)nc2n(C2CCCC2)c1=O&quot;, &quot;data-img&quot;: null}, {&quot;data-mol_idx&quot;: 37, &quot;data-sim&quot;: &quot;0.64&quot;, &quot;mols2grid-id&quot;: 37, &quot;data-SMILES&quot;: &quot;CC(=O)c1c(C)c2cnc(Nc3ccc(OCCN(C)C)cn3)nc2n(C2CCCC2)c1=O&quot;, &quot;data-img&quot;: null}, {&quot;data-mol_idx&quot;: 38, &quot;data-sim&quot;: &quot;0.64&quot;, &quot;mols2grid-id&quot;: 38, &quot;data-SMILES&quot;: &quot;CCOC(=O)Nc1ccc(Nc2ncc3c(C)c(C(C)=O)c(=O)n(C4CCCC4)c3n2)nc1&quot;, &quot;data-img&quot;: null}, {&quot;data-mol_idx&quot;: 39, &quot;data-sim&quot;: &quot;0.64&quot;, &quot;mols2grid-id&quot;: 39, &quot;data-SMILES&quot;: &quot;CC(=O)c1c(C)c2cnc(Nc3ccc(C(=O)CCC(N)=O)cn3)nc2n(C2CCCC2)c1=O&quot;, &quot;data-img&quot;: null}, {&quot;data-mol_idx&quot;: 40, &quot;data-sim&quot;: &quot;0.64&quot;, &quot;mols2grid-id&quot;: 40, &quot;data-SMILES&quot;: &quot;CC(=O)ONC(=N)c1ccc(Nc2ncc3c(C)c(C(C)=O)c(=O)n(C4CCCC4)c3n2)nc1&quot;, &quot;data-img&quot;: null}, {&quot;data-mol_idx&quot;: 41, &quot;data-sim&quot;: &quot;0.64&quot;, &quot;mols2grid-id&quot;: 41, &quot;data-SMILES&quot;: &quot;CC(=O)c1c(C)c2cnc(Nc3ccc(Cc4cnc[nH]4)cn3)nc2n(C2CCCC2)c1=O&quot;, &quot;data-img&quot;: null}, {&quot;data-mol_idx&quot;: 42, &quot;data-sim&quot;: &quot;0.64&quot;, &quot;mols2grid-id&quot;: 42, &quot;data-SMILES&quot;: &quot;CC(=O)c1c(C)c2cnc(Nc3ccc(-c4nnc(N)s4)cn3)nc2n(C2CCCC2)c1=O&quot;, &quot;data-img&quot;: null}, {&quot;data-mol_idx&quot;: 43, &quot;data-sim&quot;: &quot;0.64&quot;, &quot;mols2grid-id&quot;: 43, &quot;data-SMILES&quot;: &quot;CC(=O)c1c(C)c2cnc(Nc3ccc(NC(=O)C=CC(=O)O)cn3)nc2n(C2CCCC2)c1=O&quot;, &quot;data-img&quot;: null}, {&quot;data-mol_idx&quot;: 44, &quot;data-sim&quot;: &quot;0.64&quot;, &quot;mols2grid-id&quot;: 44, &quot;data-SMILES&quot;: &quot;CC(=O)c1c(C)c2cnc(Nc3ccc(CNC(N)=S)cn3)nc2n(C2CCCC2)c1=O&quot;, &quot;data-img&quot;: null}, {&quot;data-mol_idx&quot;: 45, &quot;data-sim&quot;: &quot;0.64&quot;, &quot;mols2grid-id&quot;: 45, &quot;data-SMILES&quot;: &quot;CC(=O)c1c(C)c2cnc(Nc3ccc(C(=O)C=CN(C)C)cn3)nc2n(C2CCCC2)c1=O&quot;, &quot;data-img&quot;: null}, {&quot;data-mol_idx&quot;: 46, &quot;data-sim&quot;: &quot;0.64&quot;, &quot;mols2grid-id&quot;: 46, &quot;data-SMILES&quot;: &quot;CC(=O)c1c(C)c2cnc(Nc3ccc(CC(=N)N(C)C)cn3)nc2n(C2CCCC2)c1=O&quot;, &quot;data-img&quot;: null}, {&quot;data-mol_idx&quot;: 47, &quot;data-sim&quot;: &quot;0.64&quot;, &quot;mols2grid-id&quot;: 47, &quot;data-SMILES&quot;: &quot;CC(=O)c1c(C)c2cnc(Nc3ccc(C(=O)NC(C)C(=O)O)cn3)nc2n(C2CCCC2)c1=O&quot;, &quot;data-img&quot;: null}, {&quot;data-mol_idx&quot;: 48, &quot;data-sim&quot;: &quot;0.63&quot;, &quot;mols2grid-id&quot;: 48, &quot;data-SMILES&quot;: &quot;CC(=O)c1c(C)c2cnc(Nc3ccc(-c4n[nH]c(=S)n4N)cn3)nc2n(C2CCCC2)c1=O&quot;, &quot;data-img&quot;: null}, {&quot;data-mol_idx&quot;: 49, &quot;data-sim&quot;: &quot;0.63&quot;, &quot;mols2grid-id&quot;: 49, &quot;data-SMILES&quot;: &quot;CC(=O)c1c(C)c2cnc(Nc3ccc(NC(=O)c4ccn[nH]4)cn3)nc2n(C2CCCC2)c1=O&quot;, &quot;data-img&quot;: null}, {&quot;data-mol_idx&quot;: 50, &quot;data-sim&quot;: &quot;0.63&quot;, &quot;mols2grid-id&quot;: 50, &quot;data-SMILES&quot;: &quot;CC(=O)c1c(C)c2cnc(Nc3ccc(C=Cc4cnc[nH]4)cn3)nc2n(C2CCCC2)c1=O&quot;, &quot;data-img&quot;: null}, {&quot;data-mol_idx&quot;: 51, &quot;data-sim&quot;: &quot;0.63&quot;, &quot;mols2grid-id&quot;: 51, &quot;data-SMILES&quot;: &quot;CC(=O)c1c(C)c2cnc(Nc3ccc(CN4CNC(=S)NC4)cn3)nc2n(C2CCCC2)c1=O&quot;, &quot;data-img&quot;: null}, {&quot;data-mol_idx&quot;: 52, &quot;data-sim&quot;: &quot;0.63&quot;, &quot;mols2grid-id&quot;: 52, &quot;data-SMILES&quot;: &quot;CCCCNCc1ccc(Nc2ncc3c(C)c(C(C)=O)c(=O)n(C4CCCC4)c3n2)nc1&quot;, &quot;data-img&quot;: null}, {&quot;data-mol_idx&quot;: 53, &quot;data-sim&quot;: &quot;0.63&quot;, &quot;mols2grid-id&quot;: 53, &quot;data-SMILES&quot;: &quot;CC(=O)c1c(C)c2cnc(Nc3ccc(CSc4ncccn4)cn3)nc2n(C2CCCC2)c1=O&quot;, &quot;data-img&quot;: null}, {&quot;data-mol_idx&quot;: 54, &quot;data-sim&quot;: &quot;0.63&quot;, &quot;mols2grid-id&quot;: 54, &quot;data-SMILES&quot;: &quot;CC(=O)c1c(C)c2cnc(Nc3ccc(Cn4ccnc4C)cn3)nc2n(C2CCCC2)c1=O&quot;, &quot;data-img&quot;: null}, {&quot;data-mol_idx&quot;: 55, &quot;data-sim&quot;: &quot;0.63&quot;, &quot;mols2grid-id&quot;: 55, &quot;data-SMILES&quot;: &quot;CC(=O)c1c(C)c2cnc(Nc3ccc(Oc4ccccc4N)cn3)nc2n(C2CCCC2)c1=O&quot;, &quot;data-img&quot;: null}, {&quot;data-mol_idx&quot;: 56, &quot;data-sim&quot;: &quot;0.63&quot;, &quot;mols2grid-id&quot;: 56, &quot;data-SMILES&quot;: &quot;CC(=O)c1c(C)c2cnc(Nc3ccc(Oc4ccccc4Br)cn3)nc2n(C2CCCC2)c1=O&quot;, &quot;data-img&quot;: null}, {&quot;data-mol_idx&quot;: 57, &quot;data-sim&quot;: &quot;0.62&quot;, &quot;mols2grid-id&quot;: 57, &quot;data-SMILES&quot;: &quot;CC(=O)c1c(C)c2cnc(Nc3ccc(CNC(=S)NC(C)C)cn3)nc2n(C2CCCC2)c1=O&quot;, &quot;data-img&quot;: null}, {&quot;data-mol_idx&quot;: 58, &quot;data-sim&quot;: &quot;0.62&quot;, &quot;mols2grid-id&quot;: 58, &quot;data-SMILES&quot;: &quot;CC(=O)c1c(C)c2cnc(Nc3ccc(CNC(=S)NN)cn3)nc2n(C2CCCC2)c1=O&quot;, &quot;data-img&quot;: null}, {&quot;data-mol_idx&quot;: 59, &quot;data-sim&quot;: &quot;0.62&quot;, &quot;mols2grid-id&quot;: 59, &quot;data-SMILES&quot;: &quot;CC(=O)c1c(C)c2cnc(Nc3ccc(C(C)=NNC(N)=S)cn3)nc2n(C2CCCC2)c1=O&quot;, &quot;data-img&quot;: null}, {&quot;data-mol_idx&quot;: 60, &quot;data-sim&quot;: &quot;0.62&quot;, &quot;mols2grid-id&quot;: 60, &quot;data-SMILES&quot;: &quot;CC(=O)c1c(C)c2cnc(Nc3ccc(Cn4ccnc4)cn3)nc2n(C2CCCC2)c1=O&quot;, &quot;data-img&quot;: null}, {&quot;data-mol_idx&quot;: 61, &quot;data-sim&quot;: &quot;0.62&quot;, &quot;mols2grid-id&quot;: 61, &quot;data-SMILES&quot;: &quot;CC(=O)c1c(C)c2cnc(Nc3ccc(NC(=O)NCCCl)cn3)nc2n(C2CCCC2)c1=O&quot;, &quot;data-img&quot;: null}, {&quot;data-mol_idx&quot;: 62, &quot;data-sim&quot;: &quot;0.62&quot;, &quot;mols2grid-id&quot;: 62, &quot;data-SMILES&quot;: &quot;CC(=O)c1c(C)c2cnc(Nc3ccc(CSC(=N)NC(=N)N)cn3)nc2n(C2CCCC2)c1=O&quot;, &quot;data-img&quot;: null}, {&quot;data-mol_idx&quot;: 63, &quot;data-sim&quot;: &quot;0.61&quot;, &quot;mols2grid-id&quot;: 63, &quot;data-SMILES&quot;: &quot;CC(=O)c1c(C)c2cnc(Nc3ccc(Cn4nccc4N)cn3)nc2n(C2CCCC2)c1=O&quot;, &quot;data-img&quot;: null}, {&quot;data-mol_idx&quot;: 64, &quot;data-sim&quot;: &quot;0.61&quot;, &quot;mols2grid-id&quot;: 64, &quot;data-SMILES&quot;: &quot;CC(=O)c1c(C)c2cnc(Nc3ccc(C=NNC(N)=S)cn3)nc2n(C2CCCC2)c1=O&quot;, &quot;data-img&quot;: null}, {&quot;data-mol_idx&quot;: 65, &quot;data-sim&quot;: &quot;0.61&quot;, &quot;mols2grid-id&quot;: 65, &quot;data-SMILES&quot;: &quot;CC(=O)c1c(C)c2cnc(Nc3ccc(C(=O)Nc4nccs4)cn3)nc2n(C2CCCC2)c1=O&quot;, &quot;data-img&quot;: null}, {&quot;data-mol_idx&quot;: 66, &quot;data-sim&quot;: &quot;0.61&quot;, &quot;mols2grid-id&quot;: 66, &quot;data-SMILES&quot;: &quot;CCOC(=O)C=COc1ccc(Nc2ncc3c(C)c(C(C)=O)c(=O)n(C4CCCC4)c3n2)nc1&quot;, &quot;data-img&quot;: null}, {&quot;data-mol_idx&quot;: 67, &quot;data-sim&quot;: &quot;0.61&quot;, &quot;mols2grid-id&quot;: 67, &quot;data-SMILES&quot;: &quot;CCN(C)C(=N)Cc1ccc(Nc2ncc3c(C)c(C(C)=O)c(=O)n(C4CCCC4)c3n2)nc1&quot;, &quot;data-img&quot;: null}, {&quot;data-mol_idx&quot;: 68, &quot;data-sim&quot;: &quot;0.61&quot;, &quot;mols2grid-id&quot;: 68, &quot;data-SMILES&quot;: &quot;CC(=O)c1c(C)c2cnc(Nc3ccc(C=C(C#N)C(N)=O)cn3)nc2n(C2CCCC2)c1=O&quot;, &quot;data-img&quot;: null}, {&quot;data-mol_idx&quot;: 69, &quot;data-sim&quot;: &quot;0.61&quot;, &quot;mols2grid-id&quot;: 69, &quot;data-SMILES&quot;: &quot;CC(=O)c1c(C)c2cnc(Nc3ccc(C(O)c4cccs4)cn3)nc2n(C2CCCC2)c1=O&quot;, &quot;data-img&quot;: null}, {&quot;data-mol_idx&quot;: 70, &quot;data-sim&quot;: &quot;0.60&quot;, &quot;mols2grid-id&quot;: 70, &quot;data-SMILES&quot;: &quot;CC(=O)c1c(C)c2cnc(Nc3ccc(C(=O)Cn4ccnc4)cn3)nc2n(C2CCCC2)c1=O&quot;, &quot;data-img&quot;: null}, {&quot;data-mol_idx&quot;: 71, &quot;data-sim&quot;: &quot;0.60&quot;, &quot;mols2grid-id&quot;: 71, &quot;data-SMILES&quot;: &quot;CC(=O)c1c(C)c2cnc(Nc3ccc(CN4C(=O)CSC4=S)cn3)nc2n(C2CCCC2)c1=O&quot;, &quot;data-img&quot;: null}, {&quot;data-mol_idx&quot;: 72, &quot;data-sim&quot;: &quot;0.60&quot;, &quot;mols2grid-id&quot;: 72, &quot;data-SMILES&quot;: &quot;CC(=O)c1c(C)c2cnc(Nc3ccc(CSc4nccn4C)cn3)nc2n(C2CCCC2)c1=O&quot;, &quot;data-img&quot;: null}, {&quot;data-mol_idx&quot;: 73, &quot;data-sim&quot;: &quot;0.59&quot;, &quot;mols2grid-id&quot;: 73, &quot;data-SMILES&quot;: &quot;C=CCNC(=S)NCc1ccc(Nc2ncc3c(C)c(C(C)=O)c(=O)n(C4CCCC4)c3n2)nc1&quot;, &quot;data-img&quot;: null}, {&quot;data-mol_idx&quot;: 74, &quot;data-sim&quot;: &quot;0.58&quot;, &quot;mols2grid-id&quot;: 74, &quot;data-SMILES&quot;: &quot;CC(=O)c1c(C)c2cnc(Nc3ccc(CSc4nnc(N)s4)cn3)nc2n(C2CCCC2)c1=O&quot;, &quot;data-img&quot;: null}]);\n",
       "// filter\n",
       "if (window.parent.mols2grid_lists === undefined) {\n",
       "    window.parent.mols2grid_lists = {};\n",
       "}\n",
       "window.parent.mols2grid_lists[&quot;default&quot;] = listObj;\n",
       "\n",
       "\n",
       "\n",
       "\n",
       "\n",
       "\n",
       "\n",
       "// sort\n",
       "var sort_field = &quot;mols2grid-id&quot;;\n",
       "var sort_order = &quot;asc&quot;;\n",
       "function mols2gridSortFunction(itemA, itemB, options) {\n",
       "    var x = itemA.values()[options.valueName];\n",
       "    var y = itemB.values()[options.valueName];\n",
       "    if (typeof x === &quot;number&quot;) {\n",
       "        if (isFinite(x - y)) {\n",
       "            return x - y; \n",
       "        } else {\n",
       "            return isFinite(x) ? -1 : 1;\n",
       "        }\n",
       "    } else {\n",
       "        x = x.toLowerCase();\n",
       "        y = y.toLowerCase();\n",
       "        return (x &lt; y) ? -1: (x &gt; y) ? 1: 0;\n",
       "    }\n",
       "}\n",
       "function checkboxSort(itemA, itemB, options) {\n",
       "    if (itemA.elm !== undefined) {\n",
       "        var checkedA = itemA.elm.firstChild.checked;\n",
       "        if (itemB.elm !== undefined) {\n",
       "            var checkedB = itemB.elm.firstChild.checked;\n",
       "            if (checkedA &amp;&amp; !checkedB) {\n",
       "                return -1;\n",
       "            } else if (!checkedA &amp;&amp; checkedB) {\n",
       "                return 1;\n",
       "            } else {\n",
       "                return 0;\n",
       "            }\n",
       "        } else {\n",
       "            return -1;\n",
       "        }\n",
       "    } else if (itemB.elm !== undefined) {\n",
       "        return 1;\n",
       "    } else {\n",
       "        return 0;\n",
       "    }\n",
       "}\n",
       "$(&#x27;#mols2grid button.sort-btn&#x27;).click(function(e) {\n",
       "    var _field = $(this).attr(&quot;data-name&quot;);\n",
       "    if (_field == sort_field) {\n",
       "        $(this).removeClass(&quot;arrow-&quot; + sort_order)\n",
       "        sort_order = (sort_order === &quot;desc&quot;) ? &quot;asc&quot; : &quot;desc&quot;;\n",
       "    } else {\n",
       "        $(&#x27;#mols2grid button.sort-btn.active&#x27;).removeClass(&quot;active arrow-&quot; + sort_order);\n",
       "        sort_order = &quot;asc&quot;;\n",
       "        sort_field = _field;\n",
       "        $(this).addClass(&quot;active&quot;);\n",
       "    }\n",
       "    $(this).addClass(&quot;arrow-&quot; + sort_order)\n",
       "    if (sort_field == &quot;checkbox&quot;) {\n",
       "        listObj.sort(&quot;mols2grid-id&quot;, {order: sort_order, sortFunction: checkboxSort});\n",
       "    } else {\n",
       "        listObj.sort(_field, {order: sort_order, sortFunction: mols2gridSortFunction});\n",
       "    }\n",
       "});\n",
       "\n",
       "\n",
       "\n",
       "\n",
       "\n",
       "\n",
       "\n",
       "\n",
       "\n",
       "\n",
       "// generate images for the currently displayed molecules\n",
       "var draw_opts = {&quot;width&quot;: 160, &quot;height&quot;: 120};\n",
       "var json_draw_opts = JSON.stringify(draw_opts);\n",
       "\n",
       "var smarts_matches = {};\n",
       "\n",
       "// Load RDKit\n",
       "window\n",
       ".initRDKitModule()\n",
       ".then(function(RDKit) {\n",
       "    console.log(&#x27;RDKit version: &#x27;, RDKit.version());\n",
       "    window.RDKit = RDKit;\n",
       "    window.RDKitModule = RDKit;\n",
       "\n",
       "    // search bar\n",
       "    function SmartsSearch(query, columns) {\n",
       "    var smiles_col = columns[0];\n",
       "    smarts_matches = {};\n",
       "    var query = $(&#x27;#mols2grid #searchbar&#x27;).val();\n",
       "    var qmol = RDKit.get_qmol(query);\n",
       "    if (qmol.is_valid()) {\n",
       "        listObj.items.forEach(function (item) {\n",
       "            var smiles = item.values()[smiles_col]\n",
       "            var mol = RDKit.get_mol(smiles, &#x27;{&quot;removeHs&quot;: false }&#x27;);\n",
       "            if (mol.is_valid()) {\n",
       "                var results = mol.get_substruct_matches(qmol);\n",
       "                if (results === &quot;\\{\\}&quot;) {\n",
       "                    item.found = false;\n",
       "                } else {\n",
       "                    item.found = true;\n",
       "                    \n",
       "                    results = JSON.parse(results);\n",
       "                    \n",
       "                    var highlights = {&quot;atoms&quot;: [], &quot;bonds&quot;: []};\n",
       "                    results.forEach(function (match) {\n",
       "                        highlights[&quot;atoms&quot;].push(...match.atoms)\n",
       "                        highlights[&quot;bonds&quot;].push(...match.bonds)\n",
       "                    });\n",
       "                    \n",
       "                    var index = item.values()[&quot;mols2grid-id&quot;];\n",
       "                    smarts_matches[index] = highlights;\n",
       "                    \n",
       "                }\n",
       "            } else {\n",
       "                item.found = false;\n",
       "            }\n",
       "            mol.delete();\n",
       "        });\n",
       "    }\n",
       "    qmol.delete();\n",
       "}\n",
       "var search_type = &quot;Text&quot;;\n",
       "// Temporary fix for regex characters being escaped by list.js\n",
       "// This extends String.replace to ignore the regex pattern used by list.js and returns\n",
       "// the string unmodified. Other calls should not be affected, unless they use the exact\n",
       "// same pattern and replacement value.\n",
       "// TODO: remove once the issue is fixed in list.js and released\n",
       "String.prototype.replace = (function(_super) {\n",
       "    return function() {\n",
       "        if (\n",
       "            (arguments[0].toString() === &#x27;/[-[\\\\]{}()*+?.,\\\\\\\\^$|#]/g&#x27;)\n",
       "            &amp;&amp; (arguments[1] === &#x27;\\\\$&amp;&#x27;)\n",
       "        ) {\n",
       "            if (this.length === 0) {\n",
       "                return &#x27;&#x27;\n",
       "            }\n",
       "            return this\n",
       "        }\n",
       "        return _super.apply(this, arguments);\n",
       "    };         \n",
       "})(String.prototype.replace);\n",
       "// Switch search type (Text or SMARTS)\n",
       "$(&#x27;#mols2grid .search-btn&#x27;).click(function() {\n",
       "    search_type = $(this).text();\n",
       "    $(&#x27;#mols2grid button.search-btn.active&#x27;).removeClass(&quot;active&quot;);\n",
       "    $(this).addClass(&quot;active&quot;);\n",
       "});\n",
       "// Searchbar update event handler\n",
       "$(&#x27;#mols2grid #searchbar&#x27;).on(&quot;keyup&quot;, function(e) {\n",
       "    var query = e.target.value;\n",
       "    if (search_type === &quot;Text&quot;) {\n",
       "        smarts_matches = {};\n",
       "        listObj.search(query, [&#x27;data-sim&#x27;, &#x27;data-mol_idx&#x27;]);\n",
       "    } else {\n",
       "        listObj.search(query, [&quot;data-SMILES&quot;], SmartsSearch);\n",
       "    }\n",
       "});\n",
       "\n",
       "    \n",
       "    // generate images for the currently displayed molecules\n",
       "RDKit.prefer_coordgen(true);\n",
       "function draw_mol(smiles, index, template_mol) {\n",
       "    var mol = RDKit.get_mol(smiles, &#x27;{&quot;removeHs&quot;: false }&#x27;);\n",
       "    var svg = &quot;&quot;;\n",
       "    if (mol.is_valid()) {\n",
       "        var highlights = smarts_matches[index];\n",
       "        if (highlights) {\n",
       "            var details = Object.assign({}, draw_opts, highlights);\n",
       "            details = JSON.stringify(details);\n",
       "            mol.generate_aligned_coords(template_mol, true);\n",
       "        } else {\n",
       "            var details = json_draw_opts;\n",
       "        }\n",
       "        svg = mol.get_svg_with_highlights(details);\n",
       "    }\n",
       "    mol.delete();\n",
       "    if (svg == &quot;&quot;) {\n",
       "        return &#x27;&lt;svg width=&quot;160&quot; height=&quot;120&quot; xmlns=&quot;http://www.w3.org/2000/svg&quot; version=&quot;1.1&quot; viewBox=&quot;0 0 160 120&quot;&gt;&lt;/svg&gt;&#x27;;\n",
       "    }\n",
       "    return svg;\n",
       "}\n",
       "listObj.on(&quot;updated&quot;, function (list) {\n",
       "    var query = $(&#x27;#mols2grid #searchbar&#x27;).val();\n",
       "    var template_mol;\n",
       "    if (query === &quot;&quot;) {\n",
       "        smarts_matches = {};\n",
       "        template_mol = null;\n",
       "    } else {\n",
       "        template_mol = RDKit.get_qmol(query);\n",
       "        template_mol.set_new_coords(true);\n",
       "    }\n",
       "    $(&#x27;#mols2grid .cell&#x27;).each(function() {\n",
       "        var $t = $(this);\n",
       "        var smiles = $t.children(&quot;.data-SMILES&quot;).first().text();\n",
       "        var index = parseInt(this.getAttribute(&quot;data-mols2grid-id&quot;));\n",
       "        var svg = draw_mol(smiles, index, template_mol);\n",
       "        $t.children(&quot;.data-img&quot;).html(svg);\n",
       "    });\n",
       "    if (template_mol) {\n",
       "        template_mol.delete();\n",
       "    }\n",
       "});\n",
       "    \n",
       "\n",
       "    // trigger update to activate tooltips, draw images, setup callbacks...\n",
       "    listObj.update();\n",
       "    // resize iframe to fit content\n",
       "    if (window.frameElement) {\n",
       "        fit_height(window.frameElement);\n",
       "    }\n",
       "});\n",
       "    &lt;/script&gt;\n",
       "  &lt;/body&gt;\n",
       "&lt;/html&gt;\">\n",
       "</iframe>"
      ],
      "text/plain": [
       "<IPython.core.display.HTML object>"
      ]
     },
     "execution_count": 36,
     "metadata": {},
     "output_type": "execute_result"
    }
   ],
   "source": [
    "mols2grid.display(counterfactual_df,subset=[\"img\",\"sim\",\"mol_idx\"],mol_col=\"mol\",transform={\"sim\": lambda x: f\"{x:.2f}\"},\n",
    "                  selection=False)"
   ]
  },
  {
   "cell_type": "markdown",
   "id": "97256a3c",
   "metadata": {},
   "source": [
    "A function to display aligned pairs of molecules and highlight their differences. "
   ]
  },
  {
   "cell_type": "code",
   "execution_count": 37,
   "id": "f483030b",
   "metadata": {},
   "outputs": [],
   "source": [
    "def plot_analog_diffs(m1, m2):\n",
    "    mcs = rdFMCS.FindMCS([m1,m2],completeRingsOnly=False)\n",
    "    mcs_query = Chem.MolFromSmarts(mcs.smartsString)\n",
    "    AllChem.Compute2DCoords(mcs_query)\n",
    "    for m in [m1,m2]: \n",
    "        AllChem.GenerateDepictionMatching2DStructure(m,mcs_query)\n",
    "    m1_match = [x for x in range(0,m1.GetNumAtoms()) if x not in m1.GetSubstructMatch(mcs_query)]\n",
    "    m2_match = [x for x in range(0,m2.GetNumAtoms()) if x not in m2.GetSubstructMatch(mcs_query)]\n",
    "    return MolsToGridImage([m1,m2],highlightAtomLists=[m1_match,m2_match],subImgSize=(400, 400))"
   ]
  },
  {
   "cell_type": "markdown",
   "id": "7bc0fd80",
   "metadata": {},
   "source": [
    "Set **selection_index** to the integer value below a structure in the table above to compare it with Palbociclib. "
   ]
  },
  {
   "cell_type": "code",
   "execution_count": 38,
   "id": "34d8ebf0",
   "metadata": {},
   "outputs": [
    {
     "data": {
      "image/png": "[encoded data removed]",
      "text/plain": [
       "<IPython.core.display.Image object>"
      ]
     },
     "execution_count": 38,
     "metadata": {},
     "output_type": "execute_result"
    }
   ],
   "source": [
    "selection_index = 1\n",
    "plot_analog_diffs(palbo_mol, counterfactual_df.mol.values[selection_index])"
   ]
  },
  {
   "cell_type": "code",
   "execution_count": null,
   "id": "c5415232",
   "metadata": {},
   "outputs": [],
   "source": []
  }
 ],
 "metadata": {
  "kernelspec": {
   "display_name": "Python 3 (ipykernel)",
   "language": "python",
   "name": "python3"
  },
  "language_info": {
   "codemirror_mode": {
    "name": "ipython",
    "version": 3
   },
   "file_extension": ".py",
   "mimetype": "text/x-python",
   "name": "python",
   "nbconvert_exporter": "python",
   "pygments_lexer": "ipython3",
   "version": "3.8.16"
  }
 },
 "nbformat": 4,
 "nbformat_minor": 5
}
