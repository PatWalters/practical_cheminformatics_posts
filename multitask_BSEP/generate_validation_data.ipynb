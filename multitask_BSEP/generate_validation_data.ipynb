{
 "cells": [
  {
   "cell_type": "code",
   "execution_count": 12,
   "id": "b4c8d9f5",
   "metadata": {},
   "outputs": [],
   "source": [
    "import pandas as pd\n",
    "from sklearn.model_selection import train_test_split\n",
    "import os\n",
    "from rdkit import Chem\n",
    "from tqdm.auto import tqdm\n",
    "import warnings\n",
    "from helper import scaffold_split"
   ]
  },
  {
   "cell_type": "markdown",
   "id": "07e029f0",
   "metadata": {},
   "source": [
    "Enable Pandas progress apply"
   ]
  },
  {
   "cell_type": "code",
   "execution_count": 13,
   "id": "ecc76752",
   "metadata": {},
   "outputs": [],
   "source": [
    "tqdm.pandas()"
   ]
  },
  {
   "cell_type": "markdown",
   "id": "6d05cdfb",
   "metadata": {},
   "source": [
    "Read the data "
   ]
  },
  {
   "cell_type": "code",
   "execution_count": 14,
   "id": "5f06269e",
   "metadata": {},
   "outputs": [],
   "source": [
    "df = pd.read_csv(\"MTL_2_input_BSEP_herg_BBB_PDK_HIV.csv\")"
   ]
  },
  {
   "cell_type": "markdown",
   "id": "26b34398",
   "metadata": {},
   "source": [
    "Add an RDKit molecule to the dataframe.  Not that 9 molecules can't be parsed."
   ]
  },
  {
   "cell_type": "code",
   "execution_count": 15,
   "id": "02f7f531",
   "metadata": {},
   "outputs": [
    {
     "data": {
      "application/vnd.jupyter.widget-view+json": {
       "model_id": "8b66866d774e4f7cbf911ddc3d5e2208",
       "version_major": 2,
       "version_minor": 0
      },
      "text/plain": [
       "  0%|          | 0/8128 [00:00<?, ?it/s]"
      ]
     },
     "metadata": {},
     "output_type": "display_data"
    },
    {
     "name": "stderr",
     "output_type": "stream",
     "text": [
      "[21:49:15] Explicit valence for atom # 0 C, 5, is greater than permitted\n",
      "[21:49:15] Explicit valence for atom # 10 N, 4, is greater than permitted\n",
      "[21:49:15] Explicit valence for atom # 2 N, 4, is greater than permitted\n",
      "[21:49:15] Explicit valence for atom # 2 N, 4, is greater than permitted\n",
      "[21:49:15] Explicit valence for atom # 2 N, 4, is greater than permitted\n",
      "[21:49:15] Explicit valence for atom # 14 N, 4, is greater than permitted\n",
      "[21:49:15] Explicit valence for atom # 2 N, 4, is greater than permitted\n",
      "[21:49:15] Explicit valence for atom # 2 N, 4, is greater than permitted\n",
      "[21:49:15] Explicit valence for atom # 2 N, 4, is greater than permitted\n"
     ]
    }
   ],
   "source": [
    "df['mol'] = df.SMILES.progress_apply(Chem.MolFromSmiles)"
   ]
  },
  {
   "cell_type": "markdown",
   "id": "325cca66",
   "metadata": {},
   "source": [
    "Delete rows where the SMILES couldn't be parsed"
   ]
  },
  {
   "cell_type": "code",
   "execution_count": 16,
   "id": "a792037a",
   "metadata": {},
   "outputs": [],
   "source": [
    "df_ok = df.dropna(subset='mol').copy()"
   ]
  },
  {
   "cell_type": "markdown",
   "id": "7731ddc7",
   "metadata": {},
   "source": [
    "Make sure we don't have duplicate molecules"
   ]
  },
  {
   "cell_type": "code",
   "execution_count": 17,
   "id": "53e4e0da",
   "metadata": {},
   "outputs": [],
   "source": [
    "df_ok['cansmi'] = df_ok.mol.apply(Chem.MolToSmiles)"
   ]
  },
  {
   "cell_type": "code",
   "execution_count": 18,
   "id": "8c0f3d6f",
   "metadata": {},
   "outputs": [
    {
     "data": {
      "text/plain": [
       "cansmi\n",
       "CCOC(=O)N1CCC(=C2c3ccc(Cl)cc3CCc3cccnc32)CC1                        1\n",
       "NC(=O)Nc1ccc2c(c1)/C(=C(\\c1cccc(N)c1)c1ccc[nH]1)C(=O)N2             1\n",
       "NC(=O)Nc1ccc2c(c1)/C(=C/c1ccc[nH]1)C(=O)N2                          1\n",
       "NC(=O)Nc1ccc2c(c1)/C(=C/c1cc(-c3cccnc3)c[nH]1)C(=O)N2               1\n",
       "NC(=O)Nc1ccc2c(c1)/C(=C/c1cc(-c3ccccc3)c[nH]1)C(=O)N2               1\n",
       "                                                                   ..\n",
       "CN1C(=O)CN=C(C2=CCCCC2)c2cc([N+](=O)[O-])ccc21                      1\n",
       "CN1C(=O)CN2CCc3ccccc3C2c2cc(Cl)ccc21                                1\n",
       "CN1C(=O)CN(C(N)=O)C(c2ccccc2)c2cc(Cl)ccc21                          1\n",
       "CC1=CC(=O)N2CC(=O)N(C)c3ccc(Cl)cc3C2(c2ccccc2)O1                    1\n",
       "OCc1ccc(COC(COCc2ccccc2)C(O)C(O)C(COCc2ccccc2)OCc2ccc(CO)cc2)cc1    1\n",
       "Name: count, Length: 8119, dtype: int64"
      ]
     },
     "execution_count": 18,
     "metadata": {},
     "output_type": "execute_result"
    }
   ],
   "source": [
    "df_ok.cansmi.value_counts()"
   ]
  },
  {
   "cell_type": "markdown",
   "id": "24a31868",
   "metadata": {},
   "source": [
    "Drop the molecule column"
   ]
  },
  {
   "cell_type": "code",
   "execution_count": 19,
   "id": "bba0a9e0",
   "metadata": {},
   "outputs": [],
   "source": [
    "df_ok = df_ok.drop([\"mol\",\"cansmi\"],axis=1)"
   ]
  },
  {
   "cell_type": "markdown",
   "id": "5dd2c2fa",
   "metadata": {},
   "source": [
    "Double check the sizes of the dataframes"
   ]
  },
  {
   "cell_type": "code",
   "execution_count": 20,
   "id": "3728a1be",
   "metadata": {},
   "outputs": [
    {
     "data": {
      "text/plain": [
       "(8128, 8119, 9)"
      ]
     },
     "execution_count": 20,
     "metadata": {},
     "output_type": "execute_result"
    }
   ],
   "source": [
    "len(df),len(df_ok),len(df)-len(df_ok)"
   ]
  },
  {
   "cell_type": "markdown",
   "id": "1ab4abff",
   "metadata": {},
   "source": [
    "Create two dataframes, one with the molecules that have BSEP data and one with the molecules that don't. For single task, we'll only use the molecules with BSEP data.  For multitask, we'll use all the data. "
   ]
  },
  {
   "cell_type": "code",
   "execution_count": 21,
   "id": "465a83b3",
   "metadata": {},
   "outputs": [],
   "source": [
    "df_bsep = df_ok.dropna(subset=\"BSEP\").copy()\n",
    "df_rest = df_ok[df_ok.BSEP.isna()].copy()"
   ]
  },
  {
   "cell_type": "code",
   "execution_count": 22,
   "id": "1bde7d5e",
   "metadata": {},
   "outputs": [
    {
     "data": {
      "text/html": [
       "<div>\n",
       "<style scoped>\n",
       "    .dataframe tbody tr th:only-of-type {\n",
       "        vertical-align: middle;\n",
       "    }\n",
       "\n",
       "    .dataframe tbody tr th {\n",
       "        vertical-align: top;\n",
       "    }\n",
       "\n",
       "    .dataframe thead th {\n",
       "        text-align: right;\n",
       "    }\n",
       "</style>\n",
       "<table border=\"1\" class=\"dataframe\">\n",
       "  <thead>\n",
       "    <tr style=\"text-align: right;\">\n",
       "      <th></th>\n",
       "      <th>Name</th>\n",
       "      <th>SMILES</th>\n",
       "      <th>BSEP</th>\n",
       "      <th>HERG</th>\n",
       "      <th>BBB</th>\n",
       "      <th>PDK1</th>\n",
       "      <th>HIVPRO</th>\n",
       "    </tr>\n",
       "  </thead>\n",
       "  <tbody>\n",
       "    <tr>\n",
       "      <th>0</th>\n",
       "      <td>50775606</td>\n",
       "      <td>CCOC(N1CCC(=C2c(nccc3)c3CCc(cc(Cl)cc4)c24)CC1)=O</td>\n",
       "      <td>1.0</td>\n",
       "      <td>1.0</td>\n",
       "      <td>1.0</td>\n",
       "      <td>NaN</td>\n",
       "      <td>NaN</td>\n",
       "    </tr>\n",
       "    <tr>\n",
       "      <th>1</th>\n",
       "      <td>50753667</td>\n",
       "      <td>CSc1cc(N(CCC2N(C)CCCC2)c(cccc3)c3S4)c4cc1</td>\n",
       "      <td>1.0</td>\n",
       "      <td>1.0</td>\n",
       "      <td>1.0</td>\n",
       "      <td>NaN</td>\n",
       "      <td>NaN</td>\n",
       "    </tr>\n",
       "    <tr>\n",
       "      <th>2</th>\n",
       "      <td>50753625</td>\n",
       "      <td>OC1(c2ccc(Cl)cc2)CCN(CCCC(c3ccc(F)cc3)=O)CC1</td>\n",
       "      <td>1.0</td>\n",
       "      <td>1.0</td>\n",
       "      <td>1.0</td>\n",
       "      <td>NaN</td>\n",
       "      <td>NaN</td>\n",
       "    </tr>\n",
       "    <tr>\n",
       "      <th>3</th>\n",
       "      <td>50739573</td>\n",
       "      <td>CC(N1CCN(c2ccc(OCC3OC(c4c(Cl)cc(Cl)cc4)(Cn5cnc...</td>\n",
       "      <td>1.0</td>\n",
       "      <td>1.0</td>\n",
       "      <td>0.0</td>\n",
       "      <td>NaN</td>\n",
       "      <td>NaN</td>\n",
       "    </tr>\n",
       "    <tr>\n",
       "      <th>4</th>\n",
       "      <td>50754140</td>\n",
       "      <td>C(C1NCCCC1)C(C2CCCCC2)C3CCCCC3</td>\n",
       "      <td>1.0</td>\n",
       "      <td>1.0</td>\n",
       "      <td>NaN</td>\n",
       "      <td>NaN</td>\n",
       "      <td>NaN</td>\n",
       "    </tr>\n",
       "    <tr>\n",
       "      <th>...</th>\n",
       "      <td>...</td>\n",
       "      <td>...</td>\n",
       "      <td>...</td>\n",
       "      <td>...</td>\n",
       "      <td>...</td>\n",
       "      <td>...</td>\n",
       "      <td>...</td>\n",
       "    </tr>\n",
       "    <tr>\n",
       "      <th>920</th>\n",
       "      <td>50772245</td>\n",
       "      <td>OCCN1[C@H](CO)[C@@H](O)[C@H](O)[C@@H](O)C1</td>\n",
       "      <td>0.0</td>\n",
       "      <td>NaN</td>\n",
       "      <td>NaN</td>\n",
       "      <td>NaN</td>\n",
       "      <td>NaN</td>\n",
       "    </tr>\n",
       "    <tr>\n",
       "      <th>921</th>\n",
       "      <td>50776041</td>\n",
       "      <td>ONC(CCCCCCC(Nc1ccccc1)=O)=O</td>\n",
       "      <td>0.0</td>\n",
       "      <td>NaN</td>\n",
       "      <td>NaN</td>\n",
       "      <td>NaN</td>\n",
       "      <td>NaN</td>\n",
       "    </tr>\n",
       "    <tr>\n",
       "      <th>922</th>\n",
       "      <td>50775841</td>\n",
       "      <td>OS(Cc1c(cccc2)c2on1)(=O)=N</td>\n",
       "      <td>0.0</td>\n",
       "      <td>NaN</td>\n",
       "      <td>NaN</td>\n",
       "      <td>NaN</td>\n",
       "      <td>NaN</td>\n",
       "    </tr>\n",
       "    <tr>\n",
       "      <th>923</th>\n",
       "      <td>50772666</td>\n",
       "      <td>OS(CCS)(=O)=O</td>\n",
       "      <td>0.0</td>\n",
       "      <td>NaN</td>\n",
       "      <td>NaN</td>\n",
       "      <td>NaN</td>\n",
       "      <td>NaN</td>\n",
       "    </tr>\n",
       "    <tr>\n",
       "      <th>924</th>\n",
       "      <td>50777144</td>\n",
       "      <td>S=C1c([nH]cn2)c2N=CN1</td>\n",
       "      <td>0.0</td>\n",
       "      <td>NaN</td>\n",
       "      <td>NaN</td>\n",
       "      <td>NaN</td>\n",
       "      <td>NaN</td>\n",
       "    </tr>\n",
       "  </tbody>\n",
       "</table>\n",
       "<p>925 rows × 7 columns</p>\n",
       "</div>"
      ],
      "text/plain": [
       "         Name                                             SMILES  BSEP  HERG  \\\n",
       "0    50775606   CCOC(N1CCC(=C2c(nccc3)c3CCc(cc(Cl)cc4)c24)CC1)=O   1.0   1.0   \n",
       "1    50753667          CSc1cc(N(CCC2N(C)CCCC2)c(cccc3)c3S4)c4cc1   1.0   1.0   \n",
       "2    50753625       OC1(c2ccc(Cl)cc2)CCN(CCCC(c3ccc(F)cc3)=O)CC1   1.0   1.0   \n",
       "3    50739573  CC(N1CCN(c2ccc(OCC3OC(c4c(Cl)cc(Cl)cc4)(Cn5cnc...   1.0   1.0   \n",
       "4    50754140                     C(C1NCCCC1)C(C2CCCCC2)C3CCCCC3   1.0   1.0   \n",
       "..        ...                                                ...   ...   ...   \n",
       "920  50772245         OCCN1[C@H](CO)[C@@H](O)[C@H](O)[C@@H](O)C1   0.0   NaN   \n",
       "921  50776041                        ONC(CCCCCCC(Nc1ccccc1)=O)=O   0.0   NaN   \n",
       "922  50775841                         OS(Cc1c(cccc2)c2on1)(=O)=N   0.0   NaN   \n",
       "923  50772666                                      OS(CCS)(=O)=O   0.0   NaN   \n",
       "924  50777144                              S=C1c([nH]cn2)c2N=CN1   0.0   NaN   \n",
       "\n",
       "     BBB  PDK1  HIVPRO  \n",
       "0    1.0   NaN     NaN  \n",
       "1    1.0   NaN     NaN  \n",
       "2    1.0   NaN     NaN  \n",
       "3    0.0   NaN     NaN  \n",
       "4    NaN   NaN     NaN  \n",
       "..   ...   ...     ...  \n",
       "920  NaN   NaN     NaN  \n",
       "921  NaN   NaN     NaN  \n",
       "922  NaN   NaN     NaN  \n",
       "923  NaN   NaN     NaN  \n",
       "924  NaN   NaN     NaN  \n",
       "\n",
       "[925 rows x 7 columns]"
      ]
     },
     "execution_count": 22,
     "metadata": {},
     "output_type": "execute_result"
    }
   ],
   "source": [
    "df_bsep"
   ]
  },
  {
   "cell_type": "markdown",
   "id": "18b67bc6",
   "metadata": {},
   "source": [
    "Write the splits to disk. Supress warnings because we're writing floats and NAs in a column. "
   ]
  },
  {
   "cell_type": "code",
   "execution_count": 24,
   "id": "19c64bec",
   "metadata": {},
   "outputs": [
    {
     "data": {
      "application/vnd.jupyter.widget-view+json": {
       "model_id": "8f1010c6bab7467e99d14a7e9db4b54e",
       "version_major": 2,
       "version_minor": 0
      },
      "text/plain": [
       "  0%|          | 0/10 [00:00<?, ?it/s]"
      ]
     },
     "metadata": {},
     "output_type": "display_data"
    },
    {
     "ename": "TypeError",
     "evalue": "Singleton array array('BSEP', dtype='<U4') cannot be considered a valid collection.",
     "output_type": "error",
     "traceback": [
      "\u001b[0;31m---------------------------------------------------------------------------\u001b[0m",
      "\u001b[0;31mTypeError\u001b[0m                                 Traceback (most recent call last)",
      "Cell \u001b[0;32mIn[24], line 13\u001b[0m\n\u001b[1;32m     10\u001b[0m     os\u001b[38;5;241m.\u001b[39mmkdir(dir_name)\n\u001b[1;32m     12\u001b[0m \u001b[38;5;66;03m# random split\u001b[39;00m\n\u001b[0;32m---> 13\u001b[0m rnd_train, rnd_val_test \u001b[38;5;241m=\u001b[39m \u001b[43mtrain_test_split\u001b[49m\u001b[43m(\u001b[49m\u001b[43mdf_bsep\u001b[49m\u001b[43m,\u001b[49m\u001b[43mtest_size\u001b[49m\u001b[38;5;241;43m=\u001b[39;49m\u001b[38;5;241;43m0.2\u001b[39;49m\u001b[43m,\u001b[49m\u001b[43mstratify\u001b[49m\u001b[38;5;241;43m=\u001b[39;49m\u001b[38;5;124;43m\"\u001b[39;49m\u001b[38;5;124;43mBSEP\u001b[39;49m\u001b[38;5;124;43m\"\u001b[39;49m\u001b[43m,\u001b[49m\u001b[43mrandom_state\u001b[49m\u001b[38;5;241;43m=\u001b[39;49m\u001b[43mi\u001b[49m\u001b[43m)\u001b[49m\n\u001b[1;32m     14\u001b[0m rnd_val, rnd_test \u001b[38;5;241m=\u001b[39m train_test_split(rnd_val_test, test_size\u001b[38;5;241m=\u001b[39m\u001b[38;5;241m0.5\u001b[39m, stratify\u001b[38;5;241m=\u001b[39m\u001b[38;5;124m\"\u001b[39m\u001b[38;5;124mBSEP\u001b[39m\u001b[38;5;124m\"\u001b[39m,random_state\u001b[38;5;241m=\u001b[39mi)\n\u001b[1;32m     15\u001b[0m dataset[\u001b[38;5;124m\"\u001b[39m\u001b[38;5;124mrandom\u001b[39m\u001b[38;5;124m\"\u001b[39m] \u001b[38;5;241m=\u001b[39m [rnd_train, rnd_val, rnd_test]\n",
      "File \u001b[0;32m~/anaconda3/envs/chemprop/lib/python3.8/site-packages/sklearn/model_selection/_split.py:2583\u001b[0m, in \u001b[0;36mtrain_test_split\u001b[0;34m(test_size, train_size, random_state, shuffle, stratify, *arrays)\u001b[0m\n\u001b[1;32m   2579\u001b[0m         CVClass \u001b[38;5;241m=\u001b[39m ShuffleSplit\n\u001b[1;32m   2581\u001b[0m     cv \u001b[38;5;241m=\u001b[39m CVClass(test_size\u001b[38;5;241m=\u001b[39mn_test, train_size\u001b[38;5;241m=\u001b[39mn_train, random_state\u001b[38;5;241m=\u001b[39mrandom_state)\n\u001b[0;32m-> 2583\u001b[0m     train, test \u001b[38;5;241m=\u001b[39m \u001b[38;5;28mnext\u001b[39m(\u001b[43mcv\u001b[49m\u001b[38;5;241;43m.\u001b[39;49m\u001b[43msplit\u001b[49m\u001b[43m(\u001b[49m\u001b[43mX\u001b[49m\u001b[38;5;241;43m=\u001b[39;49m\u001b[43marrays\u001b[49m\u001b[43m[\u001b[49m\u001b[38;5;241;43m0\u001b[39;49m\u001b[43m]\u001b[49m\u001b[43m,\u001b[49m\u001b[43m \u001b[49m\u001b[43my\u001b[49m\u001b[38;5;241;43m=\u001b[39;49m\u001b[43mstratify\u001b[49m\u001b[43m)\u001b[49m)\n\u001b[1;32m   2585\u001b[0m \u001b[38;5;28;01mreturn\u001b[39;00m \u001b[38;5;28mlist\u001b[39m(\n\u001b[1;32m   2586\u001b[0m     chain\u001b[38;5;241m.\u001b[39mfrom_iterable(\n\u001b[1;32m   2587\u001b[0m         (_safe_indexing(a, train), _safe_indexing(a, test)) \u001b[38;5;28;01mfor\u001b[39;00m a \u001b[38;5;129;01min\u001b[39;00m arrays\n\u001b[1;32m   2588\u001b[0m     )\n\u001b[1;32m   2589\u001b[0m )\n",
      "File \u001b[0;32m~/anaconda3/envs/chemprop/lib/python3.8/site-packages/sklearn/model_selection/_split.py:2160\u001b[0m, in \u001b[0;36mStratifiedShuffleSplit.split\u001b[0;34m(self, X, y, groups)\u001b[0m\n\u001b[1;32m   2126\u001b[0m \u001b[38;5;28;01mdef\u001b[39;00m \u001b[38;5;21msplit\u001b[39m(\u001b[38;5;28mself\u001b[39m, X, y, groups\u001b[38;5;241m=\u001b[39m\u001b[38;5;28;01mNone\u001b[39;00m):\n\u001b[1;32m   2127\u001b[0m     \u001b[38;5;124;03m\"\"\"Generate indices to split data into training and test set.\u001b[39;00m\n\u001b[1;32m   2128\u001b[0m \n\u001b[1;32m   2129\u001b[0m \u001b[38;5;124;03m    Parameters\u001b[39;00m\n\u001b[0;32m   (...)\u001b[0m\n\u001b[1;32m   2158\u001b[0m \u001b[38;5;124;03m    to an integer.\u001b[39;00m\n\u001b[1;32m   2159\u001b[0m \u001b[38;5;124;03m    \"\"\"\u001b[39;00m\n\u001b[0;32m-> 2160\u001b[0m     y \u001b[38;5;241m=\u001b[39m \u001b[43mcheck_array\u001b[49m\u001b[43m(\u001b[49m\u001b[43my\u001b[49m\u001b[43m,\u001b[49m\u001b[43m \u001b[49m\u001b[43minput_name\u001b[49m\u001b[38;5;241;43m=\u001b[39;49m\u001b[38;5;124;43m\"\u001b[39;49m\u001b[38;5;124;43my\u001b[39;49m\u001b[38;5;124;43m\"\u001b[39;49m\u001b[43m,\u001b[49m\u001b[43m \u001b[49m\u001b[43mensure_2d\u001b[49m\u001b[38;5;241;43m=\u001b[39;49m\u001b[38;5;28;43;01mFalse\u001b[39;49;00m\u001b[43m,\u001b[49m\u001b[43m \u001b[49m\u001b[43mdtype\u001b[49m\u001b[38;5;241;43m=\u001b[39;49m\u001b[38;5;28;43;01mNone\u001b[39;49;00m\u001b[43m)\u001b[49m\n\u001b[1;32m   2161\u001b[0m     \u001b[38;5;28;01mreturn\u001b[39;00m \u001b[38;5;28msuper\u001b[39m()\u001b[38;5;241m.\u001b[39msplit(X, y, groups)\n",
      "File \u001b[0;32m~/anaconda3/envs/chemprop/lib/python3.8/site-packages/sklearn/utils/validation.py:927\u001b[0m, in \u001b[0;36mcheck_array\u001b[0;34m(array, accept_sparse, accept_large_sparse, dtype, order, copy, force_all_finite, ensure_2d, allow_nd, ensure_min_samples, ensure_min_features, estimator, input_name)\u001b[0m\n\u001b[1;32m    919\u001b[0m         _assert_all_finite(\n\u001b[1;32m    920\u001b[0m             array,\n\u001b[1;32m    921\u001b[0m             input_name\u001b[38;5;241m=\u001b[39minput_name,\n\u001b[1;32m    922\u001b[0m             estimator_name\u001b[38;5;241m=\u001b[39mestimator_name,\n\u001b[1;32m    923\u001b[0m             allow_nan\u001b[38;5;241m=\u001b[39mforce_all_finite \u001b[38;5;241m==\u001b[39m \u001b[38;5;124m\"\u001b[39m\u001b[38;5;124mallow-nan\u001b[39m\u001b[38;5;124m\"\u001b[39m,\n\u001b[1;32m    924\u001b[0m         )\n\u001b[1;32m    926\u001b[0m \u001b[38;5;28;01mif\u001b[39;00m ensure_min_samples \u001b[38;5;241m>\u001b[39m \u001b[38;5;241m0\u001b[39m:\n\u001b[0;32m--> 927\u001b[0m     n_samples \u001b[38;5;241m=\u001b[39m \u001b[43m_num_samples\u001b[49m\u001b[43m(\u001b[49m\u001b[43marray\u001b[49m\u001b[43m)\u001b[49m\n\u001b[1;32m    928\u001b[0m     \u001b[38;5;28;01mif\u001b[39;00m n_samples \u001b[38;5;241m<\u001b[39m ensure_min_samples:\n\u001b[1;32m    929\u001b[0m         \u001b[38;5;28;01mraise\u001b[39;00m \u001b[38;5;167;01mValueError\u001b[39;00m(\n\u001b[1;32m    930\u001b[0m             \u001b[38;5;124m\"\u001b[39m\u001b[38;5;124mFound array with \u001b[39m\u001b[38;5;132;01m%d\u001b[39;00m\u001b[38;5;124m sample(s) (shape=\u001b[39m\u001b[38;5;132;01m%s\u001b[39;00m\u001b[38;5;124m) while a\u001b[39m\u001b[38;5;124m\"\u001b[39m\n\u001b[1;32m    931\u001b[0m             \u001b[38;5;124m\"\u001b[39m\u001b[38;5;124m minimum of \u001b[39m\u001b[38;5;132;01m%d\u001b[39;00m\u001b[38;5;124m is required\u001b[39m\u001b[38;5;132;01m%s\u001b[39;00m\u001b[38;5;124m.\u001b[39m\u001b[38;5;124m\"\u001b[39m\n\u001b[1;32m    932\u001b[0m             \u001b[38;5;241m%\u001b[39m (n_samples, array\u001b[38;5;241m.\u001b[39mshape, ensure_min_samples, context)\n\u001b[1;32m    933\u001b[0m         )\n",
      "File \u001b[0;32m~/anaconda3/envs/chemprop/lib/python3.8/site-packages/sklearn/utils/validation.py:335\u001b[0m, in \u001b[0;36m_num_samples\u001b[0;34m(x)\u001b[0m\n\u001b[1;32m    333\u001b[0m \u001b[38;5;28;01mif\u001b[39;00m \u001b[38;5;28mhasattr\u001b[39m(x, \u001b[38;5;124m\"\u001b[39m\u001b[38;5;124mshape\u001b[39m\u001b[38;5;124m\"\u001b[39m) \u001b[38;5;129;01mand\u001b[39;00m x\u001b[38;5;241m.\u001b[39mshape \u001b[38;5;129;01mis\u001b[39;00m \u001b[38;5;129;01mnot\u001b[39;00m \u001b[38;5;28;01mNone\u001b[39;00m:\n\u001b[1;32m    334\u001b[0m     \u001b[38;5;28;01mif\u001b[39;00m \u001b[38;5;28mlen\u001b[39m(x\u001b[38;5;241m.\u001b[39mshape) \u001b[38;5;241m==\u001b[39m \u001b[38;5;241m0\u001b[39m:\n\u001b[0;32m--> 335\u001b[0m         \u001b[38;5;28;01mraise\u001b[39;00m \u001b[38;5;167;01mTypeError\u001b[39;00m(\n\u001b[1;32m    336\u001b[0m             \u001b[38;5;124m\"\u001b[39m\u001b[38;5;124mSingleton array \u001b[39m\u001b[38;5;132;01m%r\u001b[39;00m\u001b[38;5;124m cannot be considered a valid collection.\u001b[39m\u001b[38;5;124m\"\u001b[39m \u001b[38;5;241m%\u001b[39m x\n\u001b[1;32m    337\u001b[0m         )\n\u001b[1;32m    338\u001b[0m     \u001b[38;5;66;03m# Check that shape is returning an integer or default to len\u001b[39;00m\n\u001b[1;32m    339\u001b[0m     \u001b[38;5;66;03m# Dask dataframes may not return numeric shape[0] value\u001b[39;00m\n\u001b[1;32m    340\u001b[0m     \u001b[38;5;28;01mif\u001b[39;00m \u001b[38;5;28misinstance\u001b[39m(x\u001b[38;5;241m.\u001b[39mshape[\u001b[38;5;241m0\u001b[39m], numbers\u001b[38;5;241m.\u001b[39mIntegral):\n",
      "\u001b[0;31mTypeError\u001b[0m: Singleton array array('BSEP', dtype='<U4') cannot be considered a valid collection."
     ]
    }
   ],
   "source": [
    "warnings.simplefilter(action = \"ignore\", category = RuntimeWarning)\n",
    "dataset = {}\n",
    "\n",
    "if not os.path.exists(\"data\"):\n",
    "        os.mkdir(\"data\")\n",
    "base_name = \"data/BSEP\"\n",
    "for i in tqdm(range(0,10)):\n",
    "    dir_name = f\"{base_name}{i:03d}\"\n",
    "    if not os.path.exists(dir_name):\n",
    "        os.mkdir(dir_name)\n",
    "    \n",
    "    # random split\n",
    "    rnd_train, rnd_val_test = train_test_split(df_bsep,test_size=0.2,stratify=df_bsep.BSEP,random_state=i)\n",
    "    rnd_val, rnd_test = train_test_split(rnd_val_test, test_size=0.5,stratify-random_state=i)\n",
    "    dataset[\"random\"] = [rnd_train, rnd_val, rnd_test]\n",
    "    # scaffold split\n",
    "    scaf_train, scaf_val_test = scaffold_split(df_bsep.SMILES,sizes=(0.8,0.2),seed=i)\n",
    "    df_scaf_train = df_bsep.iloc[scaf_train]\n",
    "    df_scaf_val_test = df_bsep.iloc[scaf_val_test]\n",
    "    scaf_val, scaf_test = scaffold_split(df_scaf_val_test.SMILES,sizes=(0.5,0.5),seed=i)\n",
    "    df_scaf_val = df_scaf_val_test.iloc[scaf_val]\n",
    "    df_scaf_test = df_scaf_val_test.iloc[scaf_test]    \n",
    "    dataset[\"scaffold\"] = [df_scaf_train, df_scaf_val, df_scaf_test]\n",
    "    \n",
    "    for prefix in [\"random\", \"scaffold\"]:\n",
    "        train, val, test = dataset[prefix]\n",
    "    \n",
    "        st_cols = [\"SMILES\",\"Name\",\"BSEP\"]\n",
    "        train[st_cols].to_csv(f\"{dir_name}/{prefix}_train_{i:03d}.csv\",index=False)\n",
    "        val[st_cols].to_csv(f\"{dir_name}/{prefix}_val_{i:03d}.csv\",index=False)\n",
    "        test[st_cols].to_csv(f\"{dir_name}/{prefix}_test_{i:03d}.csv\",index=False)\n",
    "    \n",
    "        mt_cols = [\"SMILES\",\"Name\",\"BSEP\",\"HERG\",\"BBB\",\"PDK1\",\"HIVPRO\"]\n",
    "        rest_train, rest_val = train_test_split(df_rest,test_size=0.2,random_state=i)\n",
    "        train = pd.concat([train, rest_train]).sample(frac=1.0)\n",
    "        train[mt_cols].to_csv(f\"{dir_name}/{prefix}_mt_train_{i:03d}.csv\",index=False)\n",
    "        val = pd.concat([val, rest_val]).sample(frac=1.0)\n",
    "        val[mt_cols].to_csv(f\"{dir_name}/{prefix}_mt_val_{i:03d}.csv\",index=False)\n",
    "        test[mt_cols].to_csv(f\"{dir_name}/{prefix}_mt_test_{i:03d}.csv\",index=False)"
   ]
  },
  {
   "cell_type": "code",
   "execution_count": null,
   "id": "dfaed9be",
   "metadata": {},
   "outputs": [],
   "source": []
  }
 ],
 "metadata": {
  "kernelspec": {
   "display_name": "Python 3 (ipykernel)",
   "language": "python",
   "name": "python3"
  },
  "language_info": {
   "codemirror_mode": {
    "name": "ipython",
    "version": 3
   },
   "file_extension": ".py",
   "mimetype": "text/x-python",
   "name": "python",
   "nbconvert_exporter": "python",
   "pygments_lexer": "ipython3",
   "version": "3.8.15"
  }
 },
 "nbformat": 4,
 "nbformat_minor": 5
}
