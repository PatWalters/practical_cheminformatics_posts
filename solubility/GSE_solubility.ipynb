{
 "cells": [
  {
   "cell_type": "markdown",
   "id": "6f013f56-ddf8-4353-a6ea-9bd59f6b72d4",
   "metadata": {},
   "source": [
    "In this notebook we use a recently published model for predicting melting point to predict aqueous solubility using the General Solubility Equation. "
   ]
  },
  {
   "cell_type": "code",
   "execution_count": 1,
   "id": "cc70d4a3",
   "metadata": {},
   "outputs": [],
   "source": [
    "import joblib\n",
    "from xgboost import XGBRegressor\n",
    "from rdkit import Chem\n",
    "from rdkit.Chem import Crippen\n",
    "from rdkit.Chem import Descriptors, rdMolDescriptors\n",
    "import pandas as pd\n",
    "import numpy as np\n",
    "import seaborn as sns\n",
    "from scipy.stats import pearsonr\n",
    "from sklearn.metrics import mean_absolute_error\n",
    "from tqdm.auto import tqdm\n",
    "from plot_regression import plot_regression"
   ]
  },
  {
   "cell_type": "markdown",
   "id": "4cf041f6",
   "metadata": {},
   "source": [
    "I had to do a bit of manipulation to get the CSD melting point model to load with newer versions of XGBoost.  The version of the model in the OpenSOL GitHub repo was created with XGBoost 1.5 (or earlier) and saved using joblib.  I ended up installing XGBoost 1.5 and saving the model as json.  The json version is compatible with more recent versions of XGBoost. \n",
    "<pre>\n",
    "import joblib\n",
    "model = joblib.load(\"xgboost_rdkit_2d_clustering_model.job\")\n",
    "model.save_model(\"xgboost_rdkit_2d_clustering_model.json\")\n",
    "</pre>"
   ]
  },
  {
   "cell_type": "code",
   "execution_count": 2,
   "id": "ee68c1d6",
   "metadata": {},
   "outputs": [],
   "source": [
    "xgb = XGBRegressor()\n",
    "xgb.load_model(\"xgboost_rdkit_2d_clustering_model.json\")"
   ]
  },
  {
   "cell_type": "markdown",
   "id": "fac87194",
   "metadata": {},
   "source": [
    "This is descriptor calculation code that I borrowed from the OpenSOL github repo. "
   ]
  },
  {
   "cell_type": "code",
   "execution_count": 3,
   "id": "9de5a142",
   "metadata": {},
   "outputs": [],
   "source": [
    "def rdkit_2d_calc(mols, names=False, Autocorr2D=True):\n",
    "\n",
    "    DescList = Descriptors.descList\n",
    "    DscrNames = {}\n",
    "\n",
    "    if Autocorr2D == True:\n",
    "        DscrNames['Types'] = ['2D', 'Autocorr2D']\n",
    "    else:\n",
    "        DscrNames['Types'] = ['2D']\n",
    "\n",
    "    DscrNames['Functions'] = {}\n",
    "\n",
    "    for Type in DscrNames[\"Types\"]:\n",
    "        DscrNames[Type] = {}\n",
    "        DscrNames[Type][\"Names\"] = []\n",
    "        DscrNames[\"Functions\"][Type] = []\n",
    "\n",
    "    for Type in DscrNames['Types']:\n",
    "        if Type == '2D':\n",
    "            for dscr in DescList:\n",
    "                DscrNames[Type][\"Names\"].append(dscr[0])\n",
    "                DscrNames[\"Functions\"][Type].append(dscr[1])\n",
    "        elif Type == 'Autocorr2D':\n",
    "            # The current rdkit has 192 Autocorr2D descriptors as of 04_14_2022\n",
    "            COUNT = 192\n",
    "            DscrNames[Type][\"Names\"] = ['Autocorr2D_{}'.format(i) for i in range(COUNT)]\n",
    "            DscrNames[\"Functions\"][Type] = rdMolDescriptors.CalcAUTOCORR2D\n",
    "\n",
    "    dscr_names = Names_generator(DscrNames)\n",
    "\n",
    "    if names:\n",
    "        assert len(mols) == len(names)\n",
    "        idx = names\n",
    "    else:\n",
    "        idx = list(range(len(mols)))\n",
    "\n",
    "    df_dscr = pd.DataFrame(np.nan, index=idx, columns=dscr_names)\n",
    "\n",
    "    for mol, name in tqdm(zip(mols, idx),total=len(df_dscr)):\n",
    "        if mol:\n",
    "            df_dscr.loc[name] = Values_generator(mol, DscrNames)\n",
    "\n",
    "    return(df_dscr)\n",
    "\n",
    "def Names_generator(DscrNames):\n",
    "    dscr_names = []\n",
    "    for Type in DscrNames['Types']:\n",
    "        for Name in DscrNames[Type]['Names']:\n",
    "            dscr_names.append(Name)\n",
    "    return dscr_names\n",
    "\n",
    "def Values_generator(mol, DscrNames):\n",
    "    dscr_values = []\n",
    "    for Type in DscrNames['Types']:\n",
    "        if Type in ['2D', '3D']:\n",
    "            for Function in DscrNames['Functions'][Type]:\n",
    "                dscr_values.append(Function(mol))\n",
    "        else:\n",
    "            dscr_values.extend(DscrNames['Functions'][Type](mol))\n",
    "    return dscr_values\n",
    "\n",
    "def clogP_calc(mols):\n",
    "    clogp = []\n",
    "    for mol in mols:\n",
    "        mol = Chem.AddHs(mol)\n",
    "        clogp.append(Crippen.MolLogP(mol))\n",
    "    return clogp"
   ]
  },
  {
   "cell_type": "markdown",
   "id": "f25a95ab",
   "metadata": {},
   "source": [
    "Read the Biogen solubility dataset"
   ]
  },
  {
   "cell_type": "code",
   "execution_count": 4,
   "id": "4d5f2ded",
   "metadata": {},
   "outputs": [],
   "source": [
    "df = pd.read_csv(\"biogen_solubility.csv\")"
   ]
  },
  {
   "cell_type": "markdown",
   "id": "c6e4a447",
   "metadata": {},
   "source": [
    "Add a molecule column to the dataframe"
   ]
  },
  {
   "cell_type": "code",
   "execution_count": 5,
   "id": "e8199b11",
   "metadata": {},
   "outputs": [],
   "source": [
    "df['mol'] = df.SMILES.apply(Chem.MolFromSmiles)"
   ]
  },
  {
   "cell_type": "markdown",
   "id": "491892f5",
   "metadata": {},
   "source": [
    "Calcluate the molecular descriptors"
   ]
  },
  {
   "cell_type": "code",
   "execution_count": 6,
   "id": "45b7e94e",
   "metadata": {},
   "outputs": [
    {
     "data": {
      "application/vnd.jupyter.widget-view+json": {
       "model_id": "9784030694f349c19364073724082926",
       "version_major": 2,
       "version_minor": 0
      },
      "text/plain": [
       "  0%|          | 0/2173 [00:00<?, ?it/s]"
      ]
     },
     "metadata": {},
     "output_type": "display_data"
    }
   ],
   "source": [
    "desc_df = rdkit_2d_calc(df.mol.values,Autocorr2D=False)"
   ]
  },
  {
   "cell_type": "markdown",
   "id": "04e21ede",
   "metadata": {},
   "source": [
    "Predict the melting point and add the predicted melting point to the dataframe"
   ]
  },
  {
   "cell_type": "code",
   "execution_count": 7,
   "id": "37b24f0c",
   "metadata": {},
   "outputs": [],
   "source": [
    "df['mp'] = xgb.predict(np.stack(desc_df.to_numpy()))"
   ]
  },
  {
   "cell_type": "markdown",
   "id": "53018cbe",
   "metadata": {},
   "source": [
    "Calculate CLogP for the molecules in the dataframe"
   ]
  },
  {
   "cell_type": "code",
   "execution_count": 8,
   "id": "ba17ec7d",
   "metadata": {},
   "outputs": [],
   "source": [
    "df['clogp'] = clogP_calc(df.mol.values)"
   ]
  },
  {
   "cell_type": "markdown",
   "id": "3b55f0a9",
   "metadata": {},
   "source": [
    "Calculate solubility using the GSE"
   ]
  },
  {
   "cell_type": "code",
   "execution_count": 9,
   "id": "e2b6b9ac",
   "metadata": {},
   "outputs": [],
   "source": [
    "df['pred_sol'] = 0.5 - 0.01 * (df.mp - 25 - 273.15) - df.clogp"
   ]
  },
  {
   "cell_type": "markdown",
   "id": "abb747a5",
   "metadata": {},
   "source": [
    "Plot the model performance"
   ]
  },
  {
   "cell_type": "code",
   "execution_count": 10,
   "id": "1af95f3c",
   "metadata": {},
   "outputs": [
    {
     "data": {
      "image/png": "[encoded data removed]",
      "text/plain": [
       "<Figure size 500x500 with 1 Axes>"
      ]
     },
     "metadata": {},
     "output_type": "display_data"
    }
   ],
   "source": [
    "plot_regression(df.logS,df.pred_sol)"
   ]
  },
  {
   "cell_type": "code",
   "execution_count": 11,
   "id": "8ae23d55",
   "metadata": {},
   "outputs": [],
   "source": [
    "df['GSE_residuals'] = df.logS - df.pred_sol"
   ]
  },
  {
   "cell_type": "code",
   "execution_count": 12,
   "id": "2648ef81",
   "metadata": {},
   "outputs": [
    {
     "data": {
      "text/html": [
       "<div>\n",
       "<style scoped>\n",
       "    .dataframe tbody tr th:only-of-type {\n",
       "        vertical-align: middle;\n",
       "    }\n",
       "\n",
       "    .dataframe tbody tr th {\n",
       "        vertical-align: top;\n",
       "    }\n",
       "\n",
       "    .dataframe thead th {\n",
       "        text-align: right;\n",
       "    }\n",
       "</style>\n",
       "<table border=\"1\" class=\"dataframe\">\n",
       "  <thead>\n",
       "    <tr style=\"text-align: right;\">\n",
       "      <th></th>\n",
       "      <th>Internal ID</th>\n",
       "      <th>Vendor ID</th>\n",
       "      <th>SMILES</th>\n",
       "      <th>logS</th>\n",
       "      <th>mol</th>\n",
       "      <th>mp</th>\n",
       "      <th>clogp</th>\n",
       "      <th>pred_sol</th>\n",
       "      <th>GSE_residuals</th>\n",
       "    </tr>\n",
       "  </thead>\n",
       "  <tbody>\n",
       "    <tr>\n",
       "      <th>0</th>\n",
       "      <td>Mol1</td>\n",
       "      <td>317714313</td>\n",
       "      <td>CNc1cc(Nc2cccn(-c3ccccn3)c2=O)nn2c(C(=O)N[C@@H...</td>\n",
       "      <td>-5.548020</td>\n",
       "      <td>&lt;rdkit.Chem.rdchem.Mol object at 0x295af07b0&gt;</td>\n",
       "      <td>510.062836</td>\n",
       "      <td>1.9007</td>\n",
       "      <td>-3.519828</td>\n",
       "      <td>-2.028191</td>\n",
       "    </tr>\n",
       "    <tr>\n",
       "      <th>1</th>\n",
       "      <td>Mol2</td>\n",
       "      <td>324056965</td>\n",
       "      <td>CCOc1cc2nn(CCC(C)(C)O)cc2cc1NC(=O)c1cccc(C(F)F)n1</td>\n",
       "      <td>-5.071409</td>\n",
       "      <td>&lt;rdkit.Chem.rdchem.Mol object at 0x295af0820&gt;</td>\n",
       "      <td>422.837921</td>\n",
       "      <td>4.1809</td>\n",
       "      <td>-4.927779</td>\n",
       "      <td>-0.143630</td>\n",
       "    </tr>\n",
       "  </tbody>\n",
       "</table>\n",
       "</div>"
      ],
      "text/plain": [
       "  Internal ID  Vendor ID                                             SMILES  \\\n",
       "0        Mol1  317714313  CNc1cc(Nc2cccn(-c3ccccn3)c2=O)nn2c(C(=O)N[C@@H...   \n",
       "1        Mol2  324056965  CCOc1cc2nn(CCC(C)(C)O)cc2cc1NC(=O)c1cccc(C(F)F)n1   \n",
       "\n",
       "       logS                                            mol          mp  \\\n",
       "0 -5.548020  <rdkit.Chem.rdchem.Mol object at 0x295af07b0>  510.062836   \n",
       "1 -5.071409  <rdkit.Chem.rdchem.Mol object at 0x295af0820>  422.837921   \n",
       "\n",
       "    clogp  pred_sol  GSE_residuals  \n",
       "0  1.9007 -3.519828      -2.028191  \n",
       "1  4.1809 -4.927779      -0.143630  "
      ]
     },
     "execution_count": 12,
     "metadata": {},
     "output_type": "execute_result"
    }
   ],
   "source": [
    "df.head(2)"
   ]
  },
  {
   "cell_type": "code",
   "execution_count": 13,
   "id": "1586965e-1a29-4d40-b4de-afedd64ab4f8",
   "metadata": {},
   "outputs": [],
   "source": [
    "df[['Internal ID','Vendor ID','SMILES','GSE_residuals']].to_csv(\"GSE_residuals.csv\",index=False)"
   ]
  },
  {
   "cell_type": "markdown",
   "id": "609dec8c-22f4-41b9-806b-63ac32002adf",
   "metadata": {},
   "source": [
    "Approximate the impact of errors in melting point and LogP on predictions using the GSE.  Let's assume the GSE generates perfect predictions.  What's the impact of a 30 degree error in melting point?  Let's assume that the GSE is a perfect predictor and examine the impact of the error. "
   ]
  },
  {
   "cell_type": "code",
   "execution_count": 14,
   "id": "e0165e09-4e52-41e9-b827-c91c2725e3b3",
   "metadata": {},
   "outputs": [],
   "source": [
    "test_vals = df[['mp','clogp']].values"
   ]
  },
  {
   "cell_type": "code",
   "execution_count": 15,
   "id": "e488320e-374c-40eb-88c9-4b0ba1ed2c79",
   "metadata": {},
   "outputs": [
    {
     "data": {
      "text/plain": [
       "0.22736249248509904"
      ]
     },
     "execution_count": 15,
     "metadata": {},
     "output_type": "execute_result"
    }
   ],
   "source": [
    "mp_sd = 30.0\n",
    "delta_list = []\n",
    "for i in range(0,1000):\n",
    "    i = np.random.choice(range(0,len(df)))\n",
    "    mp, clogp = test_vals[i]\n",
    "    logS_true = 0.5 - 0.01 * (mp - 25 - 273.15) - clogp\n",
    "    mp_err = np.random.normal(0,mp_sd)\n",
    "    logS_err = 0.5 - 0.01 * (mp+mp_err - 25 - 273.15) - clogp\n",
    "    delta_list.append(abs(logS_true - logS_err))\n",
    "np.mean(delta_list)"
   ]
  },
  {
   "cell_type": "code",
   "execution_count": 16,
   "id": "a7cbe8df-7f40-4c3a-a1be-c531b2e200dd",
   "metadata": {},
   "outputs": [
    {
     "data": {
      "text/plain": [
       "0.5247895782851699"
      ]
     },
     "execution_count": 16,
     "metadata": {},
     "output_type": "execute_result"
    }
   ],
   "source": [
    "clogp_sd = 0.677\n",
    "delta_list = []\n",
    "for i in range(0,1000):\n",
    "    i = np.random.choice(range(0,len(df)))\n",
    "    mp, clogp = test_vals[i]\n",
    "    logS_true = 0.5 - 0.01 * (mp - 25 - 273.15) - clogp\n",
    "    clogp_err = np.random.normal(0,clogp_sd)\n",
    "    logS_err = 0.5 - 0.01 * (mp - 25 - 273.15) - clogp + clogp_err\n",
    "    delta_list.append(abs(logS_true - logS_err))\n",
    "np.mean(delta_list)"
   ]
  },
  {
   "cell_type": "code",
   "execution_count": 17,
   "id": "6b881258-9c5a-43c3-8bda-b60f96ae9ea3",
   "metadata": {},
   "outputs": [
    {
     "data": {
      "text/plain": [
       "0.6076239432223449"
      ]
     },
     "execution_count": 17,
     "metadata": {},
     "output_type": "execute_result"
    }
   ],
   "source": [
    "delta_list = []\n",
    "for i in range(0,1000):\n",
    "    i = np.random.choice(range(0,len(df)))\n",
    "    mp, clogp = test_vals[i]\n",
    "    logS_true = 0.5 - 0.01 * (mp - 25 - 273.15) - clogp\n",
    "    mp_err = np.random.normal(0,mp_sd)\n",
    "    clogp_err = np.random.normal(0,clogp_sd)\n",
    "    logS_err = 0.5 - 0.01 * (mp + mp_err - 25 - 273.15) - clogp + clogp_err\n",
    "    delta_list.append(abs(logS_true - logS_err))\n",
    "np.mean(delta_list)"
   ]
  },
  {
   "cell_type": "code",
   "execution_count": null,
   "id": "de3c8514-4104-4604-8e05-f84f623bb6d2",
   "metadata": {},
   "outputs": [],
   "source": []
  },
  {
   "cell_type": "code",
   "execution_count": null,
   "id": "77a40412",
   "metadata": {},
   "outputs": [],
   "source": []
  }
 ],
 "metadata": {
  "kernelspec": {
   "display_name": "Python 3 (ipykernel)",
   "language": "python",
   "name": "python3"
  },
  "language_info": {
   "codemirror_mode": {
    "name": "ipython",
    "version": 3
   },
   "file_extension": ".py",
   "mimetype": "text/x-python",
   "name": "python",
   "nbconvert_exporter": "python",
   "pygments_lexer": "ipython3",
   "version": "3.8.16"
  }
 },
 "nbformat": 4,
 "nbformat_minor": 5
}
