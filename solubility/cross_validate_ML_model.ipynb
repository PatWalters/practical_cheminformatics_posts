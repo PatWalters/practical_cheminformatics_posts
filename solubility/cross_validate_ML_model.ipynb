{
 "cells": [
  {
   "cell_type": "markdown",
   "id": "89435d6b",
   "metadata": {},
   "source": [
    "In this notebook we'll split the Biogen solubility dataset into training and test sets.  We'll then use the training and test sets to build machine learning models. "
   ]
  },
  {
   "cell_type": "code",
   "execution_count": 1,
   "id": "c45e2d1c",
   "metadata": {},
   "outputs": [],
   "source": [
    "import pandas as pd\n",
    "import datamol as dm\n",
    "from molfeat.trans import MoleculeTransformer\n",
    "from sklearn.model_selection import train_test_split\n",
    "from lightgbm import LGBMRegressor, LGBMClassifier\n",
    "import numpy as np\n",
    "from scipy.stats import pearsonr\n",
    "from sklearn.metrics import mean_absolute_error\n",
    "import datamol as dm\n",
    "from helper import scaffold_split\n",
    "from tqdm.auto import tqdm\n",
    "import seaborn as sns\n",
    "import json\n",
    "from sklearn.metrics import roc_auc_score\n",
    "from sklearn.decomposition import PCA\n",
    "from sklearn.manifold import TSNE"
   ]
  },
  {
   "cell_type": "markdown",
   "id": "d0b758a6",
   "metadata": {},
   "source": [
    "Read the data"
   ]
  },
  {
   "cell_type": "code",
   "execution_count": 2,
   "id": "26de3a04",
   "metadata": {},
   "outputs": [
    {
     "data": {
      "text/plain": [
       "2173"
      ]
     },
     "execution_count": 2,
     "metadata": {},
     "output_type": "execute_result"
    }
   ],
   "source": [
    "df = pd.read_csv(\"biogen_solubility.csv\")\n",
    "len(df)"
   ]
  },
  {
   "cell_type": "markdown",
   "id": "cc096558",
   "metadata": {},
   "source": [
    "Look at the univariate statistics for LogS "
   ]
  },
  {
   "cell_type": "code",
   "execution_count": 3,
   "id": "e8af2c3f-3d38-441c-bcbe-e178bb772fbd",
   "metadata": {},
   "outputs": [
    {
     "data": {
      "text/plain": [
       "count    2173.000000\n",
       "mean       -4.236993\n",
       "std         0.709761\n",
       "min        -6.669644\n",
       "25%        -4.346474\n",
       "50%        -3.920755\n",
       "75%        -3.798661\n",
       "max        -3.188304\n",
       "Name: logS, dtype: float64"
      ]
     },
     "execution_count": 3,
     "metadata": {},
     "output_type": "execute_result"
    }
   ],
   "source": [
    "df.logS.describe()"
   ]
  },
  {
   "cell_type": "markdown",
   "id": "5b3c3fe2",
   "metadata": {},
   "source": [
    "Instantiate a transformer object to generate RDKit 2D descriptors"
   ]
  },
  {
   "cell_type": "code",
   "execution_count": 4,
   "id": "6a08ff8c",
   "metadata": {},
   "outputs": [],
   "source": [
    "transformer = MoleculeTransformer(featurizer='desc2D',dype=float)"
   ]
  },
  {
   "cell_type": "markdown",
   "id": "723fdebe",
   "metadata": {},
   "source": [
    "Generate the descriptors"
   ]
  },
  {
   "cell_type": "code",
   "execution_count": 5,
   "id": "fb32d4e0",
   "metadata": {},
   "outputs": [],
   "source": [
    "with dm.without_rdkit_log():\n",
    "    desc2D = transformer(df.SMILES.values)"
   ]
  },
  {
   "cell_type": "markdown",
   "id": "6ce492a9",
   "metadata": {},
   "source": [
    "Add the descriptors to the dataframe"
   ]
  },
  {
   "cell_type": "code",
   "execution_count": 6,
   "id": "952aa489",
   "metadata": {},
   "outputs": [],
   "source": [
    "df['desc2D'] = list(desc2D)"
   ]
  },
  {
   "cell_type": "markdown",
   "id": "14a4540e-a4fc-464a-ae71-9c18f4519871",
   "metadata": {},
   "source": [
    "Define a routine to perform adversarial validation. As we perform each regresssion fold, we'll also record the AUROC from the adversarial validation.  After that, we'll if we have a relationship between the adversarial AUCROC and Pearson's r or MAE."
   ]
  },
  {
   "cell_type": "code",
   "execution_count": 7,
   "id": "6f6a736a-e6b3-445a-81d9-a8ae3c7ffdd8",
   "metadata": {},
   "outputs": [],
   "source": [
    "def adversarial_validation(train_in, test_in):\n",
    "    train_in = train_in.copy()\n",
    "    test_in = test_in.copy()\n",
    "    train_in['label'] = 0\n",
    "    test_in['label'] = 1\n",
    "    tmp_df = pd.concat([train_in,test_in])\n",
    "    train, test = train_test_split(tmp_df)\n",
    "    lgbc = LGBMClassifier()\n",
    "    lgbc.fit(np.stack(train.desc2D),train.label)\n",
    "    pred = lgbc.predict(np.stack(test.desc2D))\n",
    "    auc = roc_auc_score(test.label,pred)\n",
    "    return auc    "
   ]
  },
  {
   "cell_type": "markdown",
   "id": "5c118063-d4e8-4abb-8ccc-26d194349bdc",
   "metadata": {},
   "source": [
    "Perform 10 folds of cross validation with random splits"
   ]
  },
  {
   "cell_type": "code",
   "execution_count": 8,
   "id": "07c83b7b",
   "metadata": {},
   "outputs": [
    {
     "data": {
      "application/vnd.jupyter.widget-view+json": {
       "model_id": "a2fde70aa5b149118eadb2145b88677a",
       "version_major": 2,
       "version_minor": 0
      },
      "text/plain": [
       "  0%|          | 0/10 [00:00<?, ?it/s]"
      ]
     },
     "metadata": {},
     "output_type": "display_data"
    }
   ],
   "source": [
    "random_split_res_list = []\n",
    "for i in tqdm(range(0,10)):\n",
    "    lgbm = LGBMRegressor()\n",
    "    train, test = train_test_split(df,random_state=i, test_size=0.2)\n",
    "    auc = adversarial_validation(train, test)\n",
    "    lgbm.fit(np.stack(train.desc2D),train.logS)\n",
    "    pred = lgbm.predict(np.stack(test.desc2D))    \n",
    "    r = pearsonr(test.logS, pred).statistic\n",
    "    mae = mean_absolute_error(test.logS, pred)\n",
    "    random_split_res_list.append([r, mae, auc])\n",
    "random_split_df = pd.DataFrame(random_split_res_list,columns=[\"r\",\"mae\",\"auc\"])\n",
    "random_split_df['method'] = 'random'"
   ]
  },
  {
   "cell_type": "markdown",
   "id": "97fcd33f",
   "metadata": {},
   "source": [
    "Perform 10 folds of cross validation with scaffold splits"
   ]
  },
  {
   "cell_type": "code",
   "execution_count": 9,
   "id": "c7cbbc96",
   "metadata": {},
   "outputs": [
    {
     "data": {
      "application/vnd.jupyter.widget-view+json": {
       "model_id": "74f21af92c784e1797d68648c38f9e12",
       "version_major": 2,
       "version_minor": 0
      },
      "text/plain": [
       "  0%|          | 0/10 [00:00<?, ?it/s]"
      ]
     },
     "metadata": {},
     "output_type": "display_data"
    }
   ],
   "source": [
    "scaffold_split_res_list = []\n",
    "for i in tqdm(range(0,10)):\n",
    "    lgbm = LGBMRegressor()\n",
    "    train_idx, test_idx = scaffold_split(df.SMILES,seed=i)\n",
    "    train = df.iloc[train_idx]\n",
    "    test = df.iloc[test_idx]\n",
    "    auc = adversarial_validation(train, test)\n",
    "    lgbm.fit(np.stack(train.desc2D),train.logS)\n",
    "    pred = lgbm.predict(np.stack(test.desc2D))    \n",
    "    r = pearsonr(test.logS, pred).statistic\n",
    "    mae = mean_absolute_error(test.logS, pred)\n",
    "    scaffold_split_res_list.append([r, mae, auc])\n",
    "scaffold_split_df = pd.DataFrame(scaffold_split_res_list, columns=[\"r\",\"mae\",\"auc\"])\n",
    "scaffold_split_df['method'] = 'scaffold'"
   ]
  },
  {
   "cell_type": "markdown",
   "id": "003a0ef2-2bed-4a4a-9b07-c39c7d01d864",
   "metadata": {},
   "source": [
    "Read the SIMPD splits from disk"
   ]
  },
  {
   "cell_type": "code",
   "execution_count": 10,
   "id": "a4d68344-d74d-4b19-9083-7ea7edb941eb",
   "metadata": {},
   "outputs": [],
   "source": [
    "simpd_fs = open(\"SIMPD_splits.json\")\n",
    "simpd_splits = json.load(simpd_fs)\n",
    "simpd_train = simpd_splits['train']\n",
    "simpd_test = simpd_splits['test']"
   ]
  },
  {
   "cell_type": "markdown",
   "id": "1f4c7438-d1d8-4125-be20-160211cc8854",
   "metadata": {},
   "source": [
    "Perform 10 folds of cross validation with SIMPD splits"
   ]
  },
  {
   "cell_type": "code",
   "execution_count": 11,
   "id": "e020c7fa-cc81-443e-a8b0-7b2696acf20c",
   "metadata": {},
   "outputs": [
    {
     "data": {
      "application/vnd.jupyter.widget-view+json": {
       "model_id": "5d48b34df7d748f69ccc98647d7f455e",
       "version_major": 2,
       "version_minor": 0
      },
      "text/plain": [
       "  0%|          | 0/10 [00:00<?, ?it/s]"
      ]
     },
     "metadata": {},
     "output_type": "display_data"
    }
   ],
   "source": [
    "simpd_split_res_list = []\n",
    "for i in tqdm(range(0,10)):\n",
    "    lgbm = LGBMRegressor()\n",
    "    train_idx = simpd_train[i]\n",
    "    test_idx = simpd_test[i]\n",
    "    train = df.iloc[train_idx]\n",
    "    test = df.iloc[test_idx]\n",
    "    auc = adversarial_validation(train, test)\n",
    "    lgbm.fit(np.stack(train.desc2D),train.logS)\n",
    "    pred = lgbm.predict(np.stack(test.desc2D))    \n",
    "    r = pearsonr(test.logS, pred).statistic\n",
    "    mae = mean_absolute_error(test.logS, pred)\n",
    "    simpd_split_res_list.append([r, mae, auc])\n",
    "simpd_split_df = pd.DataFrame(simpd_split_res_list, columns=[\"r\",\"mae\",\"auc\"])\n",
    "simpd_split_df['method'] = 'simpd'"
   ]
  },
  {
   "cell_type": "code",
   "execution_count": 12,
   "id": "7da9dafb",
   "metadata": {},
   "outputs": [
    {
     "data": {
      "image/png": "[encoded data removed]",
      "text/plain": [
       "<Figure size 500x500 with 1 Axes>"
      ]
     },
     "metadata": {},
     "output_type": "display_data"
    }
   ],
   "source": [
    "from plot_regression import plot_regression\n",
    "\n",
    "plot_regression(test.logS, pred)"
   ]
  },
  {
   "cell_type": "markdown",
   "id": "577f8dab",
   "metadata": {},
   "source": [
    "Combine the results from the ML models into one dataframe"
   ]
  },
  {
   "cell_type": "code",
   "execution_count": null,
   "id": "223a2d79",
   "metadata": {},
   "outputs": [],
   "source": [
    "combo_df = pd.concat([random_split_df, scaffold_split_df, simpd_split_df])"
   ]
  },
  {
   "cell_type": "markdown",
   "id": "998c15ea",
   "metadata": {},
   "source": [
    "Plot the comparison"
   ]
  },
  {
   "cell_type": "markdown",
   "id": "6a3764c2-62b6-42ce-8a79-9a554869b61d",
   "metadata": {},
   "source": [
    "Plot distributions for Pearson's r for the 3 different split methods. "
   ]
  },
  {
   "cell_type": "code",
   "execution_count": null,
   "id": "1f75b5cb",
   "metadata": {},
   "outputs": [],
   "source": [
    "sns.set_context('notebook')\n",
    "ax = sns.boxplot(x=\"method\",y=\"r\",data=combo_df)\n",
    "#ax = sns.kdeplot(x=\"r\",hue='method',data=combo_df)\n",
    "ax.set_title(\"Comparing Pearson's r\")\n",
    "ax.set_xlabel(\"Split Method\")"
   ]
  },
  {
   "cell_type": "markdown",
   "id": "9a62c0cf-0c4a-4a6c-9550-b670a506da83",
   "metadata": {},
   "source": [
    "Plot distributions for MAE r for the 3 different split methods. "
   ]
  },
  {
   "cell_type": "code",
   "execution_count": null,
   "id": "4d4c864a",
   "metadata": {},
   "outputs": [],
   "source": [
    "sns.set_context('notebook')\n",
    "ax = sns.boxplot(x=\"method\",y=\"mae\",data=combo_df)\n",
    "#ax = sns.kdeplot(x=\"mae\",hue='method',data=combo_df)\n",
    "ax.set_title(\"Comparing MAE\");\n",
    "ax.set_xlabel(\"Split Method\")\n",
    "ax.set_ylabel(\"MAE\")"
   ]
  },
  {
   "cell_type": "markdown",
   "id": "35926ab1-616c-4012-b646-52898ad7c2dd",
   "metadata": {},
   "source": [
    "Plot the relationship between AUC from adversarial validation and Pearson's r.  There seems to be a rough relationship for the random and SIMPD splits.  I don't see a relationship for the scaffold splits.   This is tough to call give the narrow range for AUROC and r. "
   ]
  },
  {
   "cell_type": "code",
   "execution_count": null,
   "id": "473755cd",
   "metadata": {},
   "outputs": [],
   "source": [
    "sns.scatterplot(x=\"auc\", y=\"r\", hue=\"method\", data=combo_df);"
   ]
  },
  {
   "cell_type": "markdown",
   "id": "ec0842f5-3d32-4534-bf49-7cbb7486bc97",
   "metadata": {},
   "source": [
    "Plot the relationship between AUC from adversarial validation and MAE. I don't see a relationship here. "
   ]
  },
  {
   "cell_type": "code",
   "execution_count": null,
   "id": "a04b1b9a-1c23-430e-9d1c-ed98402752f3",
   "metadata": {},
   "outputs": [],
   "source": [
    "sns.scatterplot(x=\"auc\", y=\"mae\", hue=\"method\", data=combo_df);"
   ]
  },
  {
   "cell_type": "markdown",
   "id": "51473c93",
   "metadata": {},
   "source": [
    "Make boxplots of the AUROC for adversarial validation for the three splitting methods. "
   ]
  },
  {
   "cell_type": "code",
   "execution_count": null,
   "id": "2b4a6bbd-0ada-4adc-9777-6d75e1130954",
   "metadata": {},
   "outputs": [],
   "source": [
    "ax = sns.boxplot(x=\"method\",y=\"auc\",data=combo_df)\n",
    "ax.set_xlabel(\"Split Method\")\n",
    "ax.set_ylabel(\"AUC\")"
   ]
  },
  {
   "cell_type": "markdown",
   "id": "a28e1c41",
   "metadata": {},
   "source": [
    "Examine the range of MAE for the SIMPD splits. "
   ]
  },
  {
   "cell_type": "code",
   "execution_count": null,
   "id": "80122c91-6723-4a7c-85c1-931eaa7852a3",
   "metadata": {},
   "outputs": [],
   "source": [
    "combo_df.query(\"method == 'simpd'\").mae.describe()"
   ]
  },
  {
   "cell_type": "markdown",
   "id": "d7ff0499",
   "metadata": {},
   "source": [
    "Examine the range of Pearson's r for the SIMPD splits. "
   ]
  },
  {
   "cell_type": "code",
   "execution_count": null,
   "id": "f4f37fc5-9da8-4539-892f-bf95fa3b94e2",
   "metadata": {},
   "outputs": [],
   "source": [
    "combo_df.query(\"method == 'simpd'\").r.describe()"
   ]
  },
  {
   "cell_type": "markdown",
   "id": "a6322b1e",
   "metadata": {},
   "source": [
    "Examine the magnitude of the MAE if we simply pick a random value between -7 and -3. "
   ]
  },
  {
   "cell_type": "code",
   "execution_count": null,
   "id": "62626561-82ff-46cf-9915-79415c105e8c",
   "metadata": {},
   "outputs": [],
   "source": [
    "guess_list = []\n",
    "for i in range(0,1000):\n",
    "    df['guess'] = np.random.uniform(-7,-3)\n",
    "    guess_list.append(mean_absolute_error(df.logS,df.guess))\n",
    "pd.Series(guess_list).describe()"
   ]
  },
  {
   "cell_type": "code",
   "execution_count": null,
   "id": "5ad40837-f7f6-478e-88c6-765ebec6feae",
   "metadata": {},
   "outputs": [],
   "source": []
  }
 ],
 "metadata": {
  "kernelspec": {
   "display_name": "Python 3 (ipykernel)",
   "language": "python",
   "name": "python3"
  },
  "language_info": {
   "codemirror_mode": {
    "name": "ipython",
    "version": 3
   },
   "file_extension": ".py",
   "mimetype": "text/x-python",
   "name": "python",
   "nbconvert_exporter": "python",
   "pygments_lexer": "ipython3",
   "version": "3.8.16"
  }
 },
 "nbformat": 4,
 "nbformat_minor": 5
}
