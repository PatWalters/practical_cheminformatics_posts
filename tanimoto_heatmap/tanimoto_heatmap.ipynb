{
 "cells": [
  {
   "cell_type": "code",
   "execution_count": 37,
   "id": "b463fa58-5780-47cc-83c7-3a1d3510f8d5",
   "metadata": {},
   "outputs": [],
   "source": [
    "import pandas as pd\n",
    "import seaborn as sns\n",
    "import useful_rdkit_utils as uru\n",
    "from scipy.cluster.hierarchy import linkage\n",
    "from scipy.spatial.distance import pdist\n",
    "import numpy as np\n",
    "import matplotlib.pyplot as plt"
   ]
  },
  {
   "cell_type": "markdown",
   "id": "3e382a9b-069e-46c7-8a61-257792d08b0a",
   "metadata": {},
   "source": [
    "Read some data.  This is a subset of the [Drewry dataset on Polaris](https://polarishub.io/datasets/polaris/drewry2017-pkis2-subset-v2). For simplicity, we'll just grab 20 rows. "
   ]
  },
  {
   "cell_type": "code",
   "execution_count": 51,
   "id": "2504d04a-de78-42bc-8796-7b67d15a9c64",
   "metadata": {},
   "outputs": [],
   "source": [
    "df = pd.read_csv(\"drewry_test.csv\")\n",
    "df = df.sample(20)"
   ]
  },
  {
   "cell_type": "markdown",
   "id": "95d7282a-4655-4060-8cb3-e73b82956e21",
   "metadata": {},
   "source": [
    "Define the columns we'll use in the heatmap. "
   ]
  },
  {
   "cell_type": "code",
   "execution_count": 52,
   "id": "04389efc-ddc4-43e9-b1e4-f9b09d983a11",
   "metadata": {},
   "outputs": [],
   "source": [
    "cols = ['EGFR', 'KIT', 'RET', 'LOK']"
   ]
  },
  {
   "cell_type": "markdown",
   "id": "0dd96446-f119-4eef-9ddc-87525d07cdb0",
   "metadata": {},
   "source": [
    "View the data. The EGFR, KIT, RET, and LOK columns are % inhibition.  The cluster column is from a previous butina clsutering run. "
   ]
  },
  {
   "cell_type": "code",
   "execution_count": 53,
   "id": "193b1127-c781-475e-baf6-c582e9c022b3",
   "metadata": {},
   "outputs": [
    {
     "data": {
      "text/html": [
       "<div>\n",
       "<style scoped>\n",
       "    .dataframe tbody tr th:only-of-type {\n",
       "        vertical-align: middle;\n",
       "    }\n",
       "\n",
       "    .dataframe tbody tr th {\n",
       "        vertical-align: top;\n",
       "    }\n",
       "\n",
       "    .dataframe thead th {\n",
       "        text-align: right;\n",
       "    }\n",
       "</style>\n",
       "<table border=\"1\" class=\"dataframe\">\n",
       "  <thead>\n",
       "    <tr style=\"text-align: right;\">\n",
       "      <th></th>\n",
       "      <th>SMILES</th>\n",
       "      <th>EGFR</th>\n",
       "      <th>KIT</th>\n",
       "      <th>RET</th>\n",
       "      <th>LOK</th>\n",
       "      <th>cluster</th>\n",
       "    </tr>\n",
       "  </thead>\n",
       "  <tbody>\n",
       "    <tr>\n",
       "      <th>66</th>\n",
       "      <td>COc1ccc(Nc2nccc(N3CCC(NC(=O)C(C)c4ccc(Cl)cc4)C...</td>\n",
       "      <td>14.0</td>\n",
       "      <td>31.0</td>\n",
       "      <td>2.0</td>\n",
       "      <td>0.0</td>\n",
       "      <td>0</td>\n",
       "    </tr>\n",
       "    <tr>\n",
       "      <th>31</th>\n",
       "      <td>Nc1nc(-c2ccc3c(N)n[nH]c3c2)cc(N2CCCCC2)n1</td>\n",
       "      <td>3.0</td>\n",
       "      <td>5.0</td>\n",
       "      <td>1.0</td>\n",
       "      <td>0.0</td>\n",
       "      <td>3</td>\n",
       "    </tr>\n",
       "    <tr>\n",
       "      <th>68</th>\n",
       "      <td>COc1ccc(Nc2nccc(N3CCC(NC(=O)Nc4ccc5c(c4)OCO5)C...</td>\n",
       "      <td>25.0</td>\n",
       "      <td>48.0</td>\n",
       "      <td>9.0</td>\n",
       "      <td>0.0</td>\n",
       "      <td>0</td>\n",
       "    </tr>\n",
       "    <tr>\n",
       "      <th>7</th>\n",
       "      <td>CNc1nccc(-c2ccc3c(N)n[nH]c3c2)n1</td>\n",
       "      <td>25.0</td>\n",
       "      <td>57.0</td>\n",
       "      <td>80.0</td>\n",
       "      <td>23.0</td>\n",
       "      <td>3</td>\n",
       "    </tr>\n",
       "    <tr>\n",
       "      <th>74</th>\n",
       "      <td>COc1ccc(Nc2nccc(N3CCC(NS(=O)(=O)c4ccc(NC(C)=O)...</td>\n",
       "      <td>36.0</td>\n",
       "      <td>9.0</td>\n",
       "      <td>28.0</td>\n",
       "      <td>14.0</td>\n",
       "      <td>0</td>\n",
       "    </tr>\n",
       "    <tr>\n",
       "      <th>13</th>\n",
       "      <td>COc1cccc(C2=C(Nc3cccc(Cl)c3)C(=O)NC2=O)c1</td>\n",
       "      <td>25.0</td>\n",
       "      <td>14.0</td>\n",
       "      <td>37.0</td>\n",
       "      <td>9.0</td>\n",
       "      <td>1</td>\n",
       "    </tr>\n",
       "    <tr>\n",
       "      <th>86</th>\n",
       "      <td>O=C(Nc1ccccc1F)NC1CCN(c2ccnc(Nc3ccc(F)cc3)n2)C1</td>\n",
       "      <td>0.0</td>\n",
       "      <td>5.0</td>\n",
       "      <td>8.0</td>\n",
       "      <td>0.0</td>\n",
       "      <td>0</td>\n",
       "    </tr>\n",
       "    <tr>\n",
       "      <th>21</th>\n",
       "      <td>C[C@@H]1CC[C@H](C(=O)NC2CCCCC2)CN1c1cc(-c2ccc3...</td>\n",
       "      <td>45.0</td>\n",
       "      <td>27.0</td>\n",
       "      <td>53.0</td>\n",
       "      <td>0.0</td>\n",
       "      <td>3</td>\n",
       "    </tr>\n",
       "    <tr>\n",
       "      <th>83</th>\n",
       "      <td>Cn1cncc1C(=O)NC1CCN(c2ccnc(Nc3ccc(F)cc3)n2)C1</td>\n",
       "      <td>15.0</td>\n",
       "      <td>17.0</td>\n",
       "      <td>0.0</td>\n",
       "      <td>0.0</td>\n",
       "      <td>0</td>\n",
       "    </tr>\n",
       "    <tr>\n",
       "      <th>11</th>\n",
       "      <td>COc1cccc(C2=C(Nc3ccc(Cl)c(C(=O)O)c3)C(=O)NC2=O)c1</td>\n",
       "      <td>24.0</td>\n",
       "      <td>6.0</td>\n",
       "      <td>11.0</td>\n",
       "      <td>0.0</td>\n",
       "      <td>1</td>\n",
       "    </tr>\n",
       "    <tr>\n",
       "      <th>2</th>\n",
       "      <td>CC(C)c1cc(-c2ccc3c(N)n[nH]c3c2)nc(N)n1</td>\n",
       "      <td>17.0</td>\n",
       "      <td>9.0</td>\n",
       "      <td>0.0</td>\n",
       "      <td>0.0</td>\n",
       "      <td>3</td>\n",
       "    </tr>\n",
       "    <tr>\n",
       "      <th>24</th>\n",
       "      <td>Nc1nc(-c2ccc3c(N)n[nH]c3c2)cc(N2CCCC(NC(=O)c3c...</td>\n",
       "      <td>28.0</td>\n",
       "      <td>18.0</td>\n",
       "      <td>0.0</td>\n",
       "      <td>0.0</td>\n",
       "      <td>3</td>\n",
       "    </tr>\n",
       "    <tr>\n",
       "      <th>58</th>\n",
       "      <td>COc1cc(Nc2nccc(N3CCC(NC(=O)Nc4cccc(C(C)=O)c4)C...</td>\n",
       "      <td>22.0</td>\n",
       "      <td>86.0</td>\n",
       "      <td>0.0</td>\n",
       "      <td>20.0</td>\n",
       "      <td>0</td>\n",
       "    </tr>\n",
       "    <tr>\n",
       "      <th>84</th>\n",
       "      <td>O=C(Nc1ccc2c(c1)OCO2)NC1CCN(c2ccnc(NCc3ccc(F)c...</td>\n",
       "      <td>44.0</td>\n",
       "      <td>2.0</td>\n",
       "      <td>21.0</td>\n",
       "      <td>0.0</td>\n",
       "      <td>0</td>\n",
       "    </tr>\n",
       "    <tr>\n",
       "      <th>35</th>\n",
       "      <td>Nc1nc(-c2ccc3c(N)n[nH]c3c2)cc(N2CCC[C@@H](C(=O...</td>\n",
       "      <td>24.0</td>\n",
       "      <td>25.0</td>\n",
       "      <td>0.0</td>\n",
       "      <td>0.0</td>\n",
       "      <td>3</td>\n",
       "    </tr>\n",
       "    <tr>\n",
       "      <th>44</th>\n",
       "      <td>CC(C(=O)NC1CCN(c2ccnc(Nc3ccc(F)cc3)n2)C1)c1ccc...</td>\n",
       "      <td>28.0</td>\n",
       "      <td>10.0</td>\n",
       "      <td>0.0</td>\n",
       "      <td>0.0</td>\n",
       "      <td>0</td>\n",
       "    </tr>\n",
       "    <tr>\n",
       "      <th>22</th>\n",
       "      <td>C[C@@H]1CC[C@@H](C(=O)Nc2ccccc2)CN1c1cc(-c2ccc...</td>\n",
       "      <td>43.0</td>\n",
       "      <td>18.0</td>\n",
       "      <td>6.0</td>\n",
       "      <td>0.0</td>\n",
       "      <td>3</td>\n",
       "    </tr>\n",
       "    <tr>\n",
       "      <th>46</th>\n",
       "      <td>CCCc1ccc(S(=O)(=O)NC2CCN(c3ccnc(Nc4ccc(OC)cc4)...</td>\n",
       "      <td>32.0</td>\n",
       "      <td>37.0</td>\n",
       "      <td>28.0</td>\n",
       "      <td>0.0</td>\n",
       "      <td>0</td>\n",
       "    </tr>\n",
       "    <tr>\n",
       "      <th>72</th>\n",
       "      <td>COc1ccc(Nc2nccc(N3CCC(NC(=O)c4cccc(NC(C)=O)c4)...</td>\n",
       "      <td>16.0</td>\n",
       "      <td>7.0</td>\n",
       "      <td>0.0</td>\n",
       "      <td>0.0</td>\n",
       "      <td>0</td>\n",
       "    </tr>\n",
       "    <tr>\n",
       "      <th>19</th>\n",
       "      <td>CSc1ccc(NC2=C(c3cccc(Cl)c3)C(=O)NC2=O)cc1</td>\n",
       "      <td>2.0</td>\n",
       "      <td>0.0</td>\n",
       "      <td>0.0</td>\n",
       "      <td>0.0</td>\n",
       "      <td>1</td>\n",
       "    </tr>\n",
       "  </tbody>\n",
       "</table>\n",
       "</div>"
      ],
      "text/plain": [
       "                                               SMILES  EGFR   KIT   RET   LOK  \\\n",
       "66  COc1ccc(Nc2nccc(N3CCC(NC(=O)C(C)c4ccc(Cl)cc4)C...  14.0  31.0   2.0   0.0   \n",
       "31          Nc1nc(-c2ccc3c(N)n[nH]c3c2)cc(N2CCCCC2)n1   3.0   5.0   1.0   0.0   \n",
       "68  COc1ccc(Nc2nccc(N3CCC(NC(=O)Nc4ccc5c(c4)OCO5)C...  25.0  48.0   9.0   0.0   \n",
       "7                    CNc1nccc(-c2ccc3c(N)n[nH]c3c2)n1  25.0  57.0  80.0  23.0   \n",
       "74  COc1ccc(Nc2nccc(N3CCC(NS(=O)(=O)c4ccc(NC(C)=O)...  36.0   9.0  28.0  14.0   \n",
       "13          COc1cccc(C2=C(Nc3cccc(Cl)c3)C(=O)NC2=O)c1  25.0  14.0  37.0   9.0   \n",
       "86    O=C(Nc1ccccc1F)NC1CCN(c2ccnc(Nc3ccc(F)cc3)n2)C1   0.0   5.0   8.0   0.0   \n",
       "21  C[C@@H]1CC[C@H](C(=O)NC2CCCCC2)CN1c1cc(-c2ccc3...  45.0  27.0  53.0   0.0   \n",
       "83      Cn1cncc1C(=O)NC1CCN(c2ccnc(Nc3ccc(F)cc3)n2)C1  15.0  17.0   0.0   0.0   \n",
       "11  COc1cccc(C2=C(Nc3ccc(Cl)c(C(=O)O)c3)C(=O)NC2=O)c1  24.0   6.0  11.0   0.0   \n",
       "2              CC(C)c1cc(-c2ccc3c(N)n[nH]c3c2)nc(N)n1  17.0   9.0   0.0   0.0   \n",
       "24  Nc1nc(-c2ccc3c(N)n[nH]c3c2)cc(N2CCCC(NC(=O)c3c...  28.0  18.0   0.0   0.0   \n",
       "58  COc1cc(Nc2nccc(N3CCC(NC(=O)Nc4cccc(C(C)=O)c4)C...  22.0  86.0   0.0  20.0   \n",
       "84  O=C(Nc1ccc2c(c1)OCO2)NC1CCN(c2ccnc(NCc3ccc(F)c...  44.0   2.0  21.0   0.0   \n",
       "35  Nc1nc(-c2ccc3c(N)n[nH]c3c2)cc(N2CCC[C@@H](C(=O...  24.0  25.0   0.0   0.0   \n",
       "44  CC(C(=O)NC1CCN(c2ccnc(Nc3ccc(F)cc3)n2)C1)c1ccc...  28.0  10.0   0.0   0.0   \n",
       "22  C[C@@H]1CC[C@@H](C(=O)Nc2ccccc2)CN1c1cc(-c2ccc...  43.0  18.0   6.0   0.0   \n",
       "46  CCCc1ccc(S(=O)(=O)NC2CCN(c3ccnc(Nc4ccc(OC)cc4)...  32.0  37.0  28.0   0.0   \n",
       "72  COc1ccc(Nc2nccc(N3CCC(NC(=O)c4cccc(NC(C)=O)c4)...  16.0   7.0   0.0   0.0   \n",
       "19          CSc1ccc(NC2=C(c3cccc(Cl)c3)C(=O)NC2=O)cc1   2.0   0.0   0.0   0.0   \n",
       "\n",
       "    cluster  \n",
       "66        0  \n",
       "31        3  \n",
       "68        0  \n",
       "7         3  \n",
       "74        0  \n",
       "13        1  \n",
       "86        0  \n",
       "21        3  \n",
       "83        0  \n",
       "11        1  \n",
       "2         3  \n",
       "24        3  \n",
       "58        0  \n",
       "84        0  \n",
       "35        3  \n",
       "44        0  \n",
       "22        3  \n",
       "46        0  \n",
       "72        0  \n",
       "19        1  "
      ]
     },
     "execution_count": 53,
     "metadata": {},
     "output_type": "execute_result"
    }
   ],
   "source": [
    "df"
   ]
  },
  {
   "cell_type": "markdown",
   "id": "840f3514-9186-4355-8cf3-efcee3b2722a",
   "metadata": {},
   "source": [
    "Plot the heatmap in the normal fashion, where we use the values in the heatmap cells to cluster. "
   ]
  },
  {
   "cell_type": "code",
   "execution_count": 46,
   "id": "1c50fed9-230f-403e-a53c-01762820559f",
   "metadata": {},
   "outputs": [
    {
     "data": {
      "image/png": "[encoded data removed]",
      "text/plain": [
       "<Figure size 1000x1000 with 4 Axes>"
      ]
     },
     "metadata": {},
     "output_type": "display_data"
    }
   ],
   "source": [
    "g = sns.clustermap(data=df[cols])"
   ]
  },
  {
   "cell_type": "markdown",
   "id": "809f2fbf-0a83-4a7b-898f-e66ba6103e81",
   "metadata": {},
   "source": [
    "Now we'll change this and use chemical similarity to cluster along the y-axis. "
   ]
  },
  {
   "cell_type": "code",
   "execution_count": 47,
   "id": "80196f8d-2e29-4568-8130-f8c8e99f180a",
   "metadata": {},
   "outputs": [],
   "source": [
    "smi2fp = uru.Smi2Fp()\n",
    "df['fp'] = df.SMILES.apply(smi2fp.get_np)"
   ]
  },
  {
   "cell_type": "markdown",
   "id": "0594d088-a4cd-4611-9d01-1c76ae0e8e60",
   "metadata": {},
   "source": [
    "Create a similarity matrix for the fingerprints the cluster the similarity matrix. "
   ]
  },
  {
   "cell_type": "code",
   "execution_count": 48,
   "id": "b51e56ff-4b9b-4749-b6a8-91d9993afc4b",
   "metadata": {},
   "outputs": [],
   "source": [
    "dist_mat = pdist(np.stack(df.fp),metric='jaccard')\n",
    "link_mat = linkage(dist_mat, optimal_ordering=True)"
   ]
  },
  {
   "cell_type": "markdown",
   "id": "c1aeee77-bfe4-49de-82d5-f90297584027",
   "metadata": {},
   "source": [
    "Plot the heatmap and put the clsuter id on the right axis as a check. "
   ]
  },
  {
   "cell_type": "code",
   "execution_count": 50,
   "id": "256125e6-78d9-42fe-adc8-64a02ab6db71",
   "metadata": {},
   "outputs": [
    {
     "data": {
      "image/png": "[encoded data removed]",
      "text/plain": [
       "<Figure size 1000x1000 with 4 Axes>"
      ]
     },
     "metadata": {},
     "output_type": "display_data"
    }
   ],
   "source": [
    "g = sns.clustermap(data=df[cols], row_linkage=link_mat)\n",
    "x = g.dendrogram_row.reordered_ind\n",
    "row_labels = df.cluster.values[g.dendrogram_row.reordered_ind]\n",
    "g.ax_heatmap.set(yticks=range(0,len(df)),yticklabels=row_labels)\n",
    "_ = plt.setp(g.ax_heatmap.yaxis.get_majorticklabels(), rotation=0)"
   ]
  },
  {
   "cell_type": "code",
   "execution_count": null,
   "id": "898fe854-85be-4c0f-a0ec-1338500be420",
   "metadata": {},
   "outputs": [],
   "source": []
  }
 ],
 "metadata": {
  "kernelspec": {
   "display_name": "Python 3 (ipykernel)",
   "language": "python",
   "name": "python3"
  },
  "language_info": {
   "codemirror_mode": {
    "name": "ipython",
    "version": 3
   },
   "file_extension": ".py",
   "mimetype": "text/x-python",
   "name": "python",
   "nbconvert_exporter": "python",
   "pygments_lexer": "ipython3",
   "version": "3.11.11"
  }
 },
 "nbformat": 4,
 "nbformat_minor": 5
}
