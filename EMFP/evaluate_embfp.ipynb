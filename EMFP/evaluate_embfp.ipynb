{
 "cells": [
  {
   "cell_type": "markdown",
   "id": "441cd290-dbd0-4978-bb0e-1cb2c5e5550f",
   "metadata": {},
   "source": [
    "### Evaluating Embedded Morgan Fingerprints\n",
    "\n",
    "The code in this notebook compares Embedded Morgan Fingerprints, as described in the paper [\"Embedded Morgan Fingerprints for more efficient molecular property predictions with machine learning\"](https://chemrxiv.org/engage/chemrxiv/article-details/685d5791c1cb1ecda07e0680)."
   ]
  },
  {
   "cell_type": "code",
   "execution_count": 1,
   "id": "8ac90b2d-9313-4c64-a67b-eac53c245324",
   "metadata": {},
   "outputs": [],
   "source": [
    "import polaris as po\n",
    "import useful_rdkit_utils as uru\n",
    "from embfp import convert_fp_to_embV2\n",
    "import numpy as np\n",
    "from tqdm.auto import tqdm\n",
    "from lightgbm import LGBMRegressor\n",
    "import warnings\n",
    "import  pandas as pd\n",
    "from sklearn.metrics import r2_score\n",
    "import seaborn as sns\n",
    "from statsmodels.stats.multicomp import pairwise_tukeyhsd\n",
    "import matplotlib.pyplot as plt"
   ]
  },
  {
   "cell_type": "markdown",
   "id": "615581a6-8cff-4ad0-a3be-e39b060cfe3e",
   "metadata": {},
   "source": [
    "Download the ADME-Fang dataset from [https://polarishub.io/](https://polarishub.io/)"
   ]
  },
  {
   "cell_type": "code",
   "execution_count": 2,
   "id": "1bc2918e-d376-4997-8bfd-41a8360692b0",
   "metadata": {},
   "outputs": [
    {
     "data": {
      "application/vnd.jupyter.widget-view+json": {
       "model_id": "97f8e0060fc945368a25650bc6e98f33",
       "version_major": 2,
       "version_minor": 0
      },
      "text/plain": [
       "Output()"
      ]
     },
     "metadata": {},
     "output_type": "display_data"
    },
    {
     "data": {
      "text/html": [
       "<pre style=\"white-space:pre;overflow-x:auto;line-height:normal;font-family:Menlo,'DejaVu Sans Mono',consolas,'Courier New',monospace\"><span style=\"color: #7fbfbf; text-decoration-color: #7fbfbf\">[2025-07-02 06:04:34] </span><span style=\"color: #000080; text-decoration-color: #000080\">INFO    </span> The version of Polaris that was used to create the artifact <span style=\"font-weight: bold\">(</span>dev<span style=\"font-weight: bold\">)</span> is <a href=\"file:///Users/pwalters/miniforge3/envs/rdkit_2025_01/lib/python3.11/site-packages/polaris/_artifact.py\" target=\"_blank\"><span style=\"color: #7f7f7f; text-decoration-color: #7f7f7f\">_artifact.py</span></a><span style=\"color: #7f7f7f; text-decoration-color: #7f7f7f\">:</span><a href=\"file:///Users/pwalters/miniforge3/envs/rdkit_2025_01/lib/python3.11/site-packages/polaris/_artifact.py#96\" target=\"_blank\"><span style=\"color: #7f7f7f; text-decoration-color: #7f7f7f\">96</span></a>\n",
       "<span style=\"color: #7fbfbf; text-decoration-color: #7fbfbf\">                      </span>         different from the currently installed version of Polaris <span style=\"font-weight: bold\">(</span><span style=\"color: #008080; text-decoration-color: #008080; font-weight: bold\">0.13</span>.<span style=\"color: #008080; text-decoration-color: #008080; font-weight: bold\">0</span><span style=\"font-weight: bold\">)</span>.  <span style=\"color: #7f7f7f; text-decoration-color: #7f7f7f\">               </span>\n",
       "</pre>\n"
      ],
      "text/plain": [
       "\u001b[2;36m[2025-07-02 06:04:34]\u001b[0m\u001b[2;36m \u001b[0m\u001b[34mINFO    \u001b[0m The version of Polaris that was used to create the artifact \u001b[1m(\u001b[0mdev\u001b[1m)\u001b[0m is \u001b]8;id=599256;file:///Users/pwalters/miniforge3/envs/rdkit_2025_01/lib/python3.11/site-packages/polaris/_artifact.py\u001b\\\u001b[2m_artifact.py\u001b[0m\u001b]8;;\u001b\\\u001b[2m:\u001b[0m\u001b]8;id=729899;file:///Users/pwalters/miniforge3/envs/rdkit_2025_01/lib/python3.11/site-packages/polaris/_artifact.py#96\u001b\\\u001b[2m96\u001b[0m\u001b]8;;\u001b\\\n",
       "\u001b[2;36m                      \u001b[0m         different from the currently installed version of Polaris \u001b[1m(\u001b[0m\u001b[1;36m0.13\u001b[0m.\u001b[1;36m0\u001b[0m\u001b[1m)\u001b[0m.  \u001b[2m               \u001b[0m\n"
      ]
     },
     "metadata": {},
     "output_type": "display_data"
    },
    {
     "data": {
      "text/html": [
       "<pre style=\"white-space:pre;overflow-x:auto;line-height:normal;font-family:Menlo,'DejaVu Sans Mono',consolas,'Courier New',monospace\"><span style=\"color: #7fbfbf; text-decoration-color: #7fbfbf\">                      </span><span style=\"color: #000080; text-decoration-color: #000080\">INFO    </span> To verify the checksum, we need to recompute it. This can be slow    <a href=\"file:///Users/pwalters/miniforge3/envs/rdkit_2025_01/lib/python3.11/site-packages/polaris/mixins/_checksum.py\" target=\"_blank\"><span style=\"color: #7f7f7f; text-decoration-color: #7f7f7f\">_checksum.py</span></a><span style=\"color: #7f7f7f; text-decoration-color: #7f7f7f\">:</span><a href=\"file:///Users/pwalters/miniforge3/envs/rdkit_2025_01/lib/python3.11/site-packages/polaris/mixins/_checksum.py#67\" target=\"_blank\"><span style=\"color: #7f7f7f; text-decoration-color: #7f7f7f\">67</span></a>\n",
       "<span style=\"color: #7fbfbf; text-decoration-color: #7fbfbf\">                      </span>         for large datasets.                                                  <span style=\"color: #7f7f7f; text-decoration-color: #7f7f7f\">               </span>\n",
       "</pre>\n"
      ],
      "text/plain": [
       "\u001b[2;36m                     \u001b[0m\u001b[2;36m \u001b[0m\u001b[34mINFO    \u001b[0m To verify the checksum, we need to recompute it. This can be slow    \u001b]8;id=140526;file:///Users/pwalters/miniforge3/envs/rdkit_2025_01/lib/python3.11/site-packages/polaris/mixins/_checksum.py\u001b\\\u001b[2m_checksum.py\u001b[0m\u001b]8;;\u001b\\\u001b[2m:\u001b[0m\u001b]8;id=480523;file:///Users/pwalters/miniforge3/envs/rdkit_2025_01/lib/python3.11/site-packages/polaris/mixins/_checksum.py#67\u001b\\\u001b[2m67\u001b[0m\u001b]8;;\u001b\\\n",
       "\u001b[2;36m                      \u001b[0m         for large datasets.                                                  \u001b[2m               \u001b[0m\n"
      ]
     },
     "metadata": {},
     "output_type": "display_data"
    },
    {
     "data": {
      "text/html": [
       "<pre style=\"white-space:pre;overflow-x:auto;line-height:normal;font-family:Menlo,'DejaVu Sans Mono',consolas,'Courier New',monospace\"><span style=\"color: #7fbfbf; text-decoration-color: #7fbfbf\">[06:04:34] </span><span style=\"color: #008000; text-decoration-color: #008000\"> Success: Fetching dataset</span>                                                                 <a href=\"file:///Users/pwalters/miniforge3/envs/rdkit_2025_01/lib/python3.11/site-packages/polaris/utils/context.py\" target=\"_blank\"><span style=\"color: #7f7f7f; text-decoration-color: #7f7f7f\">context.py</span></a><span style=\"color: #7f7f7f; text-decoration-color: #7f7f7f\">:</span><a href=\"file:///Users/pwalters/miniforge3/envs/rdkit_2025_01/lib/python3.11/site-packages/polaris/utils/context.py#53\" target=\"_blank\"><span style=\"color: #7f7f7f; text-decoration-color: #7f7f7f\">53</span></a>\n",
       "</pre>\n"
      ],
      "text/plain": [
       "\u001b[2;36m[06:04:34]\u001b[0m\u001b[2;36m \u001b[0m\u001b[32m Success: Fetching dataset\u001b[0m                                                                 \u001b]8;id=210332;file:///Users/pwalters/miniforge3/envs/rdkit_2025_01/lib/python3.11/site-packages/polaris/utils/context.py\u001b\\\u001b[2mcontext.py\u001b[0m\u001b]8;;\u001b\\\u001b[2m:\u001b[0m\u001b]8;id=847331;file:///Users/pwalters/miniforge3/envs/rdkit_2025_01/lib/python3.11/site-packages/polaris/utils/context.py#53\u001b\\\u001b[2m53\u001b[0m\u001b]8;;\u001b\\\n"
      ]
     },
     "metadata": {},
     "output_type": "display_data"
    },
    {
     "data": {
      "text/html": [
       "<pre style=\"white-space:pre;overflow-x:auto;line-height:normal;font-family:Menlo,'DejaVu Sans Mono',consolas,'Courier New',monospace\"></pre>\n"
      ],
      "text/plain": []
     },
     "metadata": {},
     "output_type": "display_data"
    }
   ],
   "source": [
    "ds = po.load_dataset(\"biogen/adme-fang-v1\")\n",
    "ref_df = ds.table\n",
    "ref_df.rename(columns={\"smiles\": \"SMILES\"}, inplace=True)\n",
    "y_list = [x for x in ref_df.columns if x.startswith(\"LOG\")]"
   ]
  },
  {
   "cell_type": "markdown",
   "id": "fac604e1-f720-44c0-8ed1-88ec152ab8cc",
   "metadata": {},
   "source": [
    "Calcluate Morgan fingerprints and embedded Morgan fingerprints with size = [8,16,32,64]"
   ]
  },
  {
   "cell_type": "code",
   "execution_count": 3,
   "id": "e49d3e62-37e6-4c3b-b4c9-4ec520d29009",
   "metadata": {},
   "outputs": [],
   "source": [
    "def calc_descriptors(df):\n",
    "    smi2fp = uru.Smi2Fp()\n",
    "    df['fp'] = df.SMILES.apply(smi2fp.get_np_counts)\n",
    "    for cmp in (8, 16, 32, 64):\n",
    "        df[f\"emb_{cmp:02d}\"] = convert_fp_to_embV2(np.stack(df.fp),cmp).tolist()"
   ]
  },
  {
   "cell_type": "markdown",
   "id": "85515604-5c83-4ca3-9202-3e6ea0095b01",
   "metadata": {},
   "source": [
    "Perform 5x5 cross validation.  Splits are performed using Butina clustering."
   ]
  },
  {
   "cell_type": "code",
   "execution_count": 4,
   "id": "48912988-925b-4972-806f-92b28bb9a2e6",
   "metadata": {},
   "outputs": [],
   "source": [
    "def cross_validate(df, y_col, desc_cols):\n",
    "    smi2fp = uru.Smi2Fp()\n",
    "    df['morgan'] = df.SMILES.apply(smi2fp.get_fp)\n",
    "    cluster_ids = uru.taylor_butina_clustering(df.morgan.values)\n",
    "    n_outer, n_inner = (5,5)\n",
    "    df_list = []\n",
    "    for i in tqdm(range(0,n_outer)):\n",
    "        kf = uru.GroupKFoldShuffle(n_splits=n_inner, shuffle=True)    \n",
    "        for j, [train_idx, test_idx] in enumerate(\n",
    "                    tqdm(kf.split(df, groups=cluster_ids), total=n_inner, desc=\"butina\", leave=False)):\n",
    "            train = df.iloc[train_idx]\n",
    "            test = df.iloc[test_idx]\n",
    "            out_df = test[[\"SMILES\"]].copy()\n",
    "            out_df[\"y_val\"] = test[y_col]\n",
    "            out_df[\"y_col\"] = y_col\n",
    "            out_df['cycle'] = n_outer * i + j\n",
    "            for desc in desc_cols:\n",
    "                with warnings.catch_warnings():\n",
    "                    warnings.simplefilter(\"ignore\")\n",
    "                    lgbm = LGBMRegressor(verbose=-1)\n",
    "                    lgbm.fit(np.stack(train[desc]),train[y_col])\n",
    "                    pred = lgbm.predict(np.stack(test[desc]))\n",
    "                out_df[desc] = pred\n",
    "            df_list.append(out_df)\n",
    "    return df_list"
   ]
  },
  {
   "cell_type": "markdown",
   "id": "a9f511d6-f781-4d64-96db-30f791f51b4c",
   "metadata": {},
   "source": [
    "Run the cross validation with all targets and all descriptors. "
   ]
  },
  {
   "cell_type": "code",
   "execution_count": 5,
   "id": "9f4fc8b8-fd46-4792-b77c-633e8ad5b7e1",
   "metadata": {},
   "outputs": [
    {
     "data": {
      "application/vnd.jupyter.widget-view+json": {
       "model_id": "9f73f2a681a54e568937770687b0d78d",
       "version_major": 2,
       "version_minor": 0
      },
      "text/plain": [
       "  0%|          | 0/5 [00:00<?, ?it/s]"
      ]
     },
     "metadata": {},
     "output_type": "display_data"
    },
    {
     "data": {
      "application/vnd.jupyter.widget-view+json": {
       "model_id": "b1052977b6c743b2a076c1def49cc8e8",
       "version_major": 2,
       "version_minor": 0
      },
      "text/plain": [
       "butina:   0%|          | 0/5 [00:00<?, ?it/s]"
      ]
     },
     "metadata": {},
     "output_type": "display_data"
    },
    {
     "data": {
      "application/vnd.jupyter.widget-view+json": {
       "model_id": "1764473f6112424e9f1642ebb1e46dc7",
       "version_major": 2,
       "version_minor": 0
      },
      "text/plain": [
       "butina:   0%|          | 0/5 [00:00<?, ?it/s]"
      ]
     },
     "metadata": {},
     "output_type": "display_data"
    },
    {
     "data": {
      "application/vnd.jupyter.widget-view+json": {
       "model_id": "b63fc306e05847f8b0da4826000c92c5",
       "version_major": 2,
       "version_minor": 0
      },
      "text/plain": [
       "butina:   0%|          | 0/5 [00:00<?, ?it/s]"
      ]
     },
     "metadata": {},
     "output_type": "display_data"
    },
    {
     "data": {
      "application/vnd.jupyter.widget-view+json": {
       "model_id": "3df29f2ada5f4f17ad3b682c5ba96491",
       "version_major": 2,
       "version_minor": 0
      },
      "text/plain": [
       "butina:   0%|          | 0/5 [00:00<?, ?it/s]"
      ]
     },
     "metadata": {},
     "output_type": "display_data"
    },
    {
     "data": {
      "application/vnd.jupyter.widget-view+json": {
       "model_id": "22b6610f5f194dd6b2139713572c87a3",
       "version_major": 2,
       "version_minor": 0
      },
      "text/plain": [
       "butina:   0%|          | 0/5 [00:00<?, ?it/s]"
      ]
     },
     "metadata": {},
     "output_type": "display_data"
    },
    {
     "data": {
      "application/vnd.jupyter.widget-view+json": {
       "model_id": "7f32b4ab438646408aa7ec9dbb75ea5b",
       "version_major": 2,
       "version_minor": 0
      },
      "text/plain": [
       "  0%|          | 0/5 [00:00<?, ?it/s]"
      ]
     },
     "metadata": {},
     "output_type": "display_data"
    },
    {
     "data": {
      "application/vnd.jupyter.widget-view+json": {
       "model_id": "870c7b01a2cb473db50559b7c65ec82e",
       "version_major": 2,
       "version_minor": 0
      },
      "text/plain": [
       "butina:   0%|          | 0/5 [00:00<?, ?it/s]"
      ]
     },
     "metadata": {},
     "output_type": "display_data"
    },
    {
     "data": {
      "application/vnd.jupyter.widget-view+json": {
       "model_id": "18bda526769c405793515dbb88debcd6",
       "version_major": 2,
       "version_minor": 0
      },
      "text/plain": [
       "butina:   0%|          | 0/5 [00:00<?, ?it/s]"
      ]
     },
     "metadata": {},
     "output_type": "display_data"
    },
    {
     "data": {
      "application/vnd.jupyter.widget-view+json": {
       "model_id": "8f0520a12c4a421f9e3c405e8f6e0418",
       "version_major": 2,
       "version_minor": 0
      },
      "text/plain": [
       "butina:   0%|          | 0/5 [00:00<?, ?it/s]"
      ]
     },
     "metadata": {},
     "output_type": "display_data"
    },
    {
     "data": {
      "application/vnd.jupyter.widget-view+json": {
       "model_id": "bae1ef90298c4110ac46f2648e203f3b",
       "version_major": 2,
       "version_minor": 0
      },
      "text/plain": [
       "butina:   0%|          | 0/5 [00:00<?, ?it/s]"
      ]
     },
     "metadata": {},
     "output_type": "display_data"
    },
    {
     "data": {
      "application/vnd.jupyter.widget-view+json": {
       "model_id": "95bff6ad5a04435182151e9e4298a8b1",
       "version_major": 2,
       "version_minor": 0
      },
      "text/plain": [
       "butina:   0%|          | 0/5 [00:00<?, ?it/s]"
      ]
     },
     "metadata": {},
     "output_type": "display_data"
    },
    {
     "data": {
      "application/vnd.jupyter.widget-view+json": {
       "model_id": "b467843ecfc942d082a25f2f32996bd1",
       "version_major": 2,
       "version_minor": 0
      },
      "text/plain": [
       "  0%|          | 0/5 [00:00<?, ?it/s]"
      ]
     },
     "metadata": {},
     "output_type": "display_data"
    },
    {
     "data": {
      "application/vnd.jupyter.widget-view+json": {
       "model_id": "dc21c604b382448b80e7ad726c363721",
       "version_major": 2,
       "version_minor": 0
      },
      "text/plain": [
       "butina:   0%|          | 0/5 [00:00<?, ?it/s]"
      ]
     },
     "metadata": {},
     "output_type": "display_data"
    },
    {
     "data": {
      "application/vnd.jupyter.widget-view+json": {
       "model_id": "0306ca92797949c9a2dcdcafde73687f",
       "version_major": 2,
       "version_minor": 0
      },
      "text/plain": [
       "butina:   0%|          | 0/5 [00:00<?, ?it/s]"
      ]
     },
     "metadata": {},
     "output_type": "display_data"
    },
    {
     "data": {
      "application/vnd.jupyter.widget-view+json": {
       "model_id": "ebe0cc4a9ffa4f7195d5c9353c8f84ae",
       "version_major": 2,
       "version_minor": 0
      },
      "text/plain": [
       "butina:   0%|          | 0/5 [00:00<?, ?it/s]"
      ]
     },
     "metadata": {},
     "output_type": "display_data"
    },
    {
     "data": {
      "application/vnd.jupyter.widget-view+json": {
       "model_id": "2c3d5ad807574a0b87f14b55ab3d03b1",
       "version_major": 2,
       "version_minor": 0
      },
      "text/plain": [
       "butina:   0%|          | 0/5 [00:00<?, ?it/s]"
      ]
     },
     "metadata": {},
     "output_type": "display_data"
    },
    {
     "data": {
      "application/vnd.jupyter.widget-view+json": {
       "model_id": "c79b87baac9e4340888470f4a30faad5",
       "version_major": 2,
       "version_minor": 0
      },
      "text/plain": [
       "butina:   0%|          | 0/5 [00:00<?, ?it/s]"
      ]
     },
     "metadata": {},
     "output_type": "display_data"
    },
    {
     "data": {
      "application/vnd.jupyter.widget-view+json": {
       "model_id": "e4a580a11beb408fa8ec339862ab6ac0",
       "version_major": 2,
       "version_minor": 0
      },
      "text/plain": [
       "  0%|          | 0/5 [00:00<?, ?it/s]"
      ]
     },
     "metadata": {},
     "output_type": "display_data"
    },
    {
     "data": {
      "application/vnd.jupyter.widget-view+json": {
       "model_id": "1e0605940c22449cbed25909ccbcd1cc",
       "version_major": 2,
       "version_minor": 0
      },
      "text/plain": [
       "butina:   0%|          | 0/5 [00:00<?, ?it/s]"
      ]
     },
     "metadata": {},
     "output_type": "display_data"
    },
    {
     "data": {
      "application/vnd.jupyter.widget-view+json": {
       "model_id": "6814212a58474ab3a32b608de77749b3",
       "version_major": 2,
       "version_minor": 0
      },
      "text/plain": [
       "butina:   0%|          | 0/5 [00:00<?, ?it/s]"
      ]
     },
     "metadata": {},
     "output_type": "display_data"
    },
    {
     "data": {
      "application/vnd.jupyter.widget-view+json": {
       "model_id": "2acfe291f8be43a88527dc80eefeb80c",
       "version_major": 2,
       "version_minor": 0
      },
      "text/plain": [
       "butina:   0%|          | 0/5 [00:00<?, ?it/s]"
      ]
     },
     "metadata": {},
     "output_type": "display_data"
    },
    {
     "data": {
      "application/vnd.jupyter.widget-view+json": {
       "model_id": "1369951a52e641899faf7f7969846607",
       "version_major": 2,
       "version_minor": 0
      },
      "text/plain": [
       "butina:   0%|          | 0/5 [00:00<?, ?it/s]"
      ]
     },
     "metadata": {},
     "output_type": "display_data"
    },
    {
     "data": {
      "application/vnd.jupyter.widget-view+json": {
       "model_id": "d07f5b09050b40978b36d5c2b203392b",
       "version_major": 2,
       "version_minor": 0
      },
      "text/plain": [
       "butina:   0%|          | 0/5 [00:00<?, ?it/s]"
      ]
     },
     "metadata": {},
     "output_type": "display_data"
    },
    {
     "data": {
      "application/vnd.jupyter.widget-view+json": {
       "model_id": "0a49939550cb475295046e7926316cac",
       "version_major": 2,
       "version_minor": 0
      },
      "text/plain": [
       "  0%|          | 0/5 [00:00<?, ?it/s]"
      ]
     },
     "metadata": {},
     "output_type": "display_data"
    },
    {
     "data": {
      "application/vnd.jupyter.widget-view+json": {
       "model_id": "865212fba5cd4fc9ac3a41588616a2b0",
       "version_major": 2,
       "version_minor": 0
      },
      "text/plain": [
       "butina:   0%|          | 0/5 [00:00<?, ?it/s]"
      ]
     },
     "metadata": {},
     "output_type": "display_data"
    },
    {
     "data": {
      "application/vnd.jupyter.widget-view+json": {
       "model_id": "86190c408e5d4dc59f6c4ab95099ee68",
       "version_major": 2,
       "version_minor": 0
      },
      "text/plain": [
       "butina:   0%|          | 0/5 [00:00<?, ?it/s]"
      ]
     },
     "metadata": {},
     "output_type": "display_data"
    },
    {
     "data": {
      "application/vnd.jupyter.widget-view+json": {
       "model_id": "5dc8e1434f424799a2d6cb457cf49dd3",
       "version_major": 2,
       "version_minor": 0
      },
      "text/plain": [
       "butina:   0%|          | 0/5 [00:00<?, ?it/s]"
      ]
     },
     "metadata": {},
     "output_type": "display_data"
    },
    {
     "data": {
      "application/vnd.jupyter.widget-view+json": {
       "model_id": "fda6058a8ad64a14a29f50d3639808f0",
       "version_major": 2,
       "version_minor": 0
      },
      "text/plain": [
       "butina:   0%|          | 0/5 [00:00<?, ?it/s]"
      ]
     },
     "metadata": {},
     "output_type": "display_data"
    },
    {
     "data": {
      "application/vnd.jupyter.widget-view+json": {
       "model_id": "99d0f53a1dd5418cafacdeafd6e23e36",
       "version_major": 2,
       "version_minor": 0
      },
      "text/plain": [
       "butina:   0%|          | 0/5 [00:00<?, ?it/s]"
      ]
     },
     "metadata": {},
     "output_type": "display_data"
    },
    {
     "data": {
      "application/vnd.jupyter.widget-view+json": {
       "model_id": "a6ff61d05a9a44039ce614a5e5bb7f63",
       "version_major": 2,
       "version_minor": 0
      },
      "text/plain": [
       "  0%|          | 0/5 [00:00<?, ?it/s]"
      ]
     },
     "metadata": {},
     "output_type": "display_data"
    },
    {
     "data": {
      "application/vnd.jupyter.widget-view+json": {
       "model_id": "ee97087a097c4b11967f1f9886a5a473",
       "version_major": 2,
       "version_minor": 0
      },
      "text/plain": [
       "butina:   0%|          | 0/5 [00:00<?, ?it/s]"
      ]
     },
     "metadata": {},
     "output_type": "display_data"
    },
    {
     "data": {
      "application/vnd.jupyter.widget-view+json": {
       "model_id": "ddfc2b3f4a3c42d5a3fef31d80aa278e",
       "version_major": 2,
       "version_minor": 0
      },
      "text/plain": [
       "butina:   0%|          | 0/5 [00:00<?, ?it/s]"
      ]
     },
     "metadata": {},
     "output_type": "display_data"
    },
    {
     "data": {
      "application/vnd.jupyter.widget-view+json": {
       "model_id": "dbbed451371043078124ae1fb4bd9beb",
       "version_major": 2,
       "version_minor": 0
      },
      "text/plain": [
       "butina:   0%|          | 0/5 [00:00<?, ?it/s]"
      ]
     },
     "metadata": {},
     "output_type": "display_data"
    },
    {
     "data": {
      "application/vnd.jupyter.widget-view+json": {
       "model_id": "b81cae0cdcbc41658a00c3fc7f99faa5",
       "version_major": 2,
       "version_minor": 0
      },
      "text/plain": [
       "butina:   0%|          | 0/5 [00:00<?, ?it/s]"
      ]
     },
     "metadata": {},
     "output_type": "display_data"
    },
    {
     "data": {
      "application/vnd.jupyter.widget-view+json": {
       "model_id": "a0b17d93c2e1402cb4946f255870f706",
       "version_major": 2,
       "version_minor": 0
      },
      "text/plain": [
       "butina:   0%|          | 0/5 [00:00<?, ?it/s]"
      ]
     },
     "metadata": {},
     "output_type": "display_data"
    }
   ],
   "source": [
    "desc_cols = ['fp','emb_08','emb_16', 'emb_32', 'emb_64']\n",
    "res_dict = {}\n",
    "for y in y_list:\n",
    "    df = ref_df.dropna(subset=[y]).copy()\n",
    "    calc_descriptors(df)\n",
    "    res = cross_validate(df, y, desc_cols)\n",
    "    res_dict[y] = res"
   ]
  },
  {
   "cell_type": "markdown",
   "id": "67ea5c5d-d8ba-442a-a228-c2931dfe7ed3",
   "metadata": {},
   "source": [
    "Collect the results"
   ]
  },
  {
   "cell_type": "code",
   "execution_count": 6,
   "id": "1539ce08-ae83-4538-bd01-51eeca29586a",
   "metadata": {},
   "outputs": [],
   "source": [
    "df_list = []\n",
    "for y in y_list:\n",
    "    df_list.append(pd.concat(res_dict[y]))\n",
    "combo_df = pd.concat(df_list)"
   ]
  },
  {
   "cell_type": "markdown",
   "id": "e9137fe2-b54a-4d67-be03-26f16f5927c0",
   "metadata": {},
   "source": [
    "Calculate R<sup>2</sup> statistics. "
   ]
  },
  {
   "cell_type": "code",
   "execution_count": 7,
   "id": "67a710d0-ca8f-4782-bb36-62aefc220864",
   "metadata": {},
   "outputs": [
    {
     "data": {
      "text/html": [
       "<div>\n",
       "<style scoped>\n",
       "    .dataframe tbody tr th:only-of-type {\n",
       "        vertical-align: middle;\n",
       "    }\n",
       "\n",
       "    .dataframe tbody tr th {\n",
       "        vertical-align: top;\n",
       "    }\n",
       "\n",
       "    .dataframe thead th {\n",
       "        text-align: right;\n",
       "    }\n",
       "</style>\n",
       "<table border=\"1\" class=\"dataframe\">\n",
       "  <thead>\n",
       "    <tr style=\"text-align: right;\">\n",
       "      <th></th>\n",
       "      <th>y_col</th>\n",
       "      <th>cycle</th>\n",
       "      <th>desc</th>\n",
       "      <th>r2</th>\n",
       "    </tr>\n",
       "  </thead>\n",
       "  <tbody>\n",
       "    <tr>\n",
       "      <th>0</th>\n",
       "      <td>LOG_HLM_CLint</td>\n",
       "      <td>0</td>\n",
       "      <td>fp</td>\n",
       "      <td>0.338888</td>\n",
       "    </tr>\n",
       "    <tr>\n",
       "      <th>1</th>\n",
       "      <td>LOG_HLM_CLint</td>\n",
       "      <td>0</td>\n",
       "      <td>emb_08</td>\n",
       "      <td>0.279609</td>\n",
       "    </tr>\n",
       "    <tr>\n",
       "      <th>2</th>\n",
       "      <td>LOG_HLM_CLint</td>\n",
       "      <td>0</td>\n",
       "      <td>emb_16</td>\n",
       "      <td>0.226525</td>\n",
       "    </tr>\n",
       "    <tr>\n",
       "      <th>3</th>\n",
       "      <td>LOG_HLM_CLint</td>\n",
       "      <td>0</td>\n",
       "      <td>emb_32</td>\n",
       "      <td>0.178590</td>\n",
       "    </tr>\n",
       "    <tr>\n",
       "      <th>4</th>\n",
       "      <td>LOG_HLM_CLint</td>\n",
       "      <td>0</td>\n",
       "      <td>emb_64</td>\n",
       "      <td>0.106359</td>\n",
       "    </tr>\n",
       "    <tr>\n",
       "      <th>...</th>\n",
       "      <td>...</td>\n",
       "      <td>...</td>\n",
       "      <td>...</td>\n",
       "      <td>...</td>\n",
       "    </tr>\n",
       "    <tr>\n",
       "      <th>745</th>\n",
       "      <td>LOG_SOLUBILITY</td>\n",
       "      <td>24</td>\n",
       "      <td>fp</td>\n",
       "      <td>0.249957</td>\n",
       "    </tr>\n",
       "    <tr>\n",
       "      <th>746</th>\n",
       "      <td>LOG_SOLUBILITY</td>\n",
       "      <td>24</td>\n",
       "      <td>emb_08</td>\n",
       "      <td>0.132478</td>\n",
       "    </tr>\n",
       "    <tr>\n",
       "      <th>747</th>\n",
       "      <td>LOG_SOLUBILITY</td>\n",
       "      <td>24</td>\n",
       "      <td>emb_16</td>\n",
       "      <td>0.184346</td>\n",
       "    </tr>\n",
       "    <tr>\n",
       "      <th>748</th>\n",
       "      <td>LOG_SOLUBILITY</td>\n",
       "      <td>24</td>\n",
       "      <td>emb_32</td>\n",
       "      <td>0.073331</td>\n",
       "    </tr>\n",
       "    <tr>\n",
       "      <th>749</th>\n",
       "      <td>LOG_SOLUBILITY</td>\n",
       "      <td>24</td>\n",
       "      <td>emb_64</td>\n",
       "      <td>0.090883</td>\n",
       "    </tr>\n",
       "  </tbody>\n",
       "</table>\n",
       "<p>750 rows × 4 columns</p>\n",
       "</div>"
      ],
      "text/plain": [
       "              y_col  cycle    desc        r2\n",
       "0     LOG_HLM_CLint      0      fp  0.338888\n",
       "1     LOG_HLM_CLint      0  emb_08  0.279609\n",
       "2     LOG_HLM_CLint      0  emb_16  0.226525\n",
       "3     LOG_HLM_CLint      0  emb_32  0.178590\n",
       "4     LOG_HLM_CLint      0  emb_64  0.106359\n",
       "..              ...    ...     ...       ...\n",
       "745  LOG_SOLUBILITY     24      fp  0.249957\n",
       "746  LOG_SOLUBILITY     24  emb_08  0.132478\n",
       "747  LOG_SOLUBILITY     24  emb_16  0.184346\n",
       "748  LOG_SOLUBILITY     24  emb_32  0.073331\n",
       "749  LOG_SOLUBILITY     24  emb_64  0.090883\n",
       "\n",
       "[750 rows x 4 columns]"
      ]
     },
     "execution_count": 7,
     "metadata": {},
     "output_type": "execute_result"
    }
   ],
   "source": [
    "r2_list = []\n",
    "for k,v in combo_df.groupby([\"y_col\",\"cycle\"]):\n",
    "    y_col, cycle = k\n",
    "    for col in desc_cols:\n",
    "        r2_list.append([y_col,cycle,col,r2_score(v[\"y_val\"],v[col])])\n",
    "r2_df = pd.DataFrame(r2_list, columns=[\"y_col\",\"cycle\",\"desc\",\"r2\"])\n",
    "r2_df"
   ]
  },
  {
   "cell_type": "markdown",
   "id": "dcbd0941-b81c-40b2-8da5-b7902e024a56",
   "metadata": {},
   "source": [
    "Make the plots"
   ]
  },
  {
   "cell_type": "code",
   "execution_count": 10,
   "id": "e2efcf9f-9a9c-488c-9918-217f8a9c5271",
   "metadata": {},
   "outputs": [
    {
     "data": {
      "image/png": "[encoded data removed]",
      "text/plain": [
       "<Figure size 1000x1500 with 6 Axes>"
      ]
     },
     "metadata": {},
     "output_type": "display_data"
    }
   ],
   "source": [
    "figure, axes = plt.subplots(len(y_list),1, figsize=(8,100))\n",
    "for i,y in enumerate(y_list):\n",
    "    tmp_df = r2_df.query(\"y_col == @y\").copy()\n",
    "    tmp_df.desc = pd.Categorical(tmp_df.desc,categories=desc_cols,ordered=True)\n",
    "    tmp_df.sort_values(\"desc\",inplace=True)\n",
    "    tukey = pairwise_tukeyhsd(endog=tmp_df[\"r2\"], groups=tmp_df[\"desc\"], alpha=0.05)\n",
    "    f = tukey.plot_simultaneous(comparison_name=\"fp\",ax=axes[i],figsize=(10,15))\n",
    "    axes[i].set_title(y)\n",
    "    axes[i].set_xlabel(\"$R^2$\")\n",
    "plt.tight_layout()"
   ]
  },
  {
   "cell_type": "code",
   "execution_count": null,
   "id": "f087d73a-8c32-4d25-89c6-59de510ed648",
   "metadata": {},
   "outputs": [],
   "source": []
  }
 ],
 "metadata": {
  "kernelspec": {
   "display_name": "Python 3 (ipykernel)",
   "language": "python",
   "name": "python3"
  },
  "language_info": {
   "codemirror_mode": {
    "name": "ipython",
    "version": 3
   },
   "file_extension": ".py",
   "mimetype": "text/x-python",
   "name": "python",
   "nbconvert_exporter": "python",
   "pygments_lexer": "ipython3",
   "version": "3.11.11"
  }
 },
 "nbformat": 4,
 "nbformat_minor": 5
}
