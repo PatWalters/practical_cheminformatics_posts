{
 "cells": [
  {
   "cell_type": "markdown",
   "id": "441cd290-dbd0-4978-bb0e-1cb2c5e5550f",
   "metadata": {},
   "source": [
    "### Evaluating Embedded Morgan Fingerprints\n",
    "\n",
    "The code in this notebook compares Embedded Morgan Fingerprints, as described in the paper [\"Embedded Morgan Fingerprints for more efficient molecular property predictions with machine learning\"](https://chemrxiv.org/engage/chemrxiv/article-details/685d5791c1cb1ecda07e0680)."
   ]
  },
  {
   "cell_type": "code",
   "execution_count": 1,
   "id": "8ac90b2d-9313-4c64-a67b-eac53c245324",
   "metadata": {},
   "outputs": [],
   "source": [
    "import polaris as po\n",
    "import useful_rdkit_utils as uru\n",
    "from embfp import convert_fp_to_embV2\n",
    "import numpy as np\n",
    "from tqdm.auto import tqdm\n",
    "from lightgbm import LGBMRegressor\n",
    "import warnings\n",
    "import  pandas as pd\n",
    "from sklearn.metrics import r2_score\n",
    "import seaborn as sns\n",
    "from statsmodels.stats.multicomp import pairwise_tukeyhsd\n",
    "import matplotlib.pyplot as plt"
   ]
  },
  {
   "cell_type": "markdown",
   "id": "615581a6-8cff-4ad0-a3be-e39b060cfe3e",
   "metadata": {},
   "source": [
    "Download the ADME-Fang dataset from [https://polarishub.io/](https://polarishub.io/)"
   ]
  },
  {
   "cell_type": "code",
   "execution_count": 2,
   "id": "1bc2918e-d376-4997-8bfd-41a8360692b0",
   "metadata": {},
   "outputs": [
    {
     "data": {
      "application/vnd.jupyter.widget-view+json": {
       "model_id": "476d614a715548f59358c96dd5b09435",
       "version_major": 2,
       "version_minor": 0
      },
      "text/plain": [
       "Output()"
      ]
     },
     "metadata": {},
     "output_type": "display_data"
    },
    {
     "data": {
      "text/html": [
       "<pre style=\"white-space:pre;overflow-x:auto;line-height:normal;font-family:Menlo,'DejaVu Sans Mono',consolas,'Courier New',monospace\"><span style=\"color: #7fbfbf; text-decoration-color: #7fbfbf\">[2025-07-02 12:43:57] </span><span style=\"color: #000080; text-decoration-color: #000080\">INFO    </span> The version of Polaris that was used to create the artifact <span style=\"font-weight: bold\">(</span>dev<span style=\"font-weight: bold\">)</span> is <a href=\"file:///Users/pwalters/miniforge3/envs/rdkit_2025_01/lib/python3.11/site-packages/polaris/_artifact.py\" target=\"_blank\"><span style=\"color: #7f7f7f; text-decoration-color: #7f7f7f\">_artifact.py</span></a><span style=\"color: #7f7f7f; text-decoration-color: #7f7f7f\">:</span><a href=\"file:///Users/pwalters/miniforge3/envs/rdkit_2025_01/lib/python3.11/site-packages/polaris/_artifact.py#96\" target=\"_blank\"><span style=\"color: #7f7f7f; text-decoration-color: #7f7f7f\">96</span></a>\n",
       "<span style=\"color: #7fbfbf; text-decoration-color: #7fbfbf\">                      </span>         different from the currently installed version of Polaris <span style=\"font-weight: bold\">(</span><span style=\"color: #008080; text-decoration-color: #008080; font-weight: bold\">0.13</span>.<span style=\"color: #008080; text-decoration-color: #008080; font-weight: bold\">0</span><span style=\"font-weight: bold\">)</span>.  <span style=\"color: #7f7f7f; text-decoration-color: #7f7f7f\">               </span>\n",
       "</pre>\n"
      ],
      "text/plain": [
       "\u001b[2;36m[2025-07-02 12:43:57]\u001b[0m\u001b[2;36m \u001b[0m\u001b[34mINFO    \u001b[0m The version of Polaris that was used to create the artifact \u001b[1m(\u001b[0mdev\u001b[1m)\u001b[0m is \u001b]8;id=397685;file:///Users/pwalters/miniforge3/envs/rdkit_2025_01/lib/python3.11/site-packages/polaris/_artifact.py\u001b\\\u001b[2m_artifact.py\u001b[0m\u001b]8;;\u001b\\\u001b[2m:\u001b[0m\u001b]8;id=773707;file:///Users/pwalters/miniforge3/envs/rdkit_2025_01/lib/python3.11/site-packages/polaris/_artifact.py#96\u001b\\\u001b[2m96\u001b[0m\u001b]8;;\u001b\\\n",
       "\u001b[2;36m                      \u001b[0m         different from the currently installed version of Polaris \u001b[1m(\u001b[0m\u001b[1;36m0.13\u001b[0m.\u001b[1;36m0\u001b[0m\u001b[1m)\u001b[0m.  \u001b[2m               \u001b[0m\n"
      ]
     },
     "metadata": {},
     "output_type": "display_data"
    },
    {
     "data": {
      "text/html": [
       "<pre style=\"white-space:pre;overflow-x:auto;line-height:normal;font-family:Menlo,'DejaVu Sans Mono',consolas,'Courier New',monospace\"><span style=\"color: #7fbfbf; text-decoration-color: #7fbfbf\">                      </span><span style=\"color: #000080; text-decoration-color: #000080\">INFO    </span> To verify the checksum, we need to recompute it. This can be slow    <a href=\"file:///Users/pwalters/miniforge3/envs/rdkit_2025_01/lib/python3.11/site-packages/polaris/mixins/_checksum.py\" target=\"_blank\"><span style=\"color: #7f7f7f; text-decoration-color: #7f7f7f\">_checksum.py</span></a><span style=\"color: #7f7f7f; text-decoration-color: #7f7f7f\">:</span><a href=\"file:///Users/pwalters/miniforge3/envs/rdkit_2025_01/lib/python3.11/site-packages/polaris/mixins/_checksum.py#67\" target=\"_blank\"><span style=\"color: #7f7f7f; text-decoration-color: #7f7f7f\">67</span></a>\n",
       "<span style=\"color: #7fbfbf; text-decoration-color: #7fbfbf\">                      </span>         for large datasets.                                                  <span style=\"color: #7f7f7f; text-decoration-color: #7f7f7f\">               </span>\n",
       "</pre>\n"
      ],
      "text/plain": [
       "\u001b[2;36m                     \u001b[0m\u001b[2;36m \u001b[0m\u001b[34mINFO    \u001b[0m To verify the checksum, we need to recompute it. This can be slow    \u001b]8;id=357955;file:///Users/pwalters/miniforge3/envs/rdkit_2025_01/lib/python3.11/site-packages/polaris/mixins/_checksum.py\u001b\\\u001b[2m_checksum.py\u001b[0m\u001b]8;;\u001b\\\u001b[2m:\u001b[0m\u001b]8;id=829069;file:///Users/pwalters/miniforge3/envs/rdkit_2025_01/lib/python3.11/site-packages/polaris/mixins/_checksum.py#67\u001b\\\u001b[2m67\u001b[0m\u001b]8;;\u001b\\\n",
       "\u001b[2;36m                      \u001b[0m         for large datasets.                                                  \u001b[2m               \u001b[0m\n"
      ]
     },
     "metadata": {},
     "output_type": "display_data"
    },
    {
     "data": {
      "text/html": [
       "<pre style=\"white-space:pre;overflow-x:auto;line-height:normal;font-family:Menlo,'DejaVu Sans Mono',consolas,'Courier New',monospace\"><span style=\"color: #7fbfbf; text-decoration-color: #7fbfbf\">[12:43:57] </span><span style=\"color: #008000; text-decoration-color: #008000\"> Success: Fetching dataset</span>                                                                 <a href=\"file:///Users/pwalters/miniforge3/envs/rdkit_2025_01/lib/python3.11/site-packages/polaris/utils/context.py\" target=\"_blank\"><span style=\"color: #7f7f7f; text-decoration-color: #7f7f7f\">context.py</span></a><span style=\"color: #7f7f7f; text-decoration-color: #7f7f7f\">:</span><a href=\"file:///Users/pwalters/miniforge3/envs/rdkit_2025_01/lib/python3.11/site-packages/polaris/utils/context.py#53\" target=\"_blank\"><span style=\"color: #7f7f7f; text-decoration-color: #7f7f7f\">53</span></a>\n",
       "</pre>\n"
      ],
      "text/plain": [
       "\u001b[2;36m[12:43:57]\u001b[0m\u001b[2;36m \u001b[0m\u001b[32m Success: Fetching dataset\u001b[0m                                                                 \u001b]8;id=614958;file:///Users/pwalters/miniforge3/envs/rdkit_2025_01/lib/python3.11/site-packages/polaris/utils/context.py\u001b\\\u001b[2mcontext.py\u001b[0m\u001b]8;;\u001b\\\u001b[2m:\u001b[0m\u001b]8;id=221301;file:///Users/pwalters/miniforge3/envs/rdkit_2025_01/lib/python3.11/site-packages/polaris/utils/context.py#53\u001b\\\u001b[2m53\u001b[0m\u001b]8;;\u001b\\\n"
      ]
     },
     "metadata": {},
     "output_type": "display_data"
    },
    {
     "data": {
      "text/html": [
       "<pre style=\"white-space:pre;overflow-x:auto;line-height:normal;font-family:Menlo,'DejaVu Sans Mono',consolas,'Courier New',monospace\"></pre>\n"
      ],
      "text/plain": []
     },
     "metadata": {},
     "output_type": "display_data"
    }
   ],
   "source": [
    "ds = po.load_dataset(\"biogen/adme-fang-v1\")\n",
    "ref_df = ds.table\n",
    "ref_df.rename(columns={\"smiles\": \"SMILES\"}, inplace=True)\n",
    "y_list = [x for x in ref_df.columns if x.startswith(\"LOG\")]"
   ]
  },
  {
   "cell_type": "markdown",
   "id": "fac604e1-f720-44c0-8ed1-88ec152ab8cc",
   "metadata": {},
   "source": [
    "Calcluate Morgan fingerprints and embedded Morgan fingerprints with size = [8,16,32,64]"
   ]
  },
  {
   "cell_type": "code",
   "execution_count": 4,
   "id": "e49d3e62-37e6-4c3b-b4c9-4ec520d29009",
   "metadata": {},
   "outputs": [],
   "source": [
    "def calc_descriptors(df):\n",
    "    smi2fp = uru.Smi2Fp()\n",
    "    df['fp'] = df.SMILES.apply(smi2fp.get_np_counts)\n",
    "    big_smi2fp = uru.Smi2Fp(fpSize=2**14)\n",
    "    df['big_fp'] = df.SMILES.apply(big_smi2fp.get_np_counts)\n",
    "    for cmp in (8, 16, 32, 64):\n",
    "        df[f\"emb_{cmp:02d}\"] = convert_fp_to_embV2(np.stack(df.big_fp),cmp).tolist()"
   ]
  },
  {
   "cell_type": "markdown",
   "id": "85515604-5c83-4ca3-9202-3e6ea0095b01",
   "metadata": {},
   "source": [
    "Perform 5x5 cross validation.  Splits are performed using Butina clustering."
   ]
  },
  {
   "cell_type": "code",
   "execution_count": 5,
   "id": "48912988-925b-4972-806f-92b28bb9a2e6",
   "metadata": {},
   "outputs": [],
   "source": [
    "def cross_validate(df, y_col, desc_cols):\n",
    "    smi2fp = uru.Smi2Fp()\n",
    "    df['morgan'] = df.SMILES.apply(smi2fp.get_fp)\n",
    "    cluster_ids = uru.taylor_butina_clustering(df.morgan.values)\n",
    "    n_outer, n_inner = (5,5)\n",
    "    df_list = []\n",
    "    for i in tqdm(range(0,n_outer)):\n",
    "        kf = uru.GroupKFoldShuffle(n_splits=n_inner, shuffle=True)    \n",
    "        for j, [train_idx, test_idx] in enumerate(\n",
    "                    tqdm(kf.split(df, groups=cluster_ids), total=n_inner, desc=\"butina\", leave=False)):\n",
    "            train = df.iloc[train_idx]\n",
    "            test = df.iloc[test_idx]\n",
    "            out_df = test[[\"SMILES\"]].copy()\n",
    "            out_df[\"y_val\"] = test[y_col]\n",
    "            out_df[\"y_col\"] = y_col\n",
    "            out_df['cycle'] = n_outer * i + j\n",
    "            for desc in desc_cols:\n",
    "                with warnings.catch_warnings():\n",
    "                    warnings.simplefilter(\"ignore\")\n",
    "                    lgbm = LGBMRegressor(verbose=-1)\n",
    "                    lgbm.fit(np.stack(train[desc]),train[y_col])\n",
    "                    pred = lgbm.predict(np.stack(test[desc]))\n",
    "                out_df[desc] = pred\n",
    "            df_list.append(out_df)\n",
    "    return df_list"
   ]
  },
  {
   "cell_type": "markdown",
   "id": "a9f511d6-f781-4d64-96db-30f791f51b4c",
   "metadata": {},
   "source": [
    "Run the cross validation with all targets and all descriptors. "
   ]
  },
  {
   "cell_type": "code",
   "execution_count": 6,
   "id": "9f4fc8b8-fd46-4792-b77c-633e8ad5b7e1",
   "metadata": {},
   "outputs": [
    {
     "data": {
      "application/vnd.jupyter.widget-view+json": {
       "model_id": "b042ee11af364ff5aa69e761cd22e632",
       "version_major": 2,
       "version_minor": 0
      },
      "text/plain": [
       "  0%|          | 0/5 [00:00<?, ?it/s]"
      ]
     },
     "metadata": {},
     "output_type": "display_data"
    },
    {
     "data": {
      "application/vnd.jupyter.widget-view+json": {
       "model_id": "1345a2870953465ca6644d72103d2fe3",
       "version_major": 2,
       "version_minor": 0
      },
      "text/plain": [
       "butina:   0%|          | 0/5 [00:00<?, ?it/s]"
      ]
     },
     "metadata": {},
     "output_type": "display_data"
    },
    {
     "data": {
      "application/vnd.jupyter.widget-view+json": {
       "model_id": "3d8c8a39a0ab4bc0800b35912c57d4d5",
       "version_major": 2,
       "version_minor": 0
      },
      "text/plain": [
       "butina:   0%|          | 0/5 [00:00<?, ?it/s]"
      ]
     },
     "metadata": {},
     "output_type": "display_data"
    },
    {
     "data": {
      "application/vnd.jupyter.widget-view+json": {
       "model_id": "8ad6872fd1bf4d5eb8736e2e0f988305",
       "version_major": 2,
       "version_minor": 0
      },
      "text/plain": [
       "butina:   0%|          | 0/5 [00:00<?, ?it/s]"
      ]
     },
     "metadata": {},
     "output_type": "display_data"
    },
    {
     "data": {
      "application/vnd.jupyter.widget-view+json": {
       "model_id": "9a26add2c6ad43d2ab2b73d2d21767ca",
       "version_major": 2,
       "version_minor": 0
      },
      "text/plain": [
       "butina:   0%|          | 0/5 [00:00<?, ?it/s]"
      ]
     },
     "metadata": {},
     "output_type": "display_data"
    },
    {
     "data": {
      "application/vnd.jupyter.widget-view+json": {
       "model_id": "d3ab2688512b458aac0d47b01e296866",
       "version_major": 2,
       "version_minor": 0
      },
      "text/plain": [
       "butina:   0%|          | 0/5 [00:00<?, ?it/s]"
      ]
     },
     "metadata": {},
     "output_type": "display_data"
    },
    {
     "data": {
      "application/vnd.jupyter.widget-view+json": {
       "model_id": "a249baeecb644deb8cda4d85944959b1",
       "version_major": 2,
       "version_minor": 0
      },
      "text/plain": [
       "  0%|          | 0/5 [00:00<?, ?it/s]"
      ]
     },
     "metadata": {},
     "output_type": "display_data"
    },
    {
     "data": {
      "application/vnd.jupyter.widget-view+json": {
       "model_id": "e50d8e7bef204b4abaf4697771fdbc39",
       "version_major": 2,
       "version_minor": 0
      },
      "text/plain": [
       "butina:   0%|          | 0/5 [00:00<?, ?it/s]"
      ]
     },
     "metadata": {},
     "output_type": "display_data"
    },
    {
     "data": {
      "application/vnd.jupyter.widget-view+json": {
       "model_id": "a2616d137dd040dfb87bde5f8e451297",
       "version_major": 2,
       "version_minor": 0
      },
      "text/plain": [
       "butina:   0%|          | 0/5 [00:00<?, ?it/s]"
      ]
     },
     "metadata": {},
     "output_type": "display_data"
    },
    {
     "data": {
      "application/vnd.jupyter.widget-view+json": {
       "model_id": "2122b3d2c7b64e2181dbdbcd9a380249",
       "version_major": 2,
       "version_minor": 0
      },
      "text/plain": [
       "butina:   0%|          | 0/5 [00:00<?, ?it/s]"
      ]
     },
     "metadata": {},
     "output_type": "display_data"
    },
    {
     "data": {
      "application/vnd.jupyter.widget-view+json": {
       "model_id": "e91b00d72fb24cc0a03860273df14c0f",
       "version_major": 2,
       "version_minor": 0
      },
      "text/plain": [
       "butina:   0%|          | 0/5 [00:00<?, ?it/s]"
      ]
     },
     "metadata": {},
     "output_type": "display_data"
    },
    {
     "data": {
      "application/vnd.jupyter.widget-view+json": {
       "model_id": "8e5939bed42a46f2aa9f423355decacc",
       "version_major": 2,
       "version_minor": 0
      },
      "text/plain": [
       "butina:   0%|          | 0/5 [00:00<?, ?it/s]"
      ]
     },
     "metadata": {},
     "output_type": "display_data"
    },
    {
     "data": {
      "application/vnd.jupyter.widget-view+json": {
       "model_id": "f0823e532823445785d0984ab8f5ed45",
       "version_major": 2,
       "version_minor": 0
      },
      "text/plain": [
       "  0%|          | 0/5 [00:00<?, ?it/s]"
      ]
     },
     "metadata": {},
     "output_type": "display_data"
    },
    {
     "data": {
      "application/vnd.jupyter.widget-view+json": {
       "model_id": "17f03dff771e47e294cf63df2b91ad1a",
       "version_major": 2,
       "version_minor": 0
      },
      "text/plain": [
       "butina:   0%|          | 0/5 [00:00<?, ?it/s]"
      ]
     },
     "metadata": {},
     "output_type": "display_data"
    },
    {
     "data": {
      "application/vnd.jupyter.widget-view+json": {
       "model_id": "1e348e5d19684806b0b8532bc0b0d3f5",
       "version_major": 2,
       "version_minor": 0
      },
      "text/plain": [
       "butina:   0%|          | 0/5 [00:00<?, ?it/s]"
      ]
     },
     "metadata": {},
     "output_type": "display_data"
    },
    {
     "data": {
      "application/vnd.jupyter.widget-view+json": {
       "model_id": "b0fa56d5beac406fb6bf0f68bf1f681b",
       "version_major": 2,
       "version_minor": 0
      },
      "text/plain": [
       "butina:   0%|          | 0/5 [00:00<?, ?it/s]"
      ]
     },
     "metadata": {},
     "output_type": "display_data"
    },
    {
     "data": {
      "application/vnd.jupyter.widget-view+json": {
       "model_id": "540da1d9bc1740c98dd7dcb68197c442",
       "version_major": 2,
       "version_minor": 0
      },
      "text/plain": [
       "butina:   0%|          | 0/5 [00:00<?, ?it/s]"
      ]
     },
     "metadata": {},
     "output_type": "display_data"
    },
    {
     "data": {
      "application/vnd.jupyter.widget-view+json": {
       "model_id": "394710b92dc34f7c9cc431f135bcc6ed",
       "version_major": 2,
       "version_minor": 0
      },
      "text/plain": [
       "butina:   0%|          | 0/5 [00:00<?, ?it/s]"
      ]
     },
     "metadata": {},
     "output_type": "display_data"
    },
    {
     "data": {
      "application/vnd.jupyter.widget-view+json": {
       "model_id": "5f38e5feb3d0471a89787c7d463016e1",
       "version_major": 2,
       "version_minor": 0
      },
      "text/plain": [
       "  0%|          | 0/5 [00:00<?, ?it/s]"
      ]
     },
     "metadata": {},
     "output_type": "display_data"
    },
    {
     "data": {
      "application/vnd.jupyter.widget-view+json": {
       "model_id": "0cc8e5d2590f41faa7886e67b3e4a714",
       "version_major": 2,
       "version_minor": 0
      },
      "text/plain": [
       "butina:   0%|          | 0/5 [00:00<?, ?it/s]"
      ]
     },
     "metadata": {},
     "output_type": "display_data"
    },
    {
     "data": {
      "application/vnd.jupyter.widget-view+json": {
       "model_id": "0d69fb86aa7f4037b504bb141cc341d3",
       "version_major": 2,
       "version_minor": 0
      },
      "text/plain": [
       "butina:   0%|          | 0/5 [00:00<?, ?it/s]"
      ]
     },
     "metadata": {},
     "output_type": "display_data"
    },
    {
     "data": {
      "application/vnd.jupyter.widget-view+json": {
       "model_id": "c84d29fabdbf4d2cb9e57bcd8b8a9222",
       "version_major": 2,
       "version_minor": 0
      },
      "text/plain": [
       "butina:   0%|          | 0/5 [00:00<?, ?it/s]"
      ]
     },
     "metadata": {},
     "output_type": "display_data"
    },
    {
     "data": {
      "application/vnd.jupyter.widget-view+json": {
       "model_id": "e41f1eda9aa54753b3fd4f6b3d723455",
       "version_major": 2,
       "version_minor": 0
      },
      "text/plain": [
       "butina:   0%|          | 0/5 [00:00<?, ?it/s]"
      ]
     },
     "metadata": {},
     "output_type": "display_data"
    },
    {
     "data": {
      "application/vnd.jupyter.widget-view+json": {
       "model_id": "05d205afdedf488a87cd2e8a42eb559b",
       "version_major": 2,
       "version_minor": 0
      },
      "text/plain": [
       "butina:   0%|          | 0/5 [00:00<?, ?it/s]"
      ]
     },
     "metadata": {},
     "output_type": "display_data"
    },
    {
     "data": {
      "application/vnd.jupyter.widget-view+json": {
       "model_id": "61c67eed0dc845dfa5cad69d32159afc",
       "version_major": 2,
       "version_minor": 0
      },
      "text/plain": [
       "  0%|          | 0/5 [00:00<?, ?it/s]"
      ]
     },
     "metadata": {},
     "output_type": "display_data"
    },
    {
     "data": {
      "application/vnd.jupyter.widget-view+json": {
       "model_id": "a7cb82e173644e80b0ef962c97f7b852",
       "version_major": 2,
       "version_minor": 0
      },
      "text/plain": [
       "butina:   0%|          | 0/5 [00:00<?, ?it/s]"
      ]
     },
     "metadata": {},
     "output_type": "display_data"
    },
    {
     "data": {
      "application/vnd.jupyter.widget-view+json": {
       "model_id": "3d9835f399f3425ab9eb2b739d7d6b61",
       "version_major": 2,
       "version_minor": 0
      },
      "text/plain": [
       "butina:   0%|          | 0/5 [00:00<?, ?it/s]"
      ]
     },
     "metadata": {},
     "output_type": "display_data"
    },
    {
     "data": {
      "application/vnd.jupyter.widget-view+json": {
       "model_id": "702add15b1344247b97272b7c0e97970",
       "version_major": 2,
       "version_minor": 0
      },
      "text/plain": [
       "butina:   0%|          | 0/5 [00:00<?, ?it/s]"
      ]
     },
     "metadata": {},
     "output_type": "display_data"
    },
    {
     "data": {
      "application/vnd.jupyter.widget-view+json": {
       "model_id": "9cfd6d3519cf437dbee718feea6179c3",
       "version_major": 2,
       "version_minor": 0
      },
      "text/plain": [
       "butina:   0%|          | 0/5 [00:00<?, ?it/s]"
      ]
     },
     "metadata": {},
     "output_type": "display_data"
    },
    {
     "data": {
      "application/vnd.jupyter.widget-view+json": {
       "model_id": "6097120fd323456e84d4732e3987bf01",
       "version_major": 2,
       "version_minor": 0
      },
      "text/plain": [
       "butina:   0%|          | 0/5 [00:00<?, ?it/s]"
      ]
     },
     "metadata": {},
     "output_type": "display_data"
    },
    {
     "data": {
      "application/vnd.jupyter.widget-view+json": {
       "model_id": "2a7c7eab41e7467f94ca1f7c70b2e9d8",
       "version_major": 2,
       "version_minor": 0
      },
      "text/plain": [
       "  0%|          | 0/5 [00:00<?, ?it/s]"
      ]
     },
     "metadata": {},
     "output_type": "display_data"
    },
    {
     "data": {
      "application/vnd.jupyter.widget-view+json": {
       "model_id": "a413b02884454c4e9c7076215e7c909f",
       "version_major": 2,
       "version_minor": 0
      },
      "text/plain": [
       "butina:   0%|          | 0/5 [00:00<?, ?it/s]"
      ]
     },
     "metadata": {},
     "output_type": "display_data"
    },
    {
     "data": {
      "application/vnd.jupyter.widget-view+json": {
       "model_id": "c7b794aab1334bd6bacf10f0d8c1f0bd",
       "version_major": 2,
       "version_minor": 0
      },
      "text/plain": [
       "butina:   0%|          | 0/5 [00:00<?, ?it/s]"
      ]
     },
     "metadata": {},
     "output_type": "display_data"
    },
    {
     "data": {
      "application/vnd.jupyter.widget-view+json": {
       "model_id": "009c4be5fe954fafb2d7cc8901ff82f8",
       "version_major": 2,
       "version_minor": 0
      },
      "text/plain": [
       "butina:   0%|          | 0/5 [00:00<?, ?it/s]"
      ]
     },
     "metadata": {},
     "output_type": "display_data"
    },
    {
     "data": {
      "application/vnd.jupyter.widget-view+json": {
       "model_id": "6c33dd3cee0b41948c7728fadac3d3aa",
       "version_major": 2,
       "version_minor": 0
      },
      "text/plain": [
       "butina:   0%|          | 0/5 [00:00<?, ?it/s]"
      ]
     },
     "metadata": {},
     "output_type": "display_data"
    },
    {
     "data": {
      "application/vnd.jupyter.widget-view+json": {
       "model_id": "6163b07507db4fb3800fe194803a16e2",
       "version_major": 2,
       "version_minor": 0
      },
      "text/plain": [
       "butina:   0%|          | 0/5 [00:00<?, ?it/s]"
      ]
     },
     "metadata": {},
     "output_type": "display_data"
    }
   ],
   "source": [
    "desc_cols = ['fp','emb_08','emb_16', 'emb_32', 'emb_64']\n",
    "res_dict = {}\n",
    "for y in y_list:\n",
    "    df = ref_df.dropna(subset=[y]).copy()\n",
    "    calc_descriptors(df)\n",
    "    res = cross_validate(df, y, desc_cols)\n",
    "    res_dict[y] = res"
   ]
  },
  {
   "cell_type": "markdown",
   "id": "67ea5c5d-d8ba-442a-a228-c2931dfe7ed3",
   "metadata": {},
   "source": [
    "Collect the results"
   ]
  },
  {
   "cell_type": "code",
   "execution_count": 7,
   "id": "1539ce08-ae83-4538-bd01-51eeca29586a",
   "metadata": {},
   "outputs": [],
   "source": [
    "df_list = []\n",
    "for y in y_list:\n",
    "    df_list.append(pd.concat(res_dict[y]))\n",
    "combo_df = pd.concat(df_list)"
   ]
  },
  {
   "cell_type": "markdown",
   "id": "e9137fe2-b54a-4d67-be03-26f16f5927c0",
   "metadata": {},
   "source": [
    "Calculate R<sup>2</sup> statistics. "
   ]
  },
  {
   "cell_type": "code",
   "execution_count": 8,
   "id": "67a710d0-ca8f-4782-bb36-62aefc220864",
   "metadata": {},
   "outputs": [
    {
     "data": {
      "text/html": [
       "<div>\n",
       "<style scoped>\n",
       "    .dataframe tbody tr th:only-of-type {\n",
       "        vertical-align: middle;\n",
       "    }\n",
       "\n",
       "    .dataframe tbody tr th {\n",
       "        vertical-align: top;\n",
       "    }\n",
       "\n",
       "    .dataframe thead th {\n",
       "        text-align: right;\n",
       "    }\n",
       "</style>\n",
       "<table border=\"1\" class=\"dataframe\">\n",
       "  <thead>\n",
       "    <tr style=\"text-align: right;\">\n",
       "      <th></th>\n",
       "      <th>y_col</th>\n",
       "      <th>cycle</th>\n",
       "      <th>desc</th>\n",
       "      <th>r2</th>\n",
       "    </tr>\n",
       "  </thead>\n",
       "  <tbody>\n",
       "    <tr>\n",
       "      <th>0</th>\n",
       "      <td>LOG_HLM_CLint</td>\n",
       "      <td>0</td>\n",
       "      <td>fp</td>\n",
       "      <td>0.372039</td>\n",
       "    </tr>\n",
       "    <tr>\n",
       "      <th>1</th>\n",
       "      <td>LOG_HLM_CLint</td>\n",
       "      <td>0</td>\n",
       "      <td>emb_08</td>\n",
       "      <td>0.352966</td>\n",
       "    </tr>\n",
       "    <tr>\n",
       "      <th>2</th>\n",
       "      <td>LOG_HLM_CLint</td>\n",
       "      <td>0</td>\n",
       "      <td>emb_16</td>\n",
       "      <td>0.330401</td>\n",
       "    </tr>\n",
       "    <tr>\n",
       "      <th>3</th>\n",
       "      <td>LOG_HLM_CLint</td>\n",
       "      <td>0</td>\n",
       "      <td>emb_32</td>\n",
       "      <td>0.308607</td>\n",
       "    </tr>\n",
       "    <tr>\n",
       "      <th>4</th>\n",
       "      <td>LOG_HLM_CLint</td>\n",
       "      <td>0</td>\n",
       "      <td>emb_64</td>\n",
       "      <td>0.255323</td>\n",
       "    </tr>\n",
       "    <tr>\n",
       "      <th>...</th>\n",
       "      <td>...</td>\n",
       "      <td>...</td>\n",
       "      <td>...</td>\n",
       "      <td>...</td>\n",
       "    </tr>\n",
       "    <tr>\n",
       "      <th>745</th>\n",
       "      <td>LOG_SOLUBILITY</td>\n",
       "      <td>24</td>\n",
       "      <td>fp</td>\n",
       "      <td>0.267948</td>\n",
       "    </tr>\n",
       "    <tr>\n",
       "      <th>746</th>\n",
       "      <td>LOG_SOLUBILITY</td>\n",
       "      <td>24</td>\n",
       "      <td>emb_08</td>\n",
       "      <td>0.257791</td>\n",
       "    </tr>\n",
       "    <tr>\n",
       "      <th>747</th>\n",
       "      <td>LOG_SOLUBILITY</td>\n",
       "      <td>24</td>\n",
       "      <td>emb_16</td>\n",
       "      <td>0.268564</td>\n",
       "    </tr>\n",
       "    <tr>\n",
       "      <th>748</th>\n",
       "      <td>LOG_SOLUBILITY</td>\n",
       "      <td>24</td>\n",
       "      <td>emb_32</td>\n",
       "      <td>0.272556</td>\n",
       "    </tr>\n",
       "    <tr>\n",
       "      <th>749</th>\n",
       "      <td>LOG_SOLUBILITY</td>\n",
       "      <td>24</td>\n",
       "      <td>emb_64</td>\n",
       "      <td>0.238119</td>\n",
       "    </tr>\n",
       "  </tbody>\n",
       "</table>\n",
       "<p>750 rows × 4 columns</p>\n",
       "</div>"
      ],
      "text/plain": [
       "              y_col  cycle    desc        r2\n",
       "0     LOG_HLM_CLint      0      fp  0.372039\n",
       "1     LOG_HLM_CLint      0  emb_08  0.352966\n",
       "2     LOG_HLM_CLint      0  emb_16  0.330401\n",
       "3     LOG_HLM_CLint      0  emb_32  0.308607\n",
       "4     LOG_HLM_CLint      0  emb_64  0.255323\n",
       "..              ...    ...     ...       ...\n",
       "745  LOG_SOLUBILITY     24      fp  0.267948\n",
       "746  LOG_SOLUBILITY     24  emb_08  0.257791\n",
       "747  LOG_SOLUBILITY     24  emb_16  0.268564\n",
       "748  LOG_SOLUBILITY     24  emb_32  0.272556\n",
       "749  LOG_SOLUBILITY     24  emb_64  0.238119\n",
       "\n",
       "[750 rows x 4 columns]"
      ]
     },
     "execution_count": 8,
     "metadata": {},
     "output_type": "execute_result"
    }
   ],
   "source": [
    "r2_list = []\n",
    "for k,v in combo_df.groupby([\"y_col\",\"cycle\"]):\n",
    "    y_col, cycle = k\n",
    "    for col in desc_cols:\n",
    "        r2_list.append([y_col,cycle,col,r2_score(v[\"y_val\"],v[col])])\n",
    "r2_df = pd.DataFrame(r2_list, columns=[\"y_col\",\"cycle\",\"desc\",\"r2\"])\n",
    "r2_df"
   ]
  },
  {
   "cell_type": "markdown",
   "id": "dcbd0941-b81c-40b2-8da5-b7902e024a56",
   "metadata": {},
   "source": [
    "Make the plots"
   ]
  },
  {
   "cell_type": "code",
   "execution_count": 9,
   "id": "e2efcf9f-9a9c-488c-9918-217f8a9c5271",
   "metadata": {},
   "outputs": [
    {
     "data": {
      "image/png": "[encoded data removed]",
      "text/plain": [
       "<Figure size 1000x1500 with 6 Axes>"
      ]
     },
     "metadata": {},
     "output_type": "display_data"
    }
   ],
   "source": [
    "figure, axes = plt.subplots(len(y_list),1, figsize=(8,100))\n",
    "for i,y in enumerate(y_list):\n",
    "    tmp_df = r2_df.query(\"y_col == @y\").copy()\n",
    "    tmp_df.desc = pd.Categorical(tmp_df.desc,categories=desc_cols,ordered=True)\n",
    "    tmp_df.sort_values(\"desc\",inplace=True)\n",
    "    tukey = pairwise_tukeyhsd(endog=tmp_df[\"r2\"], groups=tmp_df[\"desc\"], alpha=0.05)\n",
    "    f = tukey.plot_simultaneous(comparison_name=\"fp\",ax=axes[i],figsize=(10,15))\n",
    "    axes[i].set_title(y)\n",
    "    axes[i].set_xlabel(\"$R^2$\")\n",
    "plt.tight_layout()"
   ]
  },
  {
   "cell_type": "code",
   "execution_count": null,
   "id": "ce6f8570-b628-460d-901f-711bfd3d3053",
   "metadata": {},
   "outputs": [],
   "source": []
  }
 ],
 "metadata": {
  "kernelspec": {
   "display_name": "Python 3 (ipykernel)",
   "language": "python",
   "name": "python3"
  },
  "language_info": {
   "codemirror_mode": {
    "name": "ipython",
    "version": 3
   },
   "file_extension": ".py",
   "mimetype": "text/x-python",
   "name": "python",
   "nbconvert_exporter": "python",
   "pygments_lexer": "ipython3",
   "version": "3.11.11"
  }
 },
 "nbformat": 4,
 "nbformat_minor": 5
}
